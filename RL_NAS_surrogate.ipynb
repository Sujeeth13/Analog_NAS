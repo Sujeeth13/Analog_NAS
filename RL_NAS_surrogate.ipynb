{
  "cells": [
    {
      "cell_type": "code",
      "execution_count": 2,
      "metadata": {
        "id": "9bt6mW1dUgZI"
      },
      "outputs": [],
      "source": [
        "import xgboost as xgb\n",
        "import pandas as pd\n",
        "from sklearn.model_selection import train_test_split\n",
        "from sklearn.metrics import mean_squared_error\n",
        "\n",
        "data = pd.read_csv(\"data/dataset_cifar10_v1.csv\")"
      ]
    },
    {
      "cell_type": "code",
      "execution_count": 3,
      "metadata": {
        "id": "17j3hcdeWU8J"
      },
      "outputs": [],
      "source": [
        "data\n",
        "for col in ['convblock1', 'convblock2', 'convblock3', 'convblock4', 'convblock5']:\n",
        "    data[col] = data[col].astype('category')"
      ]
    },
    {
      "cell_type": "code",
      "execution_count": 4,
      "metadata": {
        "colab": {
          "base_uri": "https://localhost:8080/"
        },
        "id": "yya4F0Bshusp",
        "outputId": "2795beef-0f80-48bd-a404-924865360a5c"
      },
      "outputs": [
        {
          "data": {
            "text/plain": [
              "Index(['out_channel0', 'M', 'R1', 'R2', 'R3', 'R4', 'R5', 'convblock1',\n",
              "       'widenfact1', 'B1', 'convblock2', 'widenfact2', 'B2', 'convblock3',\n",
              "       'widenfact3', 'B3', 'convblock4', 'widenfact4', 'B4', 'convblock5',\n",
              "       'widenfact5', 'B5', '1_day_accuracy', '1_day_accuracy_std', 'AVM'],\n",
              "      dtype='object')"
            ]
          },
          "execution_count": 4,
          "metadata": {},
          "output_type": "execute_result"
        }
      ],
      "source": [
        "data.columns"
      ]
    },
    {
      "cell_type": "code",
      "execution_count": 5,
      "metadata": {
        "colab": {
          "base_uri": "https://localhost:8080/"
        },
        "id": "q5vzqAKWuGtF",
        "outputId": "af127635-1e54-4259-958e-c03ba0e65b7a"
      },
      "outputs": [
        {
          "data": {
            "text/plain": [
              "0       B\n",
              "1       D\n",
              "2       C\n",
              "3       B\n",
              "4       D\n",
              "       ..\n",
              "1195    B\n",
              "1196    A\n",
              "1197    A\n",
              "1198    C\n",
              "1199    D\n",
              "Name: convblock1, Length: 1200, dtype: category\n",
              "Categories (4, object): ['A', 'B', 'C', 'D']"
            ]
          },
          "execution_count": 5,
          "metadata": {},
          "output_type": "execute_result"
        }
      ],
      "source": [
        "data['convblock1']"
      ]
    },
    {
      "cell_type": "code",
      "execution_count": 7,
      "metadata": {
        "colab": {
          "base_uri": "https://localhost:8080/"
        },
        "id": "4QLXUGBjVtuJ",
        "outputId": "e05cfdb1-7704-4064-d521-5f6fb59a2488"
      },
      "outputs": [
        {
          "name": "stdout",
          "output_type": "stream",
          "text": [
            "Root Mean Squared Error: 0.05485483393534464\n"
          ]
        },
        {
          "name": "stderr",
          "output_type": "stream",
          "text": [
            "/Users/tawab/miniconda3/envs/DL/lib/python3.11/site-packages/sklearn/metrics/_regression.py:483: FutureWarning: 'squared' is deprecated in version 1.4 and will be removed in 1.6. To calculate the root mean squared error, use the function'root_mean_squared_error'.\n",
            "  warnings.warn(\n"
          ]
        }
      ],
      "source": [
        "X = data.iloc[:,:-3]\n",
        "y = data['1_day_accuracy']\n",
        "\n",
        "# Splitting the dataset into training and testing sets\n",
        "X_train, X_test, y_train, y_test = train_test_split(X, y, test_size=0.2, random_state=42)\n",
        "\n",
        "# Convert data into DMatrix, which is optimized for XGBoost\n",
        "dtrain = xgb.DMatrix(X_train, label=y_train, enable_categorical=True)\n",
        "dtest = xgb.DMatrix(X_test, label=y_test, enable_categorical=True)\n",
        "\n",
        "# Set up parameters for xgboost\n",
        "params = {\n",
        "    'max_depth': 4,\n",
        "    'eta': 0.1,\n",
        "    'objective': 'reg:squarederror',\n",
        "    'eval_metric': 'rmse'\n",
        "}\n",
        "\n",
        "# Number of training iterations\n",
        "num_round = 150000\n",
        "\n",
        "# Train the model\n",
        "bst = xgb.train(params, dtrain, num_round)\n",
        "\n",
        "# Predict the test set\n",
        "predictions = bst.predict(dtest)\n",
        "\n",
        "# Evaluate the model using RMSE\n",
        "rmse = mean_squared_error(y_test, predictions, squared=False)\n",
        "print(f\"Root Mean Squared Error: {rmse}\")"
      ]
    },
    {
      "cell_type": "code",
      "execution_count": null,
      "metadata": {
        "colab": {
          "base_uri": "https://localhost:8080/"
        },
        "id": "y5-nS8-lW4gL",
        "outputId": "aeb4bd87-2a71-43e2-af04-98411f5b093a"
      },
      "outputs": [
        {
          "data": {
            "text/plain": [
              "array([0.92527896, 0.698922  , 0.9285322 , 0.79357475, 0.92794824,\n",
              "       0.90192604, 0.9217329 , 0.9222144 , 0.919206  , 0.89231473,\n",
              "       0.94403505, 0.91795313, 0.9243637 , 0.7313592 , 0.78250974,\n",
              "       0.93121356, 0.9284215 , 0.92271405, 0.68565196, 0.7726965 ,\n",
              "       0.9198173 , 0.745436  , 0.76385695, 0.7368394 , 0.7411836 ,\n",
              "       0.8956946 , 0.9229256 , 0.9004783 , 0.76968116, 0.9087528 ,\n",
              "       0.921425  , 0.73511314, 0.9156848 , 0.6865857 , 0.9238393 ,\n",
              "       0.9072059 , 0.9284473 , 0.9399003 , 0.94460714, 0.710969  ,\n",
              "       0.73944426, 0.72921455, 0.93056947, 0.7454101 , 0.90201265,\n",
              "       0.91888285, 0.89232665, 0.9191742 , 0.9249999 , 0.7201237 ,\n",
              "       0.9229311 , 0.8999815 , 0.92364126, 0.9304185 , 0.9185908 ,\n",
              "       0.9258892 , 0.7524507 , 0.9227874 , 0.92726123, 0.9022788 ,\n",
              "       0.90407884, 0.9182474 , 0.90373373, 0.76525885, 0.92103374,\n",
              "       0.9160238 , 0.9091965 , 0.74233234, 0.7816369 , 0.92242754,\n",
              "       0.7355515 , 0.71748376, 0.8659797 , 0.7179335 , 0.9059102 ,\n",
              "       0.8931537 , 0.94458264, 0.764857  , 0.71196264, 0.7323235 ,\n",
              "       0.7779016 , 0.9362675 , 0.88740194, 0.9228377 , 0.7380972 ,\n",
              "       0.7299829 , 0.91562647, 0.91202956, 0.9271614 , 0.91316605,\n",
              "       0.92781365, 0.9299713 , 0.74283135, 0.91821486, 0.90209544,\n",
              "       0.919324  , 0.74228156, 0.92081547, 0.70633775, 0.87853414,\n",
              "       0.7613075 , 0.9369628 , 0.75609046, 0.8940806 , 0.738153  ,\n",
              "       0.73928434, 0.7644596 , 0.73839974, 0.8998442 , 0.9201224 ,\n",
              "       0.92390305, 0.70055085, 0.9348501 , 0.9309386 , 0.91463107,\n",
              "       0.7834289 , 0.9275073 , 0.9151327 , 0.74413264, 0.7539987 ,\n",
              "       0.92889726, 0.9146028 , 0.74666065, 0.8938913 , 0.9051417 ,\n",
              "       0.9182422 , 0.9384633 , 0.9398571 , 0.7328092 , 0.74875283,\n",
              "       0.89616096, 0.91584593, 0.75738007, 0.94143987, 0.9228855 ,\n",
              "       0.91187954, 0.9249055 , 0.72470343, 0.9153665 , 0.7337959 ,\n",
              "       0.9095059 , 0.9222344 , 0.7351708 , 0.8872242 , 0.9250436 ,\n",
              "       0.695644  , 0.74907   , 0.75729907, 0.74681014, 0.7672966 ,\n",
              "       0.9166552 , 0.9087367 , 0.7304471 , 0.93235314, 0.92411184,\n",
              "       0.94871974, 0.920275  , 0.92031455, 0.7093549 , 0.93857473,\n",
              "       0.9145359 , 0.92053545, 0.9125305 , 0.9051551 , 0.73351437,\n",
              "       0.89657915, 0.6931278 , 0.9186143 , 0.91981274, 0.76333755,\n",
              "       0.77347404, 0.9188763 , 0.9006485 , 0.90737396, 0.9044983 ,\n",
              "       0.9354152 , 0.7202005 , 0.70394295, 0.94095206, 0.7216531 ,\n",
              "       0.925459  , 0.919976  , 0.7513612 , 0.9401434 , 0.9172948 ,\n",
              "       0.9254887 , 0.9023994 , 0.9110255 , 0.694832  , 0.73060703,\n",
              "       0.91352683, 0.951727  , 0.9323094 , 0.75213736, 0.72328895,\n",
              "       0.7275869 , 0.9454761 , 0.9187863 , 0.9291895 , 0.90244114,\n",
              "       0.8800668 , 0.9050708 , 0.7155656 , 0.70010126, 0.89785177,\n",
              "       0.7348168 , 0.9325786 , 0.90732825, 0.8990251 , 0.9184954 ,\n",
              "       0.8717305 , 0.69612694, 0.92595357, 0.9151385 , 0.92115605,\n",
              "       0.9182564 , 0.9134325 , 0.91533524, 0.933323  , 0.73827535,\n",
              "       0.7319723 , 0.7016886 , 0.92997915, 0.72243464, 0.92990613,\n",
              "       0.91670746, 0.9303028 , 0.69931483, 0.9001059 , 0.92665565,\n",
              "       0.9284327 , 0.88661236, 0.9337322 , 0.9236914 , 0.73442495,\n",
              "       0.9034903 , 0.7507218 , 0.75771296, 0.9172285 , 0.7570315 ],\n",
              "      dtype=float32)"
            ]
          },
          "execution_count": 20,
          "metadata": {},
          "output_type": "execute_result"
        }
      ],
      "source": [
        "predictions"
      ]
    },
    {
      "cell_type": "code",
      "execution_count": null,
      "metadata": {
        "colab": {
          "base_uri": "https://localhost:8080/"
        },
        "id": "3Kd1B5nwW6Xf",
        "outputId": "6a401682-3ebf-411b-8dec-22d3f74ff714"
      },
      "outputs": [
        {
          "data": {
            "text/plain": [
              "1178    0.933167\n",
              "865     0.830814\n",
              "101     0.925458\n",
              "439     0.882374\n",
              "58      0.931208\n",
              "          ...   \n",
              "382     0.910176\n",
              "867     0.666236\n",
              "542     0.887508\n",
              "1193    0.934182\n",
              "874     0.644247\n",
              "Name: 1_day_accuracy, Length: 240, dtype: float64"
            ]
          },
          "execution_count": 21,
          "metadata": {},
          "output_type": "execute_result"
        }
      ],
      "source": [
        "y_test"
      ]
    },
    {
      "cell_type": "code",
      "execution_count": null,
      "metadata": {
        "id": "AYmRqPyzYFSW"
      },
      "outputs": [],
      "source": [
        "bst.save_model('model.json')"
      ]
    }
  ],
  "metadata": {
    "colab": {
      "provenance": []
    },
    "kernelspec": {
      "display_name": "Python 3",
      "name": "python3"
    },
    "language_info": {
      "codemirror_mode": {
        "name": "ipython",
        "version": 3
      },
      "file_extension": ".py",
      "mimetype": "text/x-python",
      "name": "python",
      "nbconvert_exporter": "python",
      "pygments_lexer": "ipython3",
      "version": "3.11.5"
    }
  },
  "nbformat": 4,
  "nbformat_minor": 0
}
