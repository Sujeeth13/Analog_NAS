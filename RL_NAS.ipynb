{
  "nbformat": 4,
  "nbformat_minor": 0,
  "metadata": {
    "colab": {
      "provenance": []
    },
    "kernelspec": {
      "name": "python3",
      "display_name": "Python 3"
    },
    "language_info": {
      "name": "python"
    }
  },
  "cells": [
    {
      "cell_type": "code",
      "execution_count": 1,
      "metadata": {
        "id": "r-5icnj75ER5"
      },
      "outputs": [],
      "source": [
        "import torch\n",
        "import torch.nn as nn\n",
        "import pandas as pd\n",
        "from torch.utils.data import Dataset\n",
        "from torch.utils.data import DataLoader\n",
        "import torch.nn.functional as F\n",
        "import torch.optim as optim\n",
        "import numpy as np\n",
        "from tqdm import tqdm\n",
        "from scipy.signal import savgol_filter\n",
        "import matplotlib.pyplot as plt"
      ]
    },
    {
      "cell_type": "markdown",
      "source": [
        "### Preprocess the data"
      ],
      "metadata": {
        "id": "spoMonpM6oPN"
      }
    },
    {
      "cell_type": "code",
      "source": [
        "df = pd.read_csv(\"dataset_cifar10_v1.csv\")"
      ],
      "metadata": {
        "id": "YcpcGKsb6msl"
      },
      "execution_count": 2,
      "outputs": []
    },
    {
      "cell_type": "code",
      "source": [
        "map = {\"A\":1.0,\"B\":2.0,\"C\":3.0,\"D\":4.0}"
      ],
      "metadata": {
        "id": "3O9Y0u3875Zd"
      },
      "execution_count": 3,
      "outputs": []
    },
    {
      "cell_type": "code",
      "source": [
        "df.dtypes"
      ],
      "metadata": {
        "colab": {
          "base_uri": "https://localhost:8080/"
        },
        "id": "Ab6MP2AQ8LFD",
        "outputId": "8c336eb2-d06c-40d7-87fd-2ee87743413b"
      },
      "execution_count": 4,
      "outputs": [
        {
          "output_type": "execute_result",
          "data": {
            "text/plain": [
              "out_channel0            int64\n",
              "M                       int64\n",
              "R1                      int64\n",
              "R2                      int64\n",
              "R3                      int64\n",
              "R4                      int64\n",
              "R5                      int64\n",
              "convblock1             object\n",
              "widenfact1              int64\n",
              "B1                      int64\n",
              "convblock2             object\n",
              "widenfact2              int64\n",
              "B2                      int64\n",
              "convblock3             object\n",
              "widenfact3              int64\n",
              "B3                      int64\n",
              "convblock4             object\n",
              "widenfact4              int64\n",
              "B4                      int64\n",
              "convblock5             object\n",
              "widenfact5              int64\n",
              "B5                      int64\n",
              "1_day_accuracy        float64\n",
              "1_day_accuracy_std    float64\n",
              "AVM                   float64\n",
              "dtype: object"
            ]
          },
          "metadata": {},
          "execution_count": 4
        }
      ]
    },
    {
      "cell_type": "code",
      "source": [
        "for column, dtype in df.dtypes.items():\n",
        "    if dtype == 'object':\n",
        "        df[column] = df[column].replace(map).astype('float32')\n",
        "\n",
        "df = df.astype({col: 'float32' for col in df.select_dtypes('int64').columns})\n",
        "\n",
        "df.dtypes"
      ],
      "metadata": {
        "colab": {
          "base_uri": "https://localhost:8080/"
        },
        "id": "B_5TKv3m8wwU",
        "outputId": "c782f041-88bd-4d73-e940-0645d325ecb4"
      },
      "execution_count": 5,
      "outputs": [
        {
          "output_type": "execute_result",
          "data": {
            "text/plain": [
              "out_channel0          float32\n",
              "M                     float32\n",
              "R1                    float32\n",
              "R2                    float32\n",
              "R3                    float32\n",
              "R4                    float32\n",
              "R5                    float32\n",
              "convblock1            float32\n",
              "widenfact1            float32\n",
              "B1                    float32\n",
              "convblock2            float32\n",
              "widenfact2            float32\n",
              "B2                    float32\n",
              "convblock3            float32\n",
              "widenfact3            float32\n",
              "B3                    float32\n",
              "convblock4            float32\n",
              "widenfact4            float32\n",
              "B4                    float32\n",
              "convblock5            float32\n",
              "widenfact5            float32\n",
              "B5                    float32\n",
              "1_day_accuracy        float64\n",
              "1_day_accuracy_std    float64\n",
              "AVM                   float64\n",
              "dtype: object"
            ]
          },
          "metadata": {},
          "execution_count": 5
        }
      ]
    },
    {
      "cell_type": "code",
      "source": [
        "df.head()"
      ],
      "metadata": {
        "colab": {
          "base_uri": "https://localhost:8080/",
          "height": 256
        },
        "id": "IbVl6vsO9jWN",
        "outputId": "62465c80-8961-4d51-c9f6-450819c4a2a3"
      },
      "execution_count": 6,
      "outputs": [
        {
          "output_type": "execute_result",
          "data": {
            "text/plain": [
              "   out_channel0    M   R1   R2    R3   R4   R5  convblock1  widenfact1    B1  \\\n",
              "0         117.0  1.0  9.0  0.0   0.0  0.0  0.0         2.0         4.0  11.0   \n",
              "1         122.0  1.0  3.0  0.0   0.0  0.0  0.0         4.0         4.0   2.0   \n",
              "2         102.0  1.0  1.0  0.0   0.0  0.0  0.0         3.0         1.0   9.0   \n",
              "3          32.0  3.0  3.0  1.0   7.0  0.0  0.0         2.0         2.0   5.0   \n",
              "4          38.0  3.0  8.0  4.0  11.0  0.0  0.0         4.0         1.0  12.0   \n",
              "\n",
              "   ...   B3  convblock4  widenfact4   B4  convblock5  widenfact5   B5  \\\n",
              "0  ...  0.0         0.0         0.0  0.0         0.0         0.0  0.0   \n",
              "1  ...  0.0         0.0         0.0  0.0         0.0         0.0  0.0   \n",
              "2  ...  0.0         0.0         0.0  0.0         0.0         0.0  0.0   \n",
              "3  ...  1.0         0.0         0.0  0.0         0.0         0.0  0.0   \n",
              "4  ...  9.0         0.0         0.0  0.0         0.0         0.0  0.0   \n",
              "\n",
              "   1_day_accuracy  1_day_accuracy_std        AVM  \n",
              "0        0.923597            0.057017   7.955268  \n",
              "1        0.922466            0.047991   7.772549  \n",
              "2        0.876552            0.110986  17.926130  \n",
              "3        0.658484            0.166616  15.336960  \n",
              "4        0.874308            0.192419  12.943313  \n",
              "\n",
              "[5 rows x 25 columns]"
            ],
            "text/html": [
              "\n",
              "  <div id=\"df-f56887d1-bd52-453b-83cb-b59e58f747da\" class=\"colab-df-container\">\n",
              "    <div>\n",
              "<style scoped>\n",
              "    .dataframe tbody tr th:only-of-type {\n",
              "        vertical-align: middle;\n",
              "    }\n",
              "\n",
              "    .dataframe tbody tr th {\n",
              "        vertical-align: top;\n",
              "    }\n",
              "\n",
              "    .dataframe thead th {\n",
              "        text-align: right;\n",
              "    }\n",
              "</style>\n",
              "<table border=\"1\" class=\"dataframe\">\n",
              "  <thead>\n",
              "    <tr style=\"text-align: right;\">\n",
              "      <th></th>\n",
              "      <th>out_channel0</th>\n",
              "      <th>M</th>\n",
              "      <th>R1</th>\n",
              "      <th>R2</th>\n",
              "      <th>R3</th>\n",
              "      <th>R4</th>\n",
              "      <th>R5</th>\n",
              "      <th>convblock1</th>\n",
              "      <th>widenfact1</th>\n",
              "      <th>B1</th>\n",
              "      <th>...</th>\n",
              "      <th>B3</th>\n",
              "      <th>convblock4</th>\n",
              "      <th>widenfact4</th>\n",
              "      <th>B4</th>\n",
              "      <th>convblock5</th>\n",
              "      <th>widenfact5</th>\n",
              "      <th>B5</th>\n",
              "      <th>1_day_accuracy</th>\n",
              "      <th>1_day_accuracy_std</th>\n",
              "      <th>AVM</th>\n",
              "    </tr>\n",
              "  </thead>\n",
              "  <tbody>\n",
              "    <tr>\n",
              "      <th>0</th>\n",
              "      <td>117.0</td>\n",
              "      <td>1.0</td>\n",
              "      <td>9.0</td>\n",
              "      <td>0.0</td>\n",
              "      <td>0.0</td>\n",
              "      <td>0.0</td>\n",
              "      <td>0.0</td>\n",
              "      <td>2.0</td>\n",
              "      <td>4.0</td>\n",
              "      <td>11.0</td>\n",
              "      <td>...</td>\n",
              "      <td>0.0</td>\n",
              "      <td>0.0</td>\n",
              "      <td>0.0</td>\n",
              "      <td>0.0</td>\n",
              "      <td>0.0</td>\n",
              "      <td>0.0</td>\n",
              "      <td>0.0</td>\n",
              "      <td>0.923597</td>\n",
              "      <td>0.057017</td>\n",
              "      <td>7.955268</td>\n",
              "    </tr>\n",
              "    <tr>\n",
              "      <th>1</th>\n",
              "      <td>122.0</td>\n",
              "      <td>1.0</td>\n",
              "      <td>3.0</td>\n",
              "      <td>0.0</td>\n",
              "      <td>0.0</td>\n",
              "      <td>0.0</td>\n",
              "      <td>0.0</td>\n",
              "      <td>4.0</td>\n",
              "      <td>4.0</td>\n",
              "      <td>2.0</td>\n",
              "      <td>...</td>\n",
              "      <td>0.0</td>\n",
              "      <td>0.0</td>\n",
              "      <td>0.0</td>\n",
              "      <td>0.0</td>\n",
              "      <td>0.0</td>\n",
              "      <td>0.0</td>\n",
              "      <td>0.0</td>\n",
              "      <td>0.922466</td>\n",
              "      <td>0.047991</td>\n",
              "      <td>7.772549</td>\n",
              "    </tr>\n",
              "    <tr>\n",
              "      <th>2</th>\n",
              "      <td>102.0</td>\n",
              "      <td>1.0</td>\n",
              "      <td>1.0</td>\n",
              "      <td>0.0</td>\n",
              "      <td>0.0</td>\n",
              "      <td>0.0</td>\n",
              "      <td>0.0</td>\n",
              "      <td>3.0</td>\n",
              "      <td>1.0</td>\n",
              "      <td>9.0</td>\n",
              "      <td>...</td>\n",
              "      <td>0.0</td>\n",
              "      <td>0.0</td>\n",
              "      <td>0.0</td>\n",
              "      <td>0.0</td>\n",
              "      <td>0.0</td>\n",
              "      <td>0.0</td>\n",
              "      <td>0.0</td>\n",
              "      <td>0.876552</td>\n",
              "      <td>0.110986</td>\n",
              "      <td>17.926130</td>\n",
              "    </tr>\n",
              "    <tr>\n",
              "      <th>3</th>\n",
              "      <td>32.0</td>\n",
              "      <td>3.0</td>\n",
              "      <td>3.0</td>\n",
              "      <td>1.0</td>\n",
              "      <td>7.0</td>\n",
              "      <td>0.0</td>\n",
              "      <td>0.0</td>\n",
              "      <td>2.0</td>\n",
              "      <td>2.0</td>\n",
              "      <td>5.0</td>\n",
              "      <td>...</td>\n",
              "      <td>1.0</td>\n",
              "      <td>0.0</td>\n",
              "      <td>0.0</td>\n",
              "      <td>0.0</td>\n",
              "      <td>0.0</td>\n",
              "      <td>0.0</td>\n",
              "      <td>0.0</td>\n",
              "      <td>0.658484</td>\n",
              "      <td>0.166616</td>\n",
              "      <td>15.336960</td>\n",
              "    </tr>\n",
              "    <tr>\n",
              "      <th>4</th>\n",
              "      <td>38.0</td>\n",
              "      <td>3.0</td>\n",
              "      <td>8.0</td>\n",
              "      <td>4.0</td>\n",
              "      <td>11.0</td>\n",
              "      <td>0.0</td>\n",
              "      <td>0.0</td>\n",
              "      <td>4.0</td>\n",
              "      <td>1.0</td>\n",
              "      <td>12.0</td>\n",
              "      <td>...</td>\n",
              "      <td>9.0</td>\n",
              "      <td>0.0</td>\n",
              "      <td>0.0</td>\n",
              "      <td>0.0</td>\n",
              "      <td>0.0</td>\n",
              "      <td>0.0</td>\n",
              "      <td>0.0</td>\n",
              "      <td>0.874308</td>\n",
              "      <td>0.192419</td>\n",
              "      <td>12.943313</td>\n",
              "    </tr>\n",
              "  </tbody>\n",
              "</table>\n",
              "<p>5 rows × 25 columns</p>\n",
              "</div>\n",
              "    <div class=\"colab-df-buttons\">\n",
              "\n",
              "  <div class=\"colab-df-container\">\n",
              "    <button class=\"colab-df-convert\" onclick=\"convertToInteractive('df-f56887d1-bd52-453b-83cb-b59e58f747da')\"\n",
              "            title=\"Convert this dataframe to an interactive table.\"\n",
              "            style=\"display:none;\">\n",
              "\n",
              "  <svg xmlns=\"http://www.w3.org/2000/svg\" height=\"24px\" viewBox=\"0 -960 960 960\">\n",
              "    <path d=\"M120-120v-720h720v720H120Zm60-500h600v-160H180v160Zm220 220h160v-160H400v160Zm0 220h160v-160H400v160ZM180-400h160v-160H180v160Zm440 0h160v-160H620v160ZM180-180h160v-160H180v160Zm440 0h160v-160H620v160Z\"/>\n",
              "  </svg>\n",
              "    </button>\n",
              "\n",
              "  <style>\n",
              "    .colab-df-container {\n",
              "      display:flex;\n",
              "      gap: 12px;\n",
              "    }\n",
              "\n",
              "    .colab-df-convert {\n",
              "      background-color: #E8F0FE;\n",
              "      border: none;\n",
              "      border-radius: 50%;\n",
              "      cursor: pointer;\n",
              "      display: none;\n",
              "      fill: #1967D2;\n",
              "      height: 32px;\n",
              "      padding: 0 0 0 0;\n",
              "      width: 32px;\n",
              "    }\n",
              "\n",
              "    .colab-df-convert:hover {\n",
              "      background-color: #E2EBFA;\n",
              "      box-shadow: 0px 1px 2px rgba(60, 64, 67, 0.3), 0px 1px 3px 1px rgba(60, 64, 67, 0.15);\n",
              "      fill: #174EA6;\n",
              "    }\n",
              "\n",
              "    .colab-df-buttons div {\n",
              "      margin-bottom: 4px;\n",
              "    }\n",
              "\n",
              "    [theme=dark] .colab-df-convert {\n",
              "      background-color: #3B4455;\n",
              "      fill: #D2E3FC;\n",
              "    }\n",
              "\n",
              "    [theme=dark] .colab-df-convert:hover {\n",
              "      background-color: #434B5C;\n",
              "      box-shadow: 0px 1px 3px 1px rgba(0, 0, 0, 0.15);\n",
              "      filter: drop-shadow(0px 1px 2px rgba(0, 0, 0, 0.3));\n",
              "      fill: #FFFFFF;\n",
              "    }\n",
              "  </style>\n",
              "\n",
              "    <script>\n",
              "      const buttonEl =\n",
              "        document.querySelector('#df-f56887d1-bd52-453b-83cb-b59e58f747da button.colab-df-convert');\n",
              "      buttonEl.style.display =\n",
              "        google.colab.kernel.accessAllowed ? 'block' : 'none';\n",
              "\n",
              "      async function convertToInteractive(key) {\n",
              "        const element = document.querySelector('#df-f56887d1-bd52-453b-83cb-b59e58f747da');\n",
              "        const dataTable =\n",
              "          await google.colab.kernel.invokeFunction('convertToInteractive',\n",
              "                                                    [key], {});\n",
              "        if (!dataTable) return;\n",
              "\n",
              "        const docLinkHtml = 'Like what you see? Visit the ' +\n",
              "          '<a target=\"_blank\" href=https://colab.research.google.com/notebooks/data_table.ipynb>data table notebook</a>'\n",
              "          + ' to learn more about interactive tables.';\n",
              "        element.innerHTML = '';\n",
              "        dataTable['output_type'] = 'display_data';\n",
              "        await google.colab.output.renderOutput(dataTable, element);\n",
              "        const docLink = document.createElement('div');\n",
              "        docLink.innerHTML = docLinkHtml;\n",
              "        element.appendChild(docLink);\n",
              "      }\n",
              "    </script>\n",
              "  </div>\n",
              "\n",
              "\n",
              "<div id=\"df-0a4f9c4c-b4e3-44bc-a579-4b92f4fc398d\">\n",
              "  <button class=\"colab-df-quickchart\" onclick=\"quickchart('df-0a4f9c4c-b4e3-44bc-a579-4b92f4fc398d')\"\n",
              "            title=\"Suggest charts\"\n",
              "            style=\"display:none;\">\n",
              "\n",
              "<svg xmlns=\"http://www.w3.org/2000/svg\" height=\"24px\"viewBox=\"0 0 24 24\"\n",
              "     width=\"24px\">\n",
              "    <g>\n",
              "        <path d=\"M19 3H5c-1.1 0-2 .9-2 2v14c0 1.1.9 2 2 2h14c1.1 0 2-.9 2-2V5c0-1.1-.9-2-2-2zM9 17H7v-7h2v7zm4 0h-2V7h2v10zm4 0h-2v-4h2v4z\"/>\n",
              "    </g>\n",
              "</svg>\n",
              "  </button>\n",
              "\n",
              "<style>\n",
              "  .colab-df-quickchart {\n",
              "      --bg-color: #E8F0FE;\n",
              "      --fill-color: #1967D2;\n",
              "      --hover-bg-color: #E2EBFA;\n",
              "      --hover-fill-color: #174EA6;\n",
              "      --disabled-fill-color: #AAA;\n",
              "      --disabled-bg-color: #DDD;\n",
              "  }\n",
              "\n",
              "  [theme=dark] .colab-df-quickchart {\n",
              "      --bg-color: #3B4455;\n",
              "      --fill-color: #D2E3FC;\n",
              "      --hover-bg-color: #434B5C;\n",
              "      --hover-fill-color: #FFFFFF;\n",
              "      --disabled-bg-color: #3B4455;\n",
              "      --disabled-fill-color: #666;\n",
              "  }\n",
              "\n",
              "  .colab-df-quickchart {\n",
              "    background-color: var(--bg-color);\n",
              "    border: none;\n",
              "    border-radius: 50%;\n",
              "    cursor: pointer;\n",
              "    display: none;\n",
              "    fill: var(--fill-color);\n",
              "    height: 32px;\n",
              "    padding: 0;\n",
              "    width: 32px;\n",
              "  }\n",
              "\n",
              "  .colab-df-quickchart:hover {\n",
              "    background-color: var(--hover-bg-color);\n",
              "    box-shadow: 0 1px 2px rgba(60, 64, 67, 0.3), 0 1px 3px 1px rgba(60, 64, 67, 0.15);\n",
              "    fill: var(--button-hover-fill-color);\n",
              "  }\n",
              "\n",
              "  .colab-df-quickchart-complete:disabled,\n",
              "  .colab-df-quickchart-complete:disabled:hover {\n",
              "    background-color: var(--disabled-bg-color);\n",
              "    fill: var(--disabled-fill-color);\n",
              "    box-shadow: none;\n",
              "  }\n",
              "\n",
              "  .colab-df-spinner {\n",
              "    border: 2px solid var(--fill-color);\n",
              "    border-color: transparent;\n",
              "    border-bottom-color: var(--fill-color);\n",
              "    animation:\n",
              "      spin 1s steps(1) infinite;\n",
              "  }\n",
              "\n",
              "  @keyframes spin {\n",
              "    0% {\n",
              "      border-color: transparent;\n",
              "      border-bottom-color: var(--fill-color);\n",
              "      border-left-color: var(--fill-color);\n",
              "    }\n",
              "    20% {\n",
              "      border-color: transparent;\n",
              "      border-left-color: var(--fill-color);\n",
              "      border-top-color: var(--fill-color);\n",
              "    }\n",
              "    30% {\n",
              "      border-color: transparent;\n",
              "      border-left-color: var(--fill-color);\n",
              "      border-top-color: var(--fill-color);\n",
              "      border-right-color: var(--fill-color);\n",
              "    }\n",
              "    40% {\n",
              "      border-color: transparent;\n",
              "      border-right-color: var(--fill-color);\n",
              "      border-top-color: var(--fill-color);\n",
              "    }\n",
              "    60% {\n",
              "      border-color: transparent;\n",
              "      border-right-color: var(--fill-color);\n",
              "    }\n",
              "    80% {\n",
              "      border-color: transparent;\n",
              "      border-right-color: var(--fill-color);\n",
              "      border-bottom-color: var(--fill-color);\n",
              "    }\n",
              "    90% {\n",
              "      border-color: transparent;\n",
              "      border-bottom-color: var(--fill-color);\n",
              "    }\n",
              "  }\n",
              "</style>\n",
              "\n",
              "  <script>\n",
              "    async function quickchart(key) {\n",
              "      const quickchartButtonEl =\n",
              "        document.querySelector('#' + key + ' button');\n",
              "      quickchartButtonEl.disabled = true;  // To prevent multiple clicks.\n",
              "      quickchartButtonEl.classList.add('colab-df-spinner');\n",
              "      try {\n",
              "        const charts = await google.colab.kernel.invokeFunction(\n",
              "            'suggestCharts', [key], {});\n",
              "      } catch (error) {\n",
              "        console.error('Error during call to suggestCharts:', error);\n",
              "      }\n",
              "      quickchartButtonEl.classList.remove('colab-df-spinner');\n",
              "      quickchartButtonEl.classList.add('colab-df-quickchart-complete');\n",
              "    }\n",
              "    (() => {\n",
              "      let quickchartButtonEl =\n",
              "        document.querySelector('#df-0a4f9c4c-b4e3-44bc-a579-4b92f4fc398d button');\n",
              "      quickchartButtonEl.style.display =\n",
              "        google.colab.kernel.accessAllowed ? 'block' : 'none';\n",
              "    })();\n",
              "  </script>\n",
              "</div>\n",
              "    </div>\n",
              "  </div>\n"
            ],
            "application/vnd.google.colaboratory.intrinsic+json": {
              "type": "dataframe",
              "variable_name": "df"
            }
          },
          "metadata": {},
          "execution_count": 6
        }
      ]
    },
    {
      "cell_type": "code",
      "source": [
        "data = df.iloc[:,:-3]\n",
        "data.head()"
      ],
      "metadata": {
        "colab": {
          "base_uri": "https://localhost:8080/",
          "height": 256
        },
        "id": "LlITUbCHDfwJ",
        "outputId": "17e4b64a-16e5-4c26-db50-1892d92bec88"
      },
      "execution_count": 7,
      "outputs": [
        {
          "output_type": "execute_result",
          "data": {
            "text/plain": [
              "   out_channel0    M   R1   R2    R3   R4   R5  convblock1  widenfact1    B1  \\\n",
              "0         117.0  1.0  9.0  0.0   0.0  0.0  0.0         2.0         4.0  11.0   \n",
              "1         122.0  1.0  3.0  0.0   0.0  0.0  0.0         4.0         4.0   2.0   \n",
              "2         102.0  1.0  1.0  0.0   0.0  0.0  0.0         3.0         1.0   9.0   \n",
              "3          32.0  3.0  3.0  1.0   7.0  0.0  0.0         2.0         2.0   5.0   \n",
              "4          38.0  3.0  8.0  4.0  11.0  0.0  0.0         4.0         1.0  12.0   \n",
              "\n",
              "   ...   B2  convblock3  widenfact3   B3  convblock4  widenfact4   B4  \\\n",
              "0  ...  0.0         0.0         0.0  0.0         0.0         0.0  0.0   \n",
              "1  ...  0.0         0.0         0.0  0.0         0.0         0.0  0.0   \n",
              "2  ...  0.0         0.0         0.0  0.0         0.0         0.0  0.0   \n",
              "3  ...  9.0         3.0         1.0  1.0         0.0         0.0  0.0   \n",
              "4  ...  6.0         4.0         3.0  9.0         0.0         0.0  0.0   \n",
              "\n",
              "   convblock5  widenfact5   B5  \n",
              "0         0.0         0.0  0.0  \n",
              "1         0.0         0.0  0.0  \n",
              "2         0.0         0.0  0.0  \n",
              "3         0.0         0.0  0.0  \n",
              "4         0.0         0.0  0.0  \n",
              "\n",
              "[5 rows x 22 columns]"
            ],
            "text/html": [
              "\n",
              "  <div id=\"df-a1504b00-7daf-412c-8b9a-8327cf1dcee2\" class=\"colab-df-container\">\n",
              "    <div>\n",
              "<style scoped>\n",
              "    .dataframe tbody tr th:only-of-type {\n",
              "        vertical-align: middle;\n",
              "    }\n",
              "\n",
              "    .dataframe tbody tr th {\n",
              "        vertical-align: top;\n",
              "    }\n",
              "\n",
              "    .dataframe thead th {\n",
              "        text-align: right;\n",
              "    }\n",
              "</style>\n",
              "<table border=\"1\" class=\"dataframe\">\n",
              "  <thead>\n",
              "    <tr style=\"text-align: right;\">\n",
              "      <th></th>\n",
              "      <th>out_channel0</th>\n",
              "      <th>M</th>\n",
              "      <th>R1</th>\n",
              "      <th>R2</th>\n",
              "      <th>R3</th>\n",
              "      <th>R4</th>\n",
              "      <th>R5</th>\n",
              "      <th>convblock1</th>\n",
              "      <th>widenfact1</th>\n",
              "      <th>B1</th>\n",
              "      <th>...</th>\n",
              "      <th>B2</th>\n",
              "      <th>convblock3</th>\n",
              "      <th>widenfact3</th>\n",
              "      <th>B3</th>\n",
              "      <th>convblock4</th>\n",
              "      <th>widenfact4</th>\n",
              "      <th>B4</th>\n",
              "      <th>convblock5</th>\n",
              "      <th>widenfact5</th>\n",
              "      <th>B5</th>\n",
              "    </tr>\n",
              "  </thead>\n",
              "  <tbody>\n",
              "    <tr>\n",
              "      <th>0</th>\n",
              "      <td>117.0</td>\n",
              "      <td>1.0</td>\n",
              "      <td>9.0</td>\n",
              "      <td>0.0</td>\n",
              "      <td>0.0</td>\n",
              "      <td>0.0</td>\n",
              "      <td>0.0</td>\n",
              "      <td>2.0</td>\n",
              "      <td>4.0</td>\n",
              "      <td>11.0</td>\n",
              "      <td>...</td>\n",
              "      <td>0.0</td>\n",
              "      <td>0.0</td>\n",
              "      <td>0.0</td>\n",
              "      <td>0.0</td>\n",
              "      <td>0.0</td>\n",
              "      <td>0.0</td>\n",
              "      <td>0.0</td>\n",
              "      <td>0.0</td>\n",
              "      <td>0.0</td>\n",
              "      <td>0.0</td>\n",
              "    </tr>\n",
              "    <tr>\n",
              "      <th>1</th>\n",
              "      <td>122.0</td>\n",
              "      <td>1.0</td>\n",
              "      <td>3.0</td>\n",
              "      <td>0.0</td>\n",
              "      <td>0.0</td>\n",
              "      <td>0.0</td>\n",
              "      <td>0.0</td>\n",
              "      <td>4.0</td>\n",
              "      <td>4.0</td>\n",
              "      <td>2.0</td>\n",
              "      <td>...</td>\n",
              "      <td>0.0</td>\n",
              "      <td>0.0</td>\n",
              "      <td>0.0</td>\n",
              "      <td>0.0</td>\n",
              "      <td>0.0</td>\n",
              "      <td>0.0</td>\n",
              "      <td>0.0</td>\n",
              "      <td>0.0</td>\n",
              "      <td>0.0</td>\n",
              "      <td>0.0</td>\n",
              "    </tr>\n",
              "    <tr>\n",
              "      <th>2</th>\n",
              "      <td>102.0</td>\n",
              "      <td>1.0</td>\n",
              "      <td>1.0</td>\n",
              "      <td>0.0</td>\n",
              "      <td>0.0</td>\n",
              "      <td>0.0</td>\n",
              "      <td>0.0</td>\n",
              "      <td>3.0</td>\n",
              "      <td>1.0</td>\n",
              "      <td>9.0</td>\n",
              "      <td>...</td>\n",
              "      <td>0.0</td>\n",
              "      <td>0.0</td>\n",
              "      <td>0.0</td>\n",
              "      <td>0.0</td>\n",
              "      <td>0.0</td>\n",
              "      <td>0.0</td>\n",
              "      <td>0.0</td>\n",
              "      <td>0.0</td>\n",
              "      <td>0.0</td>\n",
              "      <td>0.0</td>\n",
              "    </tr>\n",
              "    <tr>\n",
              "      <th>3</th>\n",
              "      <td>32.0</td>\n",
              "      <td>3.0</td>\n",
              "      <td>3.0</td>\n",
              "      <td>1.0</td>\n",
              "      <td>7.0</td>\n",
              "      <td>0.0</td>\n",
              "      <td>0.0</td>\n",
              "      <td>2.0</td>\n",
              "      <td>2.0</td>\n",
              "      <td>5.0</td>\n",
              "      <td>...</td>\n",
              "      <td>9.0</td>\n",
              "      <td>3.0</td>\n",
              "      <td>1.0</td>\n",
              "      <td>1.0</td>\n",
              "      <td>0.0</td>\n",
              "      <td>0.0</td>\n",
              "      <td>0.0</td>\n",
              "      <td>0.0</td>\n",
              "      <td>0.0</td>\n",
              "      <td>0.0</td>\n",
              "    </tr>\n",
              "    <tr>\n",
              "      <th>4</th>\n",
              "      <td>38.0</td>\n",
              "      <td>3.0</td>\n",
              "      <td>8.0</td>\n",
              "      <td>4.0</td>\n",
              "      <td>11.0</td>\n",
              "      <td>0.0</td>\n",
              "      <td>0.0</td>\n",
              "      <td>4.0</td>\n",
              "      <td>1.0</td>\n",
              "      <td>12.0</td>\n",
              "      <td>...</td>\n",
              "      <td>6.0</td>\n",
              "      <td>4.0</td>\n",
              "      <td>3.0</td>\n",
              "      <td>9.0</td>\n",
              "      <td>0.0</td>\n",
              "      <td>0.0</td>\n",
              "      <td>0.0</td>\n",
              "      <td>0.0</td>\n",
              "      <td>0.0</td>\n",
              "      <td>0.0</td>\n",
              "    </tr>\n",
              "  </tbody>\n",
              "</table>\n",
              "<p>5 rows × 22 columns</p>\n",
              "</div>\n",
              "    <div class=\"colab-df-buttons\">\n",
              "\n",
              "  <div class=\"colab-df-container\">\n",
              "    <button class=\"colab-df-convert\" onclick=\"convertToInteractive('df-a1504b00-7daf-412c-8b9a-8327cf1dcee2')\"\n",
              "            title=\"Convert this dataframe to an interactive table.\"\n",
              "            style=\"display:none;\">\n",
              "\n",
              "  <svg xmlns=\"http://www.w3.org/2000/svg\" height=\"24px\" viewBox=\"0 -960 960 960\">\n",
              "    <path d=\"M120-120v-720h720v720H120Zm60-500h600v-160H180v160Zm220 220h160v-160H400v160Zm0 220h160v-160H400v160ZM180-400h160v-160H180v160Zm440 0h160v-160H620v160ZM180-180h160v-160H180v160Zm440 0h160v-160H620v160Z\"/>\n",
              "  </svg>\n",
              "    </button>\n",
              "\n",
              "  <style>\n",
              "    .colab-df-container {\n",
              "      display:flex;\n",
              "      gap: 12px;\n",
              "    }\n",
              "\n",
              "    .colab-df-convert {\n",
              "      background-color: #E8F0FE;\n",
              "      border: none;\n",
              "      border-radius: 50%;\n",
              "      cursor: pointer;\n",
              "      display: none;\n",
              "      fill: #1967D2;\n",
              "      height: 32px;\n",
              "      padding: 0 0 0 0;\n",
              "      width: 32px;\n",
              "    }\n",
              "\n",
              "    .colab-df-convert:hover {\n",
              "      background-color: #E2EBFA;\n",
              "      box-shadow: 0px 1px 2px rgba(60, 64, 67, 0.3), 0px 1px 3px 1px rgba(60, 64, 67, 0.15);\n",
              "      fill: #174EA6;\n",
              "    }\n",
              "\n",
              "    .colab-df-buttons div {\n",
              "      margin-bottom: 4px;\n",
              "    }\n",
              "\n",
              "    [theme=dark] .colab-df-convert {\n",
              "      background-color: #3B4455;\n",
              "      fill: #D2E3FC;\n",
              "    }\n",
              "\n",
              "    [theme=dark] .colab-df-convert:hover {\n",
              "      background-color: #434B5C;\n",
              "      box-shadow: 0px 1px 3px 1px rgba(0, 0, 0, 0.15);\n",
              "      filter: drop-shadow(0px 1px 2px rgba(0, 0, 0, 0.3));\n",
              "      fill: #FFFFFF;\n",
              "    }\n",
              "  </style>\n",
              "\n",
              "    <script>\n",
              "      const buttonEl =\n",
              "        document.querySelector('#df-a1504b00-7daf-412c-8b9a-8327cf1dcee2 button.colab-df-convert');\n",
              "      buttonEl.style.display =\n",
              "        google.colab.kernel.accessAllowed ? 'block' : 'none';\n",
              "\n",
              "      async function convertToInteractive(key) {\n",
              "        const element = document.querySelector('#df-a1504b00-7daf-412c-8b9a-8327cf1dcee2');\n",
              "        const dataTable =\n",
              "          await google.colab.kernel.invokeFunction('convertToInteractive',\n",
              "                                                    [key], {});\n",
              "        if (!dataTable) return;\n",
              "\n",
              "        const docLinkHtml = 'Like what you see? Visit the ' +\n",
              "          '<a target=\"_blank\" href=https://colab.research.google.com/notebooks/data_table.ipynb>data table notebook</a>'\n",
              "          + ' to learn more about interactive tables.';\n",
              "        element.innerHTML = '';\n",
              "        dataTable['output_type'] = 'display_data';\n",
              "        await google.colab.output.renderOutput(dataTable, element);\n",
              "        const docLink = document.createElement('div');\n",
              "        docLink.innerHTML = docLinkHtml;\n",
              "        element.appendChild(docLink);\n",
              "      }\n",
              "    </script>\n",
              "  </div>\n",
              "\n",
              "\n",
              "<div id=\"df-2ba400da-b1eb-4a10-8d8a-218bdf12e6af\">\n",
              "  <button class=\"colab-df-quickchart\" onclick=\"quickchart('df-2ba400da-b1eb-4a10-8d8a-218bdf12e6af')\"\n",
              "            title=\"Suggest charts\"\n",
              "            style=\"display:none;\">\n",
              "\n",
              "<svg xmlns=\"http://www.w3.org/2000/svg\" height=\"24px\"viewBox=\"0 0 24 24\"\n",
              "     width=\"24px\">\n",
              "    <g>\n",
              "        <path d=\"M19 3H5c-1.1 0-2 .9-2 2v14c0 1.1.9 2 2 2h14c1.1 0 2-.9 2-2V5c0-1.1-.9-2-2-2zM9 17H7v-7h2v7zm4 0h-2V7h2v10zm4 0h-2v-4h2v4z\"/>\n",
              "    </g>\n",
              "</svg>\n",
              "  </button>\n",
              "\n",
              "<style>\n",
              "  .colab-df-quickchart {\n",
              "      --bg-color: #E8F0FE;\n",
              "      --fill-color: #1967D2;\n",
              "      --hover-bg-color: #E2EBFA;\n",
              "      --hover-fill-color: #174EA6;\n",
              "      --disabled-fill-color: #AAA;\n",
              "      --disabled-bg-color: #DDD;\n",
              "  }\n",
              "\n",
              "  [theme=dark] .colab-df-quickchart {\n",
              "      --bg-color: #3B4455;\n",
              "      --fill-color: #D2E3FC;\n",
              "      --hover-bg-color: #434B5C;\n",
              "      --hover-fill-color: #FFFFFF;\n",
              "      --disabled-bg-color: #3B4455;\n",
              "      --disabled-fill-color: #666;\n",
              "  }\n",
              "\n",
              "  .colab-df-quickchart {\n",
              "    background-color: var(--bg-color);\n",
              "    border: none;\n",
              "    border-radius: 50%;\n",
              "    cursor: pointer;\n",
              "    display: none;\n",
              "    fill: var(--fill-color);\n",
              "    height: 32px;\n",
              "    padding: 0;\n",
              "    width: 32px;\n",
              "  }\n",
              "\n",
              "  .colab-df-quickchart:hover {\n",
              "    background-color: var(--hover-bg-color);\n",
              "    box-shadow: 0 1px 2px rgba(60, 64, 67, 0.3), 0 1px 3px 1px rgba(60, 64, 67, 0.15);\n",
              "    fill: var(--button-hover-fill-color);\n",
              "  }\n",
              "\n",
              "  .colab-df-quickchart-complete:disabled,\n",
              "  .colab-df-quickchart-complete:disabled:hover {\n",
              "    background-color: var(--disabled-bg-color);\n",
              "    fill: var(--disabled-fill-color);\n",
              "    box-shadow: none;\n",
              "  }\n",
              "\n",
              "  .colab-df-spinner {\n",
              "    border: 2px solid var(--fill-color);\n",
              "    border-color: transparent;\n",
              "    border-bottom-color: var(--fill-color);\n",
              "    animation:\n",
              "      spin 1s steps(1) infinite;\n",
              "  }\n",
              "\n",
              "  @keyframes spin {\n",
              "    0% {\n",
              "      border-color: transparent;\n",
              "      border-bottom-color: var(--fill-color);\n",
              "      border-left-color: var(--fill-color);\n",
              "    }\n",
              "    20% {\n",
              "      border-color: transparent;\n",
              "      border-left-color: var(--fill-color);\n",
              "      border-top-color: var(--fill-color);\n",
              "    }\n",
              "    30% {\n",
              "      border-color: transparent;\n",
              "      border-left-color: var(--fill-color);\n",
              "      border-top-color: var(--fill-color);\n",
              "      border-right-color: var(--fill-color);\n",
              "    }\n",
              "    40% {\n",
              "      border-color: transparent;\n",
              "      border-right-color: var(--fill-color);\n",
              "      border-top-color: var(--fill-color);\n",
              "    }\n",
              "    60% {\n",
              "      border-color: transparent;\n",
              "      border-right-color: var(--fill-color);\n",
              "    }\n",
              "    80% {\n",
              "      border-color: transparent;\n",
              "      border-right-color: var(--fill-color);\n",
              "      border-bottom-color: var(--fill-color);\n",
              "    }\n",
              "    90% {\n",
              "      border-color: transparent;\n",
              "      border-bottom-color: var(--fill-color);\n",
              "    }\n",
              "  }\n",
              "</style>\n",
              "\n",
              "  <script>\n",
              "    async function quickchart(key) {\n",
              "      const quickchartButtonEl =\n",
              "        document.querySelector('#' + key + ' button');\n",
              "      quickchartButtonEl.disabled = true;  // To prevent multiple clicks.\n",
              "      quickchartButtonEl.classList.add('colab-df-spinner');\n",
              "      try {\n",
              "        const charts = await google.colab.kernel.invokeFunction(\n",
              "            'suggestCharts', [key], {});\n",
              "      } catch (error) {\n",
              "        console.error('Error during call to suggestCharts:', error);\n",
              "      }\n",
              "      quickchartButtonEl.classList.remove('colab-df-spinner');\n",
              "      quickchartButtonEl.classList.add('colab-df-quickchart-complete');\n",
              "    }\n",
              "    (() => {\n",
              "      let quickchartButtonEl =\n",
              "        document.querySelector('#df-2ba400da-b1eb-4a10-8d8a-218bdf12e6af button');\n",
              "      quickchartButtonEl.style.display =\n",
              "        google.colab.kernel.accessAllowed ? 'block' : 'none';\n",
              "    })();\n",
              "  </script>\n",
              "</div>\n",
              "    </div>\n",
              "  </div>\n"
            ],
            "application/vnd.google.colaboratory.intrinsic+json": {
              "type": "dataframe",
              "variable_name": "data"
            }
          },
          "metadata": {},
          "execution_count": 7
        }
      ]
    },
    {
      "cell_type": "code",
      "source": [
        "data = torch.tensor(data[data.columns].values,dtype=torch.float32)"
      ],
      "metadata": {
        "id": "vZK6vgB_Engl"
      },
      "execution_count": 8,
      "outputs": []
    },
    {
      "cell_type": "code",
      "source": [
        "data.shape"
      ],
      "metadata": {
        "colab": {
          "base_uri": "https://localhost:8080/"
        },
        "id": "XdKJdgWqV4fp",
        "outputId": "d62c95d6-7a96-45fd-bfaa-7605a2cbb6ca"
      },
      "execution_count": 9,
      "outputs": [
        {
          "output_type": "execute_result",
          "data": {
            "text/plain": [
              "torch.Size([1200, 22])"
            ]
          },
          "metadata": {},
          "execution_count": 9
        }
      ]
    },
    {
      "cell_type": "code",
      "source": [
        "if torch.cuda.is_available():\n",
        "  device = 'cuda'\n",
        "else:\n",
        "  device = 'cpu'"
      ],
      "metadata": {
        "id": "JY3Ba8jAXWPv"
      },
      "execution_count": 10,
      "outputs": []
    },
    {
      "cell_type": "code",
      "source": [
        "class VQVAE_Dataset(Dataset):\n",
        "  def __init__(self,data):\n",
        "    self.data = data\n",
        "\n",
        "  def __getitem__(self,idx):\n",
        "    return self.data[idx]\n",
        "\n",
        "  def __len__(self):\n",
        "    return len(self.data)"
      ],
      "metadata": {
        "id": "X6TgWDAiDzCh"
      },
      "execution_count": 11,
      "outputs": []
    },
    {
      "cell_type": "code",
      "source": [
        "class Encoder(nn.Module):\n",
        "  def __init__(self,inp_dim,embed_dim=10,dropout=0.2):\n",
        "    super(Encoder,self).__init__()\n",
        "    self.inp_dim = inp_dim\n",
        "    self.embed_dim = embed_dim\n",
        "    self.fc1 = nn.Linear(self.inp_dim,16)\n",
        "    self.fc2 = nn.Linear(16,self.embed_dim)\n",
        "    self.relu = nn.ReLU()\n",
        "    self.dropout = nn.Dropout(dropout)\n",
        "\n",
        "  def forward(self,x):\n",
        "    x = self.relu(self.fc1(x))\n",
        "    x = self.dropout(x)\n",
        "    x = self.relu(self.fc2(x))\n",
        "    return x\n",
        "\n",
        "class Decoder(nn.Module):\n",
        "  def __init__(self,out_dim,embed_dim=10,dropout=0.2):\n",
        "    super(Decoder,self).__init__()\n",
        "    self.out_dim = out_dim\n",
        "    self.embed_dim = embed_dim\n",
        "    self.fc1 = nn.Linear(self.embed_dim,16)\n",
        "    self.fc2 = nn.Linear(16,self.out_dim)\n",
        "    self.relu = nn.ReLU()\n",
        "    self.dropout = nn.Dropout(dropout)\n",
        "\n",
        "  def forward(self,x):\n",
        "    x = self.relu(self.fc1(x))\n",
        "    x = self.dropout(x)\n",
        "    x = self.relu(self.fc2(x))\n",
        "    return x\n",
        "\n",
        "class VectorQuantizer(nn.Module):\n",
        "  def __init__(self,num_embeddings=50,embedding_dim=10,commitment_cost=0.25):\n",
        "    super(VectorQuantizer,self).__init__()\n",
        "    self.num_embeddings = num_embeddings\n",
        "    self.embed_dim = embedding_dim\n",
        "    self.embeddings = nn.Embedding(self.num_embeddings,self.embed_dim)\n",
        "    self.embeddings.weight.data.uniform_(-1/self.num_embeddings, 1/self.num_embeddings)\n",
        "    self.commitment_cost = commitment_cost\n",
        "\n",
        "  def forward(self,x):\n",
        "    # x: [B,D]\n",
        "    # embeddings: [num_embeddings, embed_dim]\n",
        "\n",
        "    latent_vectors = x.unsqueeze(1) # [B,D] -> [B,1,D]\n",
        "    codebook_vectors = self.embeddings.weight.unsqueeze(0) # [num_embeddings, embed_dim] -> [1,num_embeddings, embed_dim]\n",
        "    distances = torch.norm(latent_vectors - codebook_vectors, dim=2) # [B,num_embeddings]\n",
        "    closest_indices = torch.argmin(distances,dim=1).unsqueeze(1)\n",
        "\n",
        "    # making a one hot encoder of the closest codebook chosen for perplexity calculation [B,num_embeddings]\n",
        "    encodings = torch.zeros(closest_indices.shape[0], self.num_embeddings, device=x.device)\n",
        "    encodings.scatter_(1,closest_indices,1)\n",
        "\n",
        "    quantized = self.embeddings(closest_indices).squeeze(1)\n",
        "\n",
        "    e_latent_loss = F.mse_loss(quantized.detach(), x)\n",
        "    q_latent_loss = F.mse_loss(quantized, x.detach())\n",
        "    loss = q_latent_loss + self.commitment_cost * e_latent_loss\n",
        "\n",
        "    # to copy gradients from decoder to encoder\n",
        "    quantized = x + (quantized - x).detach()\n",
        "\n",
        "    avg_probs = torch.mean(encodings, dim=0)\n",
        "    perplexity = torch.exp(-torch.sum(avg_probs * torch.log(avg_probs + 1e-10)))\n",
        "\n",
        "    return loss, quantized, perplexity\n"
      ],
      "metadata": {
        "id": "pvICf5aT9uvb"
      },
      "execution_count": 12,
      "outputs": []
    },
    {
      "cell_type": "code",
      "source": [
        "class VQVAE(nn.Module):\n",
        "  def __init__(self,x_dim,embed_dim=10,dropout=0.2,num_embeddings=50,commitment_cost=0.25):\n",
        "    super(VQVAE,self).__init__()\n",
        "    self.encoder = Encoder(x_dim,embed_dim,dropout)\n",
        "    self.quantizer = VectorQuantizer(num_embeddings,embed_dim,commitment_cost)\n",
        "    self.decoder = Decoder(x_dim,embed_dim,dropout)\n",
        "\n",
        "  def forward(self,x):\n",
        "    z = self.encoder(x)\n",
        "    loss, quantized_z, perplexity = self.quantizer(z)\n",
        "    x_recon = self.decoder(quantized_z)\n",
        "    return loss, x_recon, perplexity"
      ],
      "metadata": {
        "id": "Hnq76uZV9uyW"
      },
      "execution_count": 13,
      "outputs": []
    },
    {
      "cell_type": "code",
      "source": [
        "dataset = VQVAE_Dataset(data)"
      ],
      "metadata": {
        "id": "tGsY7ImB9u3-"
      },
      "execution_count": 14,
      "outputs": []
    },
    {
      "cell_type": "code",
      "source": [
        "x_dim = data.shape[1]\n",
        "embed_dim = 10\n",
        "dropout = 0.2\n",
        "num_embeddings = 50\n",
        "commitment_cost = 0.25\n",
        "epochs = 1000\n",
        "learning_rate = 0.001\n",
        "batch_size = 32"
      ],
      "metadata": {
        "id": "Mla2YY3TXjDE"
      },
      "execution_count": 30,
      "outputs": []
    },
    {
      "cell_type": "code",
      "source": [
        "train_loader = DataLoader(dataset,batch_size=batch_size,shuffle=True)"
      ],
      "metadata": {
        "id": "Sj346AzBYolD"
      },
      "execution_count": 16,
      "outputs": []
    },
    {
      "cell_type": "code",
      "source": [
        "model = VQVAE(x_dim,embed_dim,dropout,num_embeddings,commitment_cost).to(device)"
      ],
      "metadata": {
        "id": "TwYS_NCY9u7G"
      },
      "execution_count": 17,
      "outputs": []
    },
    {
      "cell_type": "code",
      "source": [
        "optimizer = optim.Adam(model.parameters(), lr=learning_rate, amsgrad=False)"
      ],
      "metadata": {
        "id": "REhkLnv1YRIX"
      },
      "execution_count": 18,
      "outputs": []
    },
    {
      "cell_type": "code",
      "source": [
        "model.train()\n",
        "train_res_recon_error = []\n",
        "train_res_perplexity = []\n",
        "\n",
        "for epoch in tqdm(range(epochs)):\n",
        "\n",
        "  for i, batch in enumerate(train_loader):  # Iterate over all batches in the dataset\n",
        "    batch = batch.to(device)\n",
        "    optimizer.zero_grad()\n",
        "\n",
        "    vq_loss, data_recon, perplexity = model(batch)\n",
        "    recon_error = F.mse_loss(data_recon, batch)\n",
        "    loss = recon_error + vq_loss\n",
        "    loss.backward()\n",
        "\n",
        "    optimizer.step()\n",
        "\n",
        "    train_res_recon_error.append(recon_error.item())\n",
        "    train_res_perplexity.append(perplexity.item())\n",
        "\n",
        "    if (i+1) % 10 == 0:\n",
        "      print('%d iterations of epochs %d/%d' % (i+1,epoch + 1, epochs))\n",
        "      print('Average recon_error: %.3f' % np.mean(train_res_recon_error[-10:]))\n",
        "      print('Average perplexity: %.3f' % np.mean(train_res_perplexity[-10:]))\n",
        "      print()\n"
      ],
      "metadata": {
        "colab": {
          "base_uri": "https://localhost:8080/"
        },
        "id": "XAmo6-h4YZ00",
        "outputId": "c2534df1-f7cc-4204-9578-362ec78dc90f"
      },
      "execution_count": 35,
      "outputs": [
        {
          "output_type": "stream",
          "name": "stderr",
          "text": [
            "  0%|          | 1/1000 [00:00<01:51,  8.97it/s]"
          ]
        },
        {
          "output_type": "stream",
          "name": "stdout",
          "text": [
            "10 iterations of epochs 1/1000\n",
            "Average recon_error: 16.401\n",
            "Average perplexity: 10.961\n",
            "\n",
            "20 iterations of epochs 1/1000\n",
            "Average recon_error: 15.868\n",
            "Average perplexity: 10.489\n",
            "\n",
            "30 iterations of epochs 1/1000\n",
            "Average recon_error: 18.371\n",
            "Average perplexity: 11.478\n",
            "\n",
            "10 iterations of epochs 2/1000\n",
            "Average recon_error: 16.792\n",
            "Average perplexity: 11.539\n",
            "\n",
            "20 iterations of epochs 2/1000\n",
            "Average recon_error: 17.045\n",
            "Average perplexity: 11.049\n",
            "\n",
            "30 iterations of epochs 2/1000\n",
            "Average recon_error: 17.532\n",
            "Average perplexity: 10.321\n",
            "\n"
          ]
        },
        {
          "output_type": "stream",
          "name": "stderr",
          "text": [
            "  0%|          | 3/1000 [00:00<01:59,  8.35it/s]"
          ]
        },
        {
          "output_type": "stream",
          "name": "stdout",
          "text": [
            "10 iterations of epochs 3/1000\n",
            "Average recon_error: 17.291\n",
            "Average perplexity: 10.858\n",
            "\n",
            "20 iterations of epochs 3/1000\n",
            "Average recon_error: 17.992\n",
            "Average perplexity: 10.838\n",
            "\n",
            "30 iterations of epochs 3/1000\n",
            "Average recon_error: 17.462\n",
            "Average perplexity: 11.348\n",
            "\n",
            "10 iterations of epochs 4/1000\n",
            "Average recon_error: 18.502\n",
            "Average perplexity: 11.272\n",
            "\n",
            "20 iterations of epochs 4/1000\n",
            "Average recon_error: 17.138\n",
            "Average perplexity: 11.149\n",
            "\n",
            "30 iterations of epochs 4/1000\n",
            "Average recon_error: 18.485\n",
            "Average perplexity: 10.764\n",
            "\n"
          ]
        },
        {
          "output_type": "stream",
          "name": "stderr",
          "text": [
            "  0%|          | 5/1000 [00:00<02:05,  7.95it/s]"
          ]
        },
        {
          "output_type": "stream",
          "name": "stdout",
          "text": [
            "10 iterations of epochs 5/1000\n",
            "Average recon_error: 16.708\n",
            "Average perplexity: 11.185\n",
            "\n",
            "20 iterations of epochs 5/1000\n",
            "Average recon_error: 18.019\n",
            "Average perplexity: 11.015\n",
            "\n",
            "30 iterations of epochs 5/1000\n",
            "Average recon_error: 18.043\n",
            "Average perplexity: 11.005\n",
            "\n",
            "10 iterations of epochs 6/1000\n",
            "Average recon_error: 17.068\n",
            "Average perplexity: 11.372\n",
            "\n",
            "20 iterations of epochs 6/1000\n",
            "Average recon_error: 18.470\n",
            "Average perplexity: 11.677\n",
            "\n",
            "30 iterations of epochs 6/1000\n",
            "Average recon_error: 16.768\n",
            "Average perplexity: 10.593\n",
            "\n"
          ]
        },
        {
          "output_type": "stream",
          "name": "stderr",
          "text": [
            "  1%|          | 7/1000 [00:00<02:04,  7.96it/s]"
          ]
        },
        {
          "output_type": "stream",
          "name": "stdout",
          "text": [
            "10 iterations of epochs 7/1000\n",
            "Average recon_error: 16.535\n",
            "Average perplexity: 11.164\n",
            "\n",
            "20 iterations of epochs 7/1000\n",
            "Average recon_error: 19.080\n",
            "Average perplexity: 11.387\n",
            "\n",
            "30 iterations of epochs 7/1000\n",
            "Average recon_error: 16.760\n",
            "Average perplexity: 10.514\n",
            "\n",
            "10 iterations of epochs 8/1000\n",
            "Average recon_error: 16.807\n",
            "Average perplexity: 11.905\n",
            "\n",
            "20 iterations of epochs 8/1000\n",
            "Average recon_error: 16.279\n",
            "Average perplexity: 10.962\n",
            "\n",
            "30 iterations of epochs 8/1000\n",
            "Average recon_error: 18.080\n",
            "Average perplexity: 11.464\n",
            "\n"
          ]
        },
        {
          "output_type": "stream",
          "name": "stderr",
          "text": [
            "  1%|          | 9/1000 [00:01<02:02,  8.09it/s]"
          ]
        },
        {
          "output_type": "stream",
          "name": "stdout",
          "text": [
            "10 iterations of epochs 9/1000\n",
            "Average recon_error: 17.969\n",
            "Average perplexity: 11.130\n",
            "\n",
            "20 iterations of epochs 9/1000\n",
            "Average recon_error: 16.722\n",
            "Average perplexity: 11.636\n",
            "\n",
            "30 iterations of epochs 9/1000\n",
            "Average recon_error: 17.173\n",
            "Average perplexity: 12.372\n",
            "\n",
            "10 iterations of epochs 10/1000\n",
            "Average recon_error: 16.955\n",
            "Average perplexity: 11.364\n",
            "\n",
            "20 iterations of epochs 10/1000\n",
            "Average recon_error: 17.986\n",
            "Average perplexity: 11.469\n",
            "\n",
            "30 iterations of epochs 10/1000\n",
            "Average recon_error: 18.419\n",
            "Average perplexity: 11.276\n",
            "\n"
          ]
        },
        {
          "output_type": "stream",
          "name": "stderr",
          "text": [
            "  1%|          | 11/1000 [00:01<02:01,  8.12it/s]"
          ]
        },
        {
          "output_type": "stream",
          "name": "stdout",
          "text": [
            "10 iterations of epochs 11/1000\n",
            "Average recon_error: 17.750\n",
            "Average perplexity: 11.223\n",
            "\n",
            "20 iterations of epochs 11/1000\n",
            "Average recon_error: 16.501\n",
            "Average perplexity: 11.711\n",
            "\n",
            "30 iterations of epochs 11/1000\n",
            "Average recon_error: 15.810\n",
            "Average perplexity: 10.595\n",
            "\n",
            "10 iterations of epochs 12/1000\n",
            "Average recon_error: 19.424\n",
            "Average perplexity: 10.886\n",
            "\n",
            "20 iterations of epochs 12/1000\n",
            "Average recon_error: 16.860\n",
            "Average perplexity: 11.580\n",
            "\n",
            "30 iterations of epochs 12/1000\n",
            "Average recon_error: 17.844\n",
            "Average perplexity: 10.889\n",
            "\n"
          ]
        },
        {
          "output_type": "stream",
          "name": "stderr",
          "text": [
            "  1%|▏         | 13/1000 [00:01<02:01,  8.10it/s]"
          ]
        },
        {
          "output_type": "stream",
          "name": "stdout",
          "text": [
            "10 iterations of epochs 13/1000\n",
            "Average recon_error: 17.147\n",
            "Average perplexity: 10.917\n",
            "\n",
            "20 iterations of epochs 13/1000\n",
            "Average recon_error: 16.868\n",
            "Average perplexity: 10.880\n",
            "\n",
            "30 iterations of epochs 13/1000\n",
            "Average recon_error: 17.739\n",
            "Average perplexity: 11.534\n",
            "\n",
            "10 iterations of epochs 14/1000\n",
            "Average recon_error: 19.797\n",
            "Average perplexity: 11.171\n",
            "\n",
            "20 iterations of epochs 14/1000\n",
            "Average recon_error: 16.376\n",
            "Average perplexity: 12.274\n",
            "\n",
            "30 iterations of epochs 14/1000\n",
            "Average recon_error: 15.947\n",
            "Average perplexity: 10.496\n",
            "\n"
          ]
        },
        {
          "output_type": "stream",
          "name": "stderr",
          "text": [
            "  2%|▏         | 15/1000 [00:01<02:00,  8.14it/s]"
          ]
        },
        {
          "output_type": "stream",
          "name": "stdout",
          "text": [
            "10 iterations of epochs 15/1000\n",
            "Average recon_error: 18.463\n",
            "Average perplexity: 11.631\n",
            "\n",
            "20 iterations of epochs 15/1000\n",
            "Average recon_error: 17.934\n",
            "Average perplexity: 11.241\n",
            "\n",
            "30 iterations of epochs 15/1000\n",
            "Average recon_error: 18.131\n",
            "Average perplexity: 11.151\n",
            "\n",
            "10 iterations of epochs 16/1000\n",
            "Average recon_error: 17.959\n",
            "Average perplexity: 11.485\n",
            "\n",
            "20 iterations of epochs 16/1000\n",
            "Average recon_error: 16.336\n",
            "Average perplexity: 10.520\n",
            "\n",
            "30 iterations of epochs 16/1000\n",
            "Average recon_error: 17.266\n",
            "Average perplexity: 11.232\n",
            "\n"
          ]
        },
        {
          "output_type": "stream",
          "name": "stderr",
          "text": [
            "  2%|▏         | 17/1000 [00:02<01:58,  8.29it/s]"
          ]
        },
        {
          "output_type": "stream",
          "name": "stdout",
          "text": [
            "10 iterations of epochs 17/1000\n",
            "Average recon_error: 17.225\n",
            "Average perplexity: 10.827\n",
            "\n",
            "20 iterations of epochs 17/1000\n",
            "Average recon_error: 16.926\n",
            "Average perplexity: 11.278\n",
            "\n",
            "30 iterations of epochs 17/1000\n",
            "Average recon_error: 16.641\n",
            "Average perplexity: 11.103\n",
            "\n",
            "10 iterations of epochs 18/1000\n",
            "Average recon_error: 17.327\n",
            "Average perplexity: 11.468\n",
            "\n",
            "20 iterations of epochs 18/1000\n",
            "Average recon_error: 16.872\n",
            "Average perplexity: 11.758\n",
            "\n",
            "30 iterations of epochs 18/1000\n",
            "Average recon_error: 17.303\n",
            "Average perplexity: 12.081\n",
            "\n"
          ]
        },
        {
          "output_type": "stream",
          "name": "stderr",
          "text": [
            "  2%|▏         | 19/1000 [00:02<02:00,  8.11it/s]"
          ]
        },
        {
          "output_type": "stream",
          "name": "stdout",
          "text": [
            "10 iterations of epochs 19/1000\n",
            "Average recon_error: 15.709\n",
            "Average perplexity: 10.256\n",
            "\n",
            "20 iterations of epochs 19/1000\n",
            "Average recon_error: 16.117\n",
            "Average perplexity: 10.416\n",
            "\n",
            "30 iterations of epochs 19/1000\n",
            "Average recon_error: 16.931\n",
            "Average perplexity: 12.075\n",
            "\n",
            "10 iterations of epochs 20/1000\n",
            "Average recon_error: 18.469\n",
            "Average perplexity: 11.513\n",
            "\n",
            "20 iterations of epochs 20/1000\n",
            "Average recon_error: 18.957\n",
            "Average perplexity: 11.260\n",
            "\n",
            "30 iterations of epochs 20/1000\n",
            "Average recon_error: 16.481\n",
            "Average perplexity: 11.829\n",
            "\n"
          ]
        },
        {
          "output_type": "stream",
          "name": "stderr",
          "text": [
            "  2%|▏         | 21/1000 [00:02<02:03,  7.96it/s]"
          ]
        },
        {
          "output_type": "stream",
          "name": "stdout",
          "text": [
            "10 iterations of epochs 21/1000\n",
            "Average recon_error: 18.310\n",
            "Average perplexity: 11.068\n",
            "\n",
            "20 iterations of epochs 21/1000\n",
            "Average recon_error: 16.040\n",
            "Average perplexity: 11.354\n",
            "\n",
            "30 iterations of epochs 21/1000\n",
            "Average recon_error: 16.331\n",
            "Average perplexity: 11.489\n",
            "\n",
            "10 iterations of epochs 22/1000\n",
            "Average recon_error: 17.867\n",
            "Average perplexity: 11.301\n",
            "\n",
            "20 iterations of epochs 22/1000\n",
            "Average recon_error: 18.755\n",
            "Average perplexity: 11.191\n",
            "\n",
            "30 iterations of epochs 22/1000\n",
            "Average recon_error: 17.813\n",
            "Average perplexity: 11.156\n",
            "\n"
          ]
        },
        {
          "output_type": "stream",
          "name": "stderr",
          "text": [
            "  2%|▏         | 23/1000 [00:02<02:01,  8.05it/s]"
          ]
        },
        {
          "output_type": "stream",
          "name": "stdout",
          "text": [
            "10 iterations of epochs 23/1000\n",
            "Average recon_error: 17.434\n",
            "Average perplexity: 10.948\n",
            "\n",
            "20 iterations of epochs 23/1000\n",
            "Average recon_error: 17.127\n",
            "Average perplexity: 10.798\n",
            "\n",
            "30 iterations of epochs 23/1000\n",
            "Average recon_error: 16.030\n",
            "Average perplexity: 11.265\n",
            "\n",
            "10 iterations of epochs 24/1000\n",
            "Average recon_error: 18.750\n",
            "Average perplexity: 10.442\n",
            "\n",
            "20 iterations of epochs 24/1000\n",
            "Average recon_error: 16.482\n",
            "Average perplexity: 11.568\n",
            "\n",
            "30 iterations of epochs 24/1000\n",
            "Average recon_error: 17.576\n",
            "Average perplexity: 10.826\n",
            "\n"
          ]
        },
        {
          "output_type": "stream",
          "name": "stderr",
          "text": [
            "  2%|▎         | 25/1000 [00:03<01:59,  8.13it/s]"
          ]
        },
        {
          "output_type": "stream",
          "name": "stdout",
          "text": [
            "10 iterations of epochs 25/1000\n",
            "Average recon_error: 18.399\n",
            "Average perplexity: 11.088\n",
            "\n",
            "20 iterations of epochs 25/1000\n",
            "Average recon_error: 17.193\n",
            "Average perplexity: 11.369\n",
            "\n",
            "30 iterations of epochs 25/1000\n",
            "Average recon_error: 16.252\n",
            "Average perplexity: 10.658\n",
            "\n",
            "10 iterations of epochs 26/1000\n",
            "Average recon_error: 16.260\n",
            "Average perplexity: 11.287\n",
            "\n",
            "20 iterations of epochs 26/1000\n",
            "Average recon_error: 20.184\n",
            "Average perplexity: 11.594\n",
            "\n",
            "30 iterations of epochs 26/1000\n",
            "Average recon_error: 18.068\n",
            "Average perplexity: 11.073\n",
            "\n"
          ]
        },
        {
          "output_type": "stream",
          "name": "stderr",
          "text": [
            "  3%|▎         | 28/1000 [00:03<01:56,  8.37it/s]"
          ]
        },
        {
          "output_type": "stream",
          "name": "stdout",
          "text": [
            "10 iterations of epochs 27/1000\n",
            "Average recon_error: 15.441\n",
            "Average perplexity: 10.575\n",
            "\n",
            "20 iterations of epochs 27/1000\n",
            "Average recon_error: 18.200\n",
            "Average perplexity: 11.842\n",
            "\n",
            "30 iterations of epochs 27/1000\n",
            "Average recon_error: 19.351\n",
            "Average perplexity: 11.264\n",
            "\n",
            "10 iterations of epochs 28/1000\n",
            "Average recon_error: 16.552\n",
            "Average perplexity: 12.418\n",
            "\n",
            "20 iterations of epochs 28/1000\n",
            "Average recon_error: 18.794\n",
            "Average perplexity: 10.406\n",
            "\n",
            "30 iterations of epochs 28/1000\n",
            "Average recon_error: 16.274\n",
            "Average perplexity: 11.902\n",
            "\n"
          ]
        },
        {
          "output_type": "stream",
          "name": "stderr",
          "text": [
            "\r  3%|▎         | 29/1000 [00:03<01:58,  8.21it/s]"
          ]
        },
        {
          "output_type": "stream",
          "name": "stdout",
          "text": [
            "10 iterations of epochs 29/1000\n",
            "Average recon_error: 18.175\n",
            "Average perplexity: 11.363\n",
            "\n",
            "20 iterations of epochs 29/1000\n",
            "Average recon_error: 16.937\n",
            "Average perplexity: 10.816\n",
            "\n",
            "30 iterations of epochs 29/1000\n",
            "Average recon_error: 18.218\n",
            "Average perplexity: 11.887\n",
            "\n",
            "10 iterations of epochs 30/1000\n",
            "Average recon_error: 18.093\n",
            "Average perplexity: 11.616\n",
            "\n",
            "20 iterations of epochs 30/1000\n",
            "Average recon_error: 17.195\n",
            "Average perplexity: 10.675\n",
            "\n",
            "30 iterations of epochs 30/1000\n",
            "Average recon_error: 17.514\n",
            "Average perplexity: 11.041\n",
            "\n"
          ]
        },
        {
          "output_type": "stream",
          "name": "stderr",
          "text": [
            "  3%|▎         | 31/1000 [00:03<01:57,  8.26it/s]"
          ]
        },
        {
          "output_type": "stream",
          "name": "stdout",
          "text": [
            "10 iterations of epochs 31/1000\n",
            "Average recon_error: 19.113\n",
            "Average perplexity: 10.278\n",
            "\n",
            "20 iterations of epochs 31/1000\n",
            "Average recon_error: 16.481\n",
            "Average perplexity: 11.415\n",
            "\n",
            "30 iterations of epochs 31/1000\n",
            "Average recon_error: 15.973\n",
            "Average perplexity: 11.562\n",
            "\n",
            "10 iterations of epochs 32/1000\n",
            "Average recon_error: 17.703\n",
            "Average perplexity: 10.989\n",
            "\n",
            "20 iterations of epochs 32/1000\n",
            "Average recon_error: 16.149\n",
            "Average perplexity: 11.024\n",
            "\n",
            "30 iterations of epochs 32/1000\n",
            "Average recon_error: 17.495\n",
            "Average perplexity: 11.443\n",
            "\n"
          ]
        },
        {
          "output_type": "stream",
          "name": "stderr",
          "text": [
            "  3%|▎         | 33/1000 [00:04<01:56,  8.28it/s]"
          ]
        },
        {
          "output_type": "stream",
          "name": "stdout",
          "text": [
            "10 iterations of epochs 33/1000\n",
            "Average recon_error: 16.334\n",
            "Average perplexity: 11.770\n",
            "\n",
            "20 iterations of epochs 33/1000\n",
            "Average recon_error: 17.804\n",
            "Average perplexity: 11.086\n",
            "\n",
            "30 iterations of epochs 33/1000\n",
            "Average recon_error: 18.170\n",
            "Average perplexity: 10.751\n",
            "\n",
            "10 iterations of epochs 34/1000\n",
            "Average recon_error: 16.595\n",
            "Average perplexity: 11.045\n",
            "\n",
            "20 iterations of epochs 34/1000\n",
            "Average recon_error: 17.333\n",
            "Average perplexity: 11.678\n",
            "\n",
            "30 iterations of epochs 34/1000\n",
            "Average recon_error: 16.795\n",
            "Average perplexity: 10.429\n",
            "\n"
          ]
        },
        {
          "output_type": "stream",
          "name": "stderr",
          "text": [
            "  4%|▎         | 35/1000 [00:04<01:57,  8.21it/s]"
          ]
        },
        {
          "output_type": "stream",
          "name": "stdout",
          "text": [
            "10 iterations of epochs 35/1000\n",
            "Average recon_error: 16.982\n",
            "Average perplexity: 10.363\n",
            "\n",
            "20 iterations of epochs 35/1000\n",
            "Average recon_error: 18.510\n",
            "Average perplexity: 11.724\n",
            "\n",
            "30 iterations of epochs 35/1000\n",
            "Average recon_error: 17.677\n",
            "Average perplexity: 11.153\n",
            "\n",
            "10 iterations of epochs 36/1000\n",
            "Average recon_error: 17.242\n",
            "Average perplexity: 11.546\n",
            "\n",
            "20 iterations of epochs 36/1000\n",
            "Average recon_error: 16.159\n",
            "Average perplexity: 10.629\n",
            "\n",
            "30 iterations of epochs 36/1000\n",
            "Average recon_error: 19.988\n",
            "Average perplexity: 11.572\n",
            "\n"
          ]
        },
        {
          "output_type": "stream",
          "name": "stderr",
          "text": [
            "  4%|▎         | 37/1000 [00:04<02:01,  7.93it/s]"
          ]
        },
        {
          "output_type": "stream",
          "name": "stdout",
          "text": [
            "10 iterations of epochs 37/1000\n",
            "Average recon_error: 17.058\n",
            "Average perplexity: 11.102\n",
            "\n",
            "20 iterations of epochs 37/1000\n",
            "Average recon_error: 18.790\n",
            "Average perplexity: 10.415\n",
            "\n",
            "30 iterations of epochs 37/1000\n",
            "Average recon_error: 17.276\n",
            "Average perplexity: 10.934\n",
            "\n",
            "10 iterations of epochs 38/1000\n",
            "Average recon_error: 18.422\n",
            "Average perplexity: 11.488\n",
            "\n",
            "20 iterations of epochs 38/1000\n",
            "Average recon_error: 18.881\n",
            "Average perplexity: 11.148\n",
            "\n",
            "30 iterations of epochs 38/1000\n",
            "Average recon_error: 16.624\n",
            "Average perplexity: 10.878\n",
            "\n"
          ]
        },
        {
          "output_type": "stream",
          "name": "stderr",
          "text": [
            "  4%|▍         | 39/1000 [00:04<02:02,  7.87it/s]"
          ]
        },
        {
          "output_type": "stream",
          "name": "stdout",
          "text": [
            "10 iterations of epochs 39/1000\n",
            "Average recon_error: 17.987\n",
            "Average perplexity: 11.511\n",
            "\n",
            "20 iterations of epochs 39/1000\n",
            "Average recon_error: 15.432\n",
            "Average perplexity: 11.361\n",
            "\n",
            "30 iterations of epochs 39/1000\n",
            "Average recon_error: 16.062\n",
            "Average perplexity: 12.055\n",
            "\n",
            "10 iterations of epochs 40/1000\n",
            "Average recon_error: 17.651\n",
            "Average perplexity: 10.746\n",
            "\n",
            "20 iterations of epochs 40/1000\n",
            "Average recon_error: 17.169\n",
            "Average perplexity: 11.047\n",
            "\n",
            "30 iterations of epochs 40/1000\n",
            "Average recon_error: 17.214\n",
            "Average perplexity: 12.463\n",
            "\n"
          ]
        },
        {
          "output_type": "stream",
          "name": "stderr",
          "text": [
            "  4%|▍         | 41/1000 [00:05<02:00,  7.98it/s]"
          ]
        },
        {
          "output_type": "stream",
          "name": "stdout",
          "text": [
            "10 iterations of epochs 41/1000\n",
            "Average recon_error: 17.879\n",
            "Average perplexity: 11.781\n",
            "\n",
            "20 iterations of epochs 41/1000\n",
            "Average recon_error: 16.524\n",
            "Average perplexity: 11.117\n",
            "\n",
            "30 iterations of epochs 41/1000\n",
            "Average recon_error: 16.670\n",
            "Average perplexity: 11.414\n",
            "\n",
            "10 iterations of epochs 42/1000\n",
            "Average recon_error: 17.213\n",
            "Average perplexity: 10.885\n",
            "\n",
            "20 iterations of epochs 42/1000\n",
            "Average recon_error: 15.464\n",
            "Average perplexity: 11.347\n",
            "\n",
            "30 iterations of epochs 42/1000\n",
            "Average recon_error: 18.695\n",
            "Average perplexity: 11.827\n",
            "\n"
          ]
        },
        {
          "output_type": "stream",
          "name": "stderr",
          "text": [
            "  4%|▍         | 43/1000 [00:05<02:04,  7.71it/s]"
          ]
        },
        {
          "output_type": "stream",
          "name": "stdout",
          "text": [
            "10 iterations of epochs 43/1000\n",
            "Average recon_error: 16.109\n",
            "Average perplexity: 10.714\n",
            "\n",
            "20 iterations of epochs 43/1000\n",
            "Average recon_error: 17.116\n",
            "Average perplexity: 10.895\n",
            "\n",
            "30 iterations of epochs 43/1000\n",
            "Average recon_error: 17.222\n",
            "Average perplexity: 10.630\n",
            "\n",
            "10 iterations of epochs 44/1000\n",
            "Average recon_error: 17.847\n",
            "Average perplexity: 11.515\n",
            "\n",
            "20 iterations of epochs 44/1000\n",
            "Average recon_error: 16.257\n",
            "Average perplexity: 10.868\n",
            "\n",
            "30 iterations of epochs 44/1000\n",
            "Average recon_error: 16.965\n",
            "Average perplexity: 10.855\n",
            "\n"
          ]
        },
        {
          "output_type": "stream",
          "name": "stderr",
          "text": [
            "  4%|▍         | 45/1000 [00:05<02:06,  7.56it/s]"
          ]
        },
        {
          "output_type": "stream",
          "name": "stdout",
          "text": [
            "10 iterations of epochs 45/1000\n",
            "Average recon_error: 15.303\n",
            "Average perplexity: 11.312\n",
            "\n",
            "20 iterations of epochs 45/1000\n",
            "Average recon_error: 19.343\n",
            "Average perplexity: 10.623\n",
            "\n",
            "30 iterations of epochs 45/1000\n",
            "Average recon_error: 17.178\n",
            "Average perplexity: 11.637\n",
            "\n",
            "10 iterations of epochs 46/1000\n",
            "Average recon_error: 17.919\n",
            "Average perplexity: 11.244\n",
            "\n",
            "20 iterations of epochs 46/1000\n",
            "Average recon_error: 17.774\n",
            "Average perplexity: 10.906\n",
            "\n"
          ]
        },
        {
          "output_type": "stream",
          "name": "stderr",
          "text": [
            "  5%|▍         | 47/1000 [00:05<02:05,  7.61it/s]"
          ]
        },
        {
          "output_type": "stream",
          "name": "stdout",
          "text": [
            "30 iterations of epochs 46/1000\n",
            "Average recon_error: 17.513\n",
            "Average perplexity: 10.424\n",
            "\n",
            "10 iterations of epochs 47/1000\n",
            "Average recon_error: 18.950\n",
            "Average perplexity: 11.126\n",
            "\n",
            "20 iterations of epochs 47/1000\n",
            "Average recon_error: 17.964\n",
            "Average perplexity: 10.861\n",
            "\n",
            "30 iterations of epochs 47/1000\n",
            "Average recon_error: 18.204\n",
            "Average perplexity: 10.553\n",
            "\n",
            "10 iterations of epochs 48/1000\n",
            "Average recon_error: 17.989\n",
            "Average perplexity: 11.328\n",
            "\n"
          ]
        },
        {
          "output_type": "stream",
          "name": "stderr",
          "text": [
            "  5%|▍         | 49/1000 [00:06<01:59,  7.99it/s]"
          ]
        },
        {
          "output_type": "stream",
          "name": "stdout",
          "text": [
            "20 iterations of epochs 48/1000\n",
            "Average recon_error: 17.759\n",
            "Average perplexity: 10.882\n",
            "\n",
            "30 iterations of epochs 48/1000\n",
            "Average recon_error: 16.778\n",
            "Average perplexity: 10.846\n",
            "\n",
            "10 iterations of epochs 49/1000\n",
            "Average recon_error: 18.436\n",
            "Average perplexity: 10.907\n",
            "\n",
            "20 iterations of epochs 49/1000\n",
            "Average recon_error: 16.068\n",
            "Average perplexity: 11.240\n",
            "\n",
            "30 iterations of epochs 49/1000\n",
            "Average recon_error: 16.444\n",
            "Average perplexity: 11.489\n",
            "\n"
          ]
        },
        {
          "output_type": "stream",
          "name": "stderr",
          "text": [
            "\r  5%|▌         | 50/1000 [00:06<01:59,  7.95it/s]"
          ]
        },
        {
          "output_type": "stream",
          "name": "stdout",
          "text": [
            "10 iterations of epochs 50/1000\n",
            "Average recon_error: 17.701\n",
            "Average perplexity: 11.933\n",
            "\n",
            "20 iterations of epochs 50/1000\n",
            "Average recon_error: 17.422\n",
            "Average perplexity: 10.730\n",
            "\n",
            "30 iterations of epochs 50/1000\n",
            "Average recon_error: 15.565\n",
            "Average perplexity: 11.058\n",
            "\n",
            "10 iterations of epochs 51/1000\n",
            "Average recon_error: 16.615\n",
            "Average perplexity: 10.934\n",
            "\n",
            "20 iterations of epochs 51/1000\n",
            "Average recon_error: 17.813\n",
            "Average perplexity: 10.551\n",
            "\n",
            "30 iterations of epochs 51/1000\n",
            "Average recon_error: 18.499\n",
            "Average perplexity: 11.994\n",
            "\n"
          ]
        },
        {
          "output_type": "stream",
          "name": "stderr",
          "text": [
            "  5%|▌         | 52/1000 [00:06<01:56,  8.13it/s]"
          ]
        },
        {
          "output_type": "stream",
          "name": "stdout",
          "text": [
            "10 iterations of epochs 52/1000\n",
            "Average recon_error: 16.881\n",
            "Average perplexity: 11.771\n",
            "\n",
            "20 iterations of epochs 52/1000\n",
            "Average recon_error: 17.310\n",
            "Average perplexity: 11.526\n",
            "\n",
            "30 iterations of epochs 52/1000\n",
            "Average recon_error: 17.162\n",
            "Average perplexity: 11.460\n",
            "\n",
            "10 iterations of epochs 53/1000\n",
            "Average recon_error: 17.904\n",
            "Average perplexity: 11.251\n",
            "\n",
            "20 iterations of epochs 53/1000\n",
            "Average recon_error: 17.669\n",
            "Average perplexity: 11.255\n",
            "\n",
            "30 iterations of epochs 53/1000\n",
            "Average recon_error: 17.567\n",
            "Average perplexity: 11.080\n",
            "\n"
          ]
        },
        {
          "output_type": "stream",
          "name": "stderr",
          "text": [
            "  5%|▌         | 54/1000 [00:06<01:58,  7.99it/s]"
          ]
        },
        {
          "output_type": "stream",
          "name": "stdout",
          "text": [
            "10 iterations of epochs 54/1000\n",
            "Average recon_error: 15.863\n",
            "Average perplexity: 11.056\n",
            "\n",
            "20 iterations of epochs 54/1000\n",
            "Average recon_error: 17.143\n",
            "Average perplexity: 11.465\n",
            "\n",
            "30 iterations of epochs 54/1000\n",
            "Average recon_error: 19.002\n",
            "Average perplexity: 11.211\n",
            "\n",
            "10 iterations of epochs 55/1000\n",
            "Average recon_error: 17.964\n",
            "Average perplexity: 11.267\n",
            "\n",
            "20 iterations of epochs 55/1000\n",
            "Average recon_error: 18.689\n",
            "Average perplexity: 11.557\n",
            "\n",
            "30 iterations of epochs 55/1000\n",
            "Average recon_error: 17.697\n",
            "Average perplexity: 11.494\n",
            "\n"
          ]
        },
        {
          "output_type": "stream",
          "name": "stderr",
          "text": [
            "  6%|▌         | 56/1000 [00:06<01:56,  8.08it/s]"
          ]
        },
        {
          "output_type": "stream",
          "name": "stdout",
          "text": [
            "10 iterations of epochs 56/1000\n",
            "Average recon_error: 17.144\n",
            "Average perplexity: 11.890\n",
            "\n",
            "20 iterations of epochs 56/1000\n",
            "Average recon_error: 16.564\n",
            "Average perplexity: 11.456\n",
            "\n",
            "30 iterations of epochs 56/1000\n",
            "Average recon_error: 18.136\n",
            "Average perplexity: 11.128\n",
            "\n",
            "10 iterations of epochs 57/1000\n",
            "Average recon_error: 17.196\n",
            "Average perplexity: 10.976\n",
            "\n",
            "20 iterations of epochs 57/1000\n",
            "Average recon_error: 17.097\n",
            "Average perplexity: 11.651\n",
            "\n",
            "30 iterations of epochs 57/1000\n",
            "Average recon_error: 18.530\n",
            "Average perplexity: 11.817\n",
            "\n"
          ]
        },
        {
          "output_type": "stream",
          "name": "stderr",
          "text": [
            "  6%|▌         | 58/1000 [00:07<01:53,  8.27it/s]"
          ]
        },
        {
          "output_type": "stream",
          "name": "stdout",
          "text": [
            "10 iterations of epochs 58/1000\n",
            "Average recon_error: 17.939\n",
            "Average perplexity: 11.045\n",
            "\n",
            "20 iterations of epochs 58/1000\n",
            "Average recon_error: 17.681\n",
            "Average perplexity: 10.264\n",
            "\n",
            "30 iterations of epochs 58/1000\n",
            "Average recon_error: 17.198\n",
            "Average perplexity: 11.169\n",
            "\n",
            "10 iterations of epochs 59/1000\n",
            "Average recon_error: 18.201\n",
            "Average perplexity: 11.993\n",
            "\n",
            "20 iterations of epochs 59/1000\n",
            "Average recon_error: 18.119\n",
            "Average perplexity: 11.471\n",
            "\n",
            "30 iterations of epochs 59/1000\n",
            "Average recon_error: 18.210\n",
            "Average perplexity: 11.903\n",
            "\n"
          ]
        },
        {
          "output_type": "stream",
          "name": "stderr",
          "text": [
            "  6%|▌         | 60/1000 [00:07<01:56,  8.07it/s]"
          ]
        },
        {
          "output_type": "stream",
          "name": "stdout",
          "text": [
            "10 iterations of epochs 60/1000\n",
            "Average recon_error: 17.904\n",
            "Average perplexity: 10.856\n",
            "\n",
            "20 iterations of epochs 60/1000\n",
            "Average recon_error: 17.647\n",
            "Average perplexity: 10.424\n",
            "\n",
            "30 iterations of epochs 60/1000\n",
            "Average recon_error: 18.801\n",
            "Average perplexity: 11.110\n",
            "\n",
            "10 iterations of epochs 61/1000\n",
            "Average recon_error: 16.947\n",
            "Average perplexity: 11.752\n",
            "\n",
            "20 iterations of epochs 61/1000\n",
            "Average recon_error: 15.950\n",
            "Average perplexity: 11.680\n",
            "\n",
            "30 iterations of epochs 61/1000\n",
            "Average recon_error: 16.440\n",
            "Average perplexity: 11.737\n",
            "\n"
          ]
        },
        {
          "output_type": "stream",
          "name": "stderr",
          "text": [
            "  6%|▌         | 62/1000 [00:07<02:00,  7.81it/s]"
          ]
        },
        {
          "output_type": "stream",
          "name": "stdout",
          "text": [
            "10 iterations of epochs 62/1000\n",
            "Average recon_error: 17.448\n",
            "Average perplexity: 10.747\n",
            "\n",
            "20 iterations of epochs 62/1000\n",
            "Average recon_error: 18.441\n",
            "Average perplexity: 11.086\n",
            "\n",
            "30 iterations of epochs 62/1000\n",
            "Average recon_error: 16.874\n",
            "Average perplexity: 11.775\n",
            "\n",
            "10 iterations of epochs 63/1000\n",
            "Average recon_error: 16.819\n",
            "Average perplexity: 11.437\n",
            "\n",
            "20 iterations of epochs 63/1000\n",
            "Average recon_error: 16.011\n",
            "Average perplexity: 11.492\n",
            "\n",
            "30 iterations of epochs 63/1000\n",
            "Average recon_error: 16.983\n",
            "Average perplexity: 11.404\n",
            "\n"
          ]
        },
        {
          "output_type": "stream",
          "name": "stderr",
          "text": [
            "  6%|▋         | 64/1000 [00:07<01:58,  7.88it/s]"
          ]
        },
        {
          "output_type": "stream",
          "name": "stdout",
          "text": [
            "10 iterations of epochs 64/1000\n",
            "Average recon_error: 16.600\n",
            "Average perplexity: 10.901\n",
            "\n",
            "20 iterations of epochs 64/1000\n",
            "Average recon_error: 17.383\n",
            "Average perplexity: 11.290\n",
            "\n",
            "30 iterations of epochs 64/1000\n",
            "Average recon_error: 18.061\n",
            "Average perplexity: 11.093\n",
            "\n",
            "10 iterations of epochs 65/1000\n",
            "Average recon_error: 15.607\n",
            "Average perplexity: 11.725\n",
            "\n",
            "20 iterations of epochs 65/1000\n",
            "Average recon_error: 17.143\n",
            "Average perplexity: 11.168\n",
            "\n",
            "30 iterations of epochs 65/1000\n",
            "Average recon_error: 18.365\n",
            "Average perplexity: 11.087\n",
            "\n"
          ]
        },
        {
          "output_type": "stream",
          "name": "stderr",
          "text": [
            "  7%|▋         | 66/1000 [00:08<01:57,  7.93it/s]"
          ]
        },
        {
          "output_type": "stream",
          "name": "stdout",
          "text": [
            "10 iterations of epochs 66/1000\n",
            "Average recon_error: 16.607\n",
            "Average perplexity: 10.536\n",
            "\n",
            "20 iterations of epochs 66/1000\n",
            "Average recon_error: 16.763\n",
            "Average perplexity: 11.629\n",
            "\n",
            "30 iterations of epochs 66/1000\n",
            "Average recon_error: 17.951\n",
            "Average perplexity: 10.690\n",
            "\n",
            "10 iterations of epochs 67/1000\n",
            "Average recon_error: 16.606\n",
            "Average perplexity: 11.249\n",
            "\n",
            "20 iterations of epochs 67/1000\n",
            "Average recon_error: 16.139\n",
            "Average perplexity: 11.268\n",
            "\n",
            "30 iterations of epochs 67/1000\n",
            "Average recon_error: 18.105\n",
            "Average perplexity: 10.555\n",
            "\n"
          ]
        },
        {
          "output_type": "stream",
          "name": "stderr",
          "text": [
            "  7%|▋         | 68/1000 [00:08<01:57,  7.94it/s]"
          ]
        },
        {
          "output_type": "stream",
          "name": "stdout",
          "text": [
            "10 iterations of epochs 68/1000\n",
            "Average recon_error: 16.341\n",
            "Average perplexity: 11.044\n",
            "\n",
            "20 iterations of epochs 68/1000\n",
            "Average recon_error: 16.855\n",
            "Average perplexity: 11.620\n",
            "\n",
            "30 iterations of epochs 68/1000\n",
            "Average recon_error: 17.315\n",
            "Average perplexity: 10.988\n",
            "\n",
            "10 iterations of epochs 69/1000\n",
            "Average recon_error: 17.746\n",
            "Average perplexity: 10.393\n",
            "\n",
            "20 iterations of epochs 69/1000\n",
            "Average recon_error: 17.957\n",
            "Average perplexity: 11.007\n",
            "\n",
            "30 iterations of epochs 69/1000\n",
            "Average recon_error: 17.924\n",
            "Average perplexity: 10.845\n",
            "\n"
          ]
        },
        {
          "output_type": "stream",
          "name": "stderr",
          "text": [
            "  7%|▋         | 70/1000 [00:08<02:18,  6.71it/s]"
          ]
        },
        {
          "output_type": "stream",
          "name": "stdout",
          "text": [
            "10 iterations of epochs 70/1000\n",
            "Average recon_error: 16.580\n",
            "Average perplexity: 11.651\n",
            "\n",
            "20 iterations of epochs 70/1000\n",
            "Average recon_error: 17.363\n",
            "Average perplexity: 10.922\n",
            "\n",
            "30 iterations of epochs 70/1000\n",
            "Average recon_error: 15.877\n",
            "Average perplexity: 11.415\n",
            "\n",
            "10 iterations of epochs 71/1000\n",
            "Average recon_error: 17.738\n",
            "Average perplexity: 10.921\n",
            "\n"
          ]
        },
        {
          "output_type": "stream",
          "name": "stderr",
          "text": [
            "\r  7%|▋         | 71/1000 [00:08<02:24,  6.42it/s]"
          ]
        },
        {
          "output_type": "stream",
          "name": "stdout",
          "text": [
            "20 iterations of epochs 71/1000\n",
            "Average recon_error: 16.735\n",
            "Average perplexity: 10.382\n",
            "\n",
            "30 iterations of epochs 71/1000\n",
            "Average recon_error: 16.105\n",
            "Average perplexity: 11.716\n",
            "\n",
            "10 iterations of epochs 72/1000\n",
            "Average recon_error: 17.865\n",
            "Average perplexity: 10.654\n",
            "\n",
            "20 iterations of epochs 72/1000\n",
            "Average recon_error: 17.929\n",
            "Average perplexity: 10.703\n",
            "\n"
          ]
        },
        {
          "output_type": "stream",
          "name": "stderr",
          "text": [
            "\r  7%|▋         | 72/1000 [00:09<02:29,  6.21it/s]"
          ]
        },
        {
          "output_type": "stream",
          "name": "stdout",
          "text": [
            "30 iterations of epochs 72/1000\n",
            "Average recon_error: 16.719\n",
            "Average perplexity: 10.818\n",
            "\n",
            "10 iterations of epochs 73/1000\n",
            "Average recon_error: 16.889\n",
            "Average perplexity: 11.512\n",
            "\n",
            "20 iterations of epochs 73/1000\n",
            "Average recon_error: 16.505\n",
            "Average perplexity: 11.175\n",
            "\n",
            "30 iterations of epochs 73/1000\n",
            "Average recon_error: 17.668\n",
            "Average perplexity: 10.330\n",
            "\n"
          ]
        },
        {
          "output_type": "stream",
          "name": "stderr",
          "text": [
            "  7%|▋         | 74/1000 [00:09<02:32,  6.05it/s]"
          ]
        },
        {
          "output_type": "stream",
          "name": "stdout",
          "text": [
            "10 iterations of epochs 74/1000\n",
            "Average recon_error: 18.920\n",
            "Average perplexity: 11.763\n",
            "\n",
            "20 iterations of epochs 74/1000\n",
            "Average recon_error: 18.620\n",
            "Average perplexity: 11.285\n",
            "\n",
            "30 iterations of epochs 74/1000\n",
            "Average recon_error: 17.131\n",
            "Average perplexity: 10.594\n",
            "\n",
            "10 iterations of epochs 75/1000\n",
            "Average recon_error: 17.043\n",
            "Average perplexity: 10.810\n",
            "\n"
          ]
        },
        {
          "output_type": "stream",
          "name": "stderr",
          "text": [
            "\r  8%|▊         | 75/1000 [00:09<02:34,  5.98it/s]"
          ]
        },
        {
          "output_type": "stream",
          "name": "stdout",
          "text": [
            "20 iterations of epochs 75/1000\n",
            "Average recon_error: 18.167\n",
            "Average perplexity: 10.562\n",
            "\n",
            "30 iterations of epochs 75/1000\n",
            "Average recon_error: 17.850\n",
            "Average perplexity: 12.319\n",
            "\n",
            "10 iterations of epochs 76/1000\n",
            "Average recon_error: 16.474\n",
            "Average perplexity: 11.672\n",
            "\n",
            "20 iterations of epochs 76/1000\n",
            "Average recon_error: 16.839\n",
            "Average perplexity: 10.693\n",
            "\n"
          ]
        },
        {
          "output_type": "stream",
          "name": "stderr",
          "text": [
            "  8%|▊         | 77/1000 [00:10<02:36,  5.91it/s]"
          ]
        },
        {
          "output_type": "stream",
          "name": "stdout",
          "text": [
            "30 iterations of epochs 76/1000\n",
            "Average recon_error: 17.503\n",
            "Average perplexity: 11.725\n",
            "\n",
            "10 iterations of epochs 77/1000\n",
            "Average recon_error: 16.942\n",
            "Average perplexity: 12.286\n",
            "\n",
            "20 iterations of epochs 77/1000\n",
            "Average recon_error: 18.557\n",
            "Average perplexity: 12.390\n",
            "\n",
            "30 iterations of epochs 77/1000\n",
            "Average recon_error: 15.882\n",
            "Average perplexity: 10.546\n",
            "\n"
          ]
        },
        {
          "output_type": "stream",
          "name": "stderr",
          "text": [
            "\r  8%|▊         | 78/1000 [00:10<02:37,  5.86it/s]"
          ]
        },
        {
          "output_type": "stream",
          "name": "stdout",
          "text": [
            "10 iterations of epochs 78/1000\n",
            "Average recon_error: 17.881\n",
            "Average perplexity: 10.929\n",
            "\n",
            "20 iterations of epochs 78/1000\n",
            "Average recon_error: 17.484\n",
            "Average perplexity: 10.988\n",
            "\n",
            "30 iterations of epochs 78/1000\n",
            "Average recon_error: 16.308\n",
            "Average perplexity: 11.235\n",
            "\n",
            "10 iterations of epochs 79/1000\n",
            "Average recon_error: 17.333\n",
            "Average perplexity: 10.905\n",
            "\n"
          ]
        },
        {
          "output_type": "stream",
          "name": "stderr",
          "text": [
            "\r  8%|▊         | 79/1000 [00:10<02:38,  5.81it/s]"
          ]
        },
        {
          "output_type": "stream",
          "name": "stdout",
          "text": [
            "20 iterations of epochs 79/1000\n",
            "Average recon_error: 18.706\n",
            "Average perplexity: 11.976\n",
            "\n",
            "30 iterations of epochs 79/1000\n",
            "Average recon_error: 17.965\n",
            "Average perplexity: 10.314\n",
            "\n",
            "10 iterations of epochs 80/1000\n",
            "Average recon_error: 16.046\n",
            "Average perplexity: 10.271\n",
            "\n",
            "20 iterations of epochs 80/1000\n",
            "Average recon_error: 16.867\n",
            "Average perplexity: 11.011\n",
            "\n"
          ]
        },
        {
          "output_type": "stream",
          "name": "stderr",
          "text": [
            "\r  8%|▊         | 80/1000 [00:10<02:39,  5.78it/s]"
          ]
        },
        {
          "output_type": "stream",
          "name": "stdout",
          "text": [
            "30 iterations of epochs 80/1000\n",
            "Average recon_error: 17.949\n",
            "Average perplexity: 12.212\n",
            "\n",
            "10 iterations of epochs 81/1000\n",
            "Average recon_error: 17.161\n",
            "Average perplexity: 11.496\n",
            "\n",
            "20 iterations of epochs 81/1000\n",
            "Average recon_error: 18.471\n",
            "Average perplexity: 10.894\n",
            "\n",
            "30 iterations of epochs 81/1000\n",
            "Average recon_error: 17.348\n",
            "Average perplexity: 10.571\n",
            "\n"
          ]
        },
        {
          "output_type": "stream",
          "name": "stderr",
          "text": [
            "  8%|▊         | 82/1000 [00:10<02:47,  5.48it/s]"
          ]
        },
        {
          "output_type": "stream",
          "name": "stdout",
          "text": [
            "10 iterations of epochs 82/1000\n",
            "Average recon_error: 17.208\n",
            "Average perplexity: 10.951\n",
            "\n",
            "20 iterations of epochs 82/1000\n",
            "Average recon_error: 15.785\n",
            "Average perplexity: 11.198\n",
            "\n",
            "30 iterations of epochs 82/1000\n",
            "Average recon_error: 18.099\n",
            "Average perplexity: 11.969\n",
            "\n",
            "10 iterations of epochs 83/1000\n",
            "Average recon_error: 17.527\n",
            "Average perplexity: 11.364\n",
            "\n"
          ]
        },
        {
          "output_type": "stream",
          "name": "stderr",
          "text": [
            "\r  8%|▊         | 83/1000 [00:11<02:47,  5.48it/s]"
          ]
        },
        {
          "output_type": "stream",
          "name": "stdout",
          "text": [
            "20 iterations of epochs 83/1000\n",
            "Average recon_error: 17.665\n",
            "Average perplexity: 12.256\n",
            "\n",
            "30 iterations of epochs 83/1000\n",
            "Average recon_error: 17.575\n",
            "Average perplexity: 11.364\n",
            "\n",
            "10 iterations of epochs 84/1000\n",
            "Average recon_error: 17.404\n",
            "Average perplexity: 10.518\n",
            "\n",
            "20 iterations of epochs 84/1000\n",
            "Average recon_error: 16.999\n",
            "Average perplexity: 10.569\n",
            "\n"
          ]
        },
        {
          "output_type": "stream",
          "name": "stderr",
          "text": [
            "  8%|▊         | 85/1000 [00:11<02:24,  6.33it/s]"
          ]
        },
        {
          "output_type": "stream",
          "name": "stdout",
          "text": [
            "30 iterations of epochs 84/1000\n",
            "Average recon_error: 16.936\n",
            "Average perplexity: 11.551\n",
            "\n",
            "10 iterations of epochs 85/1000\n",
            "Average recon_error: 17.698\n",
            "Average perplexity: 11.380\n",
            "\n",
            "20 iterations of epochs 85/1000\n",
            "Average recon_error: 16.928\n",
            "Average perplexity: 11.766\n",
            "\n",
            "30 iterations of epochs 85/1000\n",
            "Average recon_error: 15.750\n",
            "Average perplexity: 11.070\n",
            "\n",
            "10 iterations of epochs 86/1000\n",
            "Average recon_error: 18.589\n",
            "Average perplexity: 10.342\n",
            "\n"
          ]
        },
        {
          "output_type": "stream",
          "name": "stderr",
          "text": [
            "  9%|▊         | 87/1000 [00:11<02:07,  7.14it/s]"
          ]
        },
        {
          "output_type": "stream",
          "name": "stdout",
          "text": [
            "20 iterations of epochs 86/1000\n",
            "Average recon_error: 17.278\n",
            "Average perplexity: 11.851\n",
            "\n",
            "30 iterations of epochs 86/1000\n",
            "Average recon_error: 17.314\n",
            "Average perplexity: 11.375\n",
            "\n",
            "10 iterations of epochs 87/1000\n",
            "Average recon_error: 17.295\n",
            "Average perplexity: 11.146\n",
            "\n",
            "20 iterations of epochs 87/1000\n",
            "Average recon_error: 18.576\n",
            "Average perplexity: 10.533\n",
            "\n",
            "30 iterations of epochs 87/1000\n",
            "Average recon_error: 16.698\n",
            "Average perplexity: 11.607\n",
            "\n"
          ]
        },
        {
          "output_type": "stream",
          "name": "stderr",
          "text": [
            "\r  9%|▉         | 88/1000 [00:11<02:04,  7.31it/s]"
          ]
        },
        {
          "output_type": "stream",
          "name": "stdout",
          "text": [
            "10 iterations of epochs 88/1000\n",
            "Average recon_error: 18.266\n",
            "Average perplexity: 10.869\n",
            "\n",
            "20 iterations of epochs 88/1000\n",
            "Average recon_error: 18.277\n",
            "Average perplexity: 11.669\n",
            "\n",
            "30 iterations of epochs 88/1000\n",
            "Average recon_error: 18.406\n",
            "Average perplexity: 11.278\n",
            "\n",
            "10 iterations of epochs 89/1000\n",
            "Average recon_error: 16.945\n",
            "Average perplexity: 12.427\n",
            "\n",
            "20 iterations of epochs 89/1000\n",
            "Average recon_error: 16.800\n",
            "Average perplexity: 11.260\n",
            "\n",
            "30 iterations of epochs 89/1000\n",
            "Average recon_error: 16.067\n",
            "Average perplexity: 10.726\n",
            "\n"
          ]
        },
        {
          "output_type": "stream",
          "name": "stderr",
          "text": [
            "  9%|▉         | 90/1000 [00:12<02:00,  7.57it/s]"
          ]
        },
        {
          "output_type": "stream",
          "name": "stdout",
          "text": [
            "10 iterations of epochs 90/1000\n",
            "Average recon_error: 15.669\n",
            "Average perplexity: 11.106\n",
            "\n",
            "20 iterations of epochs 90/1000\n",
            "Average recon_error: 15.499\n",
            "Average perplexity: 10.480\n",
            "\n",
            "30 iterations of epochs 90/1000\n",
            "Average recon_error: 17.792\n",
            "Average perplexity: 10.674\n",
            "\n",
            "10 iterations of epochs 91/1000\n",
            "Average recon_error: 17.277\n",
            "Average perplexity: 11.741\n",
            "\n",
            "20 iterations of epochs 91/1000\n",
            "Average recon_error: 17.390\n",
            "Average perplexity: 10.989\n",
            "\n",
            "30 iterations of epochs 91/1000\n",
            "Average recon_error: 16.274\n",
            "Average perplexity: 11.156\n",
            "\n"
          ]
        },
        {
          "output_type": "stream",
          "name": "stderr",
          "text": [
            "  9%|▉         | 92/1000 [00:12<01:54,  7.96it/s]"
          ]
        },
        {
          "output_type": "stream",
          "name": "stdout",
          "text": [
            "10 iterations of epochs 92/1000\n",
            "Average recon_error: 17.943\n",
            "Average perplexity: 11.387\n",
            "\n",
            "20 iterations of epochs 92/1000\n",
            "Average recon_error: 16.422\n",
            "Average perplexity: 11.323\n",
            "\n",
            "30 iterations of epochs 92/1000\n",
            "Average recon_error: 18.620\n",
            "Average perplexity: 11.279\n",
            "\n",
            "10 iterations of epochs 93/1000\n",
            "Average recon_error: 18.463\n",
            "Average perplexity: 11.179\n",
            "\n",
            "20 iterations of epochs 93/1000\n",
            "Average recon_error: 18.052\n",
            "Average perplexity: 11.197\n",
            "\n",
            "30 iterations of epochs 93/1000\n",
            "Average recon_error: 17.168\n",
            "Average perplexity: 11.866\n",
            "\n"
          ]
        },
        {
          "output_type": "stream",
          "name": "stderr",
          "text": [
            "  9%|▉         | 94/1000 [00:12<01:52,  8.07it/s]"
          ]
        },
        {
          "output_type": "stream",
          "name": "stdout",
          "text": [
            "10 iterations of epochs 94/1000\n",
            "Average recon_error: 15.534\n",
            "Average perplexity: 11.356\n",
            "\n",
            "20 iterations of epochs 94/1000\n",
            "Average recon_error: 17.735\n",
            "Average perplexity: 10.847\n",
            "\n",
            "30 iterations of epochs 94/1000\n",
            "Average recon_error: 16.613\n",
            "Average perplexity: 11.226\n",
            "\n",
            "10 iterations of epochs 95/1000\n",
            "Average recon_error: 16.433\n",
            "Average perplexity: 11.970\n",
            "\n",
            "20 iterations of epochs 95/1000\n",
            "Average recon_error: 17.658\n",
            "Average perplexity: 11.373\n",
            "\n",
            "30 iterations of epochs 95/1000\n",
            "Average recon_error: 17.077\n",
            "Average perplexity: 10.953\n",
            "\n"
          ]
        },
        {
          "output_type": "stream",
          "name": "stderr",
          "text": [
            " 10%|▉         | 96/1000 [00:12<01:51,  8.07it/s]"
          ]
        },
        {
          "output_type": "stream",
          "name": "stdout",
          "text": [
            "10 iterations of epochs 96/1000\n",
            "Average recon_error: 17.265\n",
            "Average perplexity: 10.935\n",
            "\n",
            "20 iterations of epochs 96/1000\n",
            "Average recon_error: 17.148\n",
            "Average perplexity: 11.353\n",
            "\n",
            "30 iterations of epochs 96/1000\n",
            "Average recon_error: 18.935\n",
            "Average perplexity: 11.730\n",
            "\n",
            "10 iterations of epochs 97/1000\n",
            "Average recon_error: 17.709\n",
            "Average perplexity: 11.356\n",
            "\n",
            "20 iterations of epochs 97/1000\n",
            "Average recon_error: 16.675\n",
            "Average perplexity: 11.335\n",
            "\n"
          ]
        },
        {
          "output_type": "stream",
          "name": "stderr",
          "text": [
            " 10%|▉         | 98/1000 [00:13<01:54,  7.84it/s]"
          ]
        },
        {
          "output_type": "stream",
          "name": "stdout",
          "text": [
            "30 iterations of epochs 97/1000\n",
            "Average recon_error: 16.761\n",
            "Average perplexity: 11.215\n",
            "\n",
            "10 iterations of epochs 98/1000\n",
            "Average recon_error: 16.505\n",
            "Average perplexity: 11.256\n",
            "\n",
            "20 iterations of epochs 98/1000\n",
            "Average recon_error: 16.419\n",
            "Average perplexity: 11.980\n",
            "\n",
            "30 iterations of epochs 98/1000\n",
            "Average recon_error: 16.879\n",
            "Average perplexity: 10.423\n",
            "\n",
            "10 iterations of epochs 99/1000\n",
            "Average recon_error: 17.490\n",
            "Average perplexity: 12.002\n",
            "\n"
          ]
        },
        {
          "output_type": "stream",
          "name": "stderr",
          "text": [
            " 10%|█         | 100/1000 [00:13<01:52,  7.96it/s]"
          ]
        },
        {
          "output_type": "stream",
          "name": "stdout",
          "text": [
            "20 iterations of epochs 99/1000\n",
            "Average recon_error: 18.717\n",
            "Average perplexity: 11.447\n",
            "\n",
            "30 iterations of epochs 99/1000\n",
            "Average recon_error: 16.748\n",
            "Average perplexity: 11.216\n",
            "\n",
            "10 iterations of epochs 100/1000\n",
            "Average recon_error: 16.724\n",
            "Average perplexity: 10.285\n",
            "\n",
            "20 iterations of epochs 100/1000\n",
            "Average recon_error: 14.899\n",
            "Average perplexity: 12.306\n",
            "\n",
            "30 iterations of epochs 100/1000\n",
            "Average recon_error: 17.208\n",
            "Average perplexity: 11.466\n",
            "\n"
          ]
        },
        {
          "output_type": "stream",
          "name": "stderr",
          "text": [
            "\r 10%|█         | 101/1000 [00:13<01:52,  8.00it/s]"
          ]
        },
        {
          "output_type": "stream",
          "name": "stdout",
          "text": [
            "10 iterations of epochs 101/1000\n",
            "Average recon_error: 16.311\n",
            "Average perplexity: 10.854\n",
            "\n",
            "20 iterations of epochs 101/1000\n",
            "Average recon_error: 17.395\n",
            "Average perplexity: 10.384\n",
            "\n",
            "30 iterations of epochs 101/1000\n",
            "Average recon_error: 18.766\n",
            "Average perplexity: 11.218\n",
            "\n",
            "10 iterations of epochs 102/1000\n",
            "Average recon_error: 16.985\n",
            "Average perplexity: 10.716\n",
            "\n",
            "20 iterations of epochs 102/1000\n",
            "Average recon_error: 17.174\n",
            "Average perplexity: 12.374\n",
            "\n",
            "30 iterations of epochs 102/1000\n",
            "Average recon_error: 17.192\n",
            "Average perplexity: 11.285\n",
            "\n"
          ]
        },
        {
          "output_type": "stream",
          "name": "stderr",
          "text": [
            " 10%|█         | 103/1000 [00:13<01:50,  8.15it/s]"
          ]
        },
        {
          "output_type": "stream",
          "name": "stdout",
          "text": [
            "10 iterations of epochs 103/1000\n",
            "Average recon_error: 15.566\n",
            "Average perplexity: 11.483\n",
            "\n",
            "20 iterations of epochs 103/1000\n",
            "Average recon_error: 17.192\n",
            "Average perplexity: 10.411\n",
            "\n",
            "30 iterations of epochs 103/1000\n",
            "Average recon_error: 20.393\n",
            "Average perplexity: 10.927\n",
            "\n",
            "10 iterations of epochs 104/1000\n",
            "Average recon_error: 17.059\n",
            "Average perplexity: 10.418\n",
            "\n",
            "20 iterations of epochs 104/1000\n",
            "Average recon_error: 18.158\n",
            "Average perplexity: 11.389\n",
            "\n",
            "30 iterations of epochs 104/1000\n",
            "Average recon_error: 16.610\n",
            "Average perplexity: 11.645\n",
            "\n"
          ]
        },
        {
          "output_type": "stream",
          "name": "stderr",
          "text": [
            " 10%|█         | 105/1000 [00:13<01:53,  7.91it/s]"
          ]
        },
        {
          "output_type": "stream",
          "name": "stdout",
          "text": [
            "10 iterations of epochs 105/1000\n",
            "Average recon_error: 16.449\n",
            "Average perplexity: 10.808\n",
            "\n",
            "20 iterations of epochs 105/1000\n",
            "Average recon_error: 17.472\n",
            "Average perplexity: 11.582\n",
            "\n",
            "30 iterations of epochs 105/1000\n",
            "Average recon_error: 16.649\n",
            "Average perplexity: 11.071\n",
            "\n",
            "10 iterations of epochs 106/1000\n",
            "Average recon_error: 16.544\n",
            "Average perplexity: 11.660\n",
            "\n",
            "20 iterations of epochs 106/1000\n",
            "Average recon_error: 18.071\n",
            "Average perplexity: 11.106\n",
            "\n",
            "30 iterations of epochs 106/1000\n",
            "Average recon_error: 16.806\n",
            "Average perplexity: 11.119\n",
            "\n"
          ]
        },
        {
          "output_type": "stream",
          "name": "stderr",
          "text": [
            " 11%|█         | 107/1000 [00:14<01:51,  7.99it/s]"
          ]
        },
        {
          "output_type": "stream",
          "name": "stdout",
          "text": [
            "10 iterations of epochs 107/1000\n",
            "Average recon_error: 17.072\n",
            "Average perplexity: 10.936\n",
            "\n",
            "20 iterations of epochs 107/1000\n",
            "Average recon_error: 17.694\n",
            "Average perplexity: 11.346\n",
            "\n",
            "30 iterations of epochs 107/1000\n",
            "Average recon_error: 17.876\n",
            "Average perplexity: 11.599\n",
            "\n",
            "10 iterations of epochs 108/1000\n",
            "Average recon_error: 17.670\n",
            "Average perplexity: 10.736\n",
            "\n",
            "20 iterations of epochs 108/1000\n",
            "Average recon_error: 17.318\n",
            "Average perplexity: 11.982\n",
            "\n",
            "30 iterations of epochs 108/1000\n",
            "Average recon_error: 17.235\n",
            "Average perplexity: 11.488\n",
            "\n"
          ]
        },
        {
          "output_type": "stream",
          "name": "stderr",
          "text": [
            " 11%|█         | 109/1000 [00:14<01:50,  8.05it/s]"
          ]
        },
        {
          "output_type": "stream",
          "name": "stdout",
          "text": [
            "10 iterations of epochs 109/1000\n",
            "Average recon_error: 18.285\n",
            "Average perplexity: 10.957\n",
            "\n",
            "20 iterations of epochs 109/1000\n",
            "Average recon_error: 17.459\n",
            "Average perplexity: 10.935\n",
            "\n",
            "30 iterations of epochs 109/1000\n",
            "Average recon_error: 16.349\n",
            "Average perplexity: 10.754\n",
            "\n",
            "10 iterations of epochs 110/1000\n",
            "Average recon_error: 16.714\n",
            "Average perplexity: 11.325\n",
            "\n",
            "20 iterations of epochs 110/1000\n",
            "Average recon_error: 16.738\n",
            "Average perplexity: 12.182\n",
            "\n",
            "30 iterations of epochs 110/1000\n",
            "Average recon_error: 17.532\n",
            "Average perplexity: 10.957\n",
            "\n"
          ]
        },
        {
          "output_type": "stream",
          "name": "stderr",
          "text": [
            " 11%|█         | 111/1000 [00:14<01:48,  8.18it/s]"
          ]
        },
        {
          "output_type": "stream",
          "name": "stdout",
          "text": [
            "10 iterations of epochs 111/1000\n",
            "Average recon_error: 16.993\n",
            "Average perplexity: 11.470\n",
            "\n",
            "20 iterations of epochs 111/1000\n",
            "Average recon_error: 17.754\n",
            "Average perplexity: 12.127\n",
            "\n",
            "30 iterations of epochs 111/1000\n",
            "Average recon_error: 16.811\n",
            "Average perplexity: 12.368\n",
            "\n",
            "10 iterations of epochs 112/1000\n",
            "Average recon_error: 16.285\n",
            "Average perplexity: 11.326\n",
            "\n",
            "20 iterations of epochs 112/1000\n",
            "Average recon_error: 17.415\n",
            "Average perplexity: 11.053\n",
            "\n",
            "30 iterations of epochs 112/1000\n",
            "Average recon_error: 18.690\n",
            "Average perplexity: 11.435\n",
            "\n"
          ]
        },
        {
          "output_type": "stream",
          "name": "stderr",
          "text": [
            " 11%|█▏        | 113/1000 [00:14<01:49,  8.07it/s]"
          ]
        },
        {
          "output_type": "stream",
          "name": "stdout",
          "text": [
            "10 iterations of epochs 113/1000\n",
            "Average recon_error: 16.428\n",
            "Average perplexity: 10.386\n",
            "\n",
            "20 iterations of epochs 113/1000\n",
            "Average recon_error: 17.504\n",
            "Average perplexity: 11.513\n",
            "\n",
            "30 iterations of epochs 113/1000\n",
            "Average recon_error: 16.712\n",
            "Average perplexity: 10.414\n",
            "\n",
            "10 iterations of epochs 114/1000\n",
            "Average recon_error: 17.685\n",
            "Average perplexity: 11.993\n",
            "\n",
            "20 iterations of epochs 114/1000\n",
            "Average recon_error: 17.872\n",
            "Average perplexity: 11.143\n",
            "\n",
            "30 iterations of epochs 114/1000\n",
            "Average recon_error: 16.422\n",
            "Average perplexity: 11.023\n",
            "\n"
          ]
        },
        {
          "output_type": "stream",
          "name": "stderr",
          "text": [
            " 12%|█▏        | 115/1000 [00:15<01:52,  7.86it/s]"
          ]
        },
        {
          "output_type": "stream",
          "name": "stdout",
          "text": [
            "10 iterations of epochs 115/1000\n",
            "Average recon_error: 18.129\n",
            "Average perplexity: 11.128\n",
            "\n",
            "20 iterations of epochs 115/1000\n",
            "Average recon_error: 16.042\n",
            "Average perplexity: 11.038\n",
            "\n",
            "30 iterations of epochs 115/1000\n",
            "Average recon_error: 17.040\n",
            "Average perplexity: 10.670\n",
            "\n",
            "10 iterations of epochs 116/1000\n",
            "Average recon_error: 17.208\n",
            "Average perplexity: 11.053\n",
            "\n",
            "20 iterations of epochs 116/1000\n",
            "Average recon_error: 16.610\n",
            "Average perplexity: 11.918\n",
            "\n",
            "30 iterations of epochs 116/1000\n",
            "Average recon_error: 16.850\n",
            "Average perplexity: 10.981\n",
            "\n"
          ]
        },
        {
          "output_type": "stream",
          "name": "stderr",
          "text": [
            " 12%|█▏        | 117/1000 [00:15<01:51,  7.92it/s]"
          ]
        },
        {
          "output_type": "stream",
          "name": "stdout",
          "text": [
            "10 iterations of epochs 117/1000\n",
            "Average recon_error: 17.626\n",
            "Average perplexity: 11.137\n",
            "\n",
            "20 iterations of epochs 117/1000\n",
            "Average recon_error: 17.178\n",
            "Average perplexity: 10.935\n",
            "\n",
            "30 iterations of epochs 117/1000\n",
            "Average recon_error: 18.164\n",
            "Average perplexity: 11.170\n",
            "\n",
            "10 iterations of epochs 118/1000\n",
            "Average recon_error: 16.868\n",
            "Average perplexity: 11.409\n",
            "\n",
            "20 iterations of epochs 118/1000\n",
            "Average recon_error: 16.735\n",
            "Average perplexity: 10.789\n",
            "\n",
            "30 iterations of epochs 118/1000\n",
            "Average recon_error: 17.897\n",
            "Average perplexity: 10.634\n",
            "\n"
          ]
        },
        {
          "output_type": "stream",
          "name": "stderr",
          "text": [
            " 12%|█▏        | 119/1000 [00:15<01:48,  8.15it/s]"
          ]
        },
        {
          "output_type": "stream",
          "name": "stdout",
          "text": [
            "10 iterations of epochs 119/1000\n",
            "Average recon_error: 17.843\n",
            "Average perplexity: 10.949\n",
            "\n",
            "20 iterations of epochs 119/1000\n",
            "Average recon_error: 16.531\n",
            "Average perplexity: 11.227\n",
            "\n",
            "30 iterations of epochs 119/1000\n",
            "Average recon_error: 17.469\n",
            "Average perplexity: 10.515\n",
            "\n",
            "10 iterations of epochs 120/1000\n",
            "Average recon_error: 17.408\n",
            "Average perplexity: 11.168\n",
            "\n",
            "20 iterations of epochs 120/1000\n",
            "Average recon_error: 17.206\n",
            "Average perplexity: 11.170\n",
            "\n",
            "30 iterations of epochs 120/1000\n",
            "Average recon_error: 16.824\n",
            "Average perplexity: 11.631\n",
            "\n"
          ]
        },
        {
          "output_type": "stream",
          "name": "stderr",
          "text": [
            " 12%|█▏        | 121/1000 [00:15<01:48,  8.07it/s]"
          ]
        },
        {
          "output_type": "stream",
          "name": "stdout",
          "text": [
            "10 iterations of epochs 121/1000\n",
            "Average recon_error: 15.151\n",
            "Average perplexity: 11.486\n",
            "\n",
            "20 iterations of epochs 121/1000\n",
            "Average recon_error: 16.916\n",
            "Average perplexity: 10.732\n",
            "\n",
            "30 iterations of epochs 121/1000\n",
            "Average recon_error: 19.696\n",
            "Average perplexity: 10.363\n",
            "\n",
            "10 iterations of epochs 122/1000\n",
            "Average recon_error: 17.065\n",
            "Average perplexity: 10.496\n",
            "\n",
            "20 iterations of epochs 122/1000\n",
            "Average recon_error: 17.163\n",
            "Average perplexity: 11.226\n",
            "\n",
            "30 iterations of epochs 122/1000\n",
            "Average recon_error: 17.452\n",
            "Average perplexity: 10.656\n",
            "\n"
          ]
        },
        {
          "output_type": "stream",
          "name": "stderr",
          "text": [
            " 12%|█▏        | 123/1000 [00:16<01:48,  8.06it/s]"
          ]
        },
        {
          "output_type": "stream",
          "name": "stdout",
          "text": [
            "10 iterations of epochs 123/1000\n",
            "Average recon_error: 16.470\n",
            "Average perplexity: 11.202\n",
            "\n",
            "20 iterations of epochs 123/1000\n",
            "Average recon_error: 16.132\n",
            "Average perplexity: 10.862\n",
            "\n",
            "30 iterations of epochs 123/1000\n",
            "Average recon_error: 17.018\n",
            "Average perplexity: 11.382\n",
            "\n",
            "10 iterations of epochs 124/1000\n",
            "Average recon_error: 17.352\n",
            "Average perplexity: 11.066\n",
            "\n",
            "20 iterations of epochs 124/1000\n",
            "Average recon_error: 19.279\n",
            "Average perplexity: 11.166\n",
            "\n",
            "30 iterations of epochs 124/1000\n",
            "Average recon_error: 18.207\n",
            "Average perplexity: 10.845\n",
            "\n"
          ]
        },
        {
          "output_type": "stream",
          "name": "stderr",
          "text": [
            " 13%|█▎        | 126/1000 [00:16<01:46,  8.24it/s]"
          ]
        },
        {
          "output_type": "stream",
          "name": "stdout",
          "text": [
            "10 iterations of epochs 125/1000\n",
            "Average recon_error: 19.295\n",
            "Average perplexity: 10.659\n",
            "\n",
            "20 iterations of epochs 125/1000\n",
            "Average recon_error: 18.091\n",
            "Average perplexity: 11.600\n",
            "\n",
            "30 iterations of epochs 125/1000\n",
            "Average recon_error: 17.597\n",
            "Average perplexity: 11.154\n",
            "\n",
            "10 iterations of epochs 126/1000\n",
            "Average recon_error: 18.547\n",
            "Average perplexity: 10.976\n",
            "\n",
            "20 iterations of epochs 126/1000\n",
            "Average recon_error: 17.816\n",
            "Average perplexity: 10.798\n",
            "\n",
            "30 iterations of epochs 126/1000\n",
            "Average recon_error: 15.624\n",
            "Average perplexity: 10.961\n",
            "\n"
          ]
        },
        {
          "output_type": "stream",
          "name": "stderr",
          "text": [
            "\r 13%|█▎        | 127/1000 [00:16<01:46,  8.21it/s]"
          ]
        },
        {
          "output_type": "stream",
          "name": "stdout",
          "text": [
            "10 iterations of epochs 127/1000\n",
            "Average recon_error: 17.149\n",
            "Average perplexity: 12.364\n",
            "\n",
            "20 iterations of epochs 127/1000\n",
            "Average recon_error: 18.336\n",
            "Average perplexity: 10.888\n",
            "\n",
            "30 iterations of epochs 127/1000\n",
            "Average recon_error: 19.125\n",
            "Average perplexity: 10.405\n",
            "\n",
            "10 iterations of epochs 128/1000\n",
            "Average recon_error: 17.132\n",
            "Average perplexity: 11.583\n",
            "\n",
            "20 iterations of epochs 128/1000\n",
            "Average recon_error: 19.074\n",
            "Average perplexity: 10.928\n",
            "\n",
            "30 iterations of epochs 128/1000\n",
            "Average recon_error: 17.071\n",
            "Average perplexity: 11.345\n",
            "\n"
          ]
        },
        {
          "output_type": "stream",
          "name": "stderr",
          "text": [
            " 13%|█▎        | 129/1000 [00:16<01:44,  8.31it/s]"
          ]
        },
        {
          "output_type": "stream",
          "name": "stdout",
          "text": [
            "10 iterations of epochs 129/1000\n",
            "Average recon_error: 16.981\n",
            "Average perplexity: 11.485\n",
            "\n",
            "20 iterations of epochs 129/1000\n",
            "Average recon_error: 16.051\n",
            "Average perplexity: 11.128\n",
            "\n",
            "30 iterations of epochs 129/1000\n",
            "Average recon_error: 17.500\n",
            "Average perplexity: 10.897\n",
            "\n",
            "10 iterations of epochs 130/1000\n",
            "Average recon_error: 16.282\n",
            "Average perplexity: 11.488\n",
            "\n",
            "20 iterations of epochs 130/1000\n",
            "Average recon_error: 18.288\n",
            "Average perplexity: 11.338\n",
            "\n",
            "30 iterations of epochs 130/1000\n",
            "Average recon_error: 17.252\n",
            "Average perplexity: 11.556\n",
            "\n"
          ]
        },
        {
          "output_type": "stream",
          "name": "stderr",
          "text": [
            " 13%|█▎        | 131/1000 [00:17<01:44,  8.34it/s]"
          ]
        },
        {
          "output_type": "stream",
          "name": "stdout",
          "text": [
            "10 iterations of epochs 131/1000\n",
            "Average recon_error: 15.353\n",
            "Average perplexity: 10.292\n",
            "\n",
            "20 iterations of epochs 131/1000\n",
            "Average recon_error: 16.384\n",
            "Average perplexity: 10.843\n",
            "\n",
            "30 iterations of epochs 131/1000\n",
            "Average recon_error: 16.001\n",
            "Average perplexity: 11.835\n",
            "\n",
            "10 iterations of epochs 132/1000\n",
            "Average recon_error: 17.122\n",
            "Average perplexity: 11.020\n",
            "\n",
            "20 iterations of epochs 132/1000\n",
            "Average recon_error: 16.521\n",
            "Average perplexity: 11.551\n",
            "\n",
            "30 iterations of epochs 132/1000\n",
            "Average recon_error: 16.940\n",
            "Average perplexity: 11.501\n",
            "\n"
          ]
        },
        {
          "output_type": "stream",
          "name": "stderr",
          "text": [
            " 13%|█▎        | 133/1000 [00:17<01:44,  8.32it/s]"
          ]
        },
        {
          "output_type": "stream",
          "name": "stdout",
          "text": [
            "10 iterations of epochs 133/1000\n",
            "Average recon_error: 15.836\n",
            "Average perplexity: 11.912\n",
            "\n",
            "20 iterations of epochs 133/1000\n",
            "Average recon_error: 16.568\n",
            "Average perplexity: 11.315\n",
            "\n",
            "30 iterations of epochs 133/1000\n",
            "Average recon_error: 19.060\n",
            "Average perplexity: 11.363\n",
            "\n",
            "10 iterations of epochs 134/1000\n",
            "Average recon_error: 16.075\n",
            "Average perplexity: 11.189\n",
            "\n",
            "20 iterations of epochs 134/1000\n",
            "Average recon_error: 18.486\n",
            "Average perplexity: 11.131\n",
            "\n",
            "30 iterations of epochs 134/1000\n",
            "Average recon_error: 17.267\n",
            "Average perplexity: 11.479\n",
            "\n"
          ]
        },
        {
          "output_type": "stream",
          "name": "stderr",
          "text": [
            " 14%|█▎        | 135/1000 [00:17<01:45,  8.17it/s]"
          ]
        },
        {
          "output_type": "stream",
          "name": "stdout",
          "text": [
            "10 iterations of epochs 135/1000\n",
            "Average recon_error: 17.820\n",
            "Average perplexity: 10.824\n",
            "\n",
            "20 iterations of epochs 135/1000\n",
            "Average recon_error: 17.685\n",
            "Average perplexity: 11.248\n",
            "\n",
            "30 iterations of epochs 135/1000\n",
            "Average recon_error: 15.851\n",
            "Average perplexity: 11.479\n",
            "\n",
            "10 iterations of epochs 136/1000\n",
            "Average recon_error: 18.560\n",
            "Average perplexity: 11.061\n",
            "\n",
            "20 iterations of epochs 136/1000\n",
            "Average recon_error: 15.798\n",
            "Average perplexity: 10.688\n",
            "\n",
            "30 iterations of epochs 136/1000\n",
            "Average recon_error: 18.634\n",
            "Average perplexity: 11.565\n",
            "\n"
          ]
        },
        {
          "output_type": "stream",
          "name": "stderr",
          "text": [
            " 14%|█▎        | 137/1000 [00:17<01:48,  7.93it/s]"
          ]
        },
        {
          "output_type": "stream",
          "name": "stdout",
          "text": [
            "10 iterations of epochs 137/1000\n",
            "Average recon_error: 17.844\n",
            "Average perplexity: 11.884\n",
            "\n",
            "20 iterations of epochs 137/1000\n",
            "Average recon_error: 16.886\n",
            "Average perplexity: 11.368\n",
            "\n",
            "30 iterations of epochs 137/1000\n",
            "Average recon_error: 15.590\n",
            "Average perplexity: 11.243\n",
            "\n",
            "10 iterations of epochs 138/1000\n",
            "Average recon_error: 15.776\n",
            "Average perplexity: 11.298\n",
            "\n",
            "20 iterations of epochs 138/1000\n",
            "Average recon_error: 17.451\n",
            "Average perplexity: 10.697\n",
            "\n",
            "30 iterations of epochs 138/1000\n",
            "Average recon_error: 16.864\n",
            "Average perplexity: 11.430\n",
            "\n"
          ]
        },
        {
          "output_type": "stream",
          "name": "stderr",
          "text": [
            " 14%|█▍        | 139/1000 [00:18<01:48,  7.96it/s]"
          ]
        },
        {
          "output_type": "stream",
          "name": "stdout",
          "text": [
            "10 iterations of epochs 139/1000\n",
            "Average recon_error: 16.041\n",
            "Average perplexity: 10.840\n",
            "\n",
            "20 iterations of epochs 139/1000\n",
            "Average recon_error: 19.125\n",
            "Average perplexity: 11.360\n",
            "\n",
            "30 iterations of epochs 139/1000\n",
            "Average recon_error: 16.857\n",
            "Average perplexity: 11.126\n",
            "\n",
            "10 iterations of epochs 140/1000\n",
            "Average recon_error: 15.847\n",
            "Average perplexity: 12.541\n",
            "\n",
            "20 iterations of epochs 140/1000\n",
            "Average recon_error: 17.317\n",
            "Average perplexity: 11.468\n",
            "\n",
            "30 iterations of epochs 140/1000\n",
            "Average recon_error: 17.326\n",
            "Average perplexity: 10.390\n",
            "\n"
          ]
        },
        {
          "output_type": "stream",
          "name": "stderr",
          "text": [
            " 14%|█▍        | 141/1000 [00:18<01:46,  8.06it/s]"
          ]
        },
        {
          "output_type": "stream",
          "name": "stdout",
          "text": [
            "10 iterations of epochs 141/1000\n",
            "Average recon_error: 15.222\n",
            "Average perplexity: 10.962\n",
            "\n",
            "20 iterations of epochs 141/1000\n",
            "Average recon_error: 16.578\n",
            "Average perplexity: 11.325\n",
            "\n",
            "30 iterations of epochs 141/1000\n",
            "Average recon_error: 17.954\n",
            "Average perplexity: 10.911\n",
            "\n",
            "10 iterations of epochs 142/1000\n",
            "Average recon_error: 16.941\n",
            "Average perplexity: 11.356\n",
            "\n",
            "20 iterations of epochs 142/1000\n",
            "Average recon_error: 18.561\n",
            "Average perplexity: 11.155\n",
            "\n",
            "30 iterations of epochs 142/1000\n",
            "Average recon_error: 15.561\n",
            "Average perplexity: 11.687\n",
            "\n"
          ]
        },
        {
          "output_type": "stream",
          "name": "stderr",
          "text": [
            " 14%|█▍        | 143/1000 [00:18<01:45,  8.13it/s]"
          ]
        },
        {
          "output_type": "stream",
          "name": "stdout",
          "text": [
            "10 iterations of epochs 143/1000\n",
            "Average recon_error: 17.936\n",
            "Average perplexity: 10.966\n",
            "\n",
            "20 iterations of epochs 143/1000\n",
            "Average recon_error: 16.574\n",
            "Average perplexity: 12.225\n",
            "\n",
            "30 iterations of epochs 143/1000\n",
            "Average recon_error: 17.928\n",
            "Average perplexity: 9.741\n",
            "\n",
            "10 iterations of epochs 144/1000\n",
            "Average recon_error: 17.510\n",
            "Average perplexity: 11.322\n",
            "\n",
            "20 iterations of epochs 144/1000\n",
            "Average recon_error: 16.724\n",
            "Average perplexity: 12.055\n",
            "\n",
            "30 iterations of epochs 144/1000\n",
            "Average recon_error: 19.443\n",
            "Average perplexity: 11.659\n",
            "\n"
          ]
        },
        {
          "output_type": "stream",
          "name": "stderr",
          "text": [
            " 14%|█▍        | 145/1000 [00:18<01:44,  8.18it/s]"
          ]
        },
        {
          "output_type": "stream",
          "name": "stdout",
          "text": [
            "10 iterations of epochs 145/1000\n",
            "Average recon_error: 16.621\n",
            "Average perplexity: 10.567\n",
            "\n",
            "20 iterations of epochs 145/1000\n",
            "Average recon_error: 17.119\n",
            "Average perplexity: 11.159\n",
            "\n",
            "30 iterations of epochs 145/1000\n",
            "Average recon_error: 16.694\n",
            "Average perplexity: 11.931\n",
            "\n",
            "10 iterations of epochs 146/1000\n",
            "Average recon_error: 17.183\n",
            "Average perplexity: 11.165\n",
            "\n",
            "20 iterations of epochs 146/1000\n",
            "Average recon_error: 17.313\n",
            "Average perplexity: 11.554\n",
            "\n",
            "30 iterations of epochs 146/1000\n",
            "Average recon_error: 15.897\n",
            "Average perplexity: 10.814\n",
            "\n"
          ]
        },
        {
          "output_type": "stream",
          "name": "stderr",
          "text": [
            " 15%|█▍        | 147/1000 [00:19<01:46,  8.03it/s]"
          ]
        },
        {
          "output_type": "stream",
          "name": "stdout",
          "text": [
            "10 iterations of epochs 147/1000\n",
            "Average recon_error: 16.898\n",
            "Average perplexity: 11.083\n",
            "\n",
            "20 iterations of epochs 147/1000\n",
            "Average recon_error: 15.693\n",
            "Average perplexity: 11.367\n",
            "\n",
            "30 iterations of epochs 147/1000\n",
            "Average recon_error: 19.251\n",
            "Average perplexity: 10.419\n",
            "\n",
            "10 iterations of epochs 148/1000\n",
            "Average recon_error: 16.994\n",
            "Average perplexity: 11.585\n",
            "\n",
            "20 iterations of epochs 148/1000\n",
            "Average recon_error: 18.641\n",
            "Average perplexity: 11.672\n",
            "\n",
            "30 iterations of epochs 148/1000\n",
            "Average recon_error: 15.991\n",
            "Average perplexity: 11.605\n",
            "\n"
          ]
        },
        {
          "output_type": "stream",
          "name": "stderr",
          "text": [
            " 15%|█▌        | 150/1000 [00:19<01:42,  8.29it/s]"
          ]
        },
        {
          "output_type": "stream",
          "name": "stdout",
          "text": [
            "10 iterations of epochs 149/1000\n",
            "Average recon_error: 17.412\n",
            "Average perplexity: 10.890\n",
            "\n",
            "20 iterations of epochs 149/1000\n",
            "Average recon_error: 17.425\n",
            "Average perplexity: 11.172\n",
            "\n",
            "30 iterations of epochs 149/1000\n",
            "Average recon_error: 17.103\n",
            "Average perplexity: 11.593\n",
            "\n",
            "10 iterations of epochs 150/1000\n",
            "Average recon_error: 19.205\n",
            "Average perplexity: 11.326\n",
            "\n",
            "20 iterations of epochs 150/1000\n",
            "Average recon_error: 16.918\n",
            "Average perplexity: 10.574\n",
            "\n",
            "30 iterations of epochs 150/1000\n",
            "Average recon_error: 17.944\n",
            "Average perplexity: 10.974\n",
            "\n"
          ]
        },
        {
          "output_type": "stream",
          "name": "stderr",
          "text": [
            "\r 15%|█▌        | 151/1000 [00:19<01:45,  8.05it/s]"
          ]
        },
        {
          "output_type": "stream",
          "name": "stdout",
          "text": [
            "10 iterations of epochs 151/1000\n",
            "Average recon_error: 17.255\n",
            "Average perplexity: 11.525\n",
            "\n",
            "20 iterations of epochs 151/1000\n",
            "Average recon_error: 17.762\n",
            "Average perplexity: 10.974\n",
            "\n",
            "30 iterations of epochs 151/1000\n",
            "Average recon_error: 15.780\n",
            "Average perplexity: 10.451\n",
            "\n",
            "10 iterations of epochs 152/1000\n",
            "Average recon_error: 16.927\n",
            "Average perplexity: 10.743\n",
            "\n",
            "20 iterations of epochs 152/1000\n",
            "Average recon_error: 17.416\n",
            "Average perplexity: 10.475\n",
            "\n",
            "30 iterations of epochs 152/1000\n",
            "Average recon_error: 16.824\n",
            "Average perplexity: 12.032\n",
            "\n"
          ]
        },
        {
          "output_type": "stream",
          "name": "stderr",
          "text": [
            " 15%|█▌        | 153/1000 [00:19<01:43,  8.19it/s]"
          ]
        },
        {
          "output_type": "stream",
          "name": "stdout",
          "text": [
            "10 iterations of epochs 153/1000\n",
            "Average recon_error: 18.252\n",
            "Average perplexity: 10.877\n",
            "\n",
            "20 iterations of epochs 153/1000\n",
            "Average recon_error: 17.243\n",
            "Average perplexity: 10.223\n",
            "\n",
            "30 iterations of epochs 153/1000\n",
            "Average recon_error: 18.197\n",
            "Average perplexity: 10.858\n",
            "\n",
            "10 iterations of epochs 154/1000\n",
            "Average recon_error: 16.570\n",
            "Average perplexity: 11.396\n",
            "\n",
            "20 iterations of epochs 154/1000\n",
            "Average recon_error: 18.686\n",
            "Average perplexity: 10.857\n",
            "\n",
            "30 iterations of epochs 154/1000\n",
            "Average recon_error: 16.724\n",
            "Average perplexity: 11.433\n",
            "\n"
          ]
        },
        {
          "output_type": "stream",
          "name": "stderr",
          "text": [
            " 16%|█▌        | 155/1000 [00:20<01:46,  7.93it/s]"
          ]
        },
        {
          "output_type": "stream",
          "name": "stdout",
          "text": [
            "10 iterations of epochs 155/1000\n",
            "Average recon_error: 17.698\n",
            "Average perplexity: 11.631\n",
            "\n",
            "20 iterations of epochs 155/1000\n",
            "Average recon_error: 17.113\n",
            "Average perplexity: 11.379\n",
            "\n",
            "30 iterations of epochs 155/1000\n",
            "Average recon_error: 18.499\n",
            "Average perplexity: 11.231\n",
            "\n",
            "10 iterations of epochs 156/1000\n",
            "Average recon_error: 17.620\n",
            "Average perplexity: 11.686\n",
            "\n",
            "20 iterations of epochs 156/1000\n",
            "Average recon_error: 15.571\n",
            "Average perplexity: 11.759\n",
            "\n",
            "30 iterations of epochs 156/1000\n",
            "Average recon_error: 18.461\n",
            "Average perplexity: 10.640\n",
            "\n"
          ]
        },
        {
          "output_type": "stream",
          "name": "stderr",
          "text": [
            " 16%|█▌        | 157/1000 [00:20<01:44,  8.08it/s]"
          ]
        },
        {
          "output_type": "stream",
          "name": "stdout",
          "text": [
            "10 iterations of epochs 157/1000\n",
            "Average recon_error: 17.524\n",
            "Average perplexity: 10.660\n",
            "\n",
            "20 iterations of epochs 157/1000\n",
            "Average recon_error: 17.258\n",
            "Average perplexity: 11.111\n",
            "\n",
            "30 iterations of epochs 157/1000\n",
            "Average recon_error: 17.128\n",
            "Average perplexity: 11.786\n",
            "\n",
            "10 iterations of epochs 158/1000\n",
            "Average recon_error: 16.678\n",
            "Average perplexity: 11.401\n",
            "\n",
            "20 iterations of epochs 158/1000\n",
            "Average recon_error: 16.496\n",
            "Average perplexity: 10.725\n",
            "\n",
            "30 iterations of epochs 158/1000\n",
            "Average recon_error: 17.064\n",
            "Average perplexity: 11.299\n",
            "\n"
          ]
        },
        {
          "output_type": "stream",
          "name": "stderr",
          "text": [
            " 16%|█▌        | 159/1000 [00:20<01:45,  7.94it/s]"
          ]
        },
        {
          "output_type": "stream",
          "name": "stdout",
          "text": [
            "10 iterations of epochs 159/1000\n",
            "Average recon_error: 16.498\n",
            "Average perplexity: 10.811\n",
            "\n",
            "20 iterations of epochs 159/1000\n",
            "Average recon_error: 16.461\n",
            "Average perplexity: 11.104\n",
            "\n",
            "30 iterations of epochs 159/1000\n",
            "Average recon_error: 16.469\n",
            "Average perplexity: 11.257\n",
            "\n",
            "10 iterations of epochs 160/1000\n",
            "Average recon_error: 17.339\n",
            "Average perplexity: 10.778\n",
            "\n",
            "20 iterations of epochs 160/1000\n",
            "Average recon_error: 15.899\n",
            "Average perplexity: 11.026\n",
            "\n",
            "30 iterations of epochs 160/1000\n",
            "Average recon_error: 17.863\n",
            "Average perplexity: 11.349\n",
            "\n"
          ]
        },
        {
          "output_type": "stream",
          "name": "stderr",
          "text": [
            " 16%|█▌        | 161/1000 [00:20<01:48,  7.71it/s]"
          ]
        },
        {
          "output_type": "stream",
          "name": "stdout",
          "text": [
            "10 iterations of epochs 161/1000\n",
            "Average recon_error: 18.947\n",
            "Average perplexity: 10.530\n",
            "\n",
            "20 iterations of epochs 161/1000\n",
            "Average recon_error: 17.853\n",
            "Average perplexity: 11.871\n",
            "\n",
            "30 iterations of epochs 161/1000\n",
            "Average recon_error: 17.357\n",
            "Average perplexity: 10.809\n",
            "\n",
            "10 iterations of epochs 162/1000\n",
            "Average recon_error: 17.988\n",
            "Average perplexity: 11.171\n",
            "\n",
            "20 iterations of epochs 162/1000\n",
            "Average recon_error: 16.573\n",
            "Average perplexity: 10.681\n",
            "\n",
            "30 iterations of epochs 162/1000\n",
            "Average recon_error: 16.957\n",
            "Average perplexity: 11.349\n",
            "\n"
          ]
        },
        {
          "output_type": "stream",
          "name": "stderr",
          "text": [
            " 16%|█▋        | 163/1000 [00:21<01:48,  7.75it/s]"
          ]
        },
        {
          "output_type": "stream",
          "name": "stdout",
          "text": [
            "10 iterations of epochs 163/1000\n",
            "Average recon_error: 15.729\n",
            "Average perplexity: 11.338\n",
            "\n",
            "20 iterations of epochs 163/1000\n",
            "Average recon_error: 16.838\n",
            "Average perplexity: 11.049\n",
            "\n",
            "30 iterations of epochs 163/1000\n",
            "Average recon_error: 17.856\n",
            "Average perplexity: 10.734\n",
            "\n",
            "10 iterations of epochs 164/1000\n",
            "Average recon_error: 16.569\n",
            "Average perplexity: 11.405\n",
            "\n",
            "20 iterations of epochs 164/1000\n",
            "Average recon_error: 16.191\n",
            "Average perplexity: 11.141\n",
            "\n"
          ]
        },
        {
          "output_type": "stream",
          "name": "stderr",
          "text": [
            "\r 16%|█▋        | 164/1000 [00:21<01:53,  7.35it/s]"
          ]
        },
        {
          "output_type": "stream",
          "name": "stdout",
          "text": [
            "30 iterations of epochs 164/1000\n",
            "Average recon_error: 16.199\n",
            "Average perplexity: 11.455\n",
            "\n",
            "10 iterations of epochs 165/1000\n",
            "Average recon_error: 17.309\n",
            "Average perplexity: 11.679\n",
            "\n",
            "20 iterations of epochs 165/1000\n",
            "Average recon_error: 17.867\n",
            "Average perplexity: 11.532\n",
            "\n"
          ]
        },
        {
          "output_type": "stream",
          "name": "stderr",
          "text": [
            "\r 16%|█▋        | 165/1000 [00:21<02:10,  6.40it/s]"
          ]
        },
        {
          "output_type": "stream",
          "name": "stdout",
          "text": [
            "30 iterations of epochs 165/1000\n",
            "Average recon_error: 16.991\n",
            "Average perplexity: 11.632\n",
            "\n",
            "10 iterations of epochs 166/1000\n",
            "Average recon_error: 16.837\n",
            "Average perplexity: 11.908\n",
            "\n",
            "20 iterations of epochs 166/1000\n",
            "Average recon_error: 16.483\n",
            "Average perplexity: 10.805\n",
            "\n",
            "30 iterations of epochs 166/1000\n",
            "Average recon_error: 15.441\n",
            "Average perplexity: 12.047\n",
            "\n"
          ]
        },
        {
          "output_type": "stream",
          "name": "stderr",
          "text": [
            " 17%|█▋        | 167/1000 [00:21<02:18,  6.02it/s]"
          ]
        },
        {
          "output_type": "stream",
          "name": "stdout",
          "text": [
            "10 iterations of epochs 167/1000\n",
            "Average recon_error: 16.263\n",
            "Average perplexity: 11.510\n",
            "\n",
            "20 iterations of epochs 167/1000\n",
            "Average recon_error: 16.925\n",
            "Average perplexity: 11.405\n",
            "\n",
            "30 iterations of epochs 167/1000\n",
            "Average recon_error: 16.670\n",
            "Average perplexity: 11.309\n",
            "\n",
            "10 iterations of epochs 168/1000\n",
            "Average recon_error: 15.394\n",
            "Average perplexity: 11.188\n",
            "\n"
          ]
        },
        {
          "output_type": "stream",
          "name": "stderr",
          "text": [
            "\r 17%|█▋        | 168/1000 [00:21<02:20,  5.93it/s]"
          ]
        },
        {
          "output_type": "stream",
          "name": "stdout",
          "text": [
            "20 iterations of epochs 168/1000\n",
            "Average recon_error: 16.968\n",
            "Average perplexity: 11.488\n",
            "\n",
            "30 iterations of epochs 168/1000\n",
            "Average recon_error: 15.843\n",
            "Average perplexity: 11.957\n",
            "\n",
            "10 iterations of epochs 169/1000\n",
            "Average recon_error: 18.116\n",
            "Average perplexity: 11.037\n",
            "\n",
            "20 iterations of epochs 169/1000\n",
            "Average recon_error: 16.057\n",
            "Average perplexity: 11.365\n",
            "\n"
          ]
        },
        {
          "output_type": "stream",
          "name": "stderr",
          "text": [
            "\r 17%|█▋        | 169/1000 [00:22<02:19,  5.96it/s]"
          ]
        },
        {
          "output_type": "stream",
          "name": "stdout",
          "text": [
            "30 iterations of epochs 169/1000\n",
            "Average recon_error: 17.801\n",
            "Average perplexity: 11.571\n",
            "\n",
            "10 iterations of epochs 170/1000\n",
            "Average recon_error: 18.357\n",
            "Average perplexity: 11.389\n",
            "\n",
            "20 iterations of epochs 170/1000\n",
            "Average recon_error: 16.427\n",
            "Average perplexity: 10.496\n",
            "\n",
            "30 iterations of epochs 170/1000\n",
            "Average recon_error: 17.300\n",
            "Average perplexity: 10.730\n",
            "\n"
          ]
        },
        {
          "output_type": "stream",
          "name": "stderr",
          "text": [
            " 17%|█▋        | 171/1000 [00:22<02:20,  5.89it/s]"
          ]
        },
        {
          "output_type": "stream",
          "name": "stdout",
          "text": [
            "10 iterations of epochs 171/1000\n",
            "Average recon_error: 17.141\n",
            "Average perplexity: 10.920\n",
            "\n",
            "20 iterations of epochs 171/1000\n",
            "Average recon_error: 15.883\n",
            "Average perplexity: 11.574\n",
            "\n",
            "30 iterations of epochs 171/1000\n",
            "Average recon_error: 16.393\n",
            "Average perplexity: 12.171\n",
            "\n",
            "10 iterations of epochs 172/1000\n",
            "Average recon_error: 17.121\n",
            "Average perplexity: 11.174\n",
            "\n"
          ]
        },
        {
          "output_type": "stream",
          "name": "stderr",
          "text": [
            "\r 17%|█▋        | 172/1000 [00:22<02:22,  5.80it/s]"
          ]
        },
        {
          "output_type": "stream",
          "name": "stdout",
          "text": [
            "20 iterations of epochs 172/1000\n",
            "Average recon_error: 16.318\n",
            "Average perplexity: 10.731\n",
            "\n",
            "30 iterations of epochs 172/1000\n",
            "Average recon_error: 16.720\n",
            "Average perplexity: 12.617\n",
            "\n",
            "10 iterations of epochs 173/1000\n",
            "Average recon_error: 18.167\n",
            "Average perplexity: 11.719\n",
            "\n",
            "20 iterations of epochs 173/1000\n",
            "Average recon_error: 17.543\n",
            "Average perplexity: 11.782\n",
            "\n"
          ]
        },
        {
          "output_type": "stream",
          "name": "stderr",
          "text": [
            "\r 17%|█▋        | 173/1000 [00:22<02:26,  5.63it/s]"
          ]
        },
        {
          "output_type": "stream",
          "name": "stdout",
          "text": [
            "30 iterations of epochs 173/1000\n",
            "Average recon_error: 15.392\n",
            "Average perplexity: 11.360\n",
            "\n",
            "10 iterations of epochs 174/1000\n",
            "Average recon_error: 16.747\n",
            "Average perplexity: 11.928\n",
            "\n",
            "20 iterations of epochs 174/1000\n",
            "Average recon_error: 17.265\n",
            "Average perplexity: 11.706\n",
            "\n",
            "30 iterations of epochs 174/1000\n",
            "Average recon_error: 16.809\n",
            "Average perplexity: 11.238\n",
            "\n"
          ]
        },
        {
          "output_type": "stream",
          "name": "stderr",
          "text": [
            " 18%|█▊        | 175/1000 [00:23<02:25,  5.66it/s]"
          ]
        },
        {
          "output_type": "stream",
          "name": "stdout",
          "text": [
            "10 iterations of epochs 175/1000\n",
            "Average recon_error: 16.181\n",
            "Average perplexity: 10.436\n",
            "\n",
            "20 iterations of epochs 175/1000\n",
            "Average recon_error: 16.156\n",
            "Average perplexity: 11.157\n",
            "\n",
            "30 iterations of epochs 175/1000\n",
            "Average recon_error: 17.404\n",
            "Average perplexity: 11.591\n",
            "\n",
            "10 iterations of epochs 176/1000\n",
            "Average recon_error: 16.948\n",
            "Average perplexity: 10.543\n",
            "\n"
          ]
        },
        {
          "output_type": "stream",
          "name": "stderr",
          "text": [
            "\r 18%|█▊        | 176/1000 [00:23<02:28,  5.55it/s]"
          ]
        },
        {
          "output_type": "stream",
          "name": "stdout",
          "text": [
            "20 iterations of epochs 176/1000\n",
            "Average recon_error: 16.041\n",
            "Average perplexity: 12.027\n",
            "\n",
            "30 iterations of epochs 176/1000\n",
            "Average recon_error: 16.236\n",
            "Average perplexity: 10.890\n",
            "\n",
            "10 iterations of epochs 177/1000\n",
            "Average recon_error: 17.215\n",
            "Average perplexity: 11.467\n",
            "\n",
            "20 iterations of epochs 177/1000\n",
            "Average recon_error: 15.972\n",
            "Average perplexity: 9.985\n",
            "\n"
          ]
        },
        {
          "output_type": "stream",
          "name": "stderr",
          "text": [
            "\r 18%|█▊        | 177/1000 [00:23<02:33,  5.36it/s]"
          ]
        },
        {
          "output_type": "stream",
          "name": "stdout",
          "text": [
            "30 iterations of epochs 177/1000\n",
            "Average recon_error: 17.780\n",
            "Average perplexity: 10.789\n",
            "\n",
            "10 iterations of epochs 178/1000\n",
            "Average recon_error: 17.012\n",
            "Average perplexity: 11.223\n",
            "\n",
            "20 iterations of epochs 178/1000\n",
            "Average recon_error: 17.504\n",
            "Average perplexity: 10.991\n",
            "\n"
          ]
        },
        {
          "output_type": "stream",
          "name": "stderr",
          "text": [
            " 18%|█▊        | 179/1000 [00:23<02:18,  5.93it/s]"
          ]
        },
        {
          "output_type": "stream",
          "name": "stdout",
          "text": [
            "30 iterations of epochs 178/1000\n",
            "Average recon_error: 16.358\n",
            "Average perplexity: 11.684\n",
            "\n",
            "10 iterations of epochs 179/1000\n",
            "Average recon_error: 17.742\n",
            "Average perplexity: 11.403\n",
            "\n",
            "20 iterations of epochs 179/1000\n",
            "Average recon_error: 19.015\n",
            "Average perplexity: 10.615\n",
            "\n",
            "30 iterations of epochs 179/1000\n",
            "Average recon_error: 17.852\n",
            "Average perplexity: 11.123\n",
            "\n",
            "10 iterations of epochs 180/1000\n",
            "Average recon_error: 19.186\n",
            "Average perplexity: 11.741\n",
            "\n"
          ]
        },
        {
          "output_type": "stream",
          "name": "stderr",
          "text": [
            " 18%|█▊        | 181/1000 [00:24<01:58,  6.93it/s]"
          ]
        },
        {
          "output_type": "stream",
          "name": "stdout",
          "text": [
            "20 iterations of epochs 180/1000\n",
            "Average recon_error: 16.138\n",
            "Average perplexity: 11.509\n",
            "\n",
            "30 iterations of epochs 180/1000\n",
            "Average recon_error: 17.992\n",
            "Average perplexity: 10.899\n",
            "\n",
            "10 iterations of epochs 181/1000\n",
            "Average recon_error: 17.427\n",
            "Average perplexity: 11.462\n",
            "\n",
            "20 iterations of epochs 181/1000\n",
            "Average recon_error: 16.473\n",
            "Average perplexity: 11.236\n",
            "\n",
            "30 iterations of epochs 181/1000\n",
            "Average recon_error: 17.815\n",
            "Average perplexity: 10.702\n",
            "\n"
          ]
        },
        {
          "output_type": "stream",
          "name": "stderr",
          "text": [
            "\r 18%|█▊        | 182/1000 [00:24<01:55,  7.11it/s]"
          ]
        },
        {
          "output_type": "stream",
          "name": "stdout",
          "text": [
            "10 iterations of epochs 182/1000\n",
            "Average recon_error: 18.106\n",
            "Average perplexity: 11.052\n",
            "\n",
            "20 iterations of epochs 182/1000\n",
            "Average recon_error: 16.366\n",
            "Average perplexity: 11.413\n",
            "\n",
            "30 iterations of epochs 182/1000\n",
            "Average recon_error: 17.345\n",
            "Average perplexity: 11.350\n",
            "\n",
            "10 iterations of epochs 183/1000\n",
            "Average recon_error: 17.550\n",
            "Average perplexity: 11.393\n",
            "\n",
            "20 iterations of epochs 183/1000\n",
            "Average recon_error: 15.632\n",
            "Average perplexity: 11.937\n",
            "\n",
            "30 iterations of epochs 183/1000\n",
            "Average recon_error: 15.381\n",
            "Average perplexity: 11.846\n",
            "\n"
          ]
        },
        {
          "output_type": "stream",
          "name": "stderr",
          "text": [
            " 18%|█▊        | 184/1000 [00:24<01:45,  7.70it/s]"
          ]
        },
        {
          "output_type": "stream",
          "name": "stdout",
          "text": [
            "10 iterations of epochs 184/1000\n",
            "Average recon_error: 17.289\n",
            "Average perplexity: 11.374\n",
            "\n",
            "20 iterations of epochs 184/1000\n",
            "Average recon_error: 16.269\n",
            "Average perplexity: 11.463\n",
            "\n",
            "30 iterations of epochs 184/1000\n",
            "Average recon_error: 17.676\n",
            "Average perplexity: 11.376\n",
            "\n",
            "10 iterations of epochs 185/1000\n",
            "Average recon_error: 16.478\n",
            "Average perplexity: 11.160\n",
            "\n",
            "20 iterations of epochs 185/1000\n",
            "Average recon_error: 16.217\n",
            "Average perplexity: 11.135\n",
            "\n",
            "30 iterations of epochs 185/1000\n",
            "Average recon_error: 17.408\n",
            "Average perplexity: 10.478\n",
            "\n"
          ]
        },
        {
          "output_type": "stream",
          "name": "stderr",
          "text": [
            " 19%|█▊        | 186/1000 [00:24<01:43,  7.88it/s]"
          ]
        },
        {
          "output_type": "stream",
          "name": "stdout",
          "text": [
            "10 iterations of epochs 186/1000\n",
            "Average recon_error: 16.716\n",
            "Average perplexity: 11.283\n",
            "\n",
            "20 iterations of epochs 186/1000\n",
            "Average recon_error: 17.143\n",
            "Average perplexity: 10.640\n",
            "\n",
            "30 iterations of epochs 186/1000\n",
            "Average recon_error: 15.220\n",
            "Average perplexity: 11.429\n",
            "\n",
            "10 iterations of epochs 187/1000\n",
            "Average recon_error: 17.016\n",
            "Average perplexity: 12.036\n",
            "\n",
            "20 iterations of epochs 187/1000\n",
            "Average recon_error: 16.616\n",
            "Average perplexity: 11.151\n",
            "\n",
            "30 iterations of epochs 187/1000\n",
            "Average recon_error: 17.009\n",
            "Average perplexity: 11.874\n",
            "\n"
          ]
        },
        {
          "output_type": "stream",
          "name": "stderr",
          "text": [
            " 19%|█▉        | 188/1000 [00:25<01:41,  8.01it/s]"
          ]
        },
        {
          "output_type": "stream",
          "name": "stdout",
          "text": [
            "10 iterations of epochs 188/1000\n",
            "Average recon_error: 15.879\n",
            "Average perplexity: 11.953\n",
            "\n",
            "20 iterations of epochs 188/1000\n",
            "Average recon_error: 19.283\n",
            "Average perplexity: 11.541\n",
            "\n",
            "30 iterations of epochs 188/1000\n",
            "Average recon_error: 15.867\n",
            "Average perplexity: 10.358\n",
            "\n",
            "10 iterations of epochs 189/1000\n",
            "Average recon_error: 16.765\n",
            "Average perplexity: 10.624\n",
            "\n",
            "20 iterations of epochs 189/1000\n",
            "Average recon_error: 18.315\n",
            "Average perplexity: 11.061\n",
            "\n",
            "30 iterations of epochs 189/1000\n",
            "Average recon_error: 16.245\n",
            "Average perplexity: 11.972\n",
            "\n"
          ]
        },
        {
          "output_type": "stream",
          "name": "stderr",
          "text": [
            " 19%|█▉        | 190/1000 [00:25<01:45,  7.70it/s]"
          ]
        },
        {
          "output_type": "stream",
          "name": "stdout",
          "text": [
            "10 iterations of epochs 190/1000\n",
            "Average recon_error: 16.837\n",
            "Average perplexity: 11.652\n",
            "\n",
            "20 iterations of epochs 190/1000\n",
            "Average recon_error: 16.103\n",
            "Average perplexity: 11.391\n",
            "\n",
            "30 iterations of epochs 190/1000\n",
            "Average recon_error: 19.222\n",
            "Average perplexity: 12.185\n",
            "\n",
            "10 iterations of epochs 191/1000\n",
            "Average recon_error: 15.622\n",
            "Average perplexity: 12.353\n",
            "\n",
            "20 iterations of epochs 191/1000\n",
            "Average recon_error: 18.216\n",
            "Average perplexity: 11.858\n",
            "\n"
          ]
        },
        {
          "output_type": "stream",
          "name": "stderr",
          "text": [
            " 19%|█▉        | 192/1000 [00:25<01:43,  7.84it/s]"
          ]
        },
        {
          "output_type": "stream",
          "name": "stdout",
          "text": [
            "30 iterations of epochs 191/1000\n",
            "Average recon_error: 16.146\n",
            "Average perplexity: 11.461\n",
            "\n",
            "10 iterations of epochs 192/1000\n",
            "Average recon_error: 16.426\n",
            "Average perplexity: 11.053\n",
            "\n",
            "20 iterations of epochs 192/1000\n",
            "Average recon_error: 18.128\n",
            "Average perplexity: 12.179\n",
            "\n",
            "30 iterations of epochs 192/1000\n",
            "Average recon_error: 16.345\n",
            "Average perplexity: 10.403\n",
            "\n",
            "10 iterations of epochs 193/1000\n",
            "Average recon_error: 17.185\n",
            "Average perplexity: 12.014\n",
            "\n"
          ]
        },
        {
          "output_type": "stream",
          "name": "stderr",
          "text": [
            " 19%|█▉        | 194/1000 [00:25<01:41,  7.94it/s]"
          ]
        },
        {
          "output_type": "stream",
          "name": "stdout",
          "text": [
            "20 iterations of epochs 193/1000\n",
            "Average recon_error: 16.683\n",
            "Average perplexity: 11.055\n",
            "\n",
            "30 iterations of epochs 193/1000\n",
            "Average recon_error: 16.777\n",
            "Average perplexity: 10.679\n",
            "\n",
            "10 iterations of epochs 194/1000\n",
            "Average recon_error: 15.750\n",
            "Average perplexity: 11.433\n",
            "\n",
            "20 iterations of epochs 194/1000\n",
            "Average recon_error: 17.624\n",
            "Average perplexity: 10.978\n",
            "\n",
            "30 iterations of epochs 194/1000\n",
            "Average recon_error: 15.841\n",
            "Average perplexity: 10.748\n",
            "\n"
          ]
        },
        {
          "output_type": "stream",
          "name": "stderr",
          "text": [
            "\r 20%|█▉        | 195/1000 [00:25<01:42,  7.85it/s]"
          ]
        },
        {
          "output_type": "stream",
          "name": "stdout",
          "text": [
            "10 iterations of epochs 195/1000\n",
            "Average recon_error: 17.863\n",
            "Average perplexity: 10.250\n",
            "\n",
            "20 iterations of epochs 195/1000\n",
            "Average recon_error: 16.863\n",
            "Average perplexity: 11.176\n",
            "\n",
            "30 iterations of epochs 195/1000\n",
            "Average recon_error: 17.264\n",
            "Average perplexity: 11.673\n",
            "\n",
            "10 iterations of epochs 196/1000\n",
            "Average recon_error: 16.901\n",
            "Average perplexity: 11.187\n",
            "\n",
            "20 iterations of epochs 196/1000\n",
            "Average recon_error: 17.219\n",
            "Average perplexity: 11.190\n",
            "\n",
            "30 iterations of epochs 196/1000\n",
            "Average recon_error: 16.878\n",
            "Average perplexity: 10.890\n",
            "\n"
          ]
        },
        {
          "output_type": "stream",
          "name": "stderr",
          "text": [
            " 20%|█▉        | 197/1000 [00:26<01:39,  8.10it/s]"
          ]
        },
        {
          "output_type": "stream",
          "name": "stdout",
          "text": [
            "10 iterations of epochs 197/1000\n",
            "Average recon_error: 16.853\n",
            "Average perplexity: 11.899\n",
            "\n",
            "20 iterations of epochs 197/1000\n",
            "Average recon_error: 16.642\n",
            "Average perplexity: 10.925\n",
            "\n",
            "30 iterations of epochs 197/1000\n",
            "Average recon_error: 16.594\n",
            "Average perplexity: 11.124\n",
            "\n",
            "10 iterations of epochs 198/1000\n",
            "Average recon_error: 16.098\n",
            "Average perplexity: 11.137\n",
            "\n",
            "20 iterations of epochs 198/1000\n",
            "Average recon_error: 17.285\n",
            "Average perplexity: 10.812\n",
            "\n",
            "30 iterations of epochs 198/1000\n",
            "Average recon_error: 18.575\n",
            "Average perplexity: 10.890\n",
            "\n"
          ]
        },
        {
          "output_type": "stream",
          "name": "stderr",
          "text": [
            " 20%|█▉        | 199/1000 [00:26<01:41,  7.91it/s]"
          ]
        },
        {
          "output_type": "stream",
          "name": "stdout",
          "text": [
            "10 iterations of epochs 199/1000\n",
            "Average recon_error: 16.902\n",
            "Average perplexity: 10.784\n",
            "\n",
            "20 iterations of epochs 199/1000\n",
            "Average recon_error: 18.140\n",
            "Average perplexity: 9.735\n",
            "\n",
            "30 iterations of epochs 199/1000\n",
            "Average recon_error: 16.114\n",
            "Average perplexity: 10.441\n",
            "\n",
            "10 iterations of epochs 200/1000\n",
            "Average recon_error: 16.036\n",
            "Average perplexity: 11.388\n",
            "\n",
            "20 iterations of epochs 200/1000\n",
            "Average recon_error: 16.558\n",
            "Average perplexity: 11.157\n",
            "\n",
            "30 iterations of epochs 200/1000\n",
            "Average recon_error: 16.766\n",
            "Average perplexity: 10.216\n",
            "\n"
          ]
        },
        {
          "output_type": "stream",
          "name": "stderr",
          "text": [
            " 20%|██        | 201/1000 [00:26<01:40,  7.95it/s]"
          ]
        },
        {
          "output_type": "stream",
          "name": "stdout",
          "text": [
            "10 iterations of epochs 201/1000\n",
            "Average recon_error: 18.846\n",
            "Average perplexity: 10.760\n",
            "\n",
            "20 iterations of epochs 201/1000\n",
            "Average recon_error: 16.234\n",
            "Average perplexity: 11.662\n",
            "\n",
            "30 iterations of epochs 201/1000\n",
            "Average recon_error: 16.014\n",
            "Average perplexity: 11.853\n",
            "\n",
            "10 iterations of epochs 202/1000\n",
            "Average recon_error: 16.778\n",
            "Average perplexity: 11.124\n",
            "\n",
            "20 iterations of epochs 202/1000\n",
            "Average recon_error: 17.399\n",
            "Average perplexity: 10.864\n",
            "\n",
            "30 iterations of epochs 202/1000\n",
            "Average recon_error: 16.609\n",
            "Average perplexity: 12.161\n",
            "\n"
          ]
        },
        {
          "output_type": "stream",
          "name": "stderr",
          "text": [
            " 20%|██        | 204/1000 [00:27<01:36,  8.22it/s]"
          ]
        },
        {
          "output_type": "stream",
          "name": "stdout",
          "text": [
            "10 iterations of epochs 203/1000\n",
            "Average recon_error: 17.508\n",
            "Average perplexity: 10.487\n",
            "\n",
            "20 iterations of epochs 203/1000\n",
            "Average recon_error: 17.523\n",
            "Average perplexity: 11.712\n",
            "\n",
            "30 iterations of epochs 203/1000\n",
            "Average recon_error: 17.060\n",
            "Average perplexity: 11.748\n",
            "\n",
            "10 iterations of epochs 204/1000\n",
            "Average recon_error: 15.973\n",
            "Average perplexity: 11.004\n",
            "\n",
            "20 iterations of epochs 204/1000\n",
            "Average recon_error: 17.715\n",
            "Average perplexity: 10.804\n",
            "\n",
            "30 iterations of epochs 204/1000\n",
            "Average recon_error: 17.269\n",
            "Average perplexity: 11.485\n",
            "\n"
          ]
        },
        {
          "output_type": "stream",
          "name": "stderr",
          "text": [
            " 21%|██        | 206/1000 [00:27<01:34,  8.43it/s]"
          ]
        },
        {
          "output_type": "stream",
          "name": "stdout",
          "text": [
            "10 iterations of epochs 205/1000\n",
            "Average recon_error: 16.821\n",
            "Average perplexity: 11.995\n",
            "\n",
            "20 iterations of epochs 205/1000\n",
            "Average recon_error: 18.096\n",
            "Average perplexity: 11.133\n",
            "\n",
            "30 iterations of epochs 205/1000\n",
            "Average recon_error: 15.610\n",
            "Average perplexity: 11.650\n",
            "\n",
            "10 iterations of epochs 206/1000\n",
            "Average recon_error: 18.732\n",
            "Average perplexity: 11.331\n",
            "\n",
            "20 iterations of epochs 206/1000\n",
            "Average recon_error: 18.344\n",
            "Average perplexity: 11.071\n",
            "\n",
            "30 iterations of epochs 206/1000\n",
            "Average recon_error: 17.266\n",
            "Average perplexity: 11.806\n",
            "\n"
          ]
        },
        {
          "output_type": "stream",
          "name": "stderr",
          "text": [
            "\r 21%|██        | 207/1000 [00:27<01:37,  8.13it/s]"
          ]
        },
        {
          "output_type": "stream",
          "name": "stdout",
          "text": [
            "10 iterations of epochs 207/1000\n",
            "Average recon_error: 16.194\n",
            "Average perplexity: 11.575\n",
            "\n",
            "20 iterations of epochs 207/1000\n",
            "Average recon_error: 17.021\n",
            "Average perplexity: 11.292\n",
            "\n",
            "30 iterations of epochs 207/1000\n",
            "Average recon_error: 15.942\n",
            "Average perplexity: 11.308\n",
            "\n",
            "10 iterations of epochs 208/1000\n",
            "Average recon_error: 17.573\n",
            "Average perplexity: 11.317\n",
            "\n",
            "20 iterations of epochs 208/1000\n",
            "Average recon_error: 18.405\n",
            "Average perplexity: 11.012\n",
            "\n",
            "30 iterations of epochs 208/1000\n",
            "Average recon_error: 15.146\n",
            "Average perplexity: 12.065\n",
            "\n"
          ]
        },
        {
          "output_type": "stream",
          "name": "stderr",
          "text": [
            " 21%|██        | 209/1000 [00:27<01:36,  8.24it/s]"
          ]
        },
        {
          "output_type": "stream",
          "name": "stdout",
          "text": [
            "10 iterations of epochs 209/1000\n",
            "Average recon_error: 16.972\n",
            "Average perplexity: 10.154\n",
            "\n",
            "20 iterations of epochs 209/1000\n",
            "Average recon_error: 16.862\n",
            "Average perplexity: 11.522\n",
            "\n",
            "30 iterations of epochs 209/1000\n",
            "Average recon_error: 15.025\n",
            "Average perplexity: 11.393\n",
            "\n",
            "10 iterations of epochs 210/1000\n",
            "Average recon_error: 16.164\n",
            "Average perplexity: 11.384\n",
            "\n",
            "20 iterations of epochs 210/1000\n",
            "Average recon_error: 17.905\n",
            "Average perplexity: 11.849\n",
            "\n",
            "30 iterations of epochs 210/1000\n",
            "Average recon_error: 16.665\n",
            "Average perplexity: 11.138\n",
            "\n"
          ]
        },
        {
          "output_type": "stream",
          "name": "stderr",
          "text": [
            " 21%|██        | 211/1000 [00:27<01:35,  8.27it/s]"
          ]
        },
        {
          "output_type": "stream",
          "name": "stdout",
          "text": [
            "10 iterations of epochs 211/1000\n",
            "Average recon_error: 16.221\n",
            "Average perplexity: 11.398\n",
            "\n",
            "20 iterations of epochs 211/1000\n",
            "Average recon_error: 16.010\n",
            "Average perplexity: 10.688\n",
            "\n",
            "30 iterations of epochs 211/1000\n",
            "Average recon_error: 16.229\n",
            "Average perplexity: 10.729\n",
            "\n",
            "10 iterations of epochs 212/1000\n",
            "Average recon_error: 17.806\n",
            "Average perplexity: 12.034\n",
            "\n",
            "20 iterations of epochs 212/1000\n",
            "Average recon_error: 16.873\n",
            "Average perplexity: 10.485\n",
            "\n",
            "30 iterations of epochs 212/1000\n",
            "Average recon_error: 18.877\n",
            "Average perplexity: 11.603\n",
            "\n"
          ]
        },
        {
          "output_type": "stream",
          "name": "stderr",
          "text": [
            " 21%|██▏       | 213/1000 [00:28<01:35,  8.23it/s]"
          ]
        },
        {
          "output_type": "stream",
          "name": "stdout",
          "text": [
            "10 iterations of epochs 213/1000\n",
            "Average recon_error: 15.838\n",
            "Average perplexity: 10.508\n",
            "\n",
            "20 iterations of epochs 213/1000\n",
            "Average recon_error: 16.781\n",
            "Average perplexity: 11.905\n",
            "\n",
            "30 iterations of epochs 213/1000\n",
            "Average recon_error: 18.493\n",
            "Average perplexity: 11.552\n",
            "\n",
            "10 iterations of epochs 214/1000\n",
            "Average recon_error: 17.411\n",
            "Average perplexity: 12.361\n",
            "\n",
            "20 iterations of epochs 214/1000\n",
            "Average recon_error: 15.531\n",
            "Average perplexity: 11.303\n",
            "\n",
            "30 iterations of epochs 214/1000\n",
            "Average recon_error: 15.769\n",
            "Average perplexity: 11.602\n",
            "\n"
          ]
        },
        {
          "output_type": "stream",
          "name": "stderr",
          "text": [
            " 22%|██▏       | 215/1000 [00:28<01:39,  7.88it/s]"
          ]
        },
        {
          "output_type": "stream",
          "name": "stdout",
          "text": [
            "10 iterations of epochs 215/1000\n",
            "Average recon_error: 17.819\n",
            "Average perplexity: 11.623\n",
            "\n",
            "20 iterations of epochs 215/1000\n",
            "Average recon_error: 17.418\n",
            "Average perplexity: 10.584\n",
            "\n",
            "30 iterations of epochs 215/1000\n",
            "Average recon_error: 18.741\n",
            "Average perplexity: 11.540\n",
            "\n",
            "10 iterations of epochs 216/1000\n",
            "Average recon_error: 16.746\n",
            "Average perplexity: 11.207\n",
            "\n",
            "20 iterations of epochs 216/1000\n",
            "Average recon_error: 17.186\n",
            "Average perplexity: 10.748\n",
            "\n",
            "30 iterations of epochs 216/1000\n",
            "Average recon_error: 16.625\n",
            "Average perplexity: 11.087\n",
            "\n"
          ]
        },
        {
          "output_type": "stream",
          "name": "stderr",
          "text": [
            " 22%|██▏       | 217/1000 [00:28<01:38,  7.96it/s]"
          ]
        },
        {
          "output_type": "stream",
          "name": "stdout",
          "text": [
            "10 iterations of epochs 217/1000\n",
            "Average recon_error: 17.029\n",
            "Average perplexity: 11.290\n",
            "\n",
            "20 iterations of epochs 217/1000\n",
            "Average recon_error: 16.901\n",
            "Average perplexity: 11.628\n",
            "\n",
            "30 iterations of epochs 217/1000\n",
            "Average recon_error: 18.403\n",
            "Average perplexity: 11.651\n",
            "\n",
            "10 iterations of epochs 218/1000\n",
            "Average recon_error: 19.225\n",
            "Average perplexity: 10.838\n",
            "\n",
            "20 iterations of epochs 218/1000\n",
            "Average recon_error: 17.112\n",
            "Average perplexity: 11.749\n",
            "\n",
            "30 iterations of epochs 218/1000\n",
            "Average recon_error: 16.233\n",
            "Average perplexity: 11.694\n",
            "\n"
          ]
        },
        {
          "output_type": "stream",
          "name": "stderr",
          "text": [
            " 22%|██▏       | 219/1000 [00:28<01:38,  7.93it/s]"
          ]
        },
        {
          "output_type": "stream",
          "name": "stdout",
          "text": [
            "10 iterations of epochs 219/1000\n",
            "Average recon_error: 16.443\n",
            "Average perplexity: 11.470\n",
            "\n",
            "20 iterations of epochs 219/1000\n",
            "Average recon_error: 17.176\n",
            "Average perplexity: 10.518\n",
            "\n",
            "30 iterations of epochs 219/1000\n",
            "Average recon_error: 16.483\n",
            "Average perplexity: 11.958\n",
            "\n",
            "10 iterations of epochs 220/1000\n",
            "Average recon_error: 16.785\n",
            "Average perplexity: 10.563\n",
            "\n",
            "20 iterations of epochs 220/1000\n",
            "Average recon_error: 16.300\n",
            "Average perplexity: 11.718\n",
            "\n",
            "30 iterations of epochs 220/1000\n",
            "Average recon_error: 16.460\n",
            "Average perplexity: 10.561\n",
            "\n"
          ]
        },
        {
          "output_type": "stream",
          "name": "stderr",
          "text": [
            " 22%|██▏       | 221/1000 [00:29<01:36,  8.07it/s]"
          ]
        },
        {
          "output_type": "stream",
          "name": "stdout",
          "text": [
            "10 iterations of epochs 221/1000\n",
            "Average recon_error: 17.373\n",
            "Average perplexity: 11.893\n",
            "\n",
            "20 iterations of epochs 221/1000\n",
            "Average recon_error: 18.777\n",
            "Average perplexity: 10.606\n",
            "\n",
            "30 iterations of epochs 221/1000\n",
            "Average recon_error: 16.127\n",
            "Average perplexity: 11.097\n",
            "\n",
            "10 iterations of epochs 222/1000\n",
            "Average recon_error: 17.149\n",
            "Average perplexity: 12.030\n",
            "\n",
            "20 iterations of epochs 222/1000\n",
            "Average recon_error: 17.162\n",
            "Average perplexity: 11.291\n",
            "\n",
            "30 iterations of epochs 222/1000\n",
            "Average recon_error: 17.308\n",
            "Average perplexity: 11.736\n",
            "\n"
          ]
        },
        {
          "output_type": "stream",
          "name": "stderr",
          "text": [
            " 22%|██▏       | 223/1000 [00:29<01:36,  8.08it/s]"
          ]
        },
        {
          "output_type": "stream",
          "name": "stdout",
          "text": [
            "10 iterations of epochs 223/1000\n",
            "Average recon_error: 15.617\n",
            "Average perplexity: 11.169\n",
            "\n",
            "20 iterations of epochs 223/1000\n",
            "Average recon_error: 17.172\n",
            "Average perplexity: 11.283\n",
            "\n",
            "30 iterations of epochs 223/1000\n",
            "Average recon_error: 16.552\n",
            "Average perplexity: 11.486\n",
            "\n",
            "10 iterations of epochs 224/1000\n",
            "Average recon_error: 17.055\n",
            "Average perplexity: 11.853\n",
            "\n",
            "20 iterations of epochs 224/1000\n",
            "Average recon_error: 16.072\n",
            "Average perplexity: 11.125\n",
            "\n",
            "30 iterations of epochs 224/1000\n",
            "Average recon_error: 17.250\n",
            "Average perplexity: 11.456\n",
            "\n"
          ]
        },
        {
          "output_type": "stream",
          "name": "stderr",
          "text": [
            " 22%|██▎       | 225/1000 [00:29<01:37,  7.95it/s]"
          ]
        },
        {
          "output_type": "stream",
          "name": "stdout",
          "text": [
            "10 iterations of epochs 225/1000\n",
            "Average recon_error: 18.619\n",
            "Average perplexity: 11.408\n",
            "\n",
            "20 iterations of epochs 225/1000\n",
            "Average recon_error: 16.617\n",
            "Average perplexity: 11.491\n",
            "\n",
            "30 iterations of epochs 225/1000\n",
            "Average recon_error: 15.723\n",
            "Average perplexity: 10.910\n",
            "\n",
            "10 iterations of epochs 226/1000\n",
            "Average recon_error: 19.369\n",
            "Average perplexity: 10.872\n",
            "\n",
            "20 iterations of epochs 226/1000\n",
            "Average recon_error: 16.320\n",
            "Average perplexity: 12.000\n",
            "\n",
            "30 iterations of epochs 226/1000\n",
            "Average recon_error: 17.014\n",
            "Average perplexity: 11.364\n",
            "\n"
          ]
        },
        {
          "output_type": "stream",
          "name": "stderr",
          "text": [
            " 23%|██▎       | 227/1000 [00:29<01:38,  7.82it/s]"
          ]
        },
        {
          "output_type": "stream",
          "name": "stdout",
          "text": [
            "10 iterations of epochs 227/1000\n",
            "Average recon_error: 16.955\n",
            "Average perplexity: 12.028\n",
            "\n",
            "20 iterations of epochs 227/1000\n",
            "Average recon_error: 18.593\n",
            "Average perplexity: 11.920\n",
            "\n",
            "30 iterations of epochs 227/1000\n",
            "Average recon_error: 15.651\n",
            "Average perplexity: 9.796\n",
            "\n",
            "10 iterations of epochs 228/1000\n",
            "Average recon_error: 16.468\n",
            "Average perplexity: 11.514\n",
            "\n",
            "20 iterations of epochs 228/1000\n",
            "Average recon_error: 18.146\n",
            "Average perplexity: 10.780\n",
            "\n",
            "30 iterations of epochs 228/1000\n",
            "Average recon_error: 15.857\n",
            "Average perplexity: 11.207\n",
            "\n"
          ]
        },
        {
          "output_type": "stream",
          "name": "stderr",
          "text": [
            " 23%|██▎       | 229/1000 [00:30<01:35,  8.08it/s]"
          ]
        },
        {
          "output_type": "stream",
          "name": "stdout",
          "text": [
            "10 iterations of epochs 229/1000\n",
            "Average recon_error: 15.909\n",
            "Average perplexity: 11.642\n",
            "\n",
            "20 iterations of epochs 229/1000\n",
            "Average recon_error: 17.693\n",
            "Average perplexity: 9.777\n",
            "\n",
            "30 iterations of epochs 229/1000\n",
            "Average recon_error: 17.840\n",
            "Average perplexity: 11.701\n",
            "\n",
            "10 iterations of epochs 230/1000\n",
            "Average recon_error: 17.938\n",
            "Average perplexity: 11.774\n",
            "\n",
            "20 iterations of epochs 230/1000\n",
            "Average recon_error: 15.404\n",
            "Average perplexity: 10.583\n",
            "\n",
            "30 iterations of epochs 230/1000\n",
            "Average recon_error: 18.121\n",
            "Average perplexity: 11.588\n",
            "\n"
          ]
        },
        {
          "output_type": "stream",
          "name": "stderr",
          "text": [
            " 23%|██▎       | 231/1000 [00:30<01:38,  7.84it/s]"
          ]
        },
        {
          "output_type": "stream",
          "name": "stdout",
          "text": [
            "10 iterations of epochs 231/1000\n",
            "Average recon_error: 17.806\n",
            "Average perplexity: 11.571\n",
            "\n",
            "20 iterations of epochs 231/1000\n",
            "Average recon_error: 16.956\n",
            "Average perplexity: 10.822\n",
            "\n",
            "30 iterations of epochs 231/1000\n",
            "Average recon_error: 16.779\n",
            "Average perplexity: 10.650\n",
            "\n",
            "10 iterations of epochs 232/1000\n",
            "Average recon_error: 17.892\n",
            "Average perplexity: 11.698\n",
            "\n",
            "20 iterations of epochs 232/1000\n",
            "Average recon_error: 17.929\n",
            "Average perplexity: 11.112\n",
            "\n"
          ]
        },
        {
          "output_type": "stream",
          "name": "stderr",
          "text": [
            " 23%|██▎       | 233/1000 [00:30<01:39,  7.71it/s]"
          ]
        },
        {
          "output_type": "stream",
          "name": "stdout",
          "text": [
            "30 iterations of epochs 232/1000\n",
            "Average recon_error: 16.899\n",
            "Average perplexity: 11.977\n",
            "\n",
            "10 iterations of epochs 233/1000\n",
            "Average recon_error: 18.441\n",
            "Average perplexity: 10.490\n",
            "\n",
            "20 iterations of epochs 233/1000\n",
            "Average recon_error: 16.772\n",
            "Average perplexity: 10.885\n",
            "\n",
            "30 iterations of epochs 233/1000\n",
            "Average recon_error: 18.529\n",
            "Average perplexity: 12.080\n",
            "\n",
            "10 iterations of epochs 234/1000\n",
            "Average recon_error: 15.028\n",
            "Average perplexity: 11.275\n",
            "\n"
          ]
        },
        {
          "output_type": "stream",
          "name": "stderr",
          "text": [
            " 24%|██▎       | 235/1000 [00:30<01:37,  7.84it/s]"
          ]
        },
        {
          "output_type": "stream",
          "name": "stdout",
          "text": [
            "20 iterations of epochs 234/1000\n",
            "Average recon_error: 18.080\n",
            "Average perplexity: 11.010\n",
            "\n",
            "30 iterations of epochs 234/1000\n",
            "Average recon_error: 18.344\n",
            "Average perplexity: 10.257\n",
            "\n",
            "10 iterations of epochs 235/1000\n",
            "Average recon_error: 16.317\n",
            "Average perplexity: 11.368\n",
            "\n",
            "20 iterations of epochs 235/1000\n",
            "Average recon_error: 17.049\n",
            "Average perplexity: 10.341\n",
            "\n",
            "30 iterations of epochs 235/1000\n",
            "Average recon_error: 15.747\n",
            "Average perplexity: 10.640\n",
            "\n"
          ]
        },
        {
          "output_type": "stream",
          "name": "stderr",
          "text": [
            "\r 24%|██▎       | 236/1000 [00:31<01:37,  7.86it/s]"
          ]
        },
        {
          "output_type": "stream",
          "name": "stdout",
          "text": [
            "10 iterations of epochs 236/1000\n",
            "Average recon_error: 18.884\n",
            "Average perplexity: 10.970\n",
            "\n",
            "20 iterations of epochs 236/1000\n",
            "Average recon_error: 17.184\n",
            "Average perplexity: 11.690\n",
            "\n",
            "30 iterations of epochs 236/1000\n",
            "Average recon_error: 18.280\n",
            "Average perplexity: 11.698\n",
            "\n",
            "10 iterations of epochs 237/1000\n",
            "Average recon_error: 16.439\n",
            "Average perplexity: 11.757\n",
            "\n",
            "20 iterations of epochs 237/1000\n",
            "Average recon_error: 15.726\n",
            "Average perplexity: 10.924\n",
            "\n",
            "30 iterations of epochs 237/1000\n",
            "Average recon_error: 16.202\n",
            "Average perplexity: 11.267\n",
            "\n"
          ]
        },
        {
          "output_type": "stream",
          "name": "stderr",
          "text": [
            " 24%|██▍       | 238/1000 [00:31<01:41,  7.49it/s]"
          ]
        },
        {
          "output_type": "stream",
          "name": "stdout",
          "text": [
            "10 iterations of epochs 238/1000\n",
            "Average recon_error: 17.341\n",
            "Average perplexity: 11.751\n",
            "\n",
            "20 iterations of epochs 238/1000\n",
            "Average recon_error: 17.264\n",
            "Average perplexity: 10.922\n",
            "\n",
            "30 iterations of epochs 238/1000\n",
            "Average recon_error: 15.225\n",
            "Average perplexity: 10.715\n",
            "\n",
            "10 iterations of epochs 239/1000\n",
            "Average recon_error: 16.306\n",
            "Average perplexity: 10.984\n",
            "\n",
            "20 iterations of epochs 239/1000\n",
            "Average recon_error: 16.717\n",
            "Average perplexity: 11.032\n",
            "\n"
          ]
        },
        {
          "output_type": "stream",
          "name": "stderr",
          "text": [
            " 24%|██▍       | 240/1000 [00:31<01:41,  7.46it/s]"
          ]
        },
        {
          "output_type": "stream",
          "name": "stdout",
          "text": [
            "30 iterations of epochs 239/1000\n",
            "Average recon_error: 15.817\n",
            "Average perplexity: 11.295\n",
            "\n",
            "10 iterations of epochs 240/1000\n",
            "Average recon_error: 16.593\n",
            "Average perplexity: 11.666\n",
            "\n",
            "20 iterations of epochs 240/1000\n",
            "Average recon_error: 15.308\n",
            "Average perplexity: 11.002\n",
            "\n",
            "30 iterations of epochs 240/1000\n",
            "Average recon_error: 16.820\n",
            "Average perplexity: 11.065\n",
            "\n",
            "10 iterations of epochs 241/1000\n",
            "Average recon_error: 17.590\n",
            "Average perplexity: 10.961\n",
            "\n"
          ]
        },
        {
          "output_type": "stream",
          "name": "stderr",
          "text": [
            " 24%|██▍       | 242/1000 [00:31<01:39,  7.65it/s]"
          ]
        },
        {
          "output_type": "stream",
          "name": "stdout",
          "text": [
            "20 iterations of epochs 241/1000\n",
            "Average recon_error: 16.925\n",
            "Average perplexity: 11.135\n",
            "\n",
            "30 iterations of epochs 241/1000\n",
            "Average recon_error: 18.332\n",
            "Average perplexity: 10.700\n",
            "\n",
            "10 iterations of epochs 242/1000\n",
            "Average recon_error: 16.192\n",
            "Average perplexity: 10.762\n",
            "\n",
            "20 iterations of epochs 242/1000\n",
            "Average recon_error: 17.868\n",
            "Average perplexity: 11.349\n",
            "\n",
            "30 iterations of epochs 242/1000\n",
            "Average recon_error: 16.621\n",
            "Average perplexity: 12.112\n",
            "\n"
          ]
        },
        {
          "output_type": "stream",
          "name": "stderr",
          "text": [
            "\r 24%|██▍       | 243/1000 [00:31<01:38,  7.72it/s]"
          ]
        },
        {
          "output_type": "stream",
          "name": "stdout",
          "text": [
            "10 iterations of epochs 243/1000\n",
            "Average recon_error: 16.693\n",
            "Average perplexity: 12.060\n",
            "\n",
            "20 iterations of epochs 243/1000\n",
            "Average recon_error: 16.528\n",
            "Average perplexity: 11.628\n",
            "\n",
            "30 iterations of epochs 243/1000\n",
            "Average recon_error: 17.911\n",
            "Average perplexity: 10.660\n",
            "\n",
            "10 iterations of epochs 244/1000\n",
            "Average recon_error: 17.946\n",
            "Average perplexity: 10.674\n",
            "\n",
            "20 iterations of epochs 244/1000\n",
            "Average recon_error: 15.113\n",
            "Average perplexity: 10.822\n",
            "\n",
            "30 iterations of epochs 244/1000\n",
            "Average recon_error: 17.583\n",
            "Average perplexity: 11.138\n",
            "\n"
          ]
        },
        {
          "output_type": "stream",
          "name": "stderr",
          "text": [
            " 24%|██▍       | 245/1000 [00:32<01:35,  7.87it/s]"
          ]
        },
        {
          "output_type": "stream",
          "name": "stdout",
          "text": [
            "10 iterations of epochs 245/1000\n",
            "Average recon_error: 17.823\n",
            "Average perplexity: 11.354\n",
            "\n",
            "20 iterations of epochs 245/1000\n",
            "Average recon_error: 17.298\n",
            "Average perplexity: 10.604\n",
            "\n",
            "30 iterations of epochs 245/1000\n",
            "Average recon_error: 15.388\n",
            "Average perplexity: 11.384\n",
            "\n",
            "10 iterations of epochs 246/1000\n",
            "Average recon_error: 16.204\n",
            "Average perplexity: 10.262\n",
            "\n",
            "20 iterations of epochs 246/1000\n",
            "Average recon_error: 17.393\n",
            "Average perplexity: 10.764\n",
            "\n",
            "30 iterations of epochs 246/1000\n",
            "Average recon_error: 15.854\n",
            "Average perplexity: 11.549\n",
            "\n"
          ]
        },
        {
          "output_type": "stream",
          "name": "stderr",
          "text": [
            " 25%|██▍       | 247/1000 [00:32<01:34,  7.99it/s]"
          ]
        },
        {
          "output_type": "stream",
          "name": "stdout",
          "text": [
            "10 iterations of epochs 247/1000\n",
            "Average recon_error: 17.170\n",
            "Average perplexity: 11.280\n",
            "\n",
            "20 iterations of epochs 247/1000\n",
            "Average recon_error: 16.073\n",
            "Average perplexity: 12.075\n",
            "\n",
            "30 iterations of epochs 247/1000\n",
            "Average recon_error: 17.240\n",
            "Average perplexity: 10.516\n",
            "\n",
            "10 iterations of epochs 248/1000\n",
            "Average recon_error: 17.661\n",
            "Average perplexity: 10.915\n",
            "\n",
            "20 iterations of epochs 248/1000\n",
            "Average recon_error: 17.671\n",
            "Average perplexity: 11.849\n",
            "\n",
            "30 iterations of epochs 248/1000\n",
            "Average recon_error: 16.731\n",
            "Average perplexity: 10.854\n",
            "\n"
          ]
        },
        {
          "output_type": "stream",
          "name": "stderr",
          "text": [
            " 25%|██▍       | 249/1000 [00:32<01:34,  7.94it/s]"
          ]
        },
        {
          "output_type": "stream",
          "name": "stdout",
          "text": [
            "10 iterations of epochs 249/1000\n",
            "Average recon_error: 18.159\n",
            "Average perplexity: 10.919\n",
            "\n",
            "20 iterations of epochs 249/1000\n",
            "Average recon_error: 18.037\n",
            "Average perplexity: 11.406\n",
            "\n",
            "30 iterations of epochs 249/1000\n",
            "Average recon_error: 17.387\n",
            "Average perplexity: 11.561\n",
            "\n",
            "10 iterations of epochs 250/1000\n",
            "Average recon_error: 16.555\n",
            "Average perplexity: 10.651\n",
            "\n",
            "20 iterations of epochs 250/1000\n",
            "Average recon_error: 17.315\n",
            "Average perplexity: 11.525\n",
            "\n",
            "30 iterations of epochs 250/1000\n",
            "Average recon_error: 16.478\n",
            "Average perplexity: 11.063\n",
            "\n"
          ]
        },
        {
          "output_type": "stream",
          "name": "stderr",
          "text": [
            " 25%|██▌       | 251/1000 [00:32<01:34,  7.90it/s]"
          ]
        },
        {
          "output_type": "stream",
          "name": "stdout",
          "text": [
            "10 iterations of epochs 251/1000\n",
            "Average recon_error: 15.742\n",
            "Average perplexity: 11.279\n",
            "\n",
            "20 iterations of epochs 251/1000\n",
            "Average recon_error: 17.459\n",
            "Average perplexity: 11.107\n",
            "\n",
            "30 iterations of epochs 251/1000\n",
            "Average recon_error: 16.025\n",
            "Average perplexity: 10.843\n",
            "\n",
            "10 iterations of epochs 252/1000\n",
            "Average recon_error: 17.066\n",
            "Average perplexity: 10.348\n",
            "\n",
            "20 iterations of epochs 252/1000\n",
            "Average recon_error: 16.229\n",
            "Average perplexity: 11.923\n",
            "\n",
            "30 iterations of epochs 252/1000\n",
            "Average recon_error: 17.065\n",
            "Average perplexity: 11.316\n",
            "\n"
          ]
        },
        {
          "output_type": "stream",
          "name": "stderr",
          "text": [
            " 25%|██▌       | 253/1000 [00:33<01:34,  7.93it/s]"
          ]
        },
        {
          "output_type": "stream",
          "name": "stdout",
          "text": [
            "10 iterations of epochs 253/1000\n",
            "Average recon_error: 15.290\n",
            "Average perplexity: 11.127\n",
            "\n",
            "20 iterations of epochs 253/1000\n",
            "Average recon_error: 16.785\n",
            "Average perplexity: 11.204\n",
            "\n",
            "30 iterations of epochs 253/1000\n",
            "Average recon_error: 16.123\n",
            "Average perplexity: 11.137\n",
            "\n",
            "10 iterations of epochs 254/1000\n",
            "Average recon_error: 16.148\n",
            "Average perplexity: 11.081\n",
            "\n",
            "20 iterations of epochs 254/1000\n",
            "Average recon_error: 17.368\n",
            "Average perplexity: 10.612\n",
            "\n",
            "30 iterations of epochs 254/1000\n",
            "Average recon_error: 18.213\n",
            "Average perplexity: 11.761\n",
            "\n"
          ]
        },
        {
          "output_type": "stream",
          "name": "stderr",
          "text": [
            " 26%|██▌       | 255/1000 [00:33<01:32,  8.08it/s]"
          ]
        },
        {
          "output_type": "stream",
          "name": "stdout",
          "text": [
            "10 iterations of epochs 255/1000\n",
            "Average recon_error: 16.153\n",
            "Average perplexity: 11.177\n",
            "\n",
            "20 iterations of epochs 255/1000\n",
            "Average recon_error: 14.885\n",
            "Average perplexity: 10.029\n",
            "\n",
            "30 iterations of epochs 255/1000\n",
            "Average recon_error: 16.653\n",
            "Average perplexity: 11.012\n",
            "\n",
            "10 iterations of epochs 256/1000\n",
            "Average recon_error: 16.248\n",
            "Average perplexity: 10.982\n",
            "\n",
            "20 iterations of epochs 256/1000\n",
            "Average recon_error: 16.891\n",
            "Average perplexity: 10.708\n",
            "\n",
            "30 iterations of epochs 256/1000\n",
            "Average recon_error: 16.695\n",
            "Average perplexity: 10.971\n",
            "\n"
          ]
        },
        {
          "output_type": "stream",
          "name": "stderr",
          "text": [
            " 26%|██▌       | 257/1000 [00:33<01:33,  7.99it/s]"
          ]
        },
        {
          "output_type": "stream",
          "name": "stdout",
          "text": [
            "10 iterations of epochs 257/1000\n",
            "Average recon_error: 17.424\n",
            "Average perplexity: 11.263\n",
            "\n",
            "20 iterations of epochs 257/1000\n",
            "Average recon_error: 16.672\n",
            "Average perplexity: 12.218\n",
            "\n",
            "30 iterations of epochs 257/1000\n",
            "Average recon_error: 15.855\n",
            "Average perplexity: 11.029\n",
            "\n",
            "10 iterations of epochs 258/1000\n",
            "Average recon_error: 17.454\n",
            "Average perplexity: 12.001\n",
            "\n",
            "20 iterations of epochs 258/1000\n",
            "Average recon_error: 17.251\n",
            "Average perplexity: 11.077\n",
            "\n"
          ]
        },
        {
          "output_type": "stream",
          "name": "stderr",
          "text": [
            "\r 26%|██▌       | 258/1000 [00:33<01:43,  7.14it/s]"
          ]
        },
        {
          "output_type": "stream",
          "name": "stdout",
          "text": [
            "30 iterations of epochs 258/1000\n",
            "Average recon_error: 15.418\n",
            "Average perplexity: 11.563\n",
            "\n",
            "10 iterations of epochs 259/1000\n",
            "Average recon_error: 16.807\n",
            "Average perplexity: 11.525\n",
            "\n",
            "20 iterations of epochs 259/1000\n",
            "Average recon_error: 17.160\n",
            "Average perplexity: 11.795\n",
            "\n",
            "30 iterations of epochs 259/1000\n",
            "Average recon_error: 16.067\n",
            "Average perplexity: 10.648\n",
            "\n"
          ]
        },
        {
          "output_type": "stream",
          "name": "stderr",
          "text": [
            " 26%|██▌       | 260/1000 [00:34<01:57,  6.29it/s]"
          ]
        },
        {
          "output_type": "stream",
          "name": "stdout",
          "text": [
            "10 iterations of epochs 260/1000\n",
            "Average recon_error: 17.211\n",
            "Average perplexity: 11.434\n",
            "\n",
            "20 iterations of epochs 260/1000\n",
            "Average recon_error: 18.025\n",
            "Average perplexity: 11.031\n",
            "\n",
            "30 iterations of epochs 260/1000\n",
            "Average recon_error: 17.155\n",
            "Average perplexity: 10.659\n",
            "\n",
            "10 iterations of epochs 261/1000\n",
            "Average recon_error: 16.799\n",
            "Average perplexity: 11.582\n",
            "\n"
          ]
        },
        {
          "output_type": "stream",
          "name": "stderr",
          "text": [
            "\r 26%|██▌       | 261/1000 [00:34<02:01,  6.06it/s]"
          ]
        },
        {
          "output_type": "stream",
          "name": "stdout",
          "text": [
            "20 iterations of epochs 261/1000\n",
            "Average recon_error: 17.875\n",
            "Average perplexity: 10.570\n",
            "\n",
            "30 iterations of epochs 261/1000\n",
            "Average recon_error: 16.225\n",
            "Average perplexity: 11.418\n",
            "\n",
            "10 iterations of epochs 262/1000\n",
            "Average recon_error: 16.178\n",
            "Average perplexity: 11.370\n",
            "\n",
            "20 iterations of epochs 262/1000\n",
            "Average recon_error: 19.058\n",
            "Average perplexity: 10.978\n",
            "\n"
          ]
        },
        {
          "output_type": "stream",
          "name": "stderr",
          "text": [
            "\r 26%|██▌       | 262/1000 [00:34<02:03,  5.98it/s]"
          ]
        },
        {
          "output_type": "stream",
          "name": "stdout",
          "text": [
            "30 iterations of epochs 262/1000\n",
            "Average recon_error: 17.364\n",
            "Average perplexity: 11.408\n",
            "\n",
            "10 iterations of epochs 263/1000\n",
            "Average recon_error: 16.452\n",
            "Average perplexity: 10.631\n",
            "\n",
            "20 iterations of epochs 263/1000\n",
            "Average recon_error: 16.797\n",
            "Average perplexity: 12.084\n",
            "\n",
            "30 iterations of epochs 263/1000\n",
            "Average recon_error: 15.995\n",
            "Average perplexity: 11.957\n",
            "\n"
          ]
        },
        {
          "output_type": "stream",
          "name": "stderr",
          "text": [
            " 26%|██▋       | 264/1000 [00:34<02:03,  5.95it/s]"
          ]
        },
        {
          "output_type": "stream",
          "name": "stdout",
          "text": [
            "10 iterations of epochs 264/1000\n",
            "Average recon_error: 19.227\n",
            "Average perplexity: 11.600\n",
            "\n",
            "20 iterations of epochs 264/1000\n",
            "Average recon_error: 16.376\n",
            "Average perplexity: 11.009\n",
            "\n",
            "30 iterations of epochs 264/1000\n",
            "Average recon_error: 17.465\n",
            "Average perplexity: 11.314\n",
            "\n",
            "10 iterations of epochs 265/1000\n",
            "Average recon_error: 17.729\n",
            "Average perplexity: 11.332\n",
            "\n",
            "20 iterations of epochs 265/1000\n",
            "Average recon_error: 16.598\n",
            "Average perplexity: 11.525\n",
            "\n"
          ]
        },
        {
          "output_type": "stream",
          "name": "stderr",
          "text": [
            " 27%|██▋       | 266/1000 [00:35<01:59,  6.14it/s]"
          ]
        },
        {
          "output_type": "stream",
          "name": "stdout",
          "text": [
            "30 iterations of epochs 265/1000\n",
            "Average recon_error: 17.453\n",
            "Average perplexity: 11.791\n",
            "\n",
            "10 iterations of epochs 266/1000\n",
            "Average recon_error: 16.153\n",
            "Average perplexity: 12.011\n",
            "\n",
            "20 iterations of epochs 266/1000\n",
            "Average recon_error: 19.187\n",
            "Average perplexity: 11.428\n",
            "\n",
            "30 iterations of epochs 266/1000\n",
            "Average recon_error: 17.580\n",
            "Average perplexity: 11.547\n",
            "\n"
          ]
        },
        {
          "output_type": "stream",
          "name": "stderr",
          "text": [
            "\r 27%|██▋       | 267/1000 [00:35<02:04,  5.87it/s]"
          ]
        },
        {
          "output_type": "stream",
          "name": "stdout",
          "text": [
            "10 iterations of epochs 267/1000\n",
            "Average recon_error: 17.323\n",
            "Average perplexity: 10.783\n",
            "\n",
            "20 iterations of epochs 267/1000\n",
            "Average recon_error: 16.131\n",
            "Average perplexity: 11.640\n",
            "\n",
            "30 iterations of epochs 267/1000\n",
            "Average recon_error: 17.644\n",
            "Average perplexity: 11.172\n",
            "\n",
            "10 iterations of epochs 268/1000\n",
            "Average recon_error: 17.119\n",
            "Average perplexity: 11.107\n",
            "\n"
          ]
        },
        {
          "output_type": "stream",
          "name": "stderr",
          "text": [
            "\r 27%|██▋       | 268/1000 [00:35<02:07,  5.75it/s]"
          ]
        },
        {
          "output_type": "stream",
          "name": "stdout",
          "text": [
            "20 iterations of epochs 268/1000\n",
            "Average recon_error: 17.340\n",
            "Average perplexity: 11.362\n",
            "\n",
            "30 iterations of epochs 268/1000\n",
            "Average recon_error: 15.341\n",
            "Average perplexity: 11.915\n",
            "\n",
            "10 iterations of epochs 269/1000\n",
            "Average recon_error: 17.163\n",
            "Average perplexity: 11.063\n",
            "\n",
            "20 iterations of epochs 269/1000\n",
            "Average recon_error: 16.756\n",
            "Average perplexity: 10.628\n",
            "\n"
          ]
        },
        {
          "output_type": "stream",
          "name": "stderr",
          "text": [
            "\r 27%|██▋       | 269/1000 [00:35<02:12,  5.51it/s]"
          ]
        },
        {
          "output_type": "stream",
          "name": "stdout",
          "text": [
            "30 iterations of epochs 269/1000\n",
            "Average recon_error: 16.790\n",
            "Average perplexity: 11.598\n",
            "\n",
            "10 iterations of epochs 270/1000\n",
            "Average recon_error: 17.585\n",
            "Average perplexity: 10.876\n",
            "\n",
            "20 iterations of epochs 270/1000\n",
            "Average recon_error: 17.259\n",
            "Average perplexity: 10.639\n",
            "\n",
            "30 iterations of epochs 270/1000\n",
            "Average recon_error: 16.797\n",
            "Average perplexity: 11.936\n",
            "\n"
          ]
        },
        {
          "output_type": "stream",
          "name": "stderr",
          "text": [
            " 27%|██▋       | 271/1000 [00:36<02:12,  5.52it/s]"
          ]
        },
        {
          "output_type": "stream",
          "name": "stdout",
          "text": [
            "10 iterations of epochs 271/1000\n",
            "Average recon_error: 16.627\n",
            "Average perplexity: 11.140\n",
            "\n",
            "20 iterations of epochs 271/1000\n",
            "Average recon_error: 17.672\n",
            "Average perplexity: 11.772\n",
            "\n",
            "30 iterations of epochs 271/1000\n",
            "Average recon_error: 15.684\n",
            "Average perplexity: 11.318\n",
            "\n",
            "10 iterations of epochs 272/1000\n",
            "Average recon_error: 16.357\n",
            "Average perplexity: 11.124\n",
            "\n"
          ]
        },
        {
          "output_type": "stream",
          "name": "stderr",
          "text": [
            " 27%|██▋       | 273/1000 [00:36<01:56,  6.25it/s]"
          ]
        },
        {
          "output_type": "stream",
          "name": "stdout",
          "text": [
            "20 iterations of epochs 272/1000\n",
            "Average recon_error: 18.054\n",
            "Average perplexity: 12.333\n",
            "\n",
            "30 iterations of epochs 272/1000\n",
            "Average recon_error: 16.728\n",
            "Average perplexity: 11.367\n",
            "\n",
            "10 iterations of epochs 273/1000\n",
            "Average recon_error: 18.527\n",
            "Average perplexity: 11.427\n",
            "\n",
            "20 iterations of epochs 273/1000\n",
            "Average recon_error: 15.448\n",
            "Average perplexity: 11.446\n",
            "\n",
            "30 iterations of epochs 273/1000\n",
            "Average recon_error: 17.184\n",
            "Average perplexity: 10.993\n",
            "\n"
          ]
        },
        {
          "output_type": "stream",
          "name": "stderr",
          "text": [
            "\r 27%|██▋       | 274/1000 [00:36<01:48,  6.72it/s]"
          ]
        },
        {
          "output_type": "stream",
          "name": "stdout",
          "text": [
            "10 iterations of epochs 274/1000\n",
            "Average recon_error: 16.879\n",
            "Average perplexity: 11.410\n",
            "\n",
            "20 iterations of epochs 274/1000\n",
            "Average recon_error: 16.539\n",
            "Average perplexity: 11.349\n",
            "\n",
            "30 iterations of epochs 274/1000\n",
            "Average recon_error: 17.849\n",
            "Average perplexity: 10.868\n",
            "\n",
            "10 iterations of epochs 275/1000\n",
            "Average recon_error: 17.069\n",
            "Average perplexity: 11.309\n",
            "\n",
            "20 iterations of epochs 275/1000\n",
            "Average recon_error: 18.758\n",
            "Average perplexity: 11.285\n",
            "\n",
            "30 iterations of epochs 275/1000\n",
            "Average recon_error: 16.822\n",
            "Average perplexity: 11.529\n",
            "\n"
          ]
        },
        {
          "output_type": "stream",
          "name": "stderr",
          "text": [
            " 28%|██▊       | 276/1000 [00:36<01:40,  7.19it/s]"
          ]
        },
        {
          "output_type": "stream",
          "name": "stdout",
          "text": [
            "10 iterations of epochs 276/1000\n",
            "Average recon_error: 16.507\n",
            "Average perplexity: 10.641\n",
            "\n",
            "20 iterations of epochs 276/1000\n",
            "Average recon_error: 15.107\n",
            "Average perplexity: 10.674\n",
            "\n",
            "30 iterations of epochs 276/1000\n",
            "Average recon_error: 16.519\n",
            "Average perplexity: 11.731\n",
            "\n",
            "10 iterations of epochs 277/1000\n",
            "Average recon_error: 16.535\n",
            "Average perplexity: 10.783\n",
            "\n",
            "20 iterations of epochs 277/1000\n",
            "Average recon_error: 16.472\n",
            "Average perplexity: 10.740\n",
            "\n",
            "30 iterations of epochs 277/1000\n",
            "Average recon_error: 16.210\n",
            "Average perplexity: 11.685\n",
            "\n"
          ]
        },
        {
          "output_type": "stream",
          "name": "stderr",
          "text": [
            " 28%|██▊       | 278/1000 [00:37<01:34,  7.65it/s]"
          ]
        },
        {
          "output_type": "stream",
          "name": "stdout",
          "text": [
            "10 iterations of epochs 278/1000\n",
            "Average recon_error: 18.479\n",
            "Average perplexity: 12.431\n",
            "\n",
            "20 iterations of epochs 278/1000\n",
            "Average recon_error: 15.779\n",
            "Average perplexity: 11.227\n",
            "\n",
            "30 iterations of epochs 278/1000\n",
            "Average recon_error: 18.166\n",
            "Average perplexity: 11.168\n",
            "\n",
            "10 iterations of epochs 279/1000\n",
            "Average recon_error: 16.036\n",
            "Average perplexity: 11.403\n",
            "\n",
            "20 iterations of epochs 279/1000\n",
            "Average recon_error: 16.379\n",
            "Average perplexity: 11.735\n",
            "\n",
            "30 iterations of epochs 279/1000\n",
            "Average recon_error: 17.173\n",
            "Average perplexity: 11.578\n",
            "\n"
          ]
        },
        {
          "output_type": "stream",
          "name": "stderr",
          "text": [
            " 28%|██▊       | 280/1000 [00:37<01:32,  7.79it/s]"
          ]
        },
        {
          "output_type": "stream",
          "name": "stdout",
          "text": [
            "10 iterations of epochs 280/1000\n",
            "Average recon_error: 18.207\n",
            "Average perplexity: 11.525\n",
            "\n",
            "20 iterations of epochs 280/1000\n",
            "Average recon_error: 14.887\n",
            "Average perplexity: 11.763\n",
            "\n",
            "30 iterations of epochs 280/1000\n",
            "Average recon_error: 16.748\n",
            "Average perplexity: 10.676\n",
            "\n",
            "10 iterations of epochs 281/1000\n",
            "Average recon_error: 17.237\n",
            "Average perplexity: 12.451\n",
            "\n",
            "20 iterations of epochs 281/1000\n",
            "Average recon_error: 16.920\n",
            "Average perplexity: 11.579\n",
            "\n",
            "30 iterations of epochs 281/1000\n",
            "Average recon_error: 17.879\n",
            "Average perplexity: 10.875\n",
            "\n"
          ]
        },
        {
          "output_type": "stream",
          "name": "stderr",
          "text": [
            " 28%|██▊       | 282/1000 [00:37<01:31,  7.82it/s]"
          ]
        },
        {
          "output_type": "stream",
          "name": "stdout",
          "text": [
            "10 iterations of epochs 282/1000\n",
            "Average recon_error: 17.218\n",
            "Average perplexity: 11.739\n",
            "\n",
            "20 iterations of epochs 282/1000\n",
            "Average recon_error: 17.027\n",
            "Average perplexity: 11.449\n",
            "\n",
            "30 iterations of epochs 282/1000\n",
            "Average recon_error: 16.444\n",
            "Average perplexity: 11.625\n",
            "\n",
            "10 iterations of epochs 283/1000\n",
            "Average recon_error: 18.077\n",
            "Average perplexity: 10.201\n",
            "\n",
            "20 iterations of epochs 283/1000\n",
            "Average recon_error: 17.069\n",
            "Average perplexity: 11.942\n",
            "\n",
            "30 iterations of epochs 283/1000\n",
            "Average recon_error: 16.996\n",
            "Average perplexity: 11.384\n",
            "\n"
          ]
        },
        {
          "output_type": "stream",
          "name": "stderr",
          "text": [
            " 28%|██▊       | 284/1000 [00:37<01:31,  7.83it/s]"
          ]
        },
        {
          "output_type": "stream",
          "name": "stdout",
          "text": [
            "10 iterations of epochs 284/1000\n",
            "Average recon_error: 18.475\n",
            "Average perplexity: 11.480\n",
            "\n",
            "20 iterations of epochs 284/1000\n",
            "Average recon_error: 16.382\n",
            "Average perplexity: 10.908\n",
            "\n",
            "30 iterations of epochs 284/1000\n",
            "Average recon_error: 16.800\n",
            "Average perplexity: 10.877\n",
            "\n",
            "10 iterations of epochs 285/1000\n",
            "Average recon_error: 17.771\n",
            "Average perplexity: 10.688\n",
            "\n",
            "20 iterations of epochs 285/1000\n",
            "Average recon_error: 16.696\n",
            "Average perplexity: 11.332\n",
            "\n",
            "30 iterations of epochs 285/1000\n",
            "Average recon_error: 16.382\n",
            "Average perplexity: 11.664\n",
            "\n"
          ]
        },
        {
          "output_type": "stream",
          "name": "stderr",
          "text": [
            " 29%|██▊       | 286/1000 [00:38<01:29,  8.02it/s]"
          ]
        },
        {
          "output_type": "stream",
          "name": "stdout",
          "text": [
            "10 iterations of epochs 286/1000\n",
            "Average recon_error: 18.045\n",
            "Average perplexity: 10.875\n",
            "\n",
            "20 iterations of epochs 286/1000\n",
            "Average recon_error: 16.170\n",
            "Average perplexity: 10.867\n",
            "\n",
            "30 iterations of epochs 286/1000\n",
            "Average recon_error: 17.383\n",
            "Average perplexity: 10.374\n",
            "\n",
            "10 iterations of epochs 287/1000\n",
            "Average recon_error: 17.652\n",
            "Average perplexity: 10.890\n",
            "\n",
            "20 iterations of epochs 287/1000\n",
            "Average recon_error: 16.683\n",
            "Average perplexity: 10.861\n",
            "\n",
            "30 iterations of epochs 287/1000\n",
            "Average recon_error: 17.450\n",
            "Average perplexity: 11.324\n",
            "\n"
          ]
        },
        {
          "output_type": "stream",
          "name": "stderr",
          "text": [
            " 29%|██▉       | 288/1000 [00:38<01:27,  8.13it/s]"
          ]
        },
        {
          "output_type": "stream",
          "name": "stdout",
          "text": [
            "10 iterations of epochs 288/1000\n",
            "Average recon_error: 16.936\n",
            "Average perplexity: 10.594\n",
            "\n",
            "20 iterations of epochs 288/1000\n",
            "Average recon_error: 17.597\n",
            "Average perplexity: 10.961\n",
            "\n",
            "30 iterations of epochs 288/1000\n",
            "Average recon_error: 15.854\n",
            "Average perplexity: 11.631\n",
            "\n",
            "10 iterations of epochs 289/1000\n",
            "Average recon_error: 16.316\n",
            "Average perplexity: 11.356\n",
            "\n",
            "20 iterations of epochs 289/1000\n",
            "Average recon_error: 14.653\n",
            "Average perplexity: 10.928\n",
            "\n",
            "30 iterations of epochs 289/1000\n",
            "Average recon_error: 18.015\n",
            "Average perplexity: 11.881\n",
            "\n"
          ]
        },
        {
          "output_type": "stream",
          "name": "stderr",
          "text": [
            " 29%|██▉       | 290/1000 [00:38<01:26,  8.21it/s]"
          ]
        },
        {
          "output_type": "stream",
          "name": "stdout",
          "text": [
            "10 iterations of epochs 290/1000\n",
            "Average recon_error: 17.797\n",
            "Average perplexity: 10.017\n",
            "\n",
            "20 iterations of epochs 290/1000\n",
            "Average recon_error: 17.314\n",
            "Average perplexity: 11.384\n",
            "\n",
            "30 iterations of epochs 290/1000\n",
            "Average recon_error: 16.252\n",
            "Average perplexity: 11.777\n",
            "\n",
            "10 iterations of epochs 291/1000\n",
            "Average recon_error: 17.064\n",
            "Average perplexity: 11.033\n",
            "\n",
            "20 iterations of epochs 291/1000\n",
            "Average recon_error: 18.331\n",
            "Average perplexity: 11.019\n",
            "\n",
            "30 iterations of epochs 291/1000\n",
            "Average recon_error: 15.638\n",
            "Average perplexity: 11.826\n",
            "\n"
          ]
        },
        {
          "output_type": "stream",
          "name": "stderr",
          "text": [
            " 29%|██▉       | 292/1000 [00:38<01:28,  7.96it/s]"
          ]
        },
        {
          "output_type": "stream",
          "name": "stdout",
          "text": [
            "10 iterations of epochs 292/1000\n",
            "Average recon_error: 17.130\n",
            "Average perplexity: 10.896\n",
            "\n",
            "20 iterations of epochs 292/1000\n",
            "Average recon_error: 17.038\n",
            "Average perplexity: 11.145\n",
            "\n",
            "30 iterations of epochs 292/1000\n",
            "Average recon_error: 18.079\n",
            "Average perplexity: 11.526\n",
            "\n",
            "10 iterations of epochs 293/1000\n",
            "Average recon_error: 16.511\n",
            "Average perplexity: 11.202\n",
            "\n",
            "20 iterations of epochs 293/1000\n",
            "Average recon_error: 16.401\n",
            "Average perplexity: 11.373\n",
            "\n",
            "30 iterations of epochs 293/1000\n",
            "Average recon_error: 17.151\n",
            "Average perplexity: 10.855\n",
            "\n"
          ]
        },
        {
          "output_type": "stream",
          "name": "stderr",
          "text": [
            " 29%|██▉       | 294/1000 [00:39<01:27,  8.05it/s]"
          ]
        },
        {
          "output_type": "stream",
          "name": "stdout",
          "text": [
            "10 iterations of epochs 294/1000\n",
            "Average recon_error: 19.727\n",
            "Average perplexity: 10.545\n",
            "\n",
            "20 iterations of epochs 294/1000\n",
            "Average recon_error: 17.557\n",
            "Average perplexity: 10.769\n",
            "\n",
            "30 iterations of epochs 294/1000\n",
            "Average recon_error: 18.726\n",
            "Average perplexity: 10.255\n",
            "\n",
            "10 iterations of epochs 295/1000\n",
            "Average recon_error: 14.567\n",
            "Average perplexity: 11.555\n",
            "\n",
            "20 iterations of epochs 295/1000\n",
            "Average recon_error: 16.660\n",
            "Average perplexity: 10.578\n",
            "\n",
            "30 iterations of epochs 295/1000\n",
            "Average recon_error: 16.905\n",
            "Average perplexity: 11.096\n",
            "\n"
          ]
        },
        {
          "output_type": "stream",
          "name": "stderr",
          "text": [
            " 30%|██▉       | 296/1000 [00:39<01:28,  7.96it/s]"
          ]
        },
        {
          "output_type": "stream",
          "name": "stdout",
          "text": [
            "10 iterations of epochs 296/1000\n",
            "Average recon_error: 16.409\n",
            "Average perplexity: 10.546\n",
            "\n",
            "20 iterations of epochs 296/1000\n",
            "Average recon_error: 17.942\n",
            "Average perplexity: 10.812\n",
            "\n",
            "30 iterations of epochs 296/1000\n",
            "Average recon_error: 16.524\n",
            "Average perplexity: 11.082\n",
            "\n",
            "10 iterations of epochs 297/1000\n",
            "Average recon_error: 17.117\n",
            "Average perplexity: 12.073\n",
            "\n",
            "20 iterations of epochs 297/1000\n",
            "Average recon_error: 16.557\n",
            "Average perplexity: 12.100\n",
            "\n",
            "30 iterations of epochs 297/1000\n",
            "Average recon_error: 17.760\n",
            "Average perplexity: 10.903\n",
            "\n"
          ]
        },
        {
          "output_type": "stream",
          "name": "stderr",
          "text": [
            " 30%|██▉       | 298/1000 [00:39<01:26,  8.07it/s]"
          ]
        },
        {
          "output_type": "stream",
          "name": "stdout",
          "text": [
            "10 iterations of epochs 298/1000\n",
            "Average recon_error: 17.239\n",
            "Average perplexity: 11.538\n",
            "\n",
            "20 iterations of epochs 298/1000\n",
            "Average recon_error: 16.580\n",
            "Average perplexity: 10.656\n",
            "\n",
            "30 iterations of epochs 298/1000\n",
            "Average recon_error: 18.922\n",
            "Average perplexity: 11.921\n",
            "\n",
            "10 iterations of epochs 299/1000\n",
            "Average recon_error: 17.388\n",
            "Average perplexity: 10.996\n",
            "\n",
            "20 iterations of epochs 299/1000\n",
            "Average recon_error: 17.831\n",
            "Average perplexity: 11.085\n",
            "\n",
            "30 iterations of epochs 299/1000\n",
            "Average recon_error: 17.830\n",
            "Average perplexity: 11.377\n",
            "\n"
          ]
        },
        {
          "output_type": "stream",
          "name": "stderr",
          "text": [
            " 30%|███       | 300/1000 [00:39<01:29,  7.84it/s]"
          ]
        },
        {
          "output_type": "stream",
          "name": "stdout",
          "text": [
            "10 iterations of epochs 300/1000\n",
            "Average recon_error: 18.563\n",
            "Average perplexity: 11.440\n",
            "\n",
            "20 iterations of epochs 300/1000\n",
            "Average recon_error: 18.304\n",
            "Average perplexity: 11.325\n",
            "\n",
            "30 iterations of epochs 300/1000\n",
            "Average recon_error: 18.750\n",
            "Average perplexity: 11.314\n",
            "\n",
            "10 iterations of epochs 301/1000\n",
            "Average recon_error: 17.128\n",
            "Average perplexity: 10.926\n",
            "\n",
            "20 iterations of epochs 301/1000\n",
            "Average recon_error: 15.755\n",
            "Average perplexity: 11.395\n",
            "\n",
            "30 iterations of epochs 301/1000\n",
            "Average recon_error: 18.370\n",
            "Average perplexity: 11.013\n",
            "\n"
          ]
        },
        {
          "output_type": "stream",
          "name": "stderr",
          "text": [
            " 30%|███       | 303/1000 [00:40<01:24,  8.25it/s]"
          ]
        },
        {
          "output_type": "stream",
          "name": "stdout",
          "text": [
            "10 iterations of epochs 302/1000\n",
            "Average recon_error: 17.333\n",
            "Average perplexity: 11.409\n",
            "\n",
            "20 iterations of epochs 302/1000\n",
            "Average recon_error: 16.322\n",
            "Average perplexity: 10.692\n",
            "\n",
            "30 iterations of epochs 302/1000\n",
            "Average recon_error: 16.692\n",
            "Average perplexity: 10.244\n",
            "\n",
            "10 iterations of epochs 303/1000\n",
            "Average recon_error: 17.138\n",
            "Average perplexity: 11.753\n",
            "\n",
            "20 iterations of epochs 303/1000\n",
            "Average recon_error: 15.883\n",
            "Average perplexity: 10.987\n",
            "\n",
            "30 iterations of epochs 303/1000\n",
            "Average recon_error: 19.675\n",
            "Average perplexity: 11.521\n",
            "\n"
          ]
        },
        {
          "output_type": "stream",
          "name": "stderr",
          "text": [
            "\r 30%|███       | 304/1000 [00:40<01:25,  8.14it/s]"
          ]
        },
        {
          "output_type": "stream",
          "name": "stdout",
          "text": [
            "10 iterations of epochs 304/1000\n",
            "Average recon_error: 15.861\n",
            "Average perplexity: 10.992\n",
            "\n",
            "20 iterations of epochs 304/1000\n",
            "Average recon_error: 18.391\n",
            "Average perplexity: 11.473\n",
            "\n",
            "30 iterations of epochs 304/1000\n",
            "Average recon_error: 16.461\n",
            "Average perplexity: 10.659\n",
            "\n",
            "10 iterations of epochs 305/1000\n",
            "Average recon_error: 15.800\n",
            "Average perplexity: 11.804\n",
            "\n",
            "20 iterations of epochs 305/1000\n",
            "Average recon_error: 16.454\n",
            "Average perplexity: 10.106\n",
            "\n",
            "30 iterations of epochs 305/1000\n",
            "Average recon_error: 17.209\n",
            "Average perplexity: 10.944\n",
            "\n"
          ]
        },
        {
          "output_type": "stream",
          "name": "stderr",
          "text": [
            " 31%|███       | 306/1000 [00:40<01:24,  8.25it/s]"
          ]
        },
        {
          "output_type": "stream",
          "name": "stdout",
          "text": [
            "10 iterations of epochs 306/1000\n",
            "Average recon_error: 15.822\n",
            "Average perplexity: 10.724\n",
            "\n",
            "20 iterations of epochs 306/1000\n",
            "Average recon_error: 17.409\n",
            "Average perplexity: 11.940\n",
            "\n",
            "30 iterations of epochs 306/1000\n",
            "Average recon_error: 16.736\n",
            "Average perplexity: 10.613\n",
            "\n",
            "10 iterations of epochs 307/1000\n",
            "Average recon_error: 16.250\n",
            "Average perplexity: 10.284\n",
            "\n",
            "20 iterations of epochs 307/1000\n",
            "Average recon_error: 18.010\n",
            "Average perplexity: 11.389\n",
            "\n",
            "30 iterations of epochs 307/1000\n",
            "Average recon_error: 17.377\n",
            "Average perplexity: 12.042\n",
            "\n"
          ]
        },
        {
          "output_type": "stream",
          "name": "stderr",
          "text": [
            " 31%|███       | 308/1000 [00:40<01:27,  7.93it/s]"
          ]
        },
        {
          "output_type": "stream",
          "name": "stdout",
          "text": [
            "10 iterations of epochs 308/1000\n",
            "Average recon_error: 17.015\n",
            "Average perplexity: 10.413\n",
            "\n",
            "20 iterations of epochs 308/1000\n",
            "Average recon_error: 16.132\n",
            "Average perplexity: 11.084\n",
            "\n",
            "30 iterations of epochs 308/1000\n",
            "Average recon_error: 17.208\n",
            "Average perplexity: 10.311\n",
            "\n",
            "10 iterations of epochs 309/1000\n",
            "Average recon_error: 17.357\n",
            "Average perplexity: 11.336\n",
            "\n",
            "20 iterations of epochs 309/1000\n",
            "Average recon_error: 15.418\n",
            "Average perplexity: 10.869\n",
            "\n",
            "30 iterations of epochs 309/1000\n",
            "Average recon_error: 18.114\n"
          ]
        },
        {
          "output_type": "stream",
          "name": "stderr",
          "text": [
            " 31%|███       | 310/1000 [00:41<01:25,  8.06it/s]"
          ]
        },
        {
          "output_type": "stream",
          "name": "stdout",
          "text": [
            "Average perplexity: 11.214\n",
            "\n",
            "10 iterations of epochs 310/1000\n",
            "Average recon_error: 16.993\n",
            "Average perplexity: 10.305\n",
            "\n",
            "20 iterations of epochs 310/1000\n",
            "Average recon_error: 16.701\n",
            "Average perplexity: 11.173\n",
            "\n",
            "30 iterations of epochs 310/1000\n",
            "Average recon_error: 17.585\n",
            "Average perplexity: 10.939\n",
            "\n",
            "10 iterations of epochs 311/1000\n",
            "Average recon_error: 17.919\n",
            "Average perplexity: 11.691\n",
            "\n"
          ]
        },
        {
          "output_type": "stream",
          "name": "stderr",
          "text": [
            " 31%|███       | 312/1000 [00:41<01:25,  8.01it/s]"
          ]
        },
        {
          "output_type": "stream",
          "name": "stdout",
          "text": [
            "20 iterations of epochs 311/1000\n",
            "Average recon_error: 16.545\n",
            "Average perplexity: 11.480\n",
            "\n",
            "30 iterations of epochs 311/1000\n",
            "Average recon_error: 17.342\n",
            "Average perplexity: 12.105\n",
            "\n",
            "10 iterations of epochs 312/1000\n",
            "Average recon_error: 15.772\n",
            "Average perplexity: 11.187\n",
            "\n",
            "20 iterations of epochs 312/1000\n",
            "Average recon_error: 16.082\n",
            "Average perplexity: 11.435\n",
            "\n",
            "30 iterations of epochs 312/1000\n",
            "Average recon_error: 17.086\n",
            "Average perplexity: 10.784\n",
            "\n"
          ]
        },
        {
          "output_type": "stream",
          "name": "stderr",
          "text": [
            "\r 31%|███▏      | 313/1000 [00:41<01:26,  7.96it/s]"
          ]
        },
        {
          "output_type": "stream",
          "name": "stdout",
          "text": [
            "10 iterations of epochs 313/1000\n",
            "Average recon_error: 15.572\n",
            "Average perplexity: 10.848\n",
            "\n",
            "20 iterations of epochs 313/1000\n",
            "Average recon_error: 18.664\n",
            "Average perplexity: 11.495\n",
            "\n",
            "30 iterations of epochs 313/1000\n",
            "Average recon_error: 16.648\n",
            "Average perplexity: 10.799\n",
            "\n",
            "10 iterations of epochs 314/1000\n",
            "Average recon_error: 17.251\n",
            "Average perplexity: 12.079\n",
            "\n",
            "20 iterations of epochs 314/1000\n",
            "Average recon_error: 18.222\n",
            "Average perplexity: 11.405\n",
            "\n",
            "30 iterations of epochs 314/1000\n",
            "Average recon_error: 16.399\n",
            "Average perplexity: 11.683\n",
            "\n"
          ]
        },
        {
          "output_type": "stream",
          "name": "stderr",
          "text": [
            " 32%|███▏      | 315/1000 [00:41<01:24,  8.13it/s]"
          ]
        },
        {
          "output_type": "stream",
          "name": "stdout",
          "text": [
            "10 iterations of epochs 315/1000\n",
            "Average recon_error: 15.881\n",
            "Average perplexity: 11.085\n",
            "\n",
            "20 iterations of epochs 315/1000\n",
            "Average recon_error: 17.878\n",
            "Average perplexity: 12.277\n",
            "\n",
            "30 iterations of epochs 315/1000\n",
            "Average recon_error: 18.168\n",
            "Average perplexity: 11.702\n",
            "\n",
            "10 iterations of epochs 316/1000\n",
            "Average recon_error: 16.923\n",
            "Average perplexity: 10.968\n",
            "\n",
            "20 iterations of epochs 316/1000\n",
            "Average recon_error: 18.176\n",
            "Average perplexity: 11.408\n",
            "\n",
            "30 iterations of epochs 316/1000\n",
            "Average recon_error: 17.737\n",
            "Average perplexity: 11.322"
          ]
        },
        {
          "output_type": "stream",
          "name": "stderr",
          "text": [
            " 32%|███▏      | 317/1000 [00:41<01:26,  7.91it/s]"
          ]
        },
        {
          "output_type": "stream",
          "name": "stdout",
          "text": [
            "\n",
            "\n",
            "10 iterations of epochs 317/1000\n",
            "Average recon_error: 15.936\n",
            "Average perplexity: 10.942\n",
            "\n",
            "20 iterations of epochs 317/1000\n",
            "Average recon_error: 15.889\n",
            "Average perplexity: 11.662\n",
            "\n",
            "30 iterations of epochs 317/1000\n",
            "Average recon_error: 17.036\n",
            "Average perplexity: 10.585\n",
            "\n",
            "10 iterations of epochs 318/1000\n",
            "Average recon_error: 17.085\n",
            "Average perplexity: 11.223\n",
            "\n"
          ]
        },
        {
          "output_type": "stream",
          "name": "stderr",
          "text": [
            " 32%|███▏      | 319/1000 [00:42<01:23,  8.12it/s]"
          ]
        },
        {
          "output_type": "stream",
          "name": "stdout",
          "text": [
            "20 iterations of epochs 318/1000\n",
            "Average recon_error: 17.019\n",
            "Average perplexity: 11.454\n",
            "\n",
            "30 iterations of epochs 318/1000\n",
            "Average recon_error: 15.741\n",
            "Average perplexity: 11.139\n",
            "\n",
            "10 iterations of epochs 319/1000\n",
            "Average recon_error: 16.193\n",
            "Average perplexity: 10.697\n",
            "\n",
            "20 iterations of epochs 319/1000\n",
            "Average recon_error: 18.568\n",
            "Average perplexity: 11.565\n",
            "\n",
            "30 iterations of epochs 319/1000\n",
            "Average recon_error: 16.218\n",
            "Average perplexity: 11.378\n",
            "\n"
          ]
        },
        {
          "output_type": "stream",
          "name": "stderr",
          "text": [
            "\r 32%|███▏      | 320/1000 [00:42<01:24,  8.09it/s]"
          ]
        },
        {
          "output_type": "stream",
          "name": "stdout",
          "text": [
            "10 iterations of epochs 320/1000\n",
            "Average recon_error: 16.051\n",
            "Average perplexity: 11.786\n",
            "\n",
            "20 iterations of epochs 320/1000\n",
            "Average recon_error: 17.893\n",
            "Average perplexity: 10.979\n",
            "\n",
            "30 iterations of epochs 320/1000\n",
            "Average recon_error: 17.480\n",
            "Average perplexity: 12.017\n",
            "\n",
            "10 iterations of epochs 321/1000\n",
            "Average recon_error: 18.118\n",
            "Average perplexity: 10.569\n",
            "\n",
            "20 iterations of epochs 321/1000\n",
            "Average recon_error: 17.389\n",
            "Average perplexity: 12.021\n",
            "\n",
            "30 iterations of epochs 321/1000\n",
            "Average recon_error: 17.691\n",
            "Average perplexity: 10.527\n",
            "\n"
          ]
        },
        {
          "output_type": "stream",
          "name": "stderr",
          "text": [
            " 32%|███▏      | 322/1000 [00:42<01:22,  8.20it/s]"
          ]
        },
        {
          "output_type": "stream",
          "name": "stdout",
          "text": [
            "10 iterations of epochs 322/1000\n",
            "Average recon_error: 18.111\n",
            "Average perplexity: 11.418\n",
            "\n",
            "20 iterations of epochs 322/1000\n",
            "Average recon_error: 16.432\n",
            "Average perplexity: 11.384\n",
            "\n",
            "30 iterations of epochs 322/1000\n",
            "Average recon_error: 17.751\n",
            "Average perplexity: 10.484\n",
            "\n",
            "10 iterations of epochs 323/1000\n",
            "Average recon_error: 18.364\n",
            "Average perplexity: 10.955\n",
            "\n",
            "20 iterations of epochs 323/1000\n",
            "Average recon_error: 16.145\n",
            "Average perplexity: 10.987\n",
            "\n",
            "30 iterations of epochs 323/1000\n",
            "Average recon_error: 16.642\n",
            "Average perplexity: 11.458\n",
            "\n"
          ]
        },
        {
          "output_type": "stream",
          "name": "stderr",
          "text": [
            " 32%|███▏      | 324/1000 [00:42<01:27,  7.73it/s]"
          ]
        },
        {
          "output_type": "stream",
          "name": "stdout",
          "text": [
            "10 iterations of epochs 324/1000\n",
            "Average recon_error: 18.789\n",
            "Average perplexity: 10.855\n",
            "\n",
            "20 iterations of epochs 324/1000\n",
            "Average recon_error: 17.382\n",
            "Average perplexity: 11.793\n",
            "\n",
            "30 iterations of epochs 324/1000\n",
            "Average recon_error: 16.133\n",
            "Average perplexity: 10.880\n",
            "\n",
            "10 iterations of epochs 325/1000\n",
            "Average recon_error: 15.971\n",
            "Average perplexity: 10.922\n",
            "\n",
            "20 iterations of epochs 325/1000\n",
            "Average recon_error: 15.601\n",
            "Average perplexity: 10.890\n",
            "\n"
          ]
        },
        {
          "output_type": "stream",
          "name": "stderr",
          "text": [
            " 33%|███▎      | 326/1000 [00:43<01:25,  7.90it/s]"
          ]
        },
        {
          "output_type": "stream",
          "name": "stdout",
          "text": [
            "30 iterations of epochs 325/1000\n",
            "Average recon_error: 18.665\n",
            "Average perplexity: 10.802\n",
            "\n",
            "10 iterations of epochs 326/1000\n",
            "Average recon_error: 17.096\n",
            "Average perplexity: 11.694\n",
            "\n",
            "20 iterations of epochs 326/1000\n",
            "Average recon_error: 14.907\n",
            "Average perplexity: 10.873\n",
            "\n",
            "30 iterations of epochs 326/1000\n",
            "Average recon_error: 15.990\n",
            "Average perplexity: 11.034\n",
            "\n",
            "10 iterations of epochs 327/1000\n",
            "Average recon_error: 16.806\n",
            "Average perplexity: 10.461\n",
            "\n"
          ]
        },
        {
          "output_type": "stream",
          "name": "stderr",
          "text": [
            " 33%|███▎      | 328/1000 [00:43<01:24,  7.95it/s]"
          ]
        },
        {
          "output_type": "stream",
          "name": "stdout",
          "text": [
            "20 iterations of epochs 327/1000\n",
            "Average recon_error: 17.545\n",
            "Average perplexity: 11.213\n",
            "\n",
            "30 iterations of epochs 327/1000\n",
            "Average recon_error: 16.456\n",
            "Average perplexity: 11.773\n",
            "\n",
            "10 iterations of epochs 328/1000\n",
            "Average recon_error: 17.494\n",
            "Average perplexity: 11.599\n",
            "\n",
            "20 iterations of epochs 328/1000\n",
            "Average recon_error: 15.767\n",
            "Average perplexity: 10.711\n",
            "\n",
            "30 iterations of epochs 328/1000\n",
            "Average recon_error: 17.497\n",
            "Average perplexity: 11.315\n",
            "\n"
          ]
        },
        {
          "output_type": "stream",
          "name": "stderr",
          "text": [
            "\r 33%|███▎      | 329/1000 [00:43<01:24,  7.94it/s]"
          ]
        },
        {
          "output_type": "stream",
          "name": "stdout",
          "text": [
            "10 iterations of epochs 329/1000\n",
            "Average recon_error: 16.685\n",
            "Average perplexity: 11.009\n",
            "\n",
            "20 iterations of epochs 329/1000\n",
            "Average recon_error: 18.094\n",
            "Average perplexity: 11.181\n",
            "\n",
            "30 iterations of epochs 329/1000\n",
            "Average recon_error: 15.933\n",
            "Average perplexity: 11.854\n",
            "\n",
            "10 iterations of epochs 330/1000\n",
            "Average recon_error: 18.686\n",
            "Average perplexity: 11.015\n",
            "\n",
            "20 iterations of epochs 330/1000\n",
            "Average recon_error: 17.606\n",
            "Average perplexity: 11.204\n",
            "\n",
            "30 iterations of epochs 330/1000\n",
            "Average recon_error: 17.392\n",
            "Average perplexity: 11.463\n",
            "\n"
          ]
        },
        {
          "output_type": "stream",
          "name": "stderr",
          "text": [
            " 33%|███▎      | 331/1000 [00:43<01:23,  7.97it/s]"
          ]
        },
        {
          "output_type": "stream",
          "name": "stdout",
          "text": [
            "10 iterations of epochs 331/1000\n",
            "Average recon_error: 16.858\n",
            "Average perplexity: 11.137\n",
            "\n",
            "20 iterations of epochs 331/1000\n",
            "Average recon_error: 17.520\n",
            "Average perplexity: 11.565\n",
            "\n",
            "30 iterations of epochs 331/1000\n",
            "Average recon_error: 16.260\n",
            "Average perplexity: 10.537\n",
            "\n",
            "10 iterations of epochs 332/1000\n",
            "Average recon_error: 16.523\n",
            "Average perplexity: 10.233\n",
            "\n",
            "20 iterations of epochs 332/1000\n",
            "Average recon_error: 17.506\n",
            "Average perplexity: 10.269\n",
            "\n",
            "30 iterations of epochs 332/1000\n",
            "Average recon_error: 17.926\n",
            "Average perplexity: 12.085\n",
            "\n"
          ]
        },
        {
          "output_type": "stream",
          "name": "stderr",
          "text": [
            " 33%|███▎      | 333/1000 [00:44<01:25,  7.84it/s]"
          ]
        },
        {
          "output_type": "stream",
          "name": "stdout",
          "text": [
            "10 iterations of epochs 333/1000\n",
            "Average recon_error: 17.735\n",
            "Average perplexity: 11.122\n",
            "\n",
            "20 iterations of epochs 333/1000\n",
            "Average recon_error: 16.825\n",
            "Average perplexity: 10.367\n",
            "\n",
            "30 iterations of epochs 333/1000\n",
            "Average recon_error: 16.446\n",
            "Average perplexity: 11.525\n",
            "\n",
            "10 iterations of epochs 334/1000\n",
            "Average recon_error: 18.173\n",
            "Average perplexity: 10.873\n",
            "\n",
            "20 iterations of epochs 334/1000\n",
            "Average recon_error: 17.140\n",
            "Average perplexity: 10.848\n",
            "\n",
            "30 iterations of epochs 334/1000\n",
            "Average recon_error: 17.097\n",
            "Average perplexity: 10.549\n",
            "\n"
          ]
        },
        {
          "output_type": "stream",
          "name": "stderr",
          "text": [
            " 34%|███▎      | 336/1000 [00:44<01:21,  8.19it/s]"
          ]
        },
        {
          "output_type": "stream",
          "name": "stdout",
          "text": [
            "10 iterations of epochs 335/1000\n",
            "Average recon_error: 17.086\n",
            "Average perplexity: 10.390\n",
            "\n",
            "20 iterations of epochs 335/1000\n",
            "Average recon_error: 18.198\n",
            "Average perplexity: 11.433\n",
            "\n",
            "30 iterations of epochs 335/1000\n",
            "Average recon_error: 17.560\n",
            "Average perplexity: 10.987\n",
            "\n",
            "10 iterations of epochs 336/1000\n",
            "Average recon_error: 15.809\n",
            "Average perplexity: 11.627\n",
            "\n",
            "20 iterations of epochs 336/1000\n",
            "Average recon_error: 18.694\n",
            "Average perplexity: 10.476\n",
            "\n",
            "30 iterations of epochs 336/1000\n",
            "Average recon_error: 17.215\n",
            "Average perplexity: 11.210\n",
            "\n"
          ]
        },
        {
          "output_type": "stream",
          "name": "stderr",
          "text": [
            "\r 34%|███▎      | 337/1000 [00:44<01:21,  8.11it/s]"
          ]
        },
        {
          "output_type": "stream",
          "name": "stdout",
          "text": [
            "10 iterations of epochs 337/1000\n",
            "Average recon_error: 18.092\n",
            "Average perplexity: 10.986\n",
            "\n",
            "20 iterations of epochs 337/1000\n",
            "Average recon_error: 16.430\n",
            "Average perplexity: 10.786\n",
            "\n",
            "30 iterations of epochs 337/1000\n",
            "Average recon_error: 16.076\n",
            "Average perplexity: 11.732\n",
            "\n",
            "10 iterations of epochs 338/1000\n",
            "Average recon_error: 17.820\n",
            "Average perplexity: 10.772\n",
            "\n",
            "20 iterations of epochs 338/1000\n",
            "Average recon_error: 15.637\n",
            "Average perplexity: 11.489\n",
            "\n",
            "30 iterations of epochs 338/1000\n",
            "Average recon_error: 17.777\n",
            "Average perplexity: 10.793\n",
            "\n"
          ]
        },
        {
          "output_type": "stream",
          "name": "stderr",
          "text": [
            " 34%|███▍      | 339/1000 [00:44<01:22,  8.02it/s]"
          ]
        },
        {
          "output_type": "stream",
          "name": "stdout",
          "text": [
            "10 iterations of epochs 339/1000\n",
            "Average recon_error: 16.106\n",
            "Average perplexity: 10.668\n",
            "\n",
            "20 iterations of epochs 339/1000\n",
            "Average recon_error: 18.863\n",
            "Average perplexity: 11.697\n",
            "\n",
            "30 iterations of epochs 339/1000\n",
            "Average recon_error: 16.522\n",
            "Average perplexity: 11.144\n",
            "\n",
            "10 iterations of epochs 340/1000\n",
            "Average recon_error: 17.457\n",
            "Average perplexity: 10.830\n",
            "\n",
            "20 iterations of epochs 340/1000\n",
            "Average recon_error: 17.522\n",
            "Average perplexity: 10.624\n",
            "\n",
            "30 iterations of epochs 340/1000\n",
            "Average recon_error: 16.429\n",
            "Average perplexity: 11.822\n",
            "\n"
          ]
        },
        {
          "output_type": "stream",
          "name": "stderr",
          "text": [
            " 34%|███▍      | 341/1000 [00:45<01:24,  7.76it/s]"
          ]
        },
        {
          "output_type": "stream",
          "name": "stdout",
          "text": [
            "10 iterations of epochs 341/1000\n",
            "Average recon_error: 16.234\n",
            "Average perplexity: 10.570\n",
            "\n",
            "20 iterations of epochs 341/1000\n",
            "Average recon_error: 17.198\n",
            "Average perplexity: 11.305\n",
            "\n",
            "30 iterations of epochs 341/1000\n",
            "Average recon_error: 16.527\n",
            "Average perplexity: 11.123\n",
            "\n",
            "10 iterations of epochs 342/1000\n",
            "Average recon_error: 16.421\n",
            "Average perplexity: 11.428\n",
            "\n",
            "20 iterations of epochs 342/1000\n",
            "Average recon_error: 16.462\n",
            "Average perplexity: 10.886\n",
            "\n",
            "30 iterations of epochs 342/1000\n",
            "Average recon_error: 17.980\n",
            "Average perplexity: 10.463\n",
            "\n"
          ]
        },
        {
          "output_type": "stream",
          "name": "stderr",
          "text": [
            " 34%|███▍      | 343/1000 [00:45<01:23,  7.87it/s]"
          ]
        },
        {
          "output_type": "stream",
          "name": "stdout",
          "text": [
            "10 iterations of epochs 343/1000\n",
            "Average recon_error: 17.953\n",
            "Average perplexity: 11.810\n",
            "\n",
            "20 iterations of epochs 343/1000\n",
            "Average recon_error: 16.076\n",
            "Average perplexity: 11.396\n",
            "\n",
            "30 iterations of epochs 343/1000\n",
            "Average recon_error: 16.265\n",
            "Average perplexity: 10.813\n",
            "\n",
            "10 iterations of epochs 344/1000\n",
            "Average recon_error: 17.138\n",
            "Average perplexity: 11.017\n",
            "\n",
            "20 iterations of epochs 344/1000\n",
            "Average recon_error: 16.033\n",
            "Average perplexity: 11.206\n",
            "\n",
            "30 iterations of epochs 344/1000\n",
            "Average recon_error: 17.112\n",
            "Average perplexity: 12.050\n",
            "\n"
          ]
        },
        {
          "output_type": "stream",
          "name": "stderr",
          "text": [
            " 34%|███▍      | 345/1000 [00:45<01:22,  7.97it/s]"
          ]
        },
        {
          "output_type": "stream",
          "name": "stdout",
          "text": [
            "10 iterations of epochs 345/1000\n",
            "Average recon_error: 15.760\n",
            "Average perplexity: 10.215\n",
            "\n",
            "20 iterations of epochs 345/1000\n",
            "Average recon_error: 17.037\n",
            "Average perplexity: 11.835\n",
            "\n",
            "30 iterations of epochs 345/1000\n",
            "Average recon_error: 16.198\n",
            "Average perplexity: 11.590\n",
            "\n",
            "10 iterations of epochs 346/1000\n",
            "Average recon_error: 18.127\n",
            "Average perplexity: 10.295\n",
            "\n",
            "20 iterations of epochs 346/1000\n",
            "Average recon_error: 16.919\n",
            "Average perplexity: 11.746\n",
            "\n",
            "30 iterations of epochs 346/1000\n",
            "Average recon_error: 17.222\n",
            "Average perplexity: 11.784\n",
            "\n"
          ]
        },
        {
          "output_type": "stream",
          "name": "stderr",
          "text": [
            " 35%|███▍      | 347/1000 [00:45<01:22,  7.90it/s]"
          ]
        },
        {
          "output_type": "stream",
          "name": "stdout",
          "text": [
            "10 iterations of epochs 347/1000\n",
            "Average recon_error: 16.644\n",
            "Average perplexity: 11.073\n",
            "\n",
            "20 iterations of epochs 347/1000\n",
            "Average recon_error: 18.261\n",
            "Average perplexity: 11.935\n",
            "\n",
            "30 iterations of epochs 347/1000\n",
            "Average recon_error: 17.191\n",
            "Average perplexity: 11.064\n",
            "\n",
            "10 iterations of epochs 348/1000\n",
            "Average recon_error: 16.434\n",
            "Average perplexity: 11.118\n",
            "\n",
            "20 iterations of epochs 348/1000\n",
            "Average recon_error: 16.314\n",
            "Average perplexity: 11.544\n",
            "\n",
            "30 iterations of epochs 348/1000\n",
            "Average recon_error: 16.223\n",
            "Average perplexity: 11.092\n",
            "\n"
          ]
        },
        {
          "output_type": "stream",
          "name": "stderr",
          "text": [
            " 35%|███▍      | 349/1000 [00:46<01:23,  7.79it/s]"
          ]
        },
        {
          "output_type": "stream",
          "name": "stdout",
          "text": [
            "10 iterations of epochs 349/1000\n",
            "Average recon_error: 16.920\n",
            "Average perplexity: 10.351\n",
            "\n",
            "20 iterations of epochs 349/1000\n",
            "Average recon_error: 18.020\n",
            "Average perplexity: 11.491\n",
            "\n",
            "30 iterations of epochs 349/1000\n",
            "Average recon_error: 16.495\n",
            "Average perplexity: 11.101\n",
            "\n",
            "10 iterations of epochs 350/1000\n",
            "Average recon_error: 17.734\n",
            "Average perplexity: 10.629\n",
            "\n",
            "20 iterations of epochs 350/1000\n",
            "Average recon_error: 17.402\n",
            "Average perplexity: 11.988\n",
            "\n",
            "30 iterations of epochs 350/1000\n",
            "Average recon_error: 17.837\n",
            "Average perplexity: 10.834\n",
            "\n"
          ]
        },
        {
          "output_type": "stream",
          "name": "stderr",
          "text": [
            " 35%|███▌      | 351/1000 [00:46<01:20,  8.06it/s]"
          ]
        },
        {
          "output_type": "stream",
          "name": "stdout",
          "text": [
            "10 iterations of epochs 351/1000\n",
            "Average recon_error: 18.500\n",
            "Average perplexity: 11.588\n",
            "\n",
            "20 iterations of epochs 351/1000\n",
            "Average recon_error: 15.624\n",
            "Average perplexity: 11.192\n",
            "\n",
            "30 iterations of epochs 351/1000\n",
            "Average recon_error: 16.788\n",
            "Average perplexity: 10.594\n",
            "\n",
            "10 iterations of epochs 352/1000\n",
            "Average recon_error: 17.712\n",
            "Average perplexity: 11.274\n",
            "\n",
            "20 iterations of epochs 352/1000\n",
            "Average recon_error: 17.550\n",
            "Average perplexity: 11.897\n",
            "\n",
            "30 iterations of epochs 352/1000\n",
            "Average recon_error: 16.433"
          ]
        },
        {
          "output_type": "stream",
          "name": "stderr",
          "text": [
            "\r 35%|███▌      | 352/1000 [00:46<01:26,  7.51it/s]"
          ]
        },
        {
          "output_type": "stream",
          "name": "stdout",
          "text": [
            "\n",
            "Average perplexity: 10.736\n",
            "\n",
            "10 iterations of epochs 353/1000\n",
            "Average recon_error: 17.800\n",
            "Average perplexity: 11.860\n",
            "\n",
            "20 iterations of epochs 353/1000\n",
            "Average recon_error: 17.672\n",
            "Average perplexity: 11.727\n",
            "\n",
            "30 iterations of epochs 353/1000\n",
            "Average recon_error: 16.096\n",
            "Average perplexity: 10.948\n",
            "\n"
          ]
        },
        {
          "output_type": "stream",
          "name": "stderr",
          "text": [
            " 35%|███▌      | 354/1000 [00:46<01:38,  6.56it/s]"
          ]
        },
        {
          "output_type": "stream",
          "name": "stdout",
          "text": [
            "10 iterations of epochs 354/1000\n",
            "Average recon_error: 18.698\n",
            "Average perplexity: 11.391\n",
            "\n",
            "20 iterations of epochs 354/1000\n",
            "Average recon_error: 15.922\n",
            "Average perplexity: 11.042\n",
            "\n",
            "30 iterations of epochs 354/1000\n",
            "Average recon_error: 18.034\n",
            "Average perplexity: 10.625\n",
            "\n",
            "10 iterations of epochs 355/1000\n",
            "Average recon_error: 17.062\n",
            "Average perplexity: 10.038\n",
            "\n"
          ]
        },
        {
          "output_type": "stream",
          "name": "stderr",
          "text": [
            "\r 36%|███▌      | 355/1000 [00:46<01:41,  6.35it/s]"
          ]
        },
        {
          "output_type": "stream",
          "name": "stdout",
          "text": [
            "20 iterations of epochs 355/1000\n",
            "Average recon_error: 17.155\n",
            "Average perplexity: 11.618\n",
            "\n",
            "30 iterations of epochs 355/1000\n",
            "Average recon_error: 18.616\n",
            "Average perplexity: 11.041\n",
            "\n",
            "10 iterations of epochs 356/1000\n",
            "Average recon_error: 17.220\n",
            "Average perplexity: 11.617\n",
            "\n",
            "20 iterations of epochs 356/1000\n",
            "Average recon_error: 16.977\n",
            "Average perplexity: 11.683\n",
            "\n"
          ]
        },
        {
          "output_type": "stream",
          "name": "stderr",
          "text": [
            " 36%|███▌      | 357/1000 [00:47<01:45,  6.11it/s]"
          ]
        },
        {
          "output_type": "stream",
          "name": "stdout",
          "text": [
            "30 iterations of epochs 356/1000\n",
            "Average recon_error: 18.131\n",
            "Average perplexity: 11.172\n",
            "\n",
            "10 iterations of epochs 357/1000\n",
            "Average recon_error: 17.876\n",
            "Average perplexity: 11.602\n",
            "\n",
            "20 iterations of epochs 357/1000\n",
            "Average recon_error: 17.786\n",
            "Average perplexity: 10.789\n",
            "\n",
            "30 iterations of epochs 357/1000\n",
            "Average recon_error: 17.280\n",
            "Average perplexity: 10.546\n",
            "\n"
          ]
        },
        {
          "output_type": "stream",
          "name": "stderr",
          "text": [
            "\r 36%|███▌      | 358/1000 [00:47<01:45,  6.07it/s]"
          ]
        },
        {
          "output_type": "stream",
          "name": "stdout",
          "text": [
            "10 iterations of epochs 358/1000\n",
            "Average recon_error: 17.495\n",
            "Average perplexity: 11.213\n",
            "\n",
            "20 iterations of epochs 358/1000\n",
            "Average recon_error: 16.319\n",
            "Average perplexity: 11.136\n",
            "\n",
            "30 iterations of epochs 358/1000\n",
            "Average recon_error: 17.291\n",
            "Average perplexity: 11.421\n",
            "\n",
            "10 iterations of epochs 359/1000\n",
            "Average recon_error: 16.849\n",
            "Average perplexity: 11.189\n",
            "\n",
            "20 iterations of epochs 359/1000\n",
            "Average recon_error: 15.413\n",
            "Average perplexity: 10.641\n",
            "\n"
          ]
        },
        {
          "output_type": "stream",
          "name": "stderr",
          "text": [
            " 36%|███▌      | 360/1000 [00:47<01:43,  6.21it/s]"
          ]
        },
        {
          "output_type": "stream",
          "name": "stdout",
          "text": [
            "30 iterations of epochs 359/1000\n",
            "Average recon_error: 16.555\n",
            "Average perplexity: 11.530\n",
            "\n",
            "10 iterations of epochs 360/1000\n",
            "Average recon_error: 16.260\n",
            "Average perplexity: 10.963\n",
            "\n",
            "20 iterations of epochs 360/1000\n",
            "Average recon_error: 16.158\n",
            "Average perplexity: 11.347\n",
            "\n",
            "30 iterations of epochs 360/1000\n",
            "Average recon_error: 16.405\n",
            "Average perplexity: 11.525\n",
            "\n"
          ]
        },
        {
          "output_type": "stream",
          "name": "stderr",
          "text": [
            "\r 36%|███▌      | 361/1000 [00:47<01:46,  5.98it/s]"
          ]
        },
        {
          "output_type": "stream",
          "name": "stdout",
          "text": [
            "10 iterations of epochs 361/1000\n",
            "Average recon_error: 17.116\n",
            "Average perplexity: 11.393\n",
            "\n",
            "20 iterations of epochs 361/1000\n",
            "Average recon_error: 15.688\n",
            "Average perplexity: 10.793\n",
            "\n",
            "30 iterations of epochs 361/1000\n",
            "Average recon_error: 16.551\n",
            "Average perplexity: 11.603\n",
            "\n",
            "10 iterations of epochs 362/1000\n",
            "Average recon_error: 17.081\n",
            "Average perplexity: 11.250\n",
            "\n"
          ]
        },
        {
          "output_type": "stream",
          "name": "stderr",
          "text": [
            "\r 36%|███▌      | 362/1000 [00:48<01:50,  5.76it/s]"
          ]
        },
        {
          "output_type": "stream",
          "name": "stdout",
          "text": [
            "20 iterations of epochs 362/1000\n",
            "Average recon_error: 17.153\n",
            "Average perplexity: 11.005\n",
            "\n",
            "30 iterations of epochs 362/1000\n",
            "Average recon_error: 17.174\n",
            "Average perplexity: 10.943\n",
            "\n",
            "10 iterations of epochs 363/1000\n",
            "Average recon_error: 17.399\n",
            "Average perplexity: 11.592\n",
            "\n",
            "20 iterations of epochs 363/1000\n",
            "Average recon_error: 16.297\n",
            "Average perplexity: 11.692\n",
            "\n"
          ]
        },
        {
          "output_type": "stream",
          "name": "stderr",
          "text": [
            "\r 36%|███▋      | 363/1000 [00:48<01:51,  5.72it/s]"
          ]
        },
        {
          "output_type": "stream",
          "name": "stdout",
          "text": [
            "30 iterations of epochs 363/1000\n",
            "Average recon_error: 16.263\n",
            "Average perplexity: 11.676\n",
            "\n",
            "10 iterations of epochs 364/1000\n",
            "Average recon_error: 15.677\n",
            "Average perplexity: 11.371\n",
            "\n",
            "20 iterations of epochs 364/1000\n",
            "Average recon_error: 16.444\n",
            "Average perplexity: 10.400\n",
            "\n",
            "30 iterations of epochs 364/1000\n",
            "Average recon_error: 17.538\n",
            "Average perplexity: 11.320\n",
            "\n"
          ]
        },
        {
          "output_type": "stream",
          "name": "stderr",
          "text": [
            " 36%|███▋      | 365/1000 [00:48<01:51,  5.70it/s]"
          ]
        },
        {
          "output_type": "stream",
          "name": "stdout",
          "text": [
            "10 iterations of epochs 365/1000\n",
            "Average recon_error: 16.525\n",
            "Average perplexity: 11.619\n",
            "\n",
            "20 iterations of epochs 365/1000\n",
            "Average recon_error: 16.640\n",
            "Average perplexity: 11.268\n",
            "\n",
            "30 iterations of epochs 365/1000\n",
            "Average recon_error: 16.733\n",
            "Average perplexity: 10.603\n",
            "\n",
            "10 iterations of epochs 366/1000\n",
            "Average recon_error: 15.766\n",
            "Average perplexity: 11.717\n",
            "\n"
          ]
        },
        {
          "output_type": "stream",
          "name": "stderr",
          "text": [
            "\r 37%|███▋      | 366/1000 [00:48<01:55,  5.50it/s]"
          ]
        },
        {
          "output_type": "stream",
          "name": "stdout",
          "text": [
            "20 iterations of epochs 366/1000\n",
            "Average recon_error: 16.331\n",
            "Average perplexity: 11.384\n",
            "\n",
            "30 iterations of epochs 366/1000\n",
            "Average recon_error: 16.433\n",
            "Average perplexity: 11.307\n",
            "\n",
            "10 iterations of epochs 367/1000\n",
            "Average recon_error: 18.190\n",
            "Average perplexity: 10.621\n",
            "\n",
            "20 iterations of epochs 367/1000\n",
            "Average recon_error: 16.478\n",
            "Average perplexity: 10.683\n",
            "\n"
          ]
        },
        {
          "output_type": "stream",
          "name": "stderr",
          "text": [
            " 37%|███▋      | 368/1000 [00:49<01:44,  6.05it/s]"
          ]
        },
        {
          "output_type": "stream",
          "name": "stdout",
          "text": [
            "30 iterations of epochs 367/1000\n",
            "Average recon_error: 17.571\n",
            "Average perplexity: 11.434\n",
            "\n",
            "10 iterations of epochs 368/1000\n",
            "Average recon_error: 16.268\n",
            "Average perplexity: 11.190\n",
            "\n",
            "20 iterations of epochs 368/1000\n",
            "Average recon_error: 18.547\n",
            "Average perplexity: 11.032\n",
            "\n",
            "30 iterations of epochs 368/1000\n",
            "Average recon_error: 17.281\n",
            "Average perplexity: 11.606\n",
            "\n",
            "10 iterations of epochs 369/1000\n",
            "Average recon_error: 16.667\n",
            "Average perplexity: 11.611\n",
            "\n"
          ]
        },
        {
          "output_type": "stream",
          "name": "stderr",
          "text": [
            " 37%|███▋      | 370/1000 [00:49<01:29,  7.05it/s]"
          ]
        },
        {
          "output_type": "stream",
          "name": "stdout",
          "text": [
            "20 iterations of epochs 369/1000\n",
            "Average recon_error: 17.320\n",
            "Average perplexity: 11.138\n",
            "\n",
            "30 iterations of epochs 369/1000\n",
            "Average recon_error: 17.050\n",
            "Average perplexity: 9.982\n",
            "\n",
            "10 iterations of epochs 370/1000\n",
            "Average recon_error: 17.016\n",
            "Average perplexity: 11.292\n",
            "\n",
            "20 iterations of epochs 370/1000\n",
            "Average recon_error: 17.004\n",
            "Average perplexity: 11.581\n",
            "\n",
            "30 iterations of epochs 370/1000\n",
            "Average recon_error: 17.104\n",
            "Average perplexity: 11.776\n",
            "\n"
          ]
        },
        {
          "output_type": "stream",
          "name": "stderr",
          "text": [
            "\r 37%|███▋      | 371/1000 [00:49<01:27,  7.22it/s]"
          ]
        },
        {
          "output_type": "stream",
          "name": "stdout",
          "text": [
            "10 iterations of epochs 371/1000\n",
            "Average recon_error: 16.670\n",
            "Average perplexity: 11.109\n",
            "\n",
            "20 iterations of epochs 371/1000\n",
            "Average recon_error: 17.236\n",
            "Average perplexity: 11.609\n",
            "\n",
            "30 iterations of epochs 371/1000\n",
            "Average recon_error: 16.713\n",
            "Average perplexity: 11.203\n",
            "\n",
            "10 iterations of epochs 372/1000\n",
            "Average recon_error: 16.700\n",
            "Average perplexity: 11.631\n",
            "\n",
            "20 iterations of epochs 372/1000\n",
            "Average recon_error: 17.928\n",
            "Average perplexity: 10.931\n",
            "\n",
            "30 iterations of epochs 372/1000\n",
            "Average recon_error: 16.547\n",
            "Average perplexity: 11.268\n",
            "\n"
          ]
        },
        {
          "output_type": "stream",
          "name": "stderr",
          "text": [
            " 37%|███▋      | 373/1000 [00:49<01:23,  7.52it/s]"
          ]
        },
        {
          "output_type": "stream",
          "name": "stdout",
          "text": [
            "10 iterations of epochs 373/1000\n",
            "Average recon_error: 16.383\n",
            "Average perplexity: 11.402\n",
            "\n",
            "20 iterations of epochs 373/1000\n",
            "Average recon_error: 16.566\n",
            "Average perplexity: 11.046\n",
            "\n",
            "30 iterations of epochs 373/1000\n",
            "Average recon_error: 15.478\n",
            "Average perplexity: 10.907\n",
            "\n",
            "10 iterations of epochs 374/1000\n",
            "Average recon_error: 17.083\n",
            "Average perplexity: 10.326\n",
            "\n",
            "20 iterations of epochs 374/1000\n",
            "Average recon_error: 17.130\n",
            "Average perplexity: 11.261\n",
            "\n",
            "30 iterations of epochs 374/1000\n",
            "Average recon_error: 18.165\n",
            "Average perplexity: 10.958\n",
            "\n"
          ]
        },
        {
          "output_type": "stream",
          "name": "stderr",
          "text": [
            " 38%|███▊      | 375/1000 [00:50<01:19,  7.86it/s]"
          ]
        },
        {
          "output_type": "stream",
          "name": "stdout",
          "text": [
            "10 iterations of epochs 375/1000\n",
            "Average recon_error: 18.688\n",
            "Average perplexity: 11.488\n",
            "\n",
            "20 iterations of epochs 375/1000\n",
            "Average recon_error: 18.296\n",
            "Average perplexity: 10.217\n",
            "\n",
            "30 iterations of epochs 375/1000\n",
            "Average recon_error: 16.718\n",
            "Average perplexity: 12.086\n",
            "\n",
            "10 iterations of epochs 376/1000\n",
            "Average recon_error: 15.980\n",
            "Average perplexity: 11.827\n",
            "\n",
            "20 iterations of epochs 376/1000\n",
            "Average recon_error: 17.682\n",
            "Average perplexity: 10.840\n",
            "\n",
            "30 iterations of epochs 376/1000\n",
            "Average recon_error: 17.817\n",
            "Average perplexity: 11.797\n",
            "\n"
          ]
        },
        {
          "output_type": "stream",
          "name": "stderr",
          "text": [
            " 38%|███▊      | 377/1000 [00:50<01:19,  7.85it/s]"
          ]
        },
        {
          "output_type": "stream",
          "name": "stdout",
          "text": [
            "10 iterations of epochs 377/1000\n",
            "Average recon_error: 16.349\n",
            "Average perplexity: 11.535\n",
            "\n",
            "20 iterations of epochs 377/1000\n",
            "Average recon_error: 16.643\n",
            "Average perplexity: 11.163\n",
            "\n",
            "30 iterations of epochs 377/1000\n",
            "Average recon_error: 16.961\n",
            "Average perplexity: 11.043\n",
            "\n",
            "10 iterations of epochs 378/1000\n",
            "Average recon_error: 17.697\n",
            "Average perplexity: 11.230\n",
            "\n",
            "20 iterations of epochs 378/1000\n",
            "Average recon_error: 17.132\n",
            "Average perplexity: 11.010\n",
            "\n",
            "30 iterations of epochs 378/1000\n",
            "Average recon_error: 16.244\n",
            "Average perplexity: 10.972\n",
            "\n"
          ]
        },
        {
          "output_type": "stream",
          "name": "stderr",
          "text": [
            " 38%|███▊      | 380/1000 [00:50<01:14,  8.27it/s]"
          ]
        },
        {
          "output_type": "stream",
          "name": "stdout",
          "text": [
            "10 iterations of epochs 379/1000\n",
            "Average recon_error: 19.149\n",
            "Average perplexity: 11.639\n",
            "\n",
            "20 iterations of epochs 379/1000\n",
            "Average recon_error: 15.641\n",
            "Average perplexity: 11.371\n",
            "\n",
            "30 iterations of epochs 379/1000\n",
            "Average recon_error: 17.458\n",
            "Average perplexity: 11.430\n",
            "\n",
            "10 iterations of epochs 380/1000\n",
            "Average recon_error: 17.004\n",
            "Average perplexity: 10.984\n",
            "\n",
            "20 iterations of epochs 380/1000\n",
            "Average recon_error: 17.668\n",
            "Average perplexity: 10.537\n",
            "\n",
            "30 iterations of epochs 380/1000\n",
            "Average recon_error: 16.644\n",
            "Average perplexity: 11.378\n",
            "\n"
          ]
        },
        {
          "output_type": "stream",
          "name": "stderr",
          "text": [
            "\r 38%|███▊      | 381/1000 [00:50<01:16,  8.09it/s]"
          ]
        },
        {
          "output_type": "stream",
          "name": "stdout",
          "text": [
            "10 iterations of epochs 381/1000\n",
            "Average recon_error: 16.712\n",
            "Average perplexity: 11.480\n",
            "\n",
            "20 iterations of epochs 381/1000\n",
            "Average recon_error: 16.117\n",
            "Average perplexity: 10.961\n",
            "\n",
            "30 iterations of epochs 381/1000\n",
            "Average recon_error: 17.275\n",
            "Average perplexity: 11.459\n",
            "\n",
            "10 iterations of epochs 382/1000\n",
            "Average recon_error: 17.560\n",
            "Average perplexity: 10.743\n",
            "\n",
            "20 iterations of epochs 382/1000\n",
            "Average recon_error: 17.100\n",
            "Average perplexity: 11.400\n",
            "\n",
            "30 iterations of epochs 382/1000\n",
            "Average recon_error: 16.986\n",
            "Average perplexity: 10.342\n",
            "\n"
          ]
        },
        {
          "output_type": "stream",
          "name": "stderr",
          "text": [
            " 38%|███▊      | 383/1000 [00:51<01:15,  8.15it/s]"
          ]
        },
        {
          "output_type": "stream",
          "name": "stdout",
          "text": [
            "10 iterations of epochs 383/1000\n",
            "Average recon_error: 17.275\n",
            "Average perplexity: 11.289\n",
            "\n",
            "20 iterations of epochs 383/1000\n",
            "Average recon_error: 15.858\n",
            "Average perplexity: 11.606\n",
            "\n",
            "30 iterations of epochs 383/1000\n",
            "Average recon_error: 18.105\n",
            "Average perplexity: 11.826\n",
            "\n",
            "10 iterations of epochs 384/1000\n",
            "Average recon_error: 17.853\n",
            "Average perplexity: 10.914\n",
            "\n",
            "20 iterations of epochs 384/1000\n",
            "Average recon_error: 17.191\n",
            "Average perplexity: 11.194\n",
            "\n",
            "30 iterations of epochs 384/1000\n",
            "Average recon_error: 16.030\n",
            "Average perplexity: 12.121\n",
            "\n"
          ]
        },
        {
          "output_type": "stream",
          "name": "stderr",
          "text": [
            " 38%|███▊      | 385/1000 [00:51<01:18,  7.79it/s]"
          ]
        },
        {
          "output_type": "stream",
          "name": "stdout",
          "text": [
            "10 iterations of epochs 385/1000\n",
            "Average recon_error: 17.625\n",
            "Average perplexity: 11.232\n",
            "\n",
            "20 iterations of epochs 385/1000\n",
            "Average recon_error: 18.170\n",
            "Average perplexity: 10.914\n",
            "\n",
            "30 iterations of epochs 385/1000\n",
            "Average recon_error: 16.643\n",
            "Average perplexity: 10.867\n",
            "\n",
            "10 iterations of epochs 386/1000\n",
            "Average recon_error: 18.051\n",
            "Average perplexity: 11.136\n",
            "\n",
            "20 iterations of epochs 386/1000\n",
            "Average recon_error: 16.701\n",
            "Average perplexity: 11.157\n",
            "\n",
            "30 iterations of epochs 386/1000\n",
            "Average recon_error: 15.782\n",
            "Average perplexity: 10.989\n",
            "\n"
          ]
        },
        {
          "output_type": "stream",
          "name": "stderr",
          "text": [
            " 39%|███▊      | 387/1000 [00:51<01:20,  7.58it/s]"
          ]
        },
        {
          "output_type": "stream",
          "name": "stdout",
          "text": [
            "10 iterations of epochs 387/1000\n",
            "Average recon_error: 16.686\n",
            "Average perplexity: 11.133\n",
            "\n",
            "20 iterations of epochs 387/1000\n",
            "Average recon_error: 16.715\n",
            "Average perplexity: 10.965\n",
            "\n",
            "30 iterations of epochs 387/1000\n",
            "Average recon_error: 15.930\n",
            "Average perplexity: 10.889\n",
            "\n",
            "10 iterations of epochs 388/1000\n",
            "Average recon_error: 16.057\n",
            "Average perplexity: 11.997\n",
            "\n",
            "20 iterations of epochs 388/1000\n",
            "Average recon_error: 19.072\n",
            "Average perplexity: 10.749\n",
            "\n"
          ]
        },
        {
          "output_type": "stream",
          "name": "stderr",
          "text": [
            " 39%|███▉      | 389/1000 [00:51<01:20,  7.62it/s]"
          ]
        },
        {
          "output_type": "stream",
          "name": "stdout",
          "text": [
            "30 iterations of epochs 388/1000\n",
            "Average recon_error: 15.352\n",
            "Average perplexity: 11.172\n",
            "\n",
            "10 iterations of epochs 389/1000\n",
            "Average recon_error: 18.311\n",
            "Average perplexity: 10.769\n",
            "\n",
            "20 iterations of epochs 389/1000\n",
            "Average recon_error: 18.047\n",
            "Average perplexity: 10.703\n",
            "\n",
            "30 iterations of epochs 389/1000\n",
            "Average recon_error: 16.886\n",
            "Average perplexity: 11.110\n",
            "\n",
            "10 iterations of epochs 390/1000\n",
            "Average recon_error: 17.432\n",
            "Average perplexity: 11.086\n",
            "\n"
          ]
        },
        {
          "output_type": "stream",
          "name": "stderr",
          "text": [
            " 39%|███▉      | 391/1000 [00:52<01:17,  7.83it/s]"
          ]
        },
        {
          "output_type": "stream",
          "name": "stdout",
          "text": [
            "20 iterations of epochs 390/1000\n",
            "Average recon_error: 16.683\n",
            "Average perplexity: 10.839\n",
            "\n",
            "30 iterations of epochs 390/1000\n",
            "Average recon_error: 16.892\n",
            "Average perplexity: 11.148\n",
            "\n",
            "10 iterations of epochs 391/1000\n",
            "Average recon_error: 17.400\n",
            "Average perplexity: 11.836\n",
            "\n",
            "20 iterations of epochs 391/1000\n",
            "Average recon_error: 17.382\n",
            "Average perplexity: 11.285\n",
            "\n",
            "30 iterations of epochs 391/1000\n",
            "Average recon_error: 17.270\n",
            "Average perplexity: 10.964\n",
            "\n"
          ]
        },
        {
          "output_type": "stream",
          "name": "stderr",
          "text": [
            "\r 39%|███▉      | 392/1000 [00:52<01:19,  7.64it/s]"
          ]
        },
        {
          "output_type": "stream",
          "name": "stdout",
          "text": [
            "10 iterations of epochs 392/1000\n",
            "Average recon_error: 19.224\n",
            "Average perplexity: 11.223\n",
            "\n",
            "20 iterations of epochs 392/1000\n",
            "Average recon_error: 17.345\n",
            "Average perplexity: 11.034\n",
            "\n",
            "30 iterations of epochs 392/1000\n",
            "Average recon_error: 16.380\n",
            "Average perplexity: 12.212\n",
            "\n",
            "10 iterations of epochs 393/1000\n",
            "Average recon_error: 16.505\n",
            "Average perplexity: 11.365\n",
            "\n",
            "20 iterations of epochs 393/1000\n",
            "Average recon_error: 16.978\n",
            "Average perplexity: 11.011\n",
            "\n",
            "30 iterations of epochs 393/1000\n",
            "Average recon_error: 16.501\n",
            "Average perplexity: 10.442\n",
            "\n"
          ]
        },
        {
          "output_type": "stream",
          "name": "stderr",
          "text": [
            " 39%|███▉      | 394/1000 [00:52<01:17,  7.84it/s]"
          ]
        },
        {
          "output_type": "stream",
          "name": "stdout",
          "text": [
            "10 iterations of epochs 394/1000\n",
            "Average recon_error: 16.452\n",
            "Average perplexity: 11.021\n",
            "\n",
            "20 iterations of epochs 394/1000\n",
            "Average recon_error: 16.835\n",
            "Average perplexity: 11.443\n",
            "\n",
            "30 iterations of epochs 394/1000\n",
            "Average recon_error: 16.522\n",
            "Average perplexity: 11.678\n",
            "\n",
            "10 iterations of epochs 395/1000\n",
            "Average recon_error: 17.793\n",
            "Average perplexity: 10.426\n",
            "\n",
            "20 iterations of epochs 395/1000\n",
            "Average recon_error: 17.718\n",
            "Average perplexity: 11.090\n",
            "\n",
            "30 iterations of epochs 395/1000\n",
            "Average recon_error: 16.459\n",
            "Average perplexity: 11.005\n",
            "\n"
          ]
        },
        {
          "output_type": "stream",
          "name": "stderr",
          "text": [
            " 40%|███▉      | 396/1000 [00:52<01:15,  7.96it/s]"
          ]
        },
        {
          "output_type": "stream",
          "name": "stdout",
          "text": [
            "10 iterations of epochs 396/1000\n",
            "Average recon_error: 17.041\n",
            "Average perplexity: 11.002\n",
            "\n",
            "20 iterations of epochs 396/1000\n",
            "Average recon_error: 18.721\n",
            "Average perplexity: 10.742\n",
            "\n",
            "30 iterations of epochs 396/1000\n",
            "Average recon_error: 17.854\n",
            "Average perplexity: 10.863\n",
            "\n",
            "10 iterations of epochs 397/1000\n",
            "Average recon_error: 16.333\n",
            "Average perplexity: 11.439\n",
            "\n",
            "20 iterations of epochs 397/1000\n",
            "Average recon_error: 16.528\n",
            "Average perplexity: 11.256\n",
            "\n",
            "30 iterations of epochs 397/1000\n",
            "Average recon_error: 17.880\n",
            "Average perplexity: 10.320\n",
            "\n"
          ]
        },
        {
          "output_type": "stream",
          "name": "stderr",
          "text": [
            " 40%|███▉      | 398/1000 [00:52<01:16,  7.86it/s]"
          ]
        },
        {
          "output_type": "stream",
          "name": "stdout",
          "text": [
            "10 iterations of epochs 398/1000\n",
            "Average recon_error: 16.604\n",
            "Average perplexity: 11.069\n",
            "\n",
            "20 iterations of epochs 398/1000\n",
            "Average recon_error: 15.068\n",
            "Average perplexity: 10.849\n",
            "\n",
            "30 iterations of epochs 398/1000\n",
            "Average recon_error: 16.430\n",
            "Average perplexity: 10.905\n",
            "\n",
            "10 iterations of epochs 399/1000\n",
            "Average recon_error: 16.962\n",
            "Average perplexity: 10.206\n",
            "\n",
            "20 iterations of epochs 399/1000\n",
            "Average recon_error: 17.614\n",
            "Average perplexity: 11.332\n",
            "\n",
            "30 iterations of epochs 399/1000\n",
            "Average recon_error: 17.591\n",
            "Average perplexity: 10.652\n",
            "\n"
          ]
        },
        {
          "output_type": "stream",
          "name": "stderr",
          "text": [
            " 40%|████      | 400/1000 [00:53<01:15,  7.90it/s]"
          ]
        },
        {
          "output_type": "stream",
          "name": "stdout",
          "text": [
            "10 iterations of epochs 400/1000\n",
            "Average recon_error: 16.969\n",
            "Average perplexity: 11.049\n",
            "\n",
            "20 iterations of epochs 400/1000\n",
            "Average recon_error: 16.590\n",
            "Average perplexity: 11.061\n",
            "\n",
            "30 iterations of epochs 400/1000\n",
            "Average recon_error: 17.802\n",
            "Average perplexity: 11.506\n",
            "\n",
            "10 iterations of epochs 401/1000\n",
            "Average recon_error: 16.112\n",
            "Average perplexity: 11.843\n",
            "\n",
            "20 iterations of epochs 401/1000\n",
            "Average recon_error: 16.834\n",
            "Average perplexity: 10.800\n",
            "\n",
            "30 iterations of epochs 401/1000\n",
            "Average recon_error: 17.541\n",
            "Average perplexity: 11.436\n",
            "\n"
          ]
        },
        {
          "output_type": "stream",
          "name": "stderr",
          "text": [
            " 40%|████      | 403/1000 [00:53<01:13,  8.12it/s]"
          ]
        },
        {
          "output_type": "stream",
          "name": "stdout",
          "text": [
            "10 iterations of epochs 402/1000\n",
            "Average recon_error: 16.744\n",
            "Average perplexity: 11.183\n",
            "\n",
            "20 iterations of epochs 402/1000\n",
            "Average recon_error: 17.567\n",
            "Average perplexity: 10.561\n",
            "\n",
            "30 iterations of epochs 402/1000\n",
            "Average recon_error: 16.556\n",
            "Average perplexity: 10.633\n",
            "\n",
            "10 iterations of epochs 403/1000\n",
            "Average recon_error: 16.464\n",
            "Average perplexity: 11.197\n",
            "\n",
            "20 iterations of epochs 403/1000\n",
            "Average recon_error: 17.748\n",
            "Average perplexity: 10.925\n",
            "\n",
            "30 iterations of epochs 403/1000\n",
            "Average recon_error: 17.833\n",
            "Average perplexity: 10.216\n",
            "\n"
          ]
        },
        {
          "output_type": "stream",
          "name": "stderr",
          "text": [
            "\r 40%|████      | 404/1000 [00:53<01:14,  8.03it/s]"
          ]
        },
        {
          "output_type": "stream",
          "name": "stdout",
          "text": [
            "10 iterations of epochs 404/1000\n",
            "Average recon_error: 17.224\n",
            "Average perplexity: 11.799\n",
            "\n",
            "20 iterations of epochs 404/1000\n",
            "Average recon_error: 16.943\n",
            "Average perplexity: 11.140\n",
            "\n",
            "30 iterations of epochs 404/1000\n",
            "Average recon_error: 16.726\n",
            "Average perplexity: 11.152\n",
            "\n",
            "10 iterations of epochs 405/1000\n",
            "Average recon_error: 17.232\n",
            "Average perplexity: 11.525\n",
            "\n",
            "20 iterations of epochs 405/1000\n",
            "Average recon_error: 16.910\n",
            "Average perplexity: 10.920\n",
            "\n",
            "30 iterations of epochs 405/1000\n",
            "Average recon_error: 18.108\n",
            "Average perplexity: 11.325\n",
            "\n"
          ]
        },
        {
          "output_type": "stream",
          "name": "stderr",
          "text": [
            " 41%|████      | 406/1000 [00:53<01:14,  7.98it/s]"
          ]
        },
        {
          "output_type": "stream",
          "name": "stdout",
          "text": [
            "10 iterations of epochs 406/1000\n",
            "Average recon_error: 16.377\n",
            "Average perplexity: 10.904\n",
            "\n",
            "20 iterations of epochs 406/1000\n",
            "Average recon_error: 17.180\n",
            "Average perplexity: 11.334\n",
            "\n",
            "30 iterations of epochs 406/1000\n",
            "Average recon_error: 16.754\n",
            "Average perplexity: 10.701\n",
            "\n",
            "10 iterations of epochs 407/1000\n",
            "Average recon_error: 15.727\n",
            "Average perplexity: 10.623\n",
            "\n",
            "20 iterations of epochs 407/1000\n",
            "Average recon_error: 17.189\n",
            "Average perplexity: 9.981\n",
            "\n",
            "30 iterations of epochs 407/1000\n",
            "Average recon_error: 17.483\n",
            "Average perplexity: 11.186\n",
            "\n"
          ]
        },
        {
          "output_type": "stream",
          "name": "stderr",
          "text": [
            " 41%|████      | 408/1000 [00:54<01:12,  8.20it/s]"
          ]
        },
        {
          "output_type": "stream",
          "name": "stdout",
          "text": [
            "10 iterations of epochs 408/1000\n",
            "Average recon_error: 17.236\n",
            "Average perplexity: 10.903\n",
            "\n",
            "20 iterations of epochs 408/1000\n",
            "Average recon_error: 17.873\n",
            "Average perplexity: 11.000\n",
            "\n",
            "30 iterations of epochs 408/1000\n",
            "Average recon_error: 16.857\n",
            "Average perplexity: 11.756\n",
            "\n",
            "10 iterations of epochs 409/1000\n",
            "Average recon_error: 17.990\n",
            "Average perplexity: 10.679\n",
            "\n",
            "20 iterations of epochs 409/1000\n",
            "Average recon_error: 16.237\n",
            "Average perplexity: 11.623\n",
            "\n",
            "30 iterations of epochs 409/1000\n",
            "Average recon_error: 17.531\n",
            "Average perplexity: 11.242\n",
            "\n"
          ]
        },
        {
          "output_type": "stream",
          "name": "stderr",
          "text": [
            " 41%|████      | 410/1000 [00:54<01:13,  8.02it/s]"
          ]
        },
        {
          "output_type": "stream",
          "name": "stdout",
          "text": [
            "10 iterations of epochs 410/1000\n",
            "Average recon_error: 17.538\n",
            "Average perplexity: 11.501\n",
            "\n",
            "20 iterations of epochs 410/1000\n",
            "Average recon_error: 17.611\n",
            "Average perplexity: 10.965\n",
            "\n",
            "30 iterations of epochs 410/1000\n",
            "Average recon_error: 17.478\n",
            "Average perplexity: 11.709\n",
            "\n",
            "10 iterations of epochs 411/1000\n",
            "Average recon_error: 16.742\n",
            "Average perplexity: 11.477\n",
            "\n",
            "20 iterations of epochs 411/1000\n",
            "Average recon_error: 17.146\n",
            "Average perplexity: 11.520\n",
            "\n",
            "30 iterations of epochs 411/1000\n",
            "Average recon_error: 17.847\n",
            "Average perplexity: 10.873\n",
            "\n"
          ]
        },
        {
          "output_type": "stream",
          "name": "stderr",
          "text": [
            " 41%|████      | 412/1000 [00:54<01:12,  8.08it/s]"
          ]
        },
        {
          "output_type": "stream",
          "name": "stdout",
          "text": [
            "10 iterations of epochs 412/1000\n",
            "Average recon_error: 16.830\n",
            "Average perplexity: 10.951\n",
            "\n",
            "20 iterations of epochs 412/1000\n",
            "Average recon_error: 16.826\n",
            "Average perplexity: 11.227\n",
            "\n",
            "30 iterations of epochs 412/1000\n",
            "Average recon_error: 16.732\n",
            "Average perplexity: 10.606\n",
            "\n",
            "10 iterations of epochs 413/1000\n",
            "Average recon_error: 18.574\n",
            "Average perplexity: 11.721\n",
            "\n",
            "20 iterations of epochs 413/1000\n",
            "Average recon_error: 16.510\n",
            "Average perplexity: 11.403\n",
            "\n",
            "30 iterations of epochs 413/1000\n",
            "Average recon_error: 18.542\n",
            "Average perplexity: 11.593\n",
            "\n"
          ]
        },
        {
          "output_type": "stream",
          "name": "stderr",
          "text": [
            " 42%|████▏     | 415/1000 [00:55<01:10,  8.28it/s]"
          ]
        },
        {
          "output_type": "stream",
          "name": "stdout",
          "text": [
            "10 iterations of epochs 414/1000\n",
            "Average recon_error: 16.279\n",
            "Average perplexity: 11.320\n",
            "\n",
            "20 iterations of epochs 414/1000\n",
            "Average recon_error: 17.991\n",
            "Average perplexity: 10.972\n",
            "\n",
            "30 iterations of epochs 414/1000\n",
            "Average recon_error: 16.677\n",
            "Average perplexity: 11.743\n",
            "\n",
            "10 iterations of epochs 415/1000\n",
            "Average recon_error: 18.388\n",
            "Average perplexity: 11.181\n",
            "\n",
            "20 iterations of epochs 415/1000\n",
            "Average recon_error: 15.204\n",
            "Average perplexity: 10.927\n",
            "\n",
            "30 iterations of epochs 415/1000\n",
            "Average recon_error: 16.521\n",
            "Average perplexity: 11.201\n",
            "\n"
          ]
        },
        {
          "output_type": "stream",
          "name": "stderr",
          "text": [
            "\r 42%|████▏     | 416/1000 [00:55<01:11,  8.17it/s]"
          ]
        },
        {
          "output_type": "stream",
          "name": "stdout",
          "text": [
            "10 iterations of epochs 416/1000\n",
            "Average recon_error: 16.895\n",
            "Average perplexity: 11.971\n",
            "\n",
            "20 iterations of epochs 416/1000\n",
            "Average recon_error: 15.887\n",
            "Average perplexity: 10.002\n",
            "\n",
            "30 iterations of epochs 416/1000\n",
            "Average recon_error: 15.876\n",
            "Average perplexity: 10.984\n",
            "\n",
            "10 iterations of epochs 417/1000\n",
            "Average recon_error: 17.034\n",
            "Average perplexity: 11.041\n",
            "\n",
            "20 iterations of epochs 417/1000\n",
            "Average recon_error: 16.264\n",
            "Average perplexity: 10.477\n",
            "\n",
            "30 iterations of epochs 417/1000\n",
            "Average recon_error: 17.315\n",
            "Average perplexity: 10.752\n",
            "\n"
          ]
        },
        {
          "output_type": "stream",
          "name": "stderr",
          "text": [
            " 42%|████▏     | 418/1000 [00:55<01:12,  8.03it/s]"
          ]
        },
        {
          "output_type": "stream",
          "name": "stdout",
          "text": [
            "10 iterations of epochs 418/1000\n",
            "Average recon_error: 15.822\n",
            "Average perplexity: 10.976\n",
            "\n",
            "20 iterations of epochs 418/1000\n",
            "Average recon_error: 16.491\n",
            "Average perplexity: 10.970\n",
            "\n",
            "30 iterations of epochs 418/1000\n",
            "Average recon_error: 17.256\n",
            "Average perplexity: 11.053\n",
            "\n",
            "10 iterations of epochs 419/1000\n",
            "Average recon_error: 17.772\n",
            "Average perplexity: 10.966\n",
            "\n",
            "20 iterations of epochs 419/1000\n",
            "Average recon_error: 17.054\n",
            "Average perplexity: 11.539\n",
            "\n",
            "30 iterations of epochs 419/1000\n",
            "Average recon_error: 17.244\n",
            "Average perplexity: 10.986\n",
            "\n"
          ]
        },
        {
          "output_type": "stream",
          "name": "stderr",
          "text": [
            " 42%|████▏     | 420/1000 [00:55<01:12,  8.01it/s]"
          ]
        },
        {
          "output_type": "stream",
          "name": "stdout",
          "text": [
            "10 iterations of epochs 420/1000\n",
            "Average recon_error: 15.803\n",
            "Average perplexity: 12.007\n",
            "\n",
            "20 iterations of epochs 420/1000\n",
            "Average recon_error: 16.662\n",
            "Average perplexity: 10.682\n",
            "\n",
            "30 iterations of epochs 420/1000\n",
            "Average recon_error: 18.438\n",
            "Average perplexity: 11.115\n",
            "\n",
            "10 iterations of epochs 421/1000\n",
            "Average recon_error: 16.447\n",
            "Average perplexity: 10.803\n",
            "\n",
            "20 iterations of epochs 421/1000\n",
            "Average recon_error: 15.930\n",
            "Average perplexity: 12.117\n",
            "\n",
            "30 iterations of epochs 421/1000\n",
            "Average recon_error: 17.487\n",
            "Average perplexity: 11.986\n",
            "\n"
          ]
        },
        {
          "output_type": "stream",
          "name": "stderr",
          "text": [
            " 42%|████▏     | 423/1000 [00:56<01:10,  8.18it/s]"
          ]
        },
        {
          "output_type": "stream",
          "name": "stdout",
          "text": [
            "10 iterations of epochs 422/1000\n",
            "Average recon_error: 17.778\n",
            "Average perplexity: 11.274\n",
            "\n",
            "20 iterations of epochs 422/1000\n",
            "Average recon_error: 16.710\n",
            "Average perplexity: 11.248\n",
            "\n",
            "30 iterations of epochs 422/1000\n",
            "Average recon_error: 19.080\n",
            "Average perplexity: 10.143\n",
            "\n",
            "10 iterations of epochs 423/1000\n",
            "Average recon_error: 16.316\n",
            "Average perplexity: 11.822\n",
            "\n",
            "20 iterations of epochs 423/1000\n",
            "Average recon_error: 17.203\n",
            "Average perplexity: 11.973\n",
            "\n",
            "30 iterations of epochs 423/1000\n",
            "Average recon_error: 17.494\n",
            "Average perplexity: 10.343\n",
            "\n"
          ]
        },
        {
          "output_type": "stream",
          "name": "stderr",
          "text": [
            "\r 42%|████▏     | 424/1000 [00:56<01:10,  8.12it/s]"
          ]
        },
        {
          "output_type": "stream",
          "name": "stdout",
          "text": [
            "10 iterations of epochs 424/1000\n",
            "Average recon_error: 16.750\n",
            "Average perplexity: 11.140\n",
            "\n",
            "20 iterations of epochs 424/1000\n",
            "Average recon_error: 16.441\n",
            "Average perplexity: 11.215\n",
            "\n",
            "30 iterations of epochs 424/1000\n",
            "Average recon_error: 17.430\n",
            "Average perplexity: 10.647\n",
            "\n",
            "10 iterations of epochs 425/1000\n",
            "Average recon_error: 18.789\n",
            "Average perplexity: 11.958\n",
            "\n",
            "20 iterations of epochs 425/1000\n",
            "Average recon_error: 17.365\n",
            "Average perplexity: 10.672\n",
            "\n",
            "30 iterations of epochs 425/1000\n",
            "Average recon_error: 16.398\n",
            "Average perplexity: 11.308\n",
            "\n"
          ]
        },
        {
          "output_type": "stream",
          "name": "stderr",
          "text": [
            " 43%|████▎     | 426/1000 [00:56<01:12,  7.93it/s]"
          ]
        },
        {
          "output_type": "stream",
          "name": "stdout",
          "text": [
            "10 iterations of epochs 426/1000\n",
            "Average recon_error: 17.339\n",
            "Average perplexity: 9.671\n",
            "\n",
            "20 iterations of epochs 426/1000\n",
            "Average recon_error: 17.887\n",
            "Average perplexity: 11.652\n",
            "\n",
            "30 iterations of epochs 426/1000\n",
            "Average recon_error: 17.101\n",
            "Average perplexity: 10.818\n",
            "\n",
            "10 iterations of epochs 427/1000\n",
            "Average recon_error: 17.460\n",
            "Average perplexity: 10.631\n",
            "\n",
            "20 iterations of epochs 427/1000\n",
            "Average recon_error: 16.747\n",
            "Average perplexity: 11.505\n",
            "\n",
            "30 iterations of epochs 427/1000\n",
            "Average recon_error: 15.729\n",
            "Average perplexity: 11.830\n",
            "\n"
          ]
        },
        {
          "output_type": "stream",
          "name": "stderr",
          "text": [
            " 43%|████▎     | 428/1000 [00:56<01:11,  7.96it/s]"
          ]
        },
        {
          "output_type": "stream",
          "name": "stdout",
          "text": [
            "10 iterations of epochs 428/1000\n",
            "Average recon_error: 16.113\n",
            "Average perplexity: 10.694\n",
            "\n",
            "20 iterations of epochs 428/1000\n",
            "Average recon_error: 17.003\n",
            "Average perplexity: 11.421\n",
            "\n",
            "30 iterations of epochs 428/1000\n",
            "Average recon_error: 16.720\n",
            "Average perplexity: 11.561\n",
            "\n",
            "10 iterations of epochs 429/1000\n",
            "Average recon_error: 16.673\n",
            "Average perplexity: 11.113\n",
            "\n",
            "20 iterations of epochs 429/1000\n",
            "Average recon_error: 17.597\n",
            "Average perplexity: 11.479\n",
            "\n",
            "30 iterations of epochs 429/1000\n",
            "Average recon_error: 18.181\n",
            "Average perplexity: 11.039\n",
            "\n"
          ]
        },
        {
          "output_type": "stream",
          "name": "stderr",
          "text": [
            " 43%|████▎     | 430/1000 [00:56<01:12,  7.88it/s]"
          ]
        },
        {
          "output_type": "stream",
          "name": "stdout",
          "text": [
            "10 iterations of epochs 430/1000\n",
            "Average recon_error: 16.068\n",
            "Average perplexity: 10.517\n",
            "\n",
            "20 iterations of epochs 430/1000\n",
            "Average recon_error: 18.780\n",
            "Average perplexity: 11.653\n",
            "\n",
            "30 iterations of epochs 430/1000\n",
            "Average recon_error: 16.307\n",
            "Average perplexity: 11.796\n",
            "\n",
            "10 iterations of epochs 431/1000\n",
            "Average recon_error: 16.827\n",
            "Average perplexity: 11.546\n",
            "\n",
            "20 iterations of epochs 431/1000\n",
            "Average recon_error: 16.724\n",
            "Average perplexity: 11.054\n",
            "\n",
            "30 iterations of epochs 431/1000\n",
            "Average recon_error: 16.844\n",
            "Average perplexity: 11.001\n",
            "\n"
          ]
        },
        {
          "output_type": "stream",
          "name": "stderr",
          "text": [
            " 43%|████▎     | 433/1000 [00:57<01:09,  8.20it/s]"
          ]
        },
        {
          "output_type": "stream",
          "name": "stdout",
          "text": [
            "10 iterations of epochs 432/1000\n",
            "Average recon_error: 16.178\n",
            "Average perplexity: 10.783\n",
            "\n",
            "20 iterations of epochs 432/1000\n",
            "Average recon_error: 17.865\n",
            "Average perplexity: 11.773\n",
            "\n",
            "30 iterations of epochs 432/1000\n",
            "Average recon_error: 16.962\n",
            "Average perplexity: 11.424\n",
            "\n",
            "10 iterations of epochs 433/1000\n",
            "Average recon_error: 16.434\n",
            "Average perplexity: 11.981\n",
            "\n",
            "20 iterations of epochs 433/1000\n",
            "Average recon_error: 17.212\n",
            "Average perplexity: 11.193\n",
            "\n",
            "30 iterations of epochs 433/1000\n",
            "Average recon_error: 17.623\n",
            "Average perplexity: 10.888\n",
            "\n"
          ]
        },
        {
          "output_type": "stream",
          "name": "stderr",
          "text": [
            "\r 43%|████▎     | 434/1000 [00:57<01:12,  7.85it/s]"
          ]
        },
        {
          "output_type": "stream",
          "name": "stdout",
          "text": [
            "10 iterations of epochs 434/1000\n",
            "Average recon_error: 17.304\n",
            "Average perplexity: 10.967\n",
            "\n",
            "20 iterations of epochs 434/1000\n",
            "Average recon_error: 17.972\n",
            "Average perplexity: 10.886\n",
            "\n",
            "30 iterations of epochs 434/1000\n",
            "Average recon_error: 15.370\n",
            "Average perplexity: 11.663\n",
            "\n",
            "10 iterations of epochs 435/1000\n",
            "Average recon_error: 18.586\n",
            "Average perplexity: 10.348\n",
            "\n",
            "20 iterations of epochs 435/1000\n",
            "Average recon_error: 16.683\n",
            "Average perplexity: 10.800\n",
            "\n",
            "30 iterations of epochs 435/1000\n",
            "Average recon_error: 16.147\n",
            "Average perplexity: 11.078\n",
            "\n"
          ]
        },
        {
          "output_type": "stream",
          "name": "stderr",
          "text": [
            " 44%|████▎     | 436/1000 [00:57<01:10,  8.04it/s]"
          ]
        },
        {
          "output_type": "stream",
          "name": "stdout",
          "text": [
            "10 iterations of epochs 436/1000\n",
            "Average recon_error: 16.940\n",
            "Average perplexity: 11.089\n",
            "\n",
            "20 iterations of epochs 436/1000\n",
            "Average recon_error: 16.449\n",
            "Average perplexity: 11.455\n",
            "\n",
            "30 iterations of epochs 436/1000\n",
            "Average recon_error: 17.165\n",
            "Average perplexity: 11.464\n",
            "\n",
            "10 iterations of epochs 437/1000\n",
            "Average recon_error: 18.803\n",
            "Average perplexity: 11.239\n",
            "\n",
            "20 iterations of epochs 437/1000\n",
            "Average recon_error: 17.014\n",
            "Average perplexity: 11.219\n",
            "\n",
            "30 iterations of epochs 437/1000\n",
            "Average recon_error: 17.140\n",
            "Average perplexity: 11.327\n",
            "\n"
          ]
        },
        {
          "output_type": "stream",
          "name": "stderr",
          "text": [
            " 44%|████▍     | 439/1000 [00:58<01:09,  8.10it/s]"
          ]
        },
        {
          "output_type": "stream",
          "name": "stdout",
          "text": [
            "10 iterations of epochs 438/1000\n",
            "Average recon_error: 16.024\n",
            "Average perplexity: 11.158\n",
            "\n",
            "20 iterations of epochs 438/1000\n",
            "Average recon_error: 16.609\n",
            "Average perplexity: 11.006\n",
            "\n",
            "30 iterations of epochs 438/1000\n",
            "Average recon_error: 17.611\n",
            "Average perplexity: 11.151\n",
            "\n",
            "10 iterations of epochs 439/1000\n",
            "Average recon_error: 18.312\n",
            "Average perplexity: 11.919\n",
            "\n",
            "20 iterations of epochs 439/1000\n",
            "Average recon_error: 17.652\n",
            "Average perplexity: 11.048\n",
            "\n",
            "30 iterations of epochs 439/1000\n",
            "Average recon_error: 16.189\n",
            "Average perplexity: 9.517\n",
            "\n"
          ]
        },
        {
          "output_type": "stream",
          "name": "stderr",
          "text": [
            "\r 44%|████▍     | 440/1000 [00:58<01:09,  8.01it/s]"
          ]
        },
        {
          "output_type": "stream",
          "name": "stdout",
          "text": [
            "10 iterations of epochs 440/1000\n",
            "Average recon_error: 16.414\n",
            "Average perplexity: 10.432\n",
            "\n",
            "20 iterations of epochs 440/1000\n",
            "Average recon_error: 16.274\n",
            "Average perplexity: 10.741\n",
            "\n",
            "30 iterations of epochs 440/1000\n",
            "Average recon_error: 17.851\n",
            "Average perplexity: 11.194\n",
            "\n",
            "10 iterations of epochs 441/1000\n",
            "Average recon_error: 17.390\n",
            "Average perplexity: 10.468\n",
            "\n",
            "20 iterations of epochs 441/1000\n",
            "Average recon_error: 16.841\n",
            "Average perplexity: 11.622\n",
            "\n",
            "30 iterations of epochs 441/1000\n",
            "Average recon_error: 15.665\n",
            "Average perplexity: 11.385\n",
            "\n"
          ]
        },
        {
          "output_type": "stream",
          "name": "stderr",
          "text": [
            " 44%|████▍     | 442/1000 [00:58<01:11,  7.79it/s]"
          ]
        },
        {
          "output_type": "stream",
          "name": "stdout",
          "text": [
            "10 iterations of epochs 442/1000\n",
            "Average recon_error: 17.022\n",
            "Average perplexity: 10.278\n",
            "\n",
            "20 iterations of epochs 442/1000\n",
            "Average recon_error: 16.593\n",
            "Average perplexity: 11.361\n",
            "\n",
            "30 iterations of epochs 442/1000\n",
            "Average recon_error: 17.076\n",
            "Average perplexity: 10.841\n",
            "\n",
            "10 iterations of epochs 443/1000\n",
            "Average recon_error: 17.009\n",
            "Average perplexity: 11.311\n",
            "\n",
            "20 iterations of epochs 443/1000\n",
            "Average recon_error: 16.309\n",
            "Average perplexity: 11.095\n",
            "\n"
          ]
        },
        {
          "output_type": "stream",
          "name": "stderr",
          "text": [
            " 44%|████▍     | 444/1000 [00:58<01:10,  7.85it/s]"
          ]
        },
        {
          "output_type": "stream",
          "name": "stdout",
          "text": [
            "30 iterations of epochs 443/1000\n",
            "Average recon_error: 17.958\n",
            "Average perplexity: 10.883\n",
            "\n",
            "10 iterations of epochs 444/1000\n",
            "Average recon_error: 17.268\n",
            "Average perplexity: 10.909\n",
            "\n",
            "20 iterations of epochs 444/1000\n",
            "Average recon_error: 18.254\n",
            "Average perplexity: 11.566\n",
            "\n",
            "30 iterations of epochs 444/1000\n",
            "Average recon_error: 18.708\n",
            "Average perplexity: 11.297\n",
            "\n",
            "10 iterations of epochs 445/1000\n",
            "Average recon_error: 16.722\n",
            "Average perplexity: 11.655\n",
            "\n"
          ]
        },
        {
          "output_type": "stream",
          "name": "stderr",
          "text": [
            " 45%|████▍     | 446/1000 [00:59<01:10,  7.89it/s]"
          ]
        },
        {
          "output_type": "stream",
          "name": "stdout",
          "text": [
            "20 iterations of epochs 445/1000\n",
            "Average recon_error: 17.480\n",
            "Average perplexity: 10.893\n",
            "\n",
            "30 iterations of epochs 445/1000\n",
            "Average recon_error: 17.757\n",
            "Average perplexity: 10.986\n",
            "\n",
            "10 iterations of epochs 446/1000\n",
            "Average recon_error: 17.533\n",
            "Average perplexity: 10.822\n",
            "\n",
            "20 iterations of epochs 446/1000\n",
            "Average recon_error: 16.522\n",
            "Average perplexity: 10.340\n",
            "\n",
            "30 iterations of epochs 446/1000\n",
            "Average recon_error: 18.730\n",
            "Average perplexity: 9.967\n",
            "\n"
          ]
        },
        {
          "output_type": "stream",
          "name": "stderr",
          "text": [
            "\r 45%|████▍     | 447/1000 [00:59<01:19,  6.97it/s]"
          ]
        },
        {
          "output_type": "stream",
          "name": "stdout",
          "text": [
            "10 iterations of epochs 447/1000\n",
            "Average recon_error: 16.802\n",
            "Average perplexity: 11.118\n",
            "\n",
            "20 iterations of epochs 447/1000\n",
            "Average recon_error: 17.712\n",
            "Average perplexity: 11.235\n",
            "\n",
            "30 iterations of epochs 447/1000\n",
            "Average recon_error: 15.258\n",
            "Average perplexity: 10.912\n",
            "\n",
            "10 iterations of epochs 448/1000\n",
            "Average recon_error: 17.586\n",
            "Average perplexity: 11.604\n",
            "\n"
          ]
        },
        {
          "output_type": "stream",
          "name": "stderr",
          "text": [
            "\r 45%|████▍     | 448/1000 [00:59<01:23,  6.62it/s]"
          ]
        },
        {
          "output_type": "stream",
          "name": "stdout",
          "text": [
            "20 iterations of epochs 448/1000\n",
            "Average recon_error: 16.635\n",
            "Average perplexity: 11.335\n",
            "\n",
            "30 iterations of epochs 448/1000\n",
            "Average recon_error: 16.324\n",
            "Average perplexity: 11.455\n",
            "\n",
            "10 iterations of epochs 449/1000\n",
            "Average recon_error: 15.619\n",
            "Average perplexity: 10.812\n",
            "\n",
            "20 iterations of epochs 449/1000\n",
            "Average recon_error: 18.111\n",
            "Average perplexity: 11.337\n",
            "\n"
          ]
        },
        {
          "output_type": "stream",
          "name": "stderr",
          "text": [
            " 45%|████▌     | 450/1000 [00:59<01:28,  6.19it/s]"
          ]
        },
        {
          "output_type": "stream",
          "name": "stdout",
          "text": [
            "30 iterations of epochs 449/1000\n",
            "Average recon_error: 16.693\n",
            "Average perplexity: 11.290\n",
            "\n",
            "10 iterations of epochs 450/1000\n",
            "Average recon_error: 16.589\n",
            "Average perplexity: 11.946\n",
            "\n",
            "20 iterations of epochs 450/1000\n",
            "Average recon_error: 16.517\n",
            "Average perplexity: 11.179\n",
            "\n",
            "30 iterations of epochs 450/1000\n",
            "Average recon_error: 17.272\n",
            "Average perplexity: 10.930\n",
            "\n"
          ]
        },
        {
          "output_type": "stream",
          "name": "stderr",
          "text": [
            "\r 45%|████▌     | 451/1000 [00:59<01:30,  6.06it/s]"
          ]
        },
        {
          "output_type": "stream",
          "name": "stdout",
          "text": [
            "10 iterations of epochs 451/1000\n",
            "Average recon_error: 17.552\n",
            "Average perplexity: 9.952\n",
            "\n",
            "20 iterations of epochs 451/1000\n",
            "Average recon_error: 16.329\n",
            "Average perplexity: 12.023\n",
            "\n",
            "30 iterations of epochs 451/1000\n",
            "Average recon_error: 15.364\n",
            "Average perplexity: 11.173\n",
            "\n",
            "10 iterations of epochs 452/1000\n",
            "Average recon_error: 16.822\n",
            "Average perplexity: 10.618\n",
            "\n"
          ]
        },
        {
          "output_type": "stream",
          "name": "stderr",
          "text": [
            "\r 45%|████▌     | 452/1000 [01:00<01:29,  6.11it/s]"
          ]
        },
        {
          "output_type": "stream",
          "name": "stdout",
          "text": [
            "20 iterations of epochs 452/1000\n",
            "Average recon_error: 19.811\n",
            "Average perplexity: 10.986\n",
            "\n",
            "30 iterations of epochs 452/1000\n",
            "Average recon_error: 16.789\n",
            "Average perplexity: 11.876\n",
            "\n",
            "10 iterations of epochs 453/1000\n",
            "Average recon_error: 16.208\n",
            "Average perplexity: 11.356\n",
            "\n",
            "20 iterations of epochs 453/1000\n",
            "Average recon_error: 16.325\n",
            "Average perplexity: 11.409\n",
            "\n",
            "30 iterations of epochs 453/1000\n",
            "Average recon_error: 16.486\n",
            "Average perplexity: 11.137\n",
            "\n"
          ]
        },
        {
          "output_type": "stream",
          "name": "stderr",
          "text": [
            " 45%|████▌     | 454/1000 [01:00<01:27,  6.27it/s]"
          ]
        },
        {
          "output_type": "stream",
          "name": "stdout",
          "text": [
            "10 iterations of epochs 454/1000\n",
            "Average recon_error: 17.322\n",
            "Average perplexity: 12.071\n",
            "\n",
            "20 iterations of epochs 454/1000\n",
            "Average recon_error: 16.231\n",
            "Average perplexity: 10.942\n",
            "\n",
            "30 iterations of epochs 454/1000\n",
            "Average recon_error: 16.072\n",
            "Average perplexity: 11.633\n",
            "\n",
            "10 iterations of epochs 455/1000\n",
            "Average recon_error: 17.616\n",
            "Average perplexity: 11.048\n",
            "\n",
            "20 iterations of epochs 455/1000\n",
            "Average recon_error: 19.663\n",
            "Average perplexity: 10.675\n",
            "\n"
          ]
        },
        {
          "output_type": "stream",
          "name": "stderr",
          "text": [
            " 46%|████▌     | 456/1000 [01:00<01:27,  6.23it/s]"
          ]
        },
        {
          "output_type": "stream",
          "name": "stdout",
          "text": [
            "30 iterations of epochs 455/1000\n",
            "Average recon_error: 16.070\n",
            "Average perplexity: 12.136\n",
            "\n",
            "10 iterations of epochs 456/1000\n",
            "Average recon_error: 16.282\n",
            "Average perplexity: 10.783\n",
            "\n",
            "20 iterations of epochs 456/1000\n",
            "Average recon_error: 17.422\n",
            "Average perplexity: 10.543\n",
            "\n",
            "30 iterations of epochs 456/1000\n",
            "Average recon_error: 17.745\n",
            "Average perplexity: 12.257\n",
            "\n"
          ]
        },
        {
          "output_type": "stream",
          "name": "stderr",
          "text": [
            "\r 46%|████▌     | 457/1000 [01:00<01:31,  5.91it/s]"
          ]
        },
        {
          "output_type": "stream",
          "name": "stdout",
          "text": [
            "10 iterations of epochs 457/1000\n",
            "Average recon_error: 17.278\n",
            "Average perplexity: 11.802\n",
            "\n",
            "20 iterations of epochs 457/1000\n",
            "Average recon_error: 17.346\n",
            "Average perplexity: 11.627\n",
            "\n",
            "30 iterations of epochs 457/1000\n",
            "Average recon_error: 17.189\n",
            "Average perplexity: 11.165\n",
            "\n",
            "10 iterations of epochs 458/1000\n",
            "Average recon_error: 16.826\n",
            "Average perplexity: 10.924\n",
            "\n"
          ]
        },
        {
          "output_type": "stream",
          "name": "stderr",
          "text": [
            "\r 46%|████▌     | 458/1000 [01:01<01:30,  5.98it/s]"
          ]
        },
        {
          "output_type": "stream",
          "name": "stdout",
          "text": [
            "20 iterations of epochs 458/1000\n",
            "Average recon_error: 16.569\n",
            "Average perplexity: 10.579\n",
            "\n",
            "30 iterations of epochs 458/1000\n",
            "Average recon_error: 15.978\n",
            "Average perplexity: 12.255\n",
            "\n",
            "10 iterations of epochs 459/1000\n",
            "Average recon_error: 15.415\n",
            "Average perplexity: 11.910\n",
            "\n",
            "20 iterations of epochs 459/1000\n",
            "Average recon_error: 17.334\n",
            "Average perplexity: 11.885\n",
            "\n"
          ]
        },
        {
          "output_type": "stream",
          "name": "stderr",
          "text": [
            "\r 46%|████▌     | 459/1000 [01:01<01:33,  5.79it/s]"
          ]
        },
        {
          "output_type": "stream",
          "name": "stdout",
          "text": [
            "30 iterations of epochs 459/1000\n",
            "Average recon_error: 15.936\n",
            "Average perplexity: 11.186\n",
            "\n",
            "10 iterations of epochs 460/1000\n",
            "Average recon_error: 17.588\n",
            "Average perplexity: 11.366\n",
            "\n",
            "20 iterations of epochs 460/1000\n",
            "Average recon_error: 16.411\n",
            "Average perplexity: 11.613\n",
            "\n",
            "30 iterations of epochs 460/1000\n",
            "Average recon_error: 17.380\n",
            "Average perplexity: 11.594\n",
            "\n"
          ]
        },
        {
          "output_type": "stream",
          "name": "stderr",
          "text": [
            " 46%|████▌     | 461/1000 [01:01<01:36,  5.61it/s]"
          ]
        },
        {
          "output_type": "stream",
          "name": "stdout",
          "text": [
            "10 iterations of epochs 461/1000\n",
            "Average recon_error: 16.314\n",
            "Average perplexity: 10.770\n",
            "\n",
            "20 iterations of epochs 461/1000\n",
            "Average recon_error: 16.438\n",
            "Average perplexity: 11.023\n",
            "\n",
            "30 iterations of epochs 461/1000\n",
            "Average recon_error: 18.076\n",
            "Average perplexity: 11.187\n",
            "\n",
            "10 iterations of epochs 462/1000\n",
            "Average recon_error: 16.973\n",
            "Average perplexity: 10.978\n",
            "\n"
          ]
        },
        {
          "output_type": "stream",
          "name": "stderr",
          "text": [
            " 46%|████▋     | 463/1000 [01:01<01:27,  6.12it/s]"
          ]
        },
        {
          "output_type": "stream",
          "name": "stdout",
          "text": [
            "20 iterations of epochs 462/1000\n",
            "Average recon_error: 17.009\n",
            "Average perplexity: 12.121\n",
            "\n",
            "30 iterations of epochs 462/1000\n",
            "Average recon_error: 16.753\n",
            "Average perplexity: 10.933\n",
            "\n",
            "10 iterations of epochs 463/1000\n",
            "Average recon_error: 17.765\n",
            "Average perplexity: 10.691\n",
            "\n",
            "20 iterations of epochs 463/1000\n",
            "Average recon_error: 16.010\n",
            "Average perplexity: 10.820\n",
            "\n",
            "30 iterations of epochs 463/1000\n",
            "Average recon_error: 16.434\n",
            "Average perplexity: 10.898\n",
            "\n"
          ]
        },
        {
          "output_type": "stream",
          "name": "stderr",
          "text": [
            "\r 46%|████▋     | 464/1000 [01:02<01:22,  6.51it/s]"
          ]
        },
        {
          "output_type": "stream",
          "name": "stdout",
          "text": [
            "10 iterations of epochs 464/1000\n",
            "Average recon_error: 16.350\n",
            "Average perplexity: 11.145\n",
            "\n",
            "20 iterations of epochs 464/1000\n",
            "Average recon_error: 17.872\n",
            "Average perplexity: 10.990\n",
            "\n",
            "30 iterations of epochs 464/1000\n",
            "Average recon_error: 14.720\n",
            "Average perplexity: 11.248\n",
            "\n",
            "10 iterations of epochs 465/1000\n",
            "Average recon_error: 16.135\n",
            "Average perplexity: 10.276\n",
            "\n",
            "20 iterations of epochs 465/1000\n",
            "Average recon_error: 17.429\n",
            "Average perplexity: 11.284\n",
            "\n",
            "30 iterations of epochs 465/1000\n",
            "Average recon_error: 17.656\n",
            "Average perplexity: 10.863\n",
            "\n"
          ]
        },
        {
          "output_type": "stream",
          "name": "stderr",
          "text": [
            " 47%|████▋     | 466/1000 [01:02<01:13,  7.22it/s]"
          ]
        },
        {
          "output_type": "stream",
          "name": "stdout",
          "text": [
            "10 iterations of epochs 466/1000\n",
            "Average recon_error: 16.471\n",
            "Average perplexity: 11.877\n",
            "\n",
            "20 iterations of epochs 466/1000\n",
            "Average recon_error: 15.812\n",
            "Average perplexity: 11.452\n",
            "\n",
            "30 iterations of epochs 466/1000\n",
            "Average recon_error: 16.675\n",
            "Average perplexity: 10.642\n",
            "\n",
            "10 iterations of epochs 467/1000\n",
            "Average recon_error: 16.914\n",
            "Average perplexity: 11.051\n",
            "\n",
            "20 iterations of epochs 467/1000\n",
            "Average recon_error: 16.213\n",
            "Average perplexity: 9.966\n",
            "\n",
            "30 iterations of epochs 467/1000\n",
            "Average recon_error: 16.658\n",
            "Average perplexity: 11.285\n",
            "\n"
          ]
        },
        {
          "output_type": "stream",
          "name": "stderr",
          "text": [
            " 47%|████▋     | 468/1000 [01:02<01:10,  7.57it/s]"
          ]
        },
        {
          "output_type": "stream",
          "name": "stdout",
          "text": [
            "10 iterations of epochs 468/1000\n",
            "Average recon_error: 16.714\n",
            "Average perplexity: 10.585\n",
            "\n",
            "20 iterations of epochs 468/1000\n",
            "Average recon_error: 17.550\n",
            "Average perplexity: 12.421\n",
            "\n",
            "30 iterations of epochs 468/1000\n",
            "Average recon_error: 17.488\n",
            "Average perplexity: 10.899\n",
            "\n",
            "10 iterations of epochs 469/1000\n",
            "Average recon_error: 16.432\n",
            "Average perplexity: 11.199\n",
            "\n",
            "20 iterations of epochs 469/1000\n",
            "Average recon_error: 17.088\n",
            "Average perplexity: 11.660\n",
            "\n",
            "30 iterations of epochs 469/1000\n",
            "Average recon_error: 16.638\n",
            "Average perplexity: 11.311\n",
            "\n"
          ]
        },
        {
          "output_type": "stream",
          "name": "stderr",
          "text": [
            " 47%|████▋     | 470/1000 [01:02<01:08,  7.76it/s]"
          ]
        },
        {
          "output_type": "stream",
          "name": "stdout",
          "text": [
            "10 iterations of epochs 470/1000\n",
            "Average recon_error: 17.181\n",
            "Average perplexity: 11.172\n",
            "\n",
            "20 iterations of epochs 470/1000\n",
            "Average recon_error: 17.598\n",
            "Average perplexity: 11.628\n",
            "\n",
            "30 iterations of epochs 470/1000\n",
            "Average recon_error: 16.937\n",
            "Average perplexity: 11.369\n",
            "\n",
            "10 iterations of epochs 471/1000\n",
            "Average recon_error: 16.685\n",
            "Average perplexity: 11.290\n",
            "\n",
            "20 iterations of epochs 471/1000\n",
            "Average recon_error: 18.726\n",
            "Average perplexity: 11.137\n",
            "\n",
            "30 iterations of epochs 471/1000\n",
            "Average recon_error: 17.108\n",
            "Average perplexity: 11.023\n",
            "\n"
          ]
        },
        {
          "output_type": "stream",
          "name": "stderr",
          "text": [
            " 47%|████▋     | 472/1000 [01:03<01:06,  7.89it/s]"
          ]
        },
        {
          "output_type": "stream",
          "name": "stdout",
          "text": [
            "10 iterations of epochs 472/1000\n",
            "Average recon_error: 16.436\n",
            "Average perplexity: 11.011\n",
            "\n",
            "20 iterations of epochs 472/1000\n",
            "Average recon_error: 17.456\n",
            "Average perplexity: 10.687\n",
            "\n",
            "30 iterations of epochs 472/1000\n",
            "Average recon_error: 16.619\n",
            "Average perplexity: 10.497\n",
            "\n",
            "10 iterations of epochs 473/1000\n",
            "Average recon_error: 17.589\n",
            "Average perplexity: 11.001\n",
            "\n",
            "20 iterations of epochs 473/1000\n",
            "Average recon_error: 15.995\n",
            "Average perplexity: 11.441\n",
            "\n",
            "30 iterations of epochs 473/1000\n",
            "Average recon_error: 16.694\n",
            "Average perplexity: 11.875\n",
            "\n"
          ]
        },
        {
          "output_type": "stream",
          "name": "stderr",
          "text": [
            " 47%|████▋     | 474/1000 [01:03<01:05,  8.01it/s]"
          ]
        },
        {
          "output_type": "stream",
          "name": "stdout",
          "text": [
            "10 iterations of epochs 474/1000\n",
            "Average recon_error: 15.470\n",
            "Average perplexity: 10.633\n",
            "\n",
            "20 iterations of epochs 474/1000\n",
            "Average recon_error: 16.703\n",
            "Average perplexity: 11.027\n",
            "\n",
            "30 iterations of epochs 474/1000\n",
            "Average recon_error: 17.600\n",
            "Average perplexity: 11.737\n",
            "\n",
            "10 iterations of epochs 475/1000\n",
            "Average recon_error: 17.002\n",
            "Average perplexity: 12.217\n",
            "\n",
            "20 iterations of epochs 475/1000\n",
            "Average recon_error: 16.357\n",
            "Average perplexity: 10.699\n",
            "\n",
            "30 iterations of epochs 475/1000\n",
            "Average recon_error: 16.751\n",
            "Average perplexity: 11.370\n",
            "\n"
          ]
        },
        {
          "output_type": "stream",
          "name": "stderr",
          "text": [
            " 48%|████▊     | 476/1000 [01:03<01:05,  7.97it/s]"
          ]
        },
        {
          "output_type": "stream",
          "name": "stdout",
          "text": [
            "10 iterations of epochs 476/1000\n",
            "Average recon_error: 17.033\n",
            "Average perplexity: 10.689\n",
            "\n",
            "20 iterations of epochs 476/1000\n",
            "Average recon_error: 15.974\n",
            "Average perplexity: 11.456\n",
            "\n",
            "30 iterations of epochs 476/1000\n",
            "Average recon_error: 17.707\n",
            "Average perplexity: 11.413\n",
            "\n",
            "10 iterations of epochs 477/1000\n",
            "Average recon_error: 17.597\n",
            "Average perplexity: 11.658\n",
            "\n",
            "20 iterations of epochs 477/1000\n",
            "Average recon_error: 17.010\n",
            "Average perplexity: 11.808\n",
            "\n",
            "30 iterations of epochs 477/1000\n",
            "Average recon_error: 16.874\n",
            "Average perplexity: 10.919\n",
            "\n"
          ]
        },
        {
          "output_type": "stream",
          "name": "stderr",
          "text": [
            " 48%|████▊     | 478/1000 [01:03<01:08,  7.64it/s]"
          ]
        },
        {
          "output_type": "stream",
          "name": "stdout",
          "text": [
            "10 iterations of epochs 478/1000\n",
            "Average recon_error: 16.172\n",
            "Average perplexity: 12.012\n",
            "\n",
            "20 iterations of epochs 478/1000\n",
            "Average recon_error: 17.023\n",
            "Average perplexity: 10.670\n",
            "\n",
            "30 iterations of epochs 478/1000\n",
            "Average recon_error: 16.692\n",
            "Average perplexity: 11.338\n",
            "\n",
            "10 iterations of epochs 479/1000\n",
            "Average recon_error: 18.147\n",
            "Average perplexity: 11.199\n",
            "\n",
            "20 iterations of epochs 479/1000\n",
            "Average recon_error: 16.057\n",
            "Average perplexity: 11.451\n",
            "\n",
            "30 iterations of epochs 479/1000\n",
            "Average recon_error: 15.888\n",
            "Average perplexity: 11.405\n",
            "\n"
          ]
        },
        {
          "output_type": "stream",
          "name": "stderr",
          "text": [
            " 48%|████▊     | 481/1000 [01:04<01:03,  8.15it/s]"
          ]
        },
        {
          "output_type": "stream",
          "name": "stdout",
          "text": [
            "10 iterations of epochs 480/1000\n",
            "Average recon_error: 16.322\n",
            "Average perplexity: 10.335\n",
            "\n",
            "20 iterations of epochs 480/1000\n",
            "Average recon_error: 15.050\n",
            "Average perplexity: 11.808\n",
            "\n",
            "30 iterations of epochs 480/1000\n",
            "Average recon_error: 16.548\n",
            "Average perplexity: 11.614\n",
            "\n",
            "10 iterations of epochs 481/1000\n",
            "Average recon_error: 16.173\n",
            "Average perplexity: 11.459\n",
            "\n",
            "20 iterations of epochs 481/1000\n",
            "Average recon_error: 16.378\n",
            "Average perplexity: 11.380\n",
            "\n",
            "30 iterations of epochs 481/1000\n",
            "Average recon_error: 17.903\n",
            "Average perplexity: 10.582\n",
            "\n"
          ]
        },
        {
          "output_type": "stream",
          "name": "stderr",
          "text": [
            " 48%|████▊     | 483/1000 [01:04<01:02,  8.27it/s]"
          ]
        },
        {
          "output_type": "stream",
          "name": "stdout",
          "text": [
            "10 iterations of epochs 482/1000\n",
            "Average recon_error: 15.989\n",
            "Average perplexity: 11.183\n",
            "\n",
            "20 iterations of epochs 482/1000\n",
            "Average recon_error: 17.512\n",
            "Average perplexity: 11.451\n",
            "\n",
            "30 iterations of epochs 482/1000\n",
            "Average recon_error: 17.961\n",
            "Average perplexity: 10.904\n",
            "\n",
            "10 iterations of epochs 483/1000\n",
            "Average recon_error: 15.415\n",
            "Average perplexity: 10.795\n",
            "\n",
            "20 iterations of epochs 483/1000\n",
            "Average recon_error: 17.764\n",
            "Average perplexity: 12.172\n",
            "\n",
            "30 iterations of epochs 483/1000\n",
            "Average recon_error: 15.227\n",
            "Average perplexity: 10.851\n",
            "\n"
          ]
        },
        {
          "output_type": "stream",
          "name": "stderr",
          "text": [
            "\r 48%|████▊     | 484/1000 [01:04<01:03,  8.11it/s]"
          ]
        },
        {
          "output_type": "stream",
          "name": "stdout",
          "text": [
            "10 iterations of epochs 484/1000\n",
            "Average recon_error: 19.131\n",
            "Average perplexity: 10.695\n",
            "\n",
            "20 iterations of epochs 484/1000\n",
            "Average recon_error: 17.118\n",
            "Average perplexity: 11.330\n",
            "\n",
            "30 iterations of epochs 484/1000\n",
            "Average recon_error: 16.467\n",
            "Average perplexity: 12.290\n",
            "\n",
            "10 iterations of epochs 485/1000\n",
            "Average recon_error: 18.430\n",
            "Average perplexity: 10.835\n",
            "\n",
            "20 iterations of epochs 485/1000\n",
            "Average recon_error: 17.323\n",
            "Average perplexity: 10.784\n",
            "\n",
            "30 iterations of epochs 485/1000\n",
            "Average recon_error: 16.035\n",
            "Average perplexity: 11.194\n",
            "\n"
          ]
        },
        {
          "output_type": "stream",
          "name": "stderr",
          "text": [
            " 49%|████▊     | 486/1000 [01:04<01:06,  7.75it/s]"
          ]
        },
        {
          "output_type": "stream",
          "name": "stdout",
          "text": [
            "10 iterations of epochs 486/1000\n",
            "Average recon_error: 17.849\n",
            "Average perplexity: 9.145\n",
            "\n",
            "20 iterations of epochs 486/1000\n",
            "Average recon_error: 17.922\n",
            "Average perplexity: 11.556\n",
            "\n",
            "30 iterations of epochs 486/1000\n",
            "Average recon_error: 17.035\n",
            "Average perplexity: 11.758\n",
            "\n",
            "10 iterations of epochs 487/1000\n",
            "Average recon_error: 18.555\n",
            "Average perplexity: 11.330\n",
            "\n",
            "20 iterations of epochs 487/1000\n",
            "Average recon_error: 17.432\n",
            "Average perplexity: 10.682\n",
            "\n",
            "30 iterations of epochs 487/1000\n",
            "Average recon_error: 16.624\n",
            "Average perplexity: 11.093\n",
            "\n"
          ]
        },
        {
          "output_type": "stream",
          "name": "stderr",
          "text": [
            " 49%|████▉     | 489/1000 [01:05<01:03,  8.02it/s]"
          ]
        },
        {
          "output_type": "stream",
          "name": "stdout",
          "text": [
            "10 iterations of epochs 488/1000\n",
            "Average recon_error: 18.342\n",
            "Average perplexity: 11.855\n",
            "\n",
            "20 iterations of epochs 488/1000\n",
            "Average recon_error: 17.083\n",
            "Average perplexity: 10.525\n",
            "\n",
            "30 iterations of epochs 488/1000\n",
            "Average recon_error: 16.792\n",
            "Average perplexity: 10.444\n",
            "\n",
            "10 iterations of epochs 489/1000\n",
            "Average recon_error: 16.208\n",
            "Average perplexity: 12.026\n",
            "\n",
            "20 iterations of epochs 489/1000\n",
            "Average recon_error: 16.615\n",
            "Average perplexity: 10.515\n",
            "\n",
            "30 iterations of epochs 489/1000\n",
            "Average recon_error: 17.792\n",
            "Average perplexity: 10.812\n",
            "\n"
          ]
        },
        {
          "output_type": "stream",
          "name": "stderr",
          "text": [
            "\r 49%|████▉     | 490/1000 [01:05<01:04,  7.92it/s]"
          ]
        },
        {
          "output_type": "stream",
          "name": "stdout",
          "text": [
            "10 iterations of epochs 490/1000\n",
            "Average recon_error: 16.271\n",
            "Average perplexity: 10.868\n",
            "\n",
            "20 iterations of epochs 490/1000\n",
            "Average recon_error: 17.704\n",
            "Average perplexity: 11.669\n",
            "\n",
            "30 iterations of epochs 490/1000\n",
            "Average recon_error: 16.695\n",
            "Average perplexity: 11.260\n",
            "\n",
            "10 iterations of epochs 491/1000\n",
            "Average recon_error: 17.524\n",
            "Average perplexity: 11.547\n",
            "\n",
            "20 iterations of epochs 491/1000\n",
            "Average recon_error: 16.058\n",
            "Average perplexity: 11.011\n",
            "\n",
            "30 iterations of epochs 491/1000\n",
            "Average recon_error: 16.846\n",
            "Average perplexity: 12.013\n",
            "\n"
          ]
        },
        {
          "output_type": "stream",
          "name": "stderr",
          "text": [
            " 49%|████▉     | 492/1000 [01:05<01:03,  8.03it/s]"
          ]
        },
        {
          "output_type": "stream",
          "name": "stdout",
          "text": [
            "10 iterations of epochs 492/1000\n",
            "Average recon_error: 16.227\n",
            "Average perplexity: 11.124\n",
            "\n",
            "20 iterations of epochs 492/1000\n",
            "Average recon_error: 17.076\n",
            "Average perplexity: 10.820\n",
            "\n",
            "30 iterations of epochs 492/1000\n",
            "Average recon_error: 18.050\n",
            "Average perplexity: 10.819\n",
            "\n",
            "10 iterations of epochs 493/1000\n",
            "Average recon_error: 16.586\n",
            "Average perplexity: 11.213\n",
            "\n",
            "20 iterations of epochs 493/1000\n",
            "Average recon_error: 17.062\n",
            "Average perplexity: 12.108\n",
            "\n",
            "30 iterations of epochs 493/1000\n",
            "Average recon_error: 17.182\n",
            "Average perplexity: 10.856\n",
            "\n"
          ]
        },
        {
          "output_type": "stream",
          "name": "stderr",
          "text": [
            " 49%|████▉     | 494/1000 [01:05<01:03,  7.91it/s]"
          ]
        },
        {
          "output_type": "stream",
          "name": "stdout",
          "text": [
            "10 iterations of epochs 494/1000\n",
            "Average recon_error: 17.897\n",
            "Average perplexity: 10.455\n",
            "\n",
            "20 iterations of epochs 494/1000\n",
            "Average recon_error: 16.794\n",
            "Average perplexity: 11.310\n",
            "\n",
            "30 iterations of epochs 494/1000\n",
            "Average recon_error: 17.492\n",
            "Average perplexity: 10.746\n",
            "\n",
            "10 iterations of epochs 495/1000\n",
            "Average recon_error: 16.549\n",
            "Average perplexity: 10.810\n",
            "\n",
            "20 iterations of epochs 495/1000\n",
            "Average recon_error: 17.353\n",
            "Average perplexity: 11.245\n",
            "\n",
            "30 iterations of epochs 495/1000\n",
            "Average recon_error: 16.731\n",
            "Average perplexity: 11.204\n",
            "\n"
          ]
        },
        {
          "output_type": "stream",
          "name": "stderr",
          "text": [
            " 50%|████▉     | 497/1000 [01:06<01:01,  8.19it/s]"
          ]
        },
        {
          "output_type": "stream",
          "name": "stdout",
          "text": [
            "10 iterations of epochs 496/1000\n",
            "Average recon_error: 16.753\n",
            "Average perplexity: 11.041\n",
            "\n",
            "20 iterations of epochs 496/1000\n",
            "Average recon_error: 15.888\n",
            "Average perplexity: 11.906\n",
            "\n",
            "30 iterations of epochs 496/1000\n",
            "Average recon_error: 17.515\n",
            "Average perplexity: 11.211\n",
            "\n",
            "10 iterations of epochs 497/1000\n",
            "Average recon_error: 15.945\n",
            "Average perplexity: 12.178\n",
            "\n",
            "20 iterations of epochs 497/1000\n",
            "Average recon_error: 17.667\n",
            "Average perplexity: 11.157\n",
            "\n",
            "30 iterations of epochs 497/1000\n",
            "Average recon_error: 16.633\n",
            "Average perplexity: 9.615\n",
            "\n"
          ]
        },
        {
          "output_type": "stream",
          "name": "stderr",
          "text": [
            "\r 50%|████▉     | 498/1000 [01:06<01:01,  8.10it/s]"
          ]
        },
        {
          "output_type": "stream",
          "name": "stdout",
          "text": [
            "10 iterations of epochs 498/1000\n",
            "Average recon_error: 18.357\n",
            "Average perplexity: 11.490\n",
            "\n",
            "20 iterations of epochs 498/1000\n",
            "Average recon_error: 17.589\n",
            "Average perplexity: 10.326\n",
            "\n",
            "30 iterations of epochs 498/1000\n",
            "Average recon_error: 16.027\n",
            "Average perplexity: 10.780\n",
            "\n",
            "10 iterations of epochs 499/1000\n",
            "Average recon_error: 17.708\n",
            "Average perplexity: 11.500\n",
            "\n",
            "20 iterations of epochs 499/1000\n",
            "Average recon_error: 18.793\n",
            "Average perplexity: 10.404\n",
            "\n",
            "30 iterations of epochs 499/1000\n",
            "Average recon_error: 18.404\n",
            "Average perplexity: 10.945\n",
            "\n"
          ]
        },
        {
          "output_type": "stream",
          "name": "stderr",
          "text": [
            " 50%|█████     | 500/1000 [01:06<01:02,  8.03it/s]"
          ]
        },
        {
          "output_type": "stream",
          "name": "stdout",
          "text": [
            "10 iterations of epochs 500/1000\n",
            "Average recon_error: 17.469\n",
            "Average perplexity: 11.268\n",
            "\n",
            "20 iterations of epochs 500/1000\n",
            "Average recon_error: 15.573\n",
            "Average perplexity: 10.997\n",
            "\n",
            "30 iterations of epochs 500/1000\n",
            "Average recon_error: 16.737\n",
            "Average perplexity: 10.887\n",
            "\n",
            "10 iterations of epochs 501/1000\n",
            "Average recon_error: 17.135\n",
            "Average perplexity: 11.492\n",
            "\n",
            "20 iterations of epochs 501/1000\n",
            "Average recon_error: 15.881\n",
            "Average perplexity: 10.968\n",
            "\n",
            "30 iterations of epochs 501/1000\n",
            "Average recon_error: 17.114\n",
            "Average perplexity: 10.077\n",
            "\n"
          ]
        },
        {
          "output_type": "stream",
          "name": "stderr",
          "text": [
            " 50%|█████     | 502/1000 [01:06<01:05,  7.60it/s]"
          ]
        },
        {
          "output_type": "stream",
          "name": "stdout",
          "text": [
            "10 iterations of epochs 502/1000\n",
            "Average recon_error: 16.815\n",
            "Average perplexity: 11.326\n",
            "\n",
            "20 iterations of epochs 502/1000\n",
            "Average recon_error: 17.984\n",
            "Average perplexity: 11.483\n",
            "\n",
            "30 iterations of epochs 502/1000\n",
            "Average recon_error: 16.765\n",
            "Average perplexity: 11.795\n",
            "\n",
            "10 iterations of epochs 503/1000\n",
            "Average recon_error: 15.612\n",
            "Average perplexity: 10.856\n",
            "\n",
            "20 iterations of epochs 503/1000\n",
            "Average recon_error: 18.002\n",
            "Average perplexity: 11.666\n",
            "\n"
          ]
        },
        {
          "output_type": "stream",
          "name": "stderr",
          "text": [
            " 50%|█████     | 504/1000 [01:07<01:04,  7.74it/s]"
          ]
        },
        {
          "output_type": "stream",
          "name": "stdout",
          "text": [
            "30 iterations of epochs 503/1000\n",
            "Average recon_error: 16.977\n",
            "Average perplexity: 11.138\n",
            "\n",
            "10 iterations of epochs 504/1000\n",
            "Average recon_error: 16.781\n",
            "Average perplexity: 11.203\n",
            "\n",
            "20 iterations of epochs 504/1000\n",
            "Average recon_error: 16.223\n",
            "Average perplexity: 11.419\n",
            "\n",
            "30 iterations of epochs 504/1000\n",
            "Average recon_error: 15.847\n",
            "Average perplexity: 10.937\n",
            "\n",
            "10 iterations of epochs 505/1000\n",
            "Average recon_error: 16.547\n",
            "Average perplexity: 11.406\n",
            "\n"
          ]
        },
        {
          "output_type": "stream",
          "name": "stderr",
          "text": [
            " 51%|█████     | 506/1000 [01:07<01:02,  7.88it/s]"
          ]
        },
        {
          "output_type": "stream",
          "name": "stdout",
          "text": [
            "20 iterations of epochs 505/1000\n",
            "Average recon_error: 16.502\n",
            "Average perplexity: 11.419\n",
            "\n",
            "30 iterations of epochs 505/1000\n",
            "Average recon_error: 16.218\n",
            "Average perplexity: 10.733\n",
            "\n",
            "10 iterations of epochs 506/1000\n",
            "Average recon_error: 17.981\n",
            "Average perplexity: 11.320\n",
            "\n",
            "20 iterations of epochs 506/1000\n",
            "Average recon_error: 16.002\n",
            "Average perplexity: 11.908\n",
            "\n",
            "30 iterations of epochs 506/1000\n",
            "Average recon_error: 16.116\n",
            "Average perplexity: 10.632\n",
            "\n"
          ]
        },
        {
          "output_type": "stream",
          "name": "stderr",
          "text": [
            "\r 51%|█████     | 507/1000 [01:07<01:04,  7.60it/s]"
          ]
        },
        {
          "output_type": "stream",
          "name": "stdout",
          "text": [
            "10 iterations of epochs 507/1000\n",
            "Average recon_error: 15.679\n",
            "Average perplexity: 10.970\n",
            "\n",
            "20 iterations of epochs 507/1000\n",
            "Average recon_error: 16.904\n",
            "Average perplexity: 11.585\n",
            "\n",
            "30 iterations of epochs 507/1000\n",
            "Average recon_error: 18.252\n",
            "Average perplexity: 11.438\n",
            "\n",
            "10 iterations of epochs 508/1000\n",
            "Average recon_error: 16.545\n",
            "Average perplexity: 10.417\n",
            "\n",
            "20 iterations of epochs 508/1000\n",
            "Average recon_error: 15.933\n",
            "Average perplexity: 10.383\n",
            "\n",
            "30 iterations of epochs 508/1000\n",
            "Average recon_error: 17.021\n",
            "Average perplexity: 12.157\n",
            "\n"
          ]
        },
        {
          "output_type": "stream",
          "name": "stderr",
          "text": [
            " 51%|█████     | 509/1000 [01:07<01:03,  7.69it/s]"
          ]
        },
        {
          "output_type": "stream",
          "name": "stdout",
          "text": [
            "10 iterations of epochs 509/1000\n",
            "Average recon_error: 16.100\n",
            "Average perplexity: 10.320\n",
            "\n",
            "20 iterations of epochs 509/1000\n",
            "Average recon_error: 16.989\n",
            "Average perplexity: 10.975\n",
            "\n",
            "30 iterations of epochs 509/1000\n",
            "Average recon_error: 15.876\n",
            "Average perplexity: 11.660\n",
            "\n",
            "10 iterations of epochs 510/1000\n",
            "Average recon_error: 16.106\n",
            "Average perplexity: 10.857\n",
            "\n"
          ]
        },
        {
          "output_type": "stream",
          "name": "stderr",
          "text": [
            " 51%|█████     | 511/1000 [01:07<01:03,  7.70it/s]"
          ]
        },
        {
          "output_type": "stream",
          "name": "stdout",
          "text": [
            "20 iterations of epochs 510/1000\n",
            "Average recon_error: 16.508\n",
            "Average perplexity: 11.075\n",
            "\n",
            "30 iterations of epochs 510/1000\n",
            "Average recon_error: 17.315\n",
            "Average perplexity: 12.063\n",
            "\n",
            "10 iterations of epochs 511/1000\n",
            "Average recon_error: 17.887\n",
            "Average perplexity: 11.393\n",
            "\n",
            "20 iterations of epochs 511/1000\n",
            "Average recon_error: 16.602\n",
            "Average perplexity: 10.802\n",
            "\n",
            "30 iterations of epochs 511/1000\n",
            "Average recon_error: 17.958\n",
            "Average perplexity: 11.221\n",
            "\n"
          ]
        },
        {
          "output_type": "stream",
          "name": "stderr",
          "text": [
            "\r 51%|█████     | 512/1000 [01:08<01:02,  7.77it/s]"
          ]
        },
        {
          "output_type": "stream",
          "name": "stdout",
          "text": [
            "10 iterations of epochs 512/1000\n",
            "Average recon_error: 16.372\n",
            "Average perplexity: 11.294\n",
            "\n",
            "20 iterations of epochs 512/1000\n",
            "Average recon_error: 16.671\n",
            "Average perplexity: 11.979\n",
            "\n",
            "30 iterations of epochs 512/1000\n",
            "Average recon_error: 16.031\n",
            "Average perplexity: 10.936\n",
            "\n",
            "10 iterations of epochs 513/1000\n",
            "Average recon_error: 17.179\n",
            "Average perplexity: 11.716\n",
            "\n",
            "20 iterations of epochs 513/1000\n",
            "Average recon_error: 15.523\n",
            "Average perplexity: 10.871\n",
            "\n",
            "30 iterations of epochs 513/1000\n",
            "Average recon_error: 17.212\n",
            "Average perplexity: 11.069\n",
            "\n"
          ]
        },
        {
          "output_type": "stream",
          "name": "stderr",
          "text": [
            " 52%|█████▏    | 515/1000 [01:08<00:59,  8.17it/s]"
          ]
        },
        {
          "output_type": "stream",
          "name": "stdout",
          "text": [
            "10 iterations of epochs 514/1000\n",
            "Average recon_error: 16.225\n",
            "Average perplexity: 10.907\n",
            "\n",
            "20 iterations of epochs 514/1000\n",
            "Average recon_error: 16.854\n",
            "Average perplexity: 11.683\n",
            "\n",
            "30 iterations of epochs 514/1000\n",
            "Average recon_error: 18.524\n",
            "Average perplexity: 11.627\n",
            "\n",
            "10 iterations of epochs 515/1000\n",
            "Average recon_error: 17.411\n",
            "Average perplexity: 11.513\n",
            "\n",
            "20 iterations of epochs 515/1000\n",
            "Average recon_error: 16.196\n",
            "Average perplexity: 11.336\n",
            "\n",
            "30 iterations of epochs 515/1000\n",
            "Average recon_error: 18.357\n",
            "Average perplexity: 11.379\n",
            "\n"
          ]
        },
        {
          "output_type": "stream",
          "name": "stderr",
          "text": [
            "\r 52%|█████▏    | 516/1000 [01:08<00:59,  8.11it/s]"
          ]
        },
        {
          "output_type": "stream",
          "name": "stdout",
          "text": [
            "10 iterations of epochs 516/1000\n",
            "Average recon_error: 16.033\n",
            "Average perplexity: 12.268\n",
            "\n",
            "20 iterations of epochs 516/1000\n",
            "Average recon_error: 16.855\n",
            "Average perplexity: 11.155\n",
            "\n",
            "30 iterations of epochs 516/1000\n",
            "Average recon_error: 15.025\n",
            "Average perplexity: 11.160\n",
            "\n",
            "10 iterations of epochs 517/1000\n",
            "Average recon_error: 17.006\n",
            "Average perplexity: 10.714\n",
            "\n",
            "20 iterations of epochs 517/1000\n",
            "Average recon_error: 16.381\n",
            "Average perplexity: 11.215\n",
            "\n",
            "30 iterations of epochs 517/1000\n",
            "Average recon_error: 17.691\n",
            "Average perplexity: 11.009\n",
            "\n"
          ]
        },
        {
          "output_type": "stream",
          "name": "stderr",
          "text": [
            " 52%|█████▏    | 518/1000 [01:08<01:01,  7.88it/s]"
          ]
        },
        {
          "output_type": "stream",
          "name": "stdout",
          "text": [
            "10 iterations of epochs 518/1000\n",
            "Average recon_error: 18.304\n",
            "Average perplexity: 11.003\n",
            "\n",
            "20 iterations of epochs 518/1000\n",
            "Average recon_error: 15.139\n",
            "Average perplexity: 10.520\n",
            "\n",
            "30 iterations of epochs 518/1000\n",
            "Average recon_error: 16.671\n",
            "Average perplexity: 11.088\n",
            "\n",
            "10 iterations of epochs 519/1000\n",
            "Average recon_error: 17.669\n",
            "Average perplexity: 11.886\n",
            "\n",
            "20 iterations of epochs 519/1000\n",
            "Average recon_error: 16.796\n",
            "Average perplexity: 11.539\n",
            "\n",
            "30 iterations of epochs 519/1000\n",
            "Average recon_error: 15.431\n",
            "Average perplexity: 10.952\n",
            "\n"
          ]
        },
        {
          "output_type": "stream",
          "name": "stderr",
          "text": [
            " 52%|█████▏    | 520/1000 [01:09<01:00,  7.95it/s]"
          ]
        },
        {
          "output_type": "stream",
          "name": "stdout",
          "text": [
            "10 iterations of epochs 520/1000\n",
            "Average recon_error: 17.173\n",
            "Average perplexity: 11.531\n",
            "\n",
            "20 iterations of epochs 520/1000\n",
            "Average recon_error: 17.224\n",
            "Average perplexity: 11.375\n",
            "\n",
            "30 iterations of epochs 520/1000\n",
            "Average recon_error: 16.372\n",
            "Average perplexity: 11.159\n",
            "\n",
            "10 iterations of epochs 521/1000\n",
            "Average recon_error: 17.623\n",
            "Average perplexity: 10.363\n",
            "\n",
            "20 iterations of epochs 521/1000\n",
            "Average recon_error: 16.474\n",
            "Average perplexity: 11.273\n",
            "\n",
            "30 iterations of epochs 521/1000\n",
            "Average recon_error: 16.855\n",
            "Average perplexity: 11.175\n",
            "\n"
          ]
        },
        {
          "output_type": "stream",
          "name": "stderr",
          "text": [
            " 52%|█████▏    | 522/1000 [01:09<01:00,  7.85it/s]"
          ]
        },
        {
          "output_type": "stream",
          "name": "stdout",
          "text": [
            "10 iterations of epochs 522/1000\n",
            "Average recon_error: 15.959\n",
            "Average perplexity: 10.816\n",
            "\n",
            "20 iterations of epochs 522/1000\n",
            "Average recon_error: 15.284\n",
            "Average perplexity: 11.062\n",
            "\n",
            "30 iterations of epochs 522/1000\n",
            "Average recon_error: 16.623\n",
            "Average perplexity: 11.792\n",
            "\n",
            "10 iterations of epochs 523/1000\n",
            "Average recon_error: 18.143\n",
            "Average perplexity: 11.225\n",
            "\n",
            "20 iterations of epochs 523/1000\n",
            "Average recon_error: 16.140\n",
            "Average perplexity: 10.321\n",
            "\n",
            "30 iterations of epochs 523/1000\n",
            "Average recon_error: 17.775\n",
            "Average perplexity: 11.001\n",
            "\n"
          ]
        },
        {
          "output_type": "stream",
          "name": "stderr",
          "text": [
            " 52%|█████▏    | 524/1000 [01:09<01:00,  7.83it/s]"
          ]
        },
        {
          "output_type": "stream",
          "name": "stdout",
          "text": [
            "10 iterations of epochs 524/1000\n",
            "Average recon_error: 16.440\n",
            "Average perplexity: 9.596\n",
            "\n",
            "20 iterations of epochs 524/1000\n",
            "Average recon_error: 16.819\n",
            "Average perplexity: 11.172\n",
            "\n",
            "30 iterations of epochs 524/1000\n",
            "Average recon_error: 16.312\n",
            "Average perplexity: 10.715\n",
            "\n",
            "10 iterations of epochs 525/1000\n",
            "Average recon_error: 17.499\n",
            "Average perplexity: 10.170\n",
            "\n",
            "20 iterations of epochs 525/1000\n",
            "Average recon_error: 16.370\n",
            "Average perplexity: 11.500\n",
            "\n",
            "30 iterations of epochs 525/1000\n",
            "Average recon_error: 16.581\n",
            "Average perplexity: 11.334\n",
            "\n"
          ]
        },
        {
          "output_type": "stream",
          "name": "stderr",
          "text": [
            " 53%|█████▎    | 526/1000 [01:09<01:02,  7.60it/s]"
          ]
        },
        {
          "output_type": "stream",
          "name": "stdout",
          "text": [
            "10 iterations of epochs 526/1000\n",
            "Average recon_error: 18.346\n",
            "Average perplexity: 11.295\n",
            "\n",
            "20 iterations of epochs 526/1000\n",
            "Average recon_error: 16.550\n",
            "Average perplexity: 11.917\n",
            "\n",
            "30 iterations of epochs 526/1000\n",
            "Average recon_error: 16.533\n",
            "Average perplexity: 10.450\n",
            "\n",
            "10 iterations of epochs 527/1000\n",
            "Average recon_error: 17.073\n",
            "Average perplexity: 10.333\n",
            "\n",
            "20 iterations of epochs 527/1000\n",
            "Average recon_error: 15.939\n",
            "Average perplexity: 11.114\n",
            "\n",
            "30 iterations of epochs 527/1000\n",
            "Average recon_error: 16.871\n",
            "Average perplexity: 11.467\n",
            "\n"
          ]
        },
        {
          "output_type": "stream",
          "name": "stderr",
          "text": [
            " 53%|█████▎    | 529/1000 [01:10<00:57,  8.16it/s]"
          ]
        },
        {
          "output_type": "stream",
          "name": "stdout",
          "text": [
            "10 iterations of epochs 528/1000\n",
            "Average recon_error: 17.523\n",
            "Average perplexity: 11.735\n",
            "\n",
            "20 iterations of epochs 528/1000\n",
            "Average recon_error: 15.709\n",
            "Average perplexity: 11.982\n",
            "\n",
            "30 iterations of epochs 528/1000\n",
            "Average recon_error: 15.508\n",
            "Average perplexity: 10.182\n",
            "\n",
            "10 iterations of epochs 529/1000\n",
            "Average recon_error: 18.627\n",
            "Average perplexity: 11.629\n",
            "\n",
            "20 iterations of epochs 529/1000\n",
            "Average recon_error: 17.161\n",
            "Average perplexity: 10.578\n",
            "\n",
            "30 iterations of epochs 529/1000\n",
            "Average recon_error: 15.989\n",
            "Average perplexity: 10.955\n",
            "\n"
          ]
        },
        {
          "output_type": "stream",
          "name": "stderr",
          "text": [
            "\r 53%|█████▎    | 530/1000 [01:10<00:58,  8.09it/s]"
          ]
        },
        {
          "output_type": "stream",
          "name": "stdout",
          "text": [
            "10 iterations of epochs 530/1000\n",
            "Average recon_error: 16.442\n",
            "Average perplexity: 10.666\n",
            "\n",
            "20 iterations of epochs 530/1000\n",
            "Average recon_error: 17.717\n",
            "Average perplexity: 11.216\n",
            "\n",
            "30 iterations of epochs 530/1000\n",
            "Average recon_error: 17.053\n",
            "Average perplexity: 10.214\n",
            "\n",
            "10 iterations of epochs 531/1000\n",
            "Average recon_error: 15.858\n",
            "Average perplexity: 11.596\n",
            "\n",
            "20 iterations of epochs 531/1000\n",
            "Average recon_error: 18.105\n",
            "Average perplexity: 10.966\n",
            "\n",
            "30 iterations of epochs 531/1000\n",
            "Average recon_error: 17.517\n",
            "Average perplexity: 11.349\n",
            "\n"
          ]
        },
        {
          "output_type": "stream",
          "name": "stderr",
          "text": [
            " 53%|█████▎    | 532/1000 [01:10<00:58,  8.06it/s]"
          ]
        },
        {
          "output_type": "stream",
          "name": "stdout",
          "text": [
            "10 iterations of epochs 532/1000\n",
            "Average recon_error: 16.305\n",
            "Average perplexity: 11.230\n",
            "\n",
            "20 iterations of epochs 532/1000\n",
            "Average recon_error: 15.886\n",
            "Average perplexity: 10.443\n",
            "\n",
            "30 iterations of epochs 532/1000\n",
            "Average recon_error: 17.275\n",
            "Average perplexity: 11.238\n",
            "\n",
            "10 iterations of epochs 533/1000\n",
            "Average recon_error: 17.421\n",
            "Average perplexity: 10.996\n",
            "\n",
            "20 iterations of epochs 533/1000\n",
            "Average recon_error: 17.610\n",
            "Average perplexity: 10.867\n",
            "\n",
            "30 iterations of epochs 533/1000\n",
            "Average recon_error: 17.426\n",
            "Average perplexity: 11.839\n",
            "\n"
          ]
        },
        {
          "output_type": "stream",
          "name": "stderr",
          "text": [
            " 53%|█████▎    | 534/1000 [01:10<00:59,  7.85it/s]"
          ]
        },
        {
          "output_type": "stream",
          "name": "stdout",
          "text": [
            "10 iterations of epochs 534/1000\n",
            "Average recon_error: 17.049\n",
            "Average perplexity: 10.934\n",
            "\n",
            "20 iterations of epochs 534/1000\n",
            "Average recon_error: 16.528\n",
            "Average perplexity: 11.413\n",
            "\n",
            "30 iterations of epochs 534/1000\n",
            "Average recon_error: 17.039\n",
            "Average perplexity: 11.330\n",
            "\n",
            "10 iterations of epochs 535/1000\n",
            "Average recon_error: 17.313\n",
            "Average perplexity: 12.203\n",
            "\n",
            "20 iterations of epochs 535/1000\n",
            "Average recon_error: 17.086\n",
            "Average perplexity: 11.266\n",
            "\n",
            "30 iterations of epochs 535/1000\n",
            "Average recon_error: 17.252\n",
            "Average perplexity: 11.129\n",
            "\n"
          ]
        },
        {
          "output_type": "stream",
          "name": "stderr",
          "text": [
            " 54%|█████▎    | 536/1000 [01:11<00:59,  7.86it/s]"
          ]
        },
        {
          "output_type": "stream",
          "name": "stdout",
          "text": [
            "10 iterations of epochs 536/1000\n",
            "Average recon_error: 17.131\n",
            "Average perplexity: 10.655\n",
            "\n",
            "20 iterations of epochs 536/1000\n",
            "Average recon_error: 18.478\n",
            "Average perplexity: 10.928\n",
            "\n",
            "30 iterations of epochs 536/1000\n",
            "Average recon_error: 17.299\n",
            "Average perplexity: 10.976\n",
            "\n",
            "10 iterations of epochs 537/1000\n",
            "Average recon_error: 18.165\n",
            "Average perplexity: 11.426\n",
            "\n",
            "20 iterations of epochs 537/1000\n",
            "Average recon_error: 17.197\n",
            "Average perplexity: 10.590\n",
            "\n",
            "30 iterations of epochs 537/1000\n",
            "Average recon_error: 16.976\n",
            "Average perplexity: 10.748\n",
            "\n"
          ]
        },
        {
          "output_type": "stream",
          "name": "stderr",
          "text": [
            " 54%|█████▍    | 539/1000 [01:11<00:56,  8.18it/s]"
          ]
        },
        {
          "output_type": "stream",
          "name": "stdout",
          "text": [
            "10 iterations of epochs 538/1000\n",
            "Average recon_error: 16.011\n",
            "Average perplexity: 11.470\n",
            "\n",
            "20 iterations of epochs 538/1000\n",
            "Average recon_error: 19.656\n",
            "Average perplexity: 12.069\n",
            "\n",
            "30 iterations of epochs 538/1000\n",
            "Average recon_error: 16.574\n",
            "Average perplexity: 10.974\n",
            "\n",
            "10 iterations of epochs 539/1000\n",
            "Average recon_error: 16.316\n",
            "Average perplexity: 11.471\n",
            "\n",
            "20 iterations of epochs 539/1000\n",
            "Average recon_error: 17.768\n",
            "Average perplexity: 10.836\n",
            "\n",
            "30 iterations of epochs 539/1000\n",
            "Average recon_error: 15.714\n",
            "Average perplexity: 11.025\n",
            "\n"
          ]
        },
        {
          "output_type": "stream",
          "name": "stderr",
          "text": [
            "\r 54%|█████▍    | 540/1000 [01:11<00:56,  8.10it/s]"
          ]
        },
        {
          "output_type": "stream",
          "name": "stdout",
          "text": [
            "10 iterations of epochs 540/1000\n",
            "Average recon_error: 17.219\n",
            "Average perplexity: 10.251\n",
            "\n",
            "20 iterations of epochs 540/1000\n",
            "Average recon_error: 16.914\n",
            "Average perplexity: 11.442\n",
            "\n",
            "30 iterations of epochs 540/1000\n",
            "Average recon_error: 16.750\n",
            "Average perplexity: 10.658\n",
            "\n",
            "10 iterations of epochs 541/1000\n",
            "Average recon_error: 16.762\n",
            "Average perplexity: 10.135\n",
            "\n",
            "20 iterations of epochs 541/1000\n",
            "Average recon_error: 17.508\n",
            "Average perplexity: 11.399\n",
            "\n",
            "30 iterations of epochs 541/1000\n",
            "Average recon_error: 15.306\n",
            "Average perplexity: 10.656\n",
            "\n"
          ]
        },
        {
          "output_type": "stream",
          "name": "stderr",
          "text": [
            " 54%|█████▍    | 542/1000 [01:11<01:06,  6.89it/s]"
          ]
        },
        {
          "output_type": "stream",
          "name": "stdout",
          "text": [
            "10 iterations of epochs 542/1000\n",
            "Average recon_error: 16.271\n",
            "Average perplexity: 10.834\n",
            "\n",
            "20 iterations of epochs 542/1000\n",
            "Average recon_error: 15.384\n",
            "Average perplexity: 11.272\n",
            "\n",
            "30 iterations of epochs 542/1000\n",
            "Average recon_error: 16.664\n",
            "Average perplexity: 10.901\n",
            "\n",
            "10 iterations of epochs 543/1000\n",
            "Average recon_error: 15.990\n",
            "Average perplexity: 11.195\n",
            "\n"
          ]
        },
        {
          "output_type": "stream",
          "name": "stderr",
          "text": [
            "\r 54%|█████▍    | 543/1000 [01:12<01:13,  6.23it/s]"
          ]
        },
        {
          "output_type": "stream",
          "name": "stdout",
          "text": [
            "20 iterations of epochs 543/1000\n",
            "Average recon_error: 15.991\n",
            "Average perplexity: 11.061\n",
            "\n",
            "30 iterations of epochs 543/1000\n",
            "Average recon_error: 16.025\n",
            "Average perplexity: 11.601\n",
            "\n",
            "10 iterations of epochs 544/1000\n",
            "Average recon_error: 16.880\n",
            "Average perplexity: 10.408\n",
            "\n",
            "20 iterations of epochs 544/1000\n",
            "Average recon_error: 18.412\n",
            "Average perplexity: 11.048\n",
            "\n"
          ]
        },
        {
          "output_type": "stream",
          "name": "stderr",
          "text": [
            " 55%|█████▍    | 545/1000 [01:12<01:13,  6.19it/s]"
          ]
        },
        {
          "output_type": "stream",
          "name": "stdout",
          "text": [
            "30 iterations of epochs 544/1000\n",
            "Average recon_error: 18.413\n",
            "Average perplexity: 11.373\n",
            "\n",
            "10 iterations of epochs 545/1000\n",
            "Average recon_error: 17.092\n",
            "Average perplexity: 11.481\n",
            "\n",
            "20 iterations of epochs 545/1000\n",
            "Average recon_error: 16.667\n",
            "Average perplexity: 11.545\n",
            "\n",
            "30 iterations of epochs 545/1000\n",
            "Average recon_error: 16.707\n",
            "Average perplexity: 12.132\n",
            "\n"
          ]
        },
        {
          "output_type": "stream",
          "name": "stderr",
          "text": [
            "\r 55%|█████▍    | 546/1000 [01:12<01:15,  6.05it/s]"
          ]
        },
        {
          "output_type": "stream",
          "name": "stdout",
          "text": [
            "10 iterations of epochs 546/1000\n",
            "Average recon_error: 16.804\n",
            "Average perplexity: 11.271\n",
            "\n",
            "20 iterations of epochs 546/1000\n",
            "Average recon_error: 17.295\n",
            "Average perplexity: 11.098\n",
            "\n",
            "30 iterations of epochs 546/1000\n",
            "Average recon_error: 18.740\n",
            "Average perplexity: 11.300\n",
            "\n",
            "10 iterations of epochs 547/1000\n",
            "Average recon_error: 16.289\n",
            "Average perplexity: 12.379\n",
            "\n",
            "20 iterations of epochs 547/1000\n",
            "Average recon_error: 16.804\n",
            "Average perplexity: 10.560\n",
            "\n"
          ]
        },
        {
          "output_type": "stream",
          "name": "stderr",
          "text": [
            " 55%|█████▍    | 548/1000 [01:12<01:13,  6.12it/s]"
          ]
        },
        {
          "output_type": "stream",
          "name": "stdout",
          "text": [
            "30 iterations of epochs 547/1000\n",
            "Average recon_error: 16.579\n",
            "Average perplexity: 11.049\n",
            "\n",
            "10 iterations of epochs 548/1000\n",
            "Average recon_error: 16.106\n",
            "Average perplexity: 10.514\n",
            "\n",
            "20 iterations of epochs 548/1000\n",
            "Average recon_error: 16.482\n",
            "Average perplexity: 11.224\n",
            "\n",
            "30 iterations of epochs 548/1000\n",
            "Average recon_error: 18.197\n",
            "Average perplexity: 11.424\n",
            "\n"
          ]
        },
        {
          "output_type": "stream",
          "name": "stderr",
          "text": [
            "\r 55%|█████▍    | 549/1000 [01:13<01:15,  5.98it/s]"
          ]
        },
        {
          "output_type": "stream",
          "name": "stdout",
          "text": [
            "10 iterations of epochs 549/1000\n",
            "Average recon_error: 17.133\n",
            "Average perplexity: 11.217\n",
            "\n",
            "20 iterations of epochs 549/1000\n",
            "Average recon_error: 18.052\n",
            "Average perplexity: 11.853\n",
            "\n",
            "30 iterations of epochs 549/1000\n",
            "Average recon_error: 16.888\n",
            "Average perplexity: 11.494\n",
            "\n",
            "10 iterations of epochs 550/1000\n",
            "Average recon_error: 16.080\n",
            "Average perplexity: 11.586\n",
            "\n"
          ]
        },
        {
          "output_type": "stream",
          "name": "stderr",
          "text": [
            "\r 55%|█████▌    | 550/1000 [01:13<01:14,  6.01it/s]"
          ]
        },
        {
          "output_type": "stream",
          "name": "stdout",
          "text": [
            "20 iterations of epochs 550/1000\n",
            "Average recon_error: 15.854\n",
            "Average perplexity: 10.893\n",
            "\n",
            "30 iterations of epochs 550/1000\n",
            "Average recon_error: 17.348\n",
            "Average perplexity: 10.578\n",
            "\n",
            "10 iterations of epochs 551/1000\n",
            "Average recon_error: 15.601\n",
            "Average perplexity: 10.882\n",
            "\n",
            "20 iterations of epochs 551/1000\n",
            "Average recon_error: 16.885\n",
            "Average perplexity: 10.098\n",
            "\n"
          ]
        },
        {
          "output_type": "stream",
          "name": "stderr",
          "text": [
            "\r 55%|█████▌    | 551/1000 [01:13<01:16,  5.89it/s]"
          ]
        },
        {
          "output_type": "stream",
          "name": "stdout",
          "text": [
            "30 iterations of epochs 551/1000\n",
            "Average recon_error: 17.564\n",
            "Average perplexity: 10.714\n",
            "\n",
            "10 iterations of epochs 552/1000\n",
            "Average recon_error: 16.754\n",
            "Average perplexity: 10.119\n",
            "\n",
            "20 iterations of epochs 552/1000\n",
            "Average recon_error: 15.528\n",
            "Average perplexity: 11.180\n",
            "\n",
            "30 iterations of epochs 552/1000\n",
            "Average recon_error: 17.895\n",
            "Average perplexity: 11.118\n",
            "\n"
          ]
        },
        {
          "output_type": "stream",
          "name": "stderr",
          "text": [
            " 55%|█████▌    | 553/1000 [01:13<01:17,  5.77it/s]"
          ]
        },
        {
          "output_type": "stream",
          "name": "stdout",
          "text": [
            "10 iterations of epochs 553/1000\n",
            "Average recon_error: 16.424\n",
            "Average perplexity: 11.077\n",
            "\n",
            "20 iterations of epochs 553/1000\n",
            "Average recon_error: 17.893\n",
            "Average perplexity: 11.387\n",
            "\n",
            "30 iterations of epochs 553/1000\n",
            "Average recon_error: 20.296\n",
            "Average perplexity: 12.092\n",
            "\n",
            "10 iterations of epochs 554/1000\n",
            "Average recon_error: 16.272\n",
            "Average perplexity: 10.857\n",
            "\n"
          ]
        },
        {
          "output_type": "stream",
          "name": "stderr",
          "text": [
            "\r 55%|█████▌    | 554/1000 [01:14<01:19,  5.59it/s]"
          ]
        },
        {
          "output_type": "stream",
          "name": "stdout",
          "text": [
            "20 iterations of epochs 554/1000\n",
            "Average recon_error: 16.683\n",
            "Average perplexity: 10.547\n",
            "\n",
            "30 iterations of epochs 554/1000\n",
            "Average recon_error: 17.505\n",
            "Average perplexity: 11.125\n",
            "\n",
            "10 iterations of epochs 555/1000\n",
            "Average recon_error: 16.177\n",
            "Average perplexity: 11.209\n",
            "\n",
            "20 iterations of epochs 555/1000\n",
            "Average recon_error: 15.875\n",
            "Average perplexity: 11.284\n",
            "\n"
          ]
        },
        {
          "output_type": "stream",
          "name": "stderr",
          "text": [
            "\r 56%|█████▌    | 555/1000 [01:14<01:23,  5.30it/s]"
          ]
        },
        {
          "output_type": "stream",
          "name": "stdout",
          "text": [
            "30 iterations of epochs 555/1000\n",
            "Average recon_error: 17.851\n",
            "Average perplexity: 10.862\n",
            "\n",
            "10 iterations of epochs 556/1000\n",
            "Average recon_error: 17.027\n",
            "Average perplexity: 12.421\n",
            "\n",
            "20 iterations of epochs 556/1000\n",
            "Average recon_error: 15.966\n",
            "Average perplexity: 10.754\n",
            "\n",
            "30 iterations of epochs 556/1000\n",
            "Average recon_error: 16.406\n",
            "Average perplexity: 10.694\n",
            "\n"
          ]
        },
        {
          "output_type": "stream",
          "name": "stderr",
          "text": [
            " 56%|█████▌    | 557/1000 [01:14<01:17,  5.74it/s]"
          ]
        },
        {
          "output_type": "stream",
          "name": "stdout",
          "text": [
            "10 iterations of epochs 557/1000\n",
            "Average recon_error: 17.287\n",
            "Average perplexity: 11.162\n",
            "\n",
            "20 iterations of epochs 557/1000\n",
            "Average recon_error: 17.685\n",
            "Average perplexity: 11.603\n",
            "\n",
            "30 iterations of epochs 557/1000\n",
            "Average recon_error: 16.416\n",
            "Average perplexity: 10.916\n",
            "\n",
            "10 iterations of epochs 558/1000\n",
            "Average recon_error: 16.706\n",
            "Average perplexity: 11.842\n",
            "\n",
            "20 iterations of epochs 558/1000\n",
            "Average recon_error: 17.137\n",
            "Average perplexity: 11.131\n",
            "\n",
            "30 iterations of epochs 558/1000\n",
            "Average recon_error: 17.312\n",
            "Average perplexity: 11.166\n",
            "\n"
          ]
        },
        {
          "output_type": "stream",
          "name": "stderr",
          "text": [
            " 56%|█████▌    | 559/1000 [01:14<01:06,  6.61it/s]"
          ]
        },
        {
          "output_type": "stream",
          "name": "stdout",
          "text": [
            "10 iterations of epochs 559/1000\n",
            "Average recon_error: 16.252\n",
            "Average perplexity: 11.237\n",
            "\n",
            "20 iterations of epochs 559/1000\n",
            "Average recon_error: 19.076\n",
            "Average perplexity: 11.484\n",
            "\n",
            "30 iterations of epochs 559/1000\n",
            "Average recon_error: 17.342\n",
            "Average perplexity: 11.472\n",
            "\n",
            "10 iterations of epochs 560/1000\n",
            "Average recon_error: 17.106\n",
            "Average perplexity: 11.029\n",
            "\n",
            "20 iterations of epochs 560/1000\n",
            "Average recon_error: 17.148\n",
            "Average perplexity: 10.217\n",
            "\n",
            "30 iterations of epochs 560/1000\n",
            "Average recon_error: 16.250\n",
            "Average perplexity: 10.926\n",
            "\n"
          ]
        },
        {
          "output_type": "stream",
          "name": "stderr",
          "text": [
            " 56%|█████▌    | 561/1000 [01:15<01:02,  7.07it/s]"
          ]
        },
        {
          "output_type": "stream",
          "name": "stdout",
          "text": [
            "10 iterations of epochs 561/1000\n",
            "Average recon_error: 16.469\n",
            "Average perplexity: 11.383\n",
            "\n",
            "20 iterations of epochs 561/1000\n",
            "Average recon_error: 16.276\n",
            "Average perplexity: 10.042\n",
            "\n",
            "30 iterations of epochs 561/1000\n",
            "Average recon_error: 17.691\n",
            "Average perplexity: 10.119\n",
            "\n",
            "10 iterations of epochs 562/1000\n",
            "Average recon_error: 16.682\n",
            "Average perplexity: 10.863\n",
            "\n",
            "20 iterations of epochs 562/1000\n",
            "Average recon_error: 17.056\n",
            "Average perplexity: 10.705\n",
            "\n",
            "30 iterations of epochs 562/1000\n",
            "Average recon_error: 16.586\n",
            "Average perplexity: 10.190\n",
            "\n"
          ]
        },
        {
          "output_type": "stream",
          "name": "stderr",
          "text": [
            " 56%|█████▋    | 563/1000 [01:15<00:58,  7.50it/s]"
          ]
        },
        {
          "output_type": "stream",
          "name": "stdout",
          "text": [
            "10 iterations of epochs 563/1000\n",
            "Average recon_error: 17.218\n",
            "Average perplexity: 11.095\n",
            "\n",
            "20 iterations of epochs 563/1000\n",
            "Average recon_error: 17.629\n",
            "Average perplexity: 10.792\n",
            "\n",
            "30 iterations of epochs 563/1000\n",
            "Average recon_error: 17.865\n",
            "Average perplexity: 10.830\n",
            "\n",
            "10 iterations of epochs 564/1000\n",
            "Average recon_error: 16.877\n",
            "Average perplexity: 11.160\n",
            "\n",
            "20 iterations of epochs 564/1000\n",
            "Average recon_error: 15.852\n",
            "Average perplexity: 12.092\n",
            "\n",
            "30 iterations of epochs 564/1000\n",
            "Average recon_error: 17.908\n",
            "Average perplexity: 10.265\n",
            "\n"
          ]
        },
        {
          "output_type": "stream",
          "name": "stderr",
          "text": [
            " 56%|█████▋    | 565/1000 [01:15<00:55,  7.77it/s]"
          ]
        },
        {
          "output_type": "stream",
          "name": "stdout",
          "text": [
            "10 iterations of epochs 565/1000\n",
            "Average recon_error: 16.565\n",
            "Average perplexity: 10.821\n",
            "\n",
            "20 iterations of epochs 565/1000\n",
            "Average recon_error: 16.688\n",
            "Average perplexity: 11.272\n",
            "\n",
            "30 iterations of epochs 565/1000\n",
            "Average recon_error: 17.301\n",
            "Average perplexity: 11.317\n",
            "\n",
            "10 iterations of epochs 566/1000\n",
            "Average recon_error: 18.389\n",
            "Average perplexity: 11.490\n",
            "\n",
            "20 iterations of epochs 566/1000\n",
            "Average recon_error: 16.413\n",
            "Average perplexity: 10.901\n",
            "\n",
            "30 iterations of epochs 566/1000\n",
            "Average recon_error: 15.878\n",
            "Average perplexity: 10.087\n",
            "\n"
          ]
        },
        {
          "output_type": "stream",
          "name": "stderr",
          "text": [
            " 57%|█████▋    | 567/1000 [01:15<00:54,  7.89it/s]"
          ]
        },
        {
          "output_type": "stream",
          "name": "stdout",
          "text": [
            "10 iterations of epochs 567/1000\n",
            "Average recon_error: 16.687\n",
            "Average perplexity: 11.100\n",
            "\n",
            "20 iterations of epochs 567/1000\n",
            "Average recon_error: 17.463\n",
            "Average perplexity: 11.231\n",
            "\n",
            "30 iterations of epochs 567/1000\n",
            "Average recon_error: 17.034\n",
            "Average perplexity: 11.519\n",
            "\n",
            "10 iterations of epochs 568/1000\n",
            "Average recon_error: 17.146\n",
            "Average perplexity: 11.071\n",
            "\n",
            "20 iterations of epochs 568/1000\n",
            "Average recon_error: 16.742\n",
            "Average perplexity: 11.396\n",
            "\n",
            "30 iterations of epochs 568/1000\n",
            "Average recon_error: 16.966\n",
            "Average perplexity: 11.805\n",
            "\n"
          ]
        },
        {
          "output_type": "stream",
          "name": "stderr",
          "text": [
            " 57%|█████▋    | 569/1000 [01:16<00:55,  7.78it/s]"
          ]
        },
        {
          "output_type": "stream",
          "name": "stdout",
          "text": [
            "10 iterations of epochs 569/1000\n",
            "Average recon_error: 16.307\n",
            "Average perplexity: 10.787\n",
            "\n",
            "20 iterations of epochs 569/1000\n",
            "Average recon_error: 16.131\n",
            "Average perplexity: 10.766\n",
            "\n",
            "30 iterations of epochs 569/1000\n",
            "Average recon_error: 18.558\n",
            "Average perplexity: 11.011\n",
            "\n",
            "10 iterations of epochs 570/1000\n",
            "Average recon_error: 14.660\n",
            "Average perplexity: 10.591\n",
            "\n",
            "20 iterations of epochs 570/1000\n",
            "Average recon_error: 17.937\n",
            "Average perplexity: 10.945\n",
            "\n"
          ]
        },
        {
          "output_type": "stream",
          "name": "stderr",
          "text": [
            " 57%|█████▋    | 571/1000 [01:16<00:55,  7.71it/s]"
          ]
        },
        {
          "output_type": "stream",
          "name": "stdout",
          "text": [
            "30 iterations of epochs 570/1000\n",
            "Average recon_error: 17.062\n",
            "Average perplexity: 11.816\n",
            "\n",
            "10 iterations of epochs 571/1000\n",
            "Average recon_error: 17.329\n",
            "Average perplexity: 10.719\n",
            "\n",
            "20 iterations of epochs 571/1000\n",
            "Average recon_error: 15.835\n",
            "Average perplexity: 10.934\n",
            "\n",
            "30 iterations of epochs 571/1000\n",
            "Average recon_error: 16.989\n",
            "Average perplexity: 11.715\n",
            "\n",
            "10 iterations of epochs 572/1000\n",
            "Average recon_error: 15.469\n",
            "Average perplexity: 11.420\n",
            "\n"
          ]
        },
        {
          "output_type": "stream",
          "name": "stderr",
          "text": [
            " 57%|█████▋    | 573/1000 [01:16<00:53,  8.00it/s]"
          ]
        },
        {
          "output_type": "stream",
          "name": "stdout",
          "text": [
            "20 iterations of epochs 572/1000\n",
            "Average recon_error: 17.607\n",
            "Average perplexity: 11.691\n",
            "\n",
            "30 iterations of epochs 572/1000\n",
            "Average recon_error: 15.985\n",
            "Average perplexity: 11.093\n",
            "\n",
            "10 iterations of epochs 573/1000\n",
            "Average recon_error: 15.880\n",
            "Average perplexity: 10.597\n",
            "\n",
            "20 iterations of epochs 573/1000\n",
            "Average recon_error: 17.079\n",
            "Average perplexity: 11.036\n",
            "\n",
            "30 iterations of epochs 573/1000\n",
            "Average recon_error: 16.497\n",
            "Average perplexity: 12.287\n",
            "\n"
          ]
        },
        {
          "output_type": "stream",
          "name": "stderr",
          "text": [
            "\r 57%|█████▋    | 574/1000 [01:16<00:54,  7.85it/s]"
          ]
        },
        {
          "output_type": "stream",
          "name": "stdout",
          "text": [
            "10 iterations of epochs 574/1000\n",
            "Average recon_error: 16.209\n",
            "Average perplexity: 11.420\n",
            "\n",
            "20 iterations of epochs 574/1000\n",
            "Average recon_error: 18.443\n",
            "Average perplexity: 10.044\n",
            "\n",
            "30 iterations of epochs 574/1000\n",
            "Average recon_error: 17.675\n",
            "Average perplexity: 10.915\n",
            "\n",
            "10 iterations of epochs 575/1000\n",
            "Average recon_error: 16.582\n",
            "Average perplexity: 10.800\n",
            "\n",
            "20 iterations of epochs 575/1000\n",
            "Average recon_error: 15.993\n",
            "Average perplexity: 11.944\n",
            "\n",
            "30 iterations of epochs 575/1000\n",
            "Average recon_error: 16.628\n",
            "Average perplexity: 11.363\n",
            "\n"
          ]
        },
        {
          "output_type": "stream",
          "name": "stderr",
          "text": [
            " 58%|█████▊    | 576/1000 [01:17<00:53,  7.96it/s]"
          ]
        },
        {
          "output_type": "stream",
          "name": "stdout",
          "text": [
            "10 iterations of epochs 576/1000\n",
            "Average recon_error: 15.933\n",
            "Average perplexity: 11.294\n",
            "\n",
            "20 iterations of epochs 576/1000\n",
            "Average recon_error: 17.875\n",
            "Average perplexity: 11.723\n",
            "\n",
            "30 iterations of epochs 576/1000\n",
            "Average recon_error: 16.811\n",
            "Average perplexity: 11.571\n",
            "\n",
            "10 iterations of epochs 577/1000\n",
            "Average recon_error: 17.576\n",
            "Average perplexity: 11.184\n",
            "\n",
            "20 iterations of epochs 577/1000\n",
            "Average recon_error: 16.394\n",
            "Average perplexity: 11.922\n",
            "\n",
            "30 iterations of epochs 577/1000\n",
            "Average recon_error: 17.127\n",
            "Average perplexity: 11.734\n",
            "\n"
          ]
        },
        {
          "output_type": "stream",
          "name": "stderr",
          "text": [
            " 58%|█████▊    | 578/1000 [01:17<00:54,  7.75it/s]"
          ]
        },
        {
          "output_type": "stream",
          "name": "stdout",
          "text": [
            "10 iterations of epochs 578/1000\n",
            "Average recon_error: 16.621\n",
            "Average perplexity: 12.071\n",
            "\n",
            "20 iterations of epochs 578/1000\n",
            "Average recon_error: 17.068\n",
            "Average perplexity: 10.794\n",
            "\n",
            "30 iterations of epochs 578/1000\n",
            "Average recon_error: 17.165\n",
            "Average perplexity: 11.997\n",
            "\n",
            "10 iterations of epochs 579/1000\n",
            "Average recon_error: 17.056\n",
            "Average perplexity: 10.771\n",
            "\n",
            "20 iterations of epochs 579/1000\n",
            "Average recon_error: 16.569\n",
            "Average perplexity: 11.116\n",
            "\n",
            "30 iterations of epochs 579/1000\n",
            "Average recon_error: 16.783\n",
            "Average perplexity: 11.115\n",
            "\n"
          ]
        },
        {
          "output_type": "stream",
          "name": "stderr",
          "text": [
            " 58%|█████▊    | 580/1000 [01:17<00:53,  7.80it/s]"
          ]
        },
        {
          "output_type": "stream",
          "name": "stdout",
          "text": [
            "10 iterations of epochs 580/1000\n",
            "Average recon_error: 15.489\n",
            "Average perplexity: 11.024\n",
            "\n",
            "20 iterations of epochs 580/1000\n",
            "Average recon_error: 16.866\n",
            "Average perplexity: 11.463\n",
            "\n",
            "30 iterations of epochs 580/1000\n",
            "Average recon_error: 16.593\n",
            "Average perplexity: 11.774\n",
            "\n",
            "10 iterations of epochs 581/1000\n",
            "Average recon_error: 16.278\n",
            "Average perplexity: 11.011\n",
            "\n",
            "20 iterations of epochs 581/1000\n",
            "Average recon_error: 17.367\n",
            "Average perplexity: 10.120\n",
            "\n",
            "30 iterations of epochs 581/1000\n",
            "Average recon_error: 16.372\n",
            "Average perplexity: 10.789\n",
            "\n"
          ]
        },
        {
          "output_type": "stream",
          "name": "stderr",
          "text": [
            " 58%|█████▊    | 582/1000 [01:17<00:53,  7.82it/s]"
          ]
        },
        {
          "output_type": "stream",
          "name": "stdout",
          "text": [
            "10 iterations of epochs 582/1000\n",
            "Average recon_error: 17.030\n",
            "Average perplexity: 11.101\n",
            "\n",
            "20 iterations of epochs 582/1000\n",
            "Average recon_error: 15.665\n",
            "Average perplexity: 11.362\n",
            "\n",
            "30 iterations of epochs 582/1000\n",
            "Average recon_error: 16.503\n",
            "Average perplexity: 11.996\n",
            "\n",
            "10 iterations of epochs 583/1000\n",
            "Average recon_error: 16.496\n",
            "Average perplexity: 11.524\n",
            "\n",
            "20 iterations of epochs 583/1000\n",
            "Average recon_error: 18.239\n",
            "Average perplexity: 11.587\n",
            "\n",
            "30 iterations of epochs 583/1000\n",
            "Average recon_error: 18.343\n",
            "Average perplexity: 11.541\n",
            "\n"
          ]
        },
        {
          "output_type": "stream",
          "name": "stderr",
          "text": [
            " 58%|█████▊    | 584/1000 [01:18<00:53,  7.78it/s]"
          ]
        },
        {
          "output_type": "stream",
          "name": "stdout",
          "text": [
            "10 iterations of epochs 584/1000\n",
            "Average recon_error: 17.446\n",
            "Average perplexity: 11.305\n",
            "\n",
            "20 iterations of epochs 584/1000\n",
            "Average recon_error: 16.405\n",
            "Average perplexity: 11.189\n",
            "\n",
            "30 iterations of epochs 584/1000\n",
            "Average recon_error: 17.499\n",
            "Average perplexity: 11.200\n",
            "\n",
            "10 iterations of epochs 585/1000\n",
            "Average recon_error: 18.193\n",
            "Average perplexity: 10.884\n",
            "\n",
            "20 iterations of epochs 585/1000\n",
            "Average recon_error: 18.949\n",
            "Average perplexity: 11.055\n",
            "\n",
            "30 iterations of epochs 585/1000\n",
            "Average recon_error: 16.210\n",
            "Average perplexity: 10.920\n",
            "\n"
          ]
        },
        {
          "output_type": "stream",
          "name": "stderr",
          "text": [
            " 59%|█████▊    | 586/1000 [01:18<00:53,  7.80it/s]"
          ]
        },
        {
          "output_type": "stream",
          "name": "stdout",
          "text": [
            "10 iterations of epochs 586/1000\n",
            "Average recon_error: 17.861\n",
            "Average perplexity: 10.714\n",
            "\n",
            "20 iterations of epochs 586/1000\n",
            "Average recon_error: 16.140\n",
            "Average perplexity: 11.532\n",
            "\n",
            "30 iterations of epochs 586/1000\n",
            "Average recon_error: 15.890\n",
            "Average perplexity: 11.781\n",
            "\n",
            "10 iterations of epochs 587/1000\n",
            "Average recon_error: 17.342\n",
            "Average perplexity: 11.848\n",
            "\n",
            "20 iterations of epochs 587/1000\n",
            "Average recon_error: 18.231\n",
            "Average perplexity: 10.614\n",
            "\n",
            "30 iterations of epochs 587/1000\n",
            "Average recon_error: 17.177\n",
            "Average perplexity: 11.078\n",
            "\n"
          ]
        },
        {
          "output_type": "stream",
          "name": "stderr",
          "text": [
            " 59%|█████▉    | 588/1000 [01:18<00:51,  8.00it/s]"
          ]
        },
        {
          "output_type": "stream",
          "name": "stdout",
          "text": [
            "10 iterations of epochs 588/1000\n",
            "Average recon_error: 17.171\n",
            "Average perplexity: 10.980\n",
            "\n",
            "20 iterations of epochs 588/1000\n",
            "Average recon_error: 16.261\n",
            "Average perplexity: 11.674\n",
            "\n",
            "30 iterations of epochs 588/1000\n",
            "Average recon_error: 15.848\n",
            "Average perplexity: 10.427\n",
            "\n",
            "10 iterations of epochs 589/1000\n",
            "Average recon_error: 17.056\n",
            "Average perplexity: 10.363\n",
            "\n",
            "20 iterations of epochs 589/1000\n",
            "Average recon_error: 17.972\n",
            "Average perplexity: 11.721\n",
            "\n",
            "30 iterations of epochs 589/1000\n",
            "Average recon_error: 17.086\n",
            "Average perplexity: 11.665\n",
            "\n"
          ]
        },
        {
          "output_type": "stream",
          "name": "stderr",
          "text": [
            " 59%|█████▉    | 590/1000 [01:18<00:52,  7.84it/s]"
          ]
        },
        {
          "output_type": "stream",
          "name": "stdout",
          "text": [
            "10 iterations of epochs 590/1000\n",
            "Average recon_error: 16.912\n",
            "Average perplexity: 10.233\n",
            "\n",
            "20 iterations of epochs 590/1000\n",
            "Average recon_error: 17.748\n",
            "Average perplexity: 11.043\n",
            "\n",
            "30 iterations of epochs 590/1000\n",
            "Average recon_error: 16.459\n",
            "Average perplexity: 11.562\n",
            "\n",
            "10 iterations of epochs 591/1000\n",
            "Average recon_error: 17.171\n",
            "Average perplexity: 11.154\n",
            "\n",
            "20 iterations of epochs 591/1000\n",
            "Average recon_error: 17.655\n",
            "Average perplexity: 12.048\n",
            "\n",
            "30 iterations of epochs 591/1000\n",
            "Average recon_error: 15.416\n",
            "Average perplexity: 11.434\n",
            "\n"
          ]
        },
        {
          "output_type": "stream",
          "name": "stderr",
          "text": [
            " 59%|█████▉    | 592/1000 [01:19<00:51,  7.87it/s]"
          ]
        },
        {
          "output_type": "stream",
          "name": "stdout",
          "text": [
            "10 iterations of epochs 592/1000\n",
            "Average recon_error: 16.368\n",
            "Average perplexity: 10.468\n",
            "\n",
            "20 iterations of epochs 592/1000\n",
            "Average recon_error: 15.895\n",
            "Average perplexity: 10.852\n",
            "\n",
            "30 iterations of epochs 592/1000\n",
            "Average recon_error: 18.342\n",
            "Average perplexity: 11.271\n",
            "\n",
            "10 iterations of epochs 593/1000\n",
            "Average recon_error: 16.872\n",
            "Average perplexity: 10.118\n",
            "\n",
            "20 iterations of epochs 593/1000\n",
            "Average recon_error: 16.553\n",
            "Average perplexity: 11.257\n",
            "\n",
            "30 iterations of epochs 593/1000\n",
            "Average recon_error: 18.124\n",
            "Average perplexity: 11.635\n",
            "\n"
          ]
        },
        {
          "output_type": "stream",
          "name": "stderr",
          "text": [
            " 59%|█████▉    | 594/1000 [01:19<00:52,  7.76it/s]"
          ]
        },
        {
          "output_type": "stream",
          "name": "stdout",
          "text": [
            "10 iterations of epochs 594/1000\n",
            "Average recon_error: 19.231\n",
            "Average perplexity: 11.852\n",
            "\n",
            "20 iterations of epochs 594/1000\n",
            "Average recon_error: 16.469\n",
            "Average perplexity: 10.686\n",
            "\n",
            "30 iterations of epochs 594/1000\n",
            "Average recon_error: 16.814\n",
            "Average perplexity: 10.627\n",
            "\n",
            "10 iterations of epochs 595/1000\n",
            "Average recon_error: 17.740\n",
            "Average perplexity: 10.531\n",
            "\n",
            "20 iterations of epochs 595/1000\n",
            "Average recon_error: 16.773\n",
            "Average perplexity: 10.577\n",
            "\n",
            "30 iterations of epochs 595/1000\n",
            "Average recon_error: 15.793\n",
            "Average perplexity: 10.856\n",
            "\n"
          ]
        },
        {
          "output_type": "stream",
          "name": "stderr",
          "text": [
            " 60%|█████▉    | 596/1000 [01:19<00:51,  7.85it/s]"
          ]
        },
        {
          "output_type": "stream",
          "name": "stdout",
          "text": [
            "10 iterations of epochs 596/1000\n",
            "Average recon_error: 16.568\n",
            "Average perplexity: 10.644\n",
            "\n",
            "20 iterations of epochs 596/1000\n",
            "Average recon_error: 16.885\n",
            "Average perplexity: 10.848\n",
            "\n",
            "30 iterations of epochs 596/1000\n",
            "Average recon_error: 17.146\n",
            "Average perplexity: 10.856\n",
            "\n",
            "10 iterations of epochs 597/1000\n",
            "Average recon_error: 17.316\n",
            "Average perplexity: 10.208\n",
            "\n",
            "20 iterations of epochs 597/1000\n",
            "Average recon_error: 16.641\n",
            "Average perplexity: 11.174\n",
            "\n",
            "30 iterations of epochs 597/1000\n",
            "Average recon_error: 17.411\n",
            "Average perplexity: 11.161\n",
            "\n"
          ]
        },
        {
          "output_type": "stream",
          "name": "stderr",
          "text": [
            " 60%|█████▉    | 598/1000 [01:19<00:51,  7.76it/s]"
          ]
        },
        {
          "output_type": "stream",
          "name": "stdout",
          "text": [
            "10 iterations of epochs 598/1000\n",
            "Average recon_error: 17.026\n",
            "Average perplexity: 11.203\n",
            "\n",
            "20 iterations of epochs 598/1000\n",
            "Average recon_error: 17.207\n",
            "Average perplexity: 11.150\n",
            "\n",
            "30 iterations of epochs 598/1000\n",
            "Average recon_error: 17.340\n",
            "Average perplexity: 10.831\n",
            "\n",
            "10 iterations of epochs 599/1000\n",
            "Average recon_error: 16.542\n",
            "Average perplexity: 11.461\n",
            "\n",
            "20 iterations of epochs 599/1000\n",
            "Average recon_error: 19.062\n",
            "Average perplexity: 10.480\n",
            "\n",
            "30 iterations of epochs 599/1000\n",
            "Average recon_error: 17.533\n",
            "Average perplexity: 11.977\n",
            "\n"
          ]
        },
        {
          "output_type": "stream",
          "name": "stderr",
          "text": [
            " 60%|██████    | 600/1000 [01:20<00:50,  7.87it/s]"
          ]
        },
        {
          "output_type": "stream",
          "name": "stdout",
          "text": [
            "10 iterations of epochs 600/1000\n",
            "Average recon_error: 17.103\n",
            "Average perplexity: 11.592\n",
            "\n",
            "20 iterations of epochs 600/1000\n",
            "Average recon_error: 17.177\n",
            "Average perplexity: 9.630\n",
            "\n",
            "30 iterations of epochs 600/1000\n",
            "Average recon_error: 18.651\n",
            "Average perplexity: 11.898\n",
            "\n",
            "10 iterations of epochs 601/1000\n",
            "Average recon_error: 17.593\n",
            "Average perplexity: 10.769\n",
            "\n",
            "20 iterations of epochs 601/1000\n",
            "Average recon_error: 17.037\n",
            "Average perplexity: 12.557\n",
            "\n",
            "30 iterations of epochs 601/1000\n",
            "Average recon_error: 15.436\n",
            "Average perplexity: 10.935\n",
            "\n"
          ]
        },
        {
          "output_type": "stream",
          "name": "stderr",
          "text": [
            " 60%|██████    | 602/1000 [01:20<00:51,  7.68it/s]"
          ]
        },
        {
          "output_type": "stream",
          "name": "stdout",
          "text": [
            "10 iterations of epochs 602/1000\n",
            "Average recon_error: 17.372\n",
            "Average perplexity: 10.782\n",
            "\n",
            "20 iterations of epochs 602/1000\n",
            "Average recon_error: 17.990\n",
            "Average perplexity: 10.574\n",
            "\n",
            "30 iterations of epochs 602/1000\n",
            "Average recon_error: 16.361\n",
            "Average perplexity: 11.326\n",
            "\n",
            "10 iterations of epochs 603/1000\n",
            "Average recon_error: 17.060\n",
            "Average perplexity: 11.509\n",
            "\n",
            "20 iterations of epochs 603/1000\n",
            "Average recon_error: 18.246\n",
            "Average perplexity: 10.289\n",
            "\n",
            "30 iterations of epochs 603/1000\n",
            "Average recon_error: 16.992\n",
            "Average perplexity: 10.351\n",
            "\n"
          ]
        },
        {
          "output_type": "stream",
          "name": "stderr",
          "text": [
            " 60%|██████    | 604/1000 [01:20<00:51,  7.76it/s]"
          ]
        },
        {
          "output_type": "stream",
          "name": "stdout",
          "text": [
            "10 iterations of epochs 604/1000\n",
            "Average recon_error: 16.280\n",
            "Average perplexity: 10.704\n",
            "\n",
            "20 iterations of epochs 604/1000\n",
            "Average recon_error: 16.366\n",
            "Average perplexity: 11.534\n",
            "\n",
            "30 iterations of epochs 604/1000\n",
            "Average recon_error: 17.660\n",
            "Average perplexity: 11.306\n",
            "\n",
            "10 iterations of epochs 605/1000\n",
            "Average recon_error: 15.888\n",
            "Average perplexity: 11.194\n",
            "\n",
            "20 iterations of epochs 605/1000\n",
            "Average recon_error: 16.636\n",
            "Average perplexity: 10.528\n",
            "\n",
            "30 iterations of epochs 605/1000\n",
            "Average recon_error: 16.719\n",
            "Average perplexity: 12.188\n",
            "\n"
          ]
        },
        {
          "output_type": "stream",
          "name": "stderr",
          "text": [
            " 61%|██████    | 606/1000 [01:20<00:50,  7.86it/s]"
          ]
        },
        {
          "output_type": "stream",
          "name": "stdout",
          "text": [
            "10 iterations of epochs 606/1000\n",
            "Average recon_error: 16.784\n",
            "Average perplexity: 10.625\n",
            "\n",
            "20 iterations of epochs 606/1000\n",
            "Average recon_error: 16.663\n",
            "Average perplexity: 11.094\n",
            "\n",
            "30 iterations of epochs 606/1000\n",
            "Average recon_error: 17.478\n",
            "Average perplexity: 10.520\n",
            "\n",
            "10 iterations of epochs 607/1000\n",
            "Average recon_error: 17.670\n",
            "Average perplexity: 9.679\n",
            "\n",
            "20 iterations of epochs 607/1000\n",
            "Average recon_error: 16.917\n",
            "Average perplexity: 11.036\n",
            "\n",
            "30 iterations of epochs 607/1000\n",
            "Average recon_error: 17.086\n",
            "Average perplexity: 11.645\n",
            "\n"
          ]
        },
        {
          "output_type": "stream",
          "name": "stderr",
          "text": [
            " 61%|██████    | 608/1000 [01:21<00:49,  7.87it/s]"
          ]
        },
        {
          "output_type": "stream",
          "name": "stdout",
          "text": [
            "10 iterations of epochs 608/1000\n",
            "Average recon_error: 16.368\n",
            "Average perplexity: 10.831\n",
            "\n",
            "20 iterations of epochs 608/1000\n",
            "Average recon_error: 16.396\n",
            "Average perplexity: 11.103\n",
            "\n",
            "30 iterations of epochs 608/1000\n",
            "Average recon_error: 18.051\n",
            "Average perplexity: 11.256\n",
            "\n",
            "10 iterations of epochs 609/1000\n",
            "Average recon_error: 16.385\n",
            "Average perplexity: 11.349\n",
            "\n",
            "20 iterations of epochs 609/1000\n",
            "Average recon_error: 16.748\n",
            "Average perplexity: 10.200\n",
            "\n",
            "30 iterations of epochs 609/1000\n",
            "Average recon_error: 16.089\n",
            "Average perplexity: 11.087\n",
            "\n"
          ]
        },
        {
          "output_type": "stream",
          "name": "stderr",
          "text": [
            " 61%|██████    | 610/1000 [01:21<00:50,  7.72it/s]"
          ]
        },
        {
          "output_type": "stream",
          "name": "stdout",
          "text": [
            "10 iterations of epochs 610/1000\n",
            "Average recon_error: 17.636\n",
            "Average perplexity: 11.091\n",
            "\n",
            "20 iterations of epochs 610/1000\n",
            "Average recon_error: 16.426\n",
            "Average perplexity: 11.361\n",
            "\n",
            "30 iterations of epochs 610/1000\n",
            "Average recon_error: 15.135\n",
            "Average perplexity: 9.997\n",
            "\n",
            "10 iterations of epochs 611/1000\n",
            "Average recon_error: 17.213\n",
            "Average perplexity: 10.107\n",
            "\n",
            "20 iterations of epochs 611/1000\n",
            "Average recon_error: 16.568\n",
            "Average perplexity: 12.196\n",
            "\n",
            "30 iterations of epochs 611/1000\n",
            "Average recon_error: 16.422\n",
            "Average perplexity: 10.949\n",
            "\n"
          ]
        },
        {
          "output_type": "stream",
          "name": "stderr",
          "text": [
            " 61%|██████    | 612/1000 [01:21<00:49,  7.86it/s]"
          ]
        },
        {
          "output_type": "stream",
          "name": "stdout",
          "text": [
            "10 iterations of epochs 612/1000\n",
            "Average recon_error: 17.547\n",
            "Average perplexity: 11.120\n",
            "\n",
            "20 iterations of epochs 612/1000\n",
            "Average recon_error: 16.938\n",
            "Average perplexity: 10.681\n",
            "\n",
            "30 iterations of epochs 612/1000\n",
            "Average recon_error: 15.601\n",
            "Average perplexity: 10.951\n",
            "\n",
            "10 iterations of epochs 613/1000\n",
            "Average recon_error: 16.909\n",
            "Average perplexity: 11.035\n",
            "\n",
            "20 iterations of epochs 613/1000\n",
            "Average recon_error: 17.186\n",
            "Average perplexity: 10.806\n",
            "\n",
            "30 iterations of epochs 613/1000\n",
            "Average recon_error: 18.303\n",
            "Average perplexity: 10.986\n",
            "\n"
          ]
        },
        {
          "output_type": "stream",
          "name": "stderr",
          "text": [
            " 61%|██████▏   | 614/1000 [01:21<00:51,  7.52it/s]"
          ]
        },
        {
          "output_type": "stream",
          "name": "stdout",
          "text": [
            "10 iterations of epochs 614/1000\n",
            "Average recon_error: 17.527\n",
            "Average perplexity: 11.335\n",
            "\n",
            "20 iterations of epochs 614/1000\n",
            "Average recon_error: 17.319\n",
            "Average perplexity: 10.999\n",
            "\n",
            "30 iterations of epochs 614/1000\n",
            "Average recon_error: 16.333\n",
            "Average perplexity: 10.846\n",
            "\n",
            "10 iterations of epochs 615/1000\n",
            "Average recon_error: 17.244\n",
            "Average perplexity: 10.645\n",
            "\n",
            "20 iterations of epochs 615/1000\n",
            "Average recon_error: 16.098\n",
            "Average perplexity: 11.109\n",
            "\n",
            "30 iterations of epochs 615/1000\n",
            "Average recon_error: 17.134\n",
            "Average perplexity: 9.605\n",
            "\n"
          ]
        },
        {
          "output_type": "stream",
          "name": "stderr",
          "text": [
            " 62%|██████▏   | 616/1000 [01:22<00:50,  7.54it/s]"
          ]
        },
        {
          "output_type": "stream",
          "name": "stdout",
          "text": [
            "10 iterations of epochs 616/1000\n",
            "Average recon_error: 16.782\n",
            "Average perplexity: 10.971\n",
            "\n",
            "20 iterations of epochs 616/1000\n",
            "Average recon_error: 16.893\n",
            "Average perplexity: 11.533\n",
            "\n",
            "30 iterations of epochs 616/1000\n",
            "Average recon_error: 16.880\n",
            "Average perplexity: 11.061\n",
            "\n",
            "10 iterations of epochs 617/1000\n",
            "Average recon_error: 15.723\n",
            "Average perplexity: 10.482\n",
            "\n",
            "20 iterations of epochs 617/1000\n",
            "Average recon_error: 16.573\n",
            "Average perplexity: 11.102\n",
            "\n",
            "30 iterations of epochs 617/1000\n",
            "Average recon_error: 14.595\n",
            "Average perplexity: 12.157\n",
            "\n"
          ]
        },
        {
          "output_type": "stream",
          "name": "stderr",
          "text": [
            " 62%|██████▏   | 618/1000 [01:22<00:51,  7.36it/s]"
          ]
        },
        {
          "output_type": "stream",
          "name": "stdout",
          "text": [
            "10 iterations of epochs 618/1000\n",
            "Average recon_error: 16.968\n",
            "Average perplexity: 10.867\n",
            "\n",
            "20 iterations of epochs 618/1000\n",
            "Average recon_error: 16.223\n",
            "Average perplexity: 11.298\n",
            "\n",
            "30 iterations of epochs 618/1000\n",
            "Average recon_error: 17.789\n",
            "Average perplexity: 11.376\n",
            "\n",
            "10 iterations of epochs 619/1000\n",
            "Average recon_error: 16.754\n",
            "Average perplexity: 10.871\n",
            "\n",
            "20 iterations of epochs 619/1000\n",
            "Average recon_error: 17.304\n",
            "Average perplexity: 10.685\n",
            "\n",
            "30 iterations of epochs 619/1000\n",
            "Average recon_error: 17.715\n",
            "Average perplexity: 10.852\n",
            "\n"
          ]
        },
        {
          "output_type": "stream",
          "name": "stderr",
          "text": [
            " 62%|██████▏   | 620/1000 [01:22<00:49,  7.61it/s]"
          ]
        },
        {
          "output_type": "stream",
          "name": "stdout",
          "text": [
            "10 iterations of epochs 620/1000\n",
            "Average recon_error: 15.258\n",
            "Average perplexity: 11.761\n",
            "\n",
            "20 iterations of epochs 620/1000\n",
            "Average recon_error: 15.986\n",
            "Average perplexity: 11.386\n",
            "\n",
            "30 iterations of epochs 620/1000\n",
            "Average recon_error: 16.460\n",
            "Average perplexity: 10.799\n",
            "\n",
            "10 iterations of epochs 621/1000\n",
            "Average recon_error: 17.121\n",
            "Average perplexity: 10.678\n",
            "\n",
            "20 iterations of epochs 621/1000\n",
            "Average recon_error: 16.881\n",
            "Average perplexity: 11.221\n",
            "\n",
            "30 iterations of epochs 621/1000\n",
            "Average recon_error: 16.452\n",
            "Average perplexity: 10.666\n",
            "\n"
          ]
        },
        {
          "output_type": "stream",
          "name": "stderr",
          "text": [
            " 62%|██████▏   | 622/1000 [01:22<00:49,  7.63it/s]"
          ]
        },
        {
          "output_type": "stream",
          "name": "stdout",
          "text": [
            "10 iterations of epochs 622/1000\n",
            "Average recon_error: 17.943\n",
            "Average perplexity: 11.440\n",
            "\n",
            "20 iterations of epochs 622/1000\n",
            "Average recon_error: 17.058\n",
            "Average perplexity: 10.570\n",
            "\n",
            "30 iterations of epochs 622/1000\n",
            "Average recon_error: 17.511\n",
            "Average perplexity: 10.352\n",
            "\n",
            "10 iterations of epochs 623/1000\n",
            "Average recon_error: 16.817\n",
            "Average perplexity: 10.826\n",
            "\n",
            "20 iterations of epochs 623/1000\n",
            "Average recon_error: 17.193\n",
            "Average perplexity: 11.394\n",
            "\n",
            "30 iterations of epochs 623/1000\n",
            "Average recon_error: 17.044\n",
            "Average perplexity: 11.159\n",
            "\n"
          ]
        },
        {
          "output_type": "stream",
          "name": "stderr",
          "text": [
            " 62%|██████▏   | 624/1000 [01:23<00:48,  7.77it/s]"
          ]
        },
        {
          "output_type": "stream",
          "name": "stdout",
          "text": [
            "10 iterations of epochs 624/1000\n",
            "Average recon_error: 16.155\n",
            "Average perplexity: 10.691\n",
            "\n",
            "20 iterations of epochs 624/1000\n",
            "Average recon_error: 16.423\n",
            "Average perplexity: 11.120\n",
            "\n",
            "30 iterations of epochs 624/1000\n",
            "Average recon_error: 17.957\n",
            "Average perplexity: 12.063\n",
            "\n",
            "10 iterations of epochs 625/1000\n",
            "Average recon_error: 17.000\n",
            "Average perplexity: 10.929\n",
            "\n",
            "20 iterations of epochs 625/1000\n",
            "Average recon_error: 16.323\n",
            "Average perplexity: 11.593\n",
            "\n",
            "30 iterations of epochs 625/1000\n",
            "Average recon_error: 17.225\n",
            "Average perplexity: 10.568\n",
            "\n"
          ]
        },
        {
          "output_type": "stream",
          "name": "stderr",
          "text": [
            " 63%|██████▎   | 626/1000 [01:23<00:48,  7.67it/s]"
          ]
        },
        {
          "output_type": "stream",
          "name": "stdout",
          "text": [
            "10 iterations of epochs 626/1000\n",
            "Average recon_error: 17.208\n",
            "Average perplexity: 11.046\n",
            "\n",
            "20 iterations of epochs 626/1000\n",
            "Average recon_error: 15.757\n",
            "Average perplexity: 10.333\n",
            "\n",
            "30 iterations of epochs 626/1000\n",
            "Average recon_error: 17.434\n",
            "Average perplexity: 10.811\n",
            "\n",
            "10 iterations of epochs 627/1000\n",
            "Average recon_error: 17.211\n",
            "Average perplexity: 10.055\n",
            "\n",
            "20 iterations of epochs 627/1000\n",
            "Average recon_error: 15.725\n",
            "Average perplexity: 10.283\n",
            "\n",
            "30 iterations of epochs 627/1000\n",
            "Average recon_error: 16.981\n",
            "Average perplexity: 10.975\n",
            "\n"
          ]
        },
        {
          "output_type": "stream",
          "name": "stderr",
          "text": [
            " 63%|██████▎   | 628/1000 [01:23<00:48,  7.67it/s]"
          ]
        },
        {
          "output_type": "stream",
          "name": "stdout",
          "text": [
            "10 iterations of epochs 628/1000\n",
            "Average recon_error: 18.313\n",
            "Average perplexity: 10.597\n",
            "\n",
            "20 iterations of epochs 628/1000\n",
            "Average recon_error: 16.724\n",
            "Average perplexity: 9.896\n",
            "\n",
            "30 iterations of epochs 628/1000\n",
            "Average recon_error: 16.934\n",
            "Average perplexity: 10.620\n",
            "\n",
            "10 iterations of epochs 629/1000\n",
            "Average recon_error: 17.256\n",
            "Average perplexity: 11.328\n",
            "\n",
            "20 iterations of epochs 629/1000\n",
            "Average recon_error: 17.382\n",
            "Average perplexity: 10.646\n",
            "\n",
            "30 iterations of epochs 629/1000\n",
            "Average recon_error: 16.253\n",
            "Average perplexity: 10.459\n",
            "\n"
          ]
        },
        {
          "output_type": "stream",
          "name": "stderr",
          "text": [
            " 63%|██████▎   | 630/1000 [01:23<00:47,  7.74it/s]"
          ]
        },
        {
          "output_type": "stream",
          "name": "stdout",
          "text": [
            "10 iterations of epochs 630/1000\n",
            "Average recon_error: 16.350\n",
            "Average perplexity: 10.335\n",
            "\n",
            "20 iterations of epochs 630/1000\n",
            "Average recon_error: 16.723\n",
            "Average perplexity: 10.926\n",
            "\n",
            "30 iterations of epochs 630/1000\n",
            "Average recon_error: 16.802\n",
            "Average perplexity: 10.562\n",
            "\n",
            "10 iterations of epochs 631/1000\n",
            "Average recon_error: 18.418\n",
            "Average perplexity: 10.986\n",
            "\n",
            "20 iterations of epochs 631/1000\n",
            "Average recon_error: 17.390\n",
            "Average perplexity: 11.673\n",
            "\n",
            "30 iterations of epochs 631/1000\n",
            "Average recon_error: 17.385\n",
            "Average perplexity: 10.903\n",
            "\n"
          ]
        },
        {
          "output_type": "stream",
          "name": "stderr",
          "text": [
            " 63%|██████▎   | 632/1000 [01:24<00:47,  7.82it/s]"
          ]
        },
        {
          "output_type": "stream",
          "name": "stdout",
          "text": [
            "10 iterations of epochs 632/1000\n",
            "Average recon_error: 17.041\n",
            "Average perplexity: 11.852\n",
            "\n",
            "20 iterations of epochs 632/1000\n",
            "Average recon_error: 18.835\n",
            "Average perplexity: 10.400\n",
            "\n",
            "30 iterations of epochs 632/1000\n",
            "Average recon_error: 17.239\n",
            "Average perplexity: 10.997\n",
            "\n",
            "10 iterations of epochs 633/1000\n",
            "Average recon_error: 17.470\n",
            "Average perplexity: 10.478\n",
            "\n",
            "20 iterations of epochs 633/1000\n",
            "Average recon_error: 16.748\n",
            "Average perplexity: 10.792\n",
            "\n",
            "30 iterations of epochs 633/1000\n",
            "Average recon_error: 15.619\n",
            "Average perplexity: 11.490\n",
            "\n"
          ]
        },
        {
          "output_type": "stream",
          "name": "stderr",
          "text": [
            " 63%|██████▎   | 634/1000 [01:24<00:47,  7.64it/s]"
          ]
        },
        {
          "output_type": "stream",
          "name": "stdout",
          "text": [
            "10 iterations of epochs 634/1000\n",
            "Average recon_error: 15.730\n",
            "Average perplexity: 11.146\n",
            "\n",
            "20 iterations of epochs 634/1000\n",
            "Average recon_error: 17.535\n",
            "Average perplexity: 11.536\n",
            "\n",
            "30 iterations of epochs 634/1000\n",
            "Average recon_error: 17.040\n",
            "Average perplexity: 10.858\n",
            "\n",
            "10 iterations of epochs 635/1000\n",
            "Average recon_error: 16.569\n",
            "Average perplexity: 10.643\n",
            "\n",
            "20 iterations of epochs 635/1000\n",
            "Average recon_error: 17.146\n",
            "Average perplexity: 11.585\n",
            "\n"
          ]
        },
        {
          "output_type": "stream",
          "name": "stderr",
          "text": [
            "\r 64%|██████▎   | 635/1000 [01:24<00:53,  6.79it/s]"
          ]
        },
        {
          "output_type": "stream",
          "name": "stdout",
          "text": [
            "30 iterations of epochs 635/1000\n",
            "Average recon_error: 16.538\n",
            "Average perplexity: 11.438\n",
            "\n",
            "10 iterations of epochs 636/1000\n",
            "Average recon_error: 18.484\n",
            "Average perplexity: 9.933\n",
            "\n",
            "20 iterations of epochs 636/1000\n",
            "Average recon_error: 18.571\n",
            "Average perplexity: 11.429\n",
            "\n",
            "30 iterations of epochs 636/1000\n",
            "Average recon_error: 16.684\n",
            "Average perplexity: 10.377\n",
            "\n"
          ]
        },
        {
          "output_type": "stream",
          "name": "stderr",
          "text": [
            " 64%|██████▎   | 637/1000 [01:25<01:00,  6.03it/s]"
          ]
        },
        {
          "output_type": "stream",
          "name": "stdout",
          "text": [
            "10 iterations of epochs 637/1000\n",
            "Average recon_error: 17.548\n",
            "Average perplexity: 10.645\n",
            "\n",
            "20 iterations of epochs 637/1000\n",
            "Average recon_error: 18.319\n",
            "Average perplexity: 11.207\n",
            "\n",
            "30 iterations of epochs 637/1000\n",
            "Average recon_error: 17.184\n",
            "Average perplexity: 10.692\n",
            "\n",
            "10 iterations of epochs 638/1000\n",
            "Average recon_error: 18.352\n",
            "Average perplexity: 11.061\n",
            "\n"
          ]
        },
        {
          "output_type": "stream",
          "name": "stderr",
          "text": [
            "\r 64%|██████▍   | 638/1000 [01:25<01:01,  5.91it/s]"
          ]
        },
        {
          "output_type": "stream",
          "name": "stdout",
          "text": [
            "20 iterations of epochs 638/1000\n",
            "Average recon_error: 16.516\n",
            "Average perplexity: 11.302\n",
            "\n",
            "30 iterations of epochs 638/1000\n",
            "Average recon_error: 16.480\n",
            "Average perplexity: 11.435\n",
            "\n",
            "10 iterations of epochs 639/1000\n",
            "Average recon_error: 18.462\n",
            "Average perplexity: 10.780\n",
            "\n",
            "20 iterations of epochs 639/1000\n",
            "Average recon_error: 17.175\n",
            "Average perplexity: 11.989\n",
            "\n",
            "30 iterations of epochs 639/1000\n",
            "Average recon_error: 17.263\n",
            "Average perplexity: 10.986\n"
          ]
        },
        {
          "output_type": "stream",
          "name": "stderr",
          "text": [
            "\r 64%|██████▍   | 639/1000 [01:25<01:00,  5.95it/s]"
          ]
        },
        {
          "output_type": "stream",
          "name": "stdout",
          "text": [
            "\n",
            "10 iterations of epochs 640/1000\n",
            "Average recon_error: 18.276\n",
            "Average perplexity: 10.582\n",
            "\n",
            "20 iterations of epochs 640/1000\n",
            "Average recon_error: 16.665\n",
            "Average perplexity: 11.096\n",
            "\n",
            "30 iterations of epochs 640/1000\n",
            "Average recon_error: 17.942\n",
            "Average perplexity: 11.274\n",
            "\n"
          ]
        },
        {
          "output_type": "stream",
          "name": "stderr",
          "text": [
            " 64%|██████▍   | 641/1000 [01:25<01:03,  5.65it/s]"
          ]
        },
        {
          "output_type": "stream",
          "name": "stdout",
          "text": [
            "10 iterations of epochs 641/1000\n",
            "Average recon_error: 17.368\n",
            "Average perplexity: 10.801\n",
            "\n",
            "20 iterations of epochs 641/1000\n",
            "Average recon_error: 15.955\n",
            "Average perplexity: 11.126\n",
            "\n",
            "30 iterations of epochs 641/1000\n",
            "Average recon_error: 16.989\n",
            "Average perplexity: 11.912\n",
            "\n",
            "10 iterations of epochs 642/1000\n",
            "Average recon_error: 16.220\n",
            "Average perplexity: 11.425\n",
            "\n"
          ]
        },
        {
          "output_type": "stream",
          "name": "stderr",
          "text": [
            "\r 64%|██████▍   | 642/1000 [01:25<01:02,  5.70it/s]"
          ]
        },
        {
          "output_type": "stream",
          "name": "stdout",
          "text": [
            "20 iterations of epochs 642/1000\n",
            "Average recon_error: 16.914\n",
            "Average perplexity: 11.684\n",
            "\n",
            "30 iterations of epochs 642/1000\n",
            "Average recon_error: 18.561\n",
            "Average perplexity: 10.686\n",
            "\n",
            "10 iterations of epochs 643/1000\n",
            "Average recon_error: 16.025\n",
            "Average perplexity: 10.856\n",
            "\n",
            "20 iterations of epochs 643/1000\n",
            "Average recon_error: 16.525\n",
            "Average perplexity: 11.780\n",
            "\n"
          ]
        },
        {
          "output_type": "stream",
          "name": "stderr",
          "text": [
            "\r 64%|██████▍   | 643/1000 [01:26<01:04,  5.54it/s]"
          ]
        },
        {
          "output_type": "stream",
          "name": "stdout",
          "text": [
            "30 iterations of epochs 643/1000\n",
            "Average recon_error: 17.048\n",
            "Average perplexity: 11.002\n",
            "\n",
            "10 iterations of epochs 644/1000\n",
            "Average recon_error: 17.249\n",
            "Average perplexity: 11.737\n",
            "\n",
            "20 iterations of epochs 644/1000\n",
            "Average recon_error: 16.870\n",
            "Average perplexity: 11.041\n",
            "\n"
          ]
        },
        {
          "output_type": "stream",
          "name": "stderr",
          "text": [
            "\r 64%|██████▍   | 644/1000 [01:26<01:07,  5.31it/s]"
          ]
        },
        {
          "output_type": "stream",
          "name": "stdout",
          "text": [
            "30 iterations of epochs 644/1000\n",
            "Average recon_error: 15.497\n",
            "Average perplexity: 9.978\n",
            "\n",
            "10 iterations of epochs 645/1000\n",
            "Average recon_error: 16.861\n",
            "Average perplexity: 10.973\n",
            "\n",
            "20 iterations of epochs 645/1000\n",
            "Average recon_error: 16.805\n",
            "Average perplexity: 11.406\n",
            "\n",
            "30 iterations of epochs 645/1000\n",
            "Average recon_error: 14.984\n",
            "Average perplexity: 10.312\n",
            "\n"
          ]
        },
        {
          "output_type": "stream",
          "name": "stderr",
          "text": [
            " 65%|██████▍   | 646/1000 [01:26<01:07,  5.24it/s]"
          ]
        },
        {
          "output_type": "stream",
          "name": "stdout",
          "text": [
            "10 iterations of epochs 646/1000\n",
            "Average recon_error: 15.600\n",
            "Average perplexity: 10.640\n",
            "\n",
            "20 iterations of epochs 646/1000\n",
            "Average recon_error: 15.731\n",
            "Average perplexity: 10.798\n",
            "\n",
            "30 iterations of epochs 646/1000\n",
            "Average recon_error: 17.741\n",
            "Average perplexity: 10.063\n",
            "\n",
            "10 iterations of epochs 647/1000\n",
            "Average recon_error: 16.257\n",
            "Average perplexity: 10.402\n",
            "\n"
          ]
        },
        {
          "output_type": "stream",
          "name": "stderr",
          "text": [
            "\r 65%|██████▍   | 647/1000 [01:26<01:07,  5.20it/s]"
          ]
        },
        {
          "output_type": "stream",
          "name": "stdout",
          "text": [
            "20 iterations of epochs 647/1000\n",
            "Average recon_error: 16.601\n",
            "Average perplexity: 10.900\n",
            "\n",
            "30 iterations of epochs 647/1000\n",
            "Average recon_error: 17.310\n",
            "Average perplexity: 11.179\n",
            "\n",
            "10 iterations of epochs 648/1000\n",
            "Average recon_error: 16.504\n",
            "Average perplexity: 11.401\n",
            "\n",
            "20 iterations of epochs 648/1000\n",
            "Average recon_error: 17.565\n",
            "Average perplexity: 10.953\n",
            "\n"
          ]
        },
        {
          "output_type": "stream",
          "name": "stderr",
          "text": [
            "\r 65%|██████▍   | 648/1000 [01:27<01:08,  5.16it/s]"
          ]
        },
        {
          "output_type": "stream",
          "name": "stdout",
          "text": [
            "30 iterations of epochs 648/1000\n",
            "Average recon_error: 17.149\n",
            "Average perplexity: 11.496\n",
            "\n",
            "10 iterations of epochs 649/1000\n",
            "Average recon_error: 16.404\n",
            "Average perplexity: 10.966\n",
            "\n",
            "20 iterations of epochs 649/1000\n",
            "Average recon_error: 15.336\n",
            "Average perplexity: 11.211\n",
            "\n",
            "30 iterations of epochs 649/1000\n",
            "Average recon_error: 17.909\n",
            "Average perplexity: 10.997\n",
            "\n"
          ]
        },
        {
          "output_type": "stream",
          "name": "stderr",
          "text": [
            " 65%|██████▌   | 650/1000 [01:27<00:58,  5.95it/s]"
          ]
        },
        {
          "output_type": "stream",
          "name": "stdout",
          "text": [
            "10 iterations of epochs 650/1000\n",
            "Average recon_error: 16.577\n",
            "Average perplexity: 11.176\n",
            "\n",
            "20 iterations of epochs 650/1000\n",
            "Average recon_error: 17.443\n",
            "Average perplexity: 11.380\n",
            "\n",
            "30 iterations of epochs 650/1000\n",
            "Average recon_error: 16.284\n",
            "Average perplexity: 10.215\n",
            "\n",
            "10 iterations of epochs 651/1000\n",
            "Average recon_error: 17.102\n",
            "Average perplexity: 11.004\n",
            "\n",
            "20 iterations of epochs 651/1000\n",
            "Average recon_error: 17.950\n",
            "Average perplexity: 11.404\n",
            "\n",
            "30 iterations of epochs 651/1000\n",
            "Average recon_error: 18.037\n",
            "Average perplexity: 11.664\n",
            "\n"
          ]
        },
        {
          "output_type": "stream",
          "name": "stderr",
          "text": [
            " 65%|██████▌   | 652/1000 [01:27<00:53,  6.53it/s]"
          ]
        },
        {
          "output_type": "stream",
          "name": "stdout",
          "text": [
            "10 iterations of epochs 652/1000\n",
            "Average recon_error: 17.400\n",
            "Average perplexity: 11.116\n",
            "\n",
            "20 iterations of epochs 652/1000\n",
            "Average recon_error: 16.615\n",
            "Average perplexity: 11.112\n",
            "\n",
            "30 iterations of epochs 652/1000\n",
            "Average recon_error: 17.973\n",
            "Average perplexity: 10.787\n",
            "\n",
            "10 iterations of epochs 653/1000\n",
            "Average recon_error: 18.288\n",
            "Average perplexity: 10.930\n",
            "\n",
            "20 iterations of epochs 653/1000\n",
            "Average recon_error: 17.174\n",
            "Average perplexity: 10.539\n",
            "\n",
            "30 iterations of epochs 653/1000\n",
            "Average recon_error: 17.154\n",
            "Average perplexity: 10.688\n",
            "\n"
          ]
        },
        {
          "output_type": "stream",
          "name": "stderr",
          "text": [
            " 65%|██████▌   | 654/1000 [01:27<00:49,  7.01it/s]"
          ]
        },
        {
          "output_type": "stream",
          "name": "stdout",
          "text": [
            "10 iterations of epochs 654/1000\n",
            "Average recon_error: 17.688\n",
            "Average perplexity: 10.972\n",
            "\n",
            "20 iterations of epochs 654/1000\n",
            "Average recon_error: 16.154\n",
            "Average perplexity: 10.530\n",
            "\n",
            "30 iterations of epochs 654/1000\n",
            "Average recon_error: 17.605\n",
            "Average perplexity: 11.313\n",
            "\n",
            "10 iterations of epochs 655/1000\n",
            "Average recon_error: 17.745\n",
            "Average perplexity: 11.236\n",
            "\n",
            "20 iterations of epochs 655/1000\n",
            "Average recon_error: 18.327\n",
            "Average perplexity: 11.348\n",
            "\n",
            "30 iterations of epochs 655/1000\n",
            "Average recon_error: 16.635\n",
            "Average perplexity: 11.107\n",
            "\n"
          ]
        },
        {
          "output_type": "stream",
          "name": "stderr",
          "text": [
            " 66%|██████▌   | 656/1000 [01:28<00:46,  7.41it/s]"
          ]
        },
        {
          "output_type": "stream",
          "name": "stdout",
          "text": [
            "10 iterations of epochs 656/1000\n",
            "Average recon_error: 15.897\n",
            "Average perplexity: 10.295\n",
            "\n",
            "20 iterations of epochs 656/1000\n",
            "Average recon_error: 15.560\n",
            "Average perplexity: 10.940\n",
            "\n",
            "30 iterations of epochs 656/1000\n",
            "Average recon_error: 15.876\n",
            "Average perplexity: 11.638\n",
            "\n",
            "10 iterations of epochs 657/1000\n",
            "Average recon_error: 16.757\n",
            "Average perplexity: 10.980\n",
            "\n",
            "20 iterations of epochs 657/1000\n",
            "Average recon_error: 17.854\n",
            "Average perplexity: 10.630\n",
            "\n",
            "30 iterations of epochs 657/1000\n",
            "Average recon_error: 16.091\n",
            "Average perplexity: 11.406\n",
            "\n"
          ]
        },
        {
          "output_type": "stream",
          "name": "stderr",
          "text": [
            " 66%|██████▌   | 658/1000 [01:28<00:45,  7.59it/s]"
          ]
        },
        {
          "output_type": "stream",
          "name": "stdout",
          "text": [
            "10 iterations of epochs 658/1000\n",
            "Average recon_error: 18.091\n",
            "Average perplexity: 11.701\n",
            "\n",
            "20 iterations of epochs 658/1000\n",
            "Average recon_error: 15.334\n",
            "Average perplexity: 11.437\n",
            "\n",
            "30 iterations of epochs 658/1000\n",
            "Average recon_error: 18.223\n",
            "Average perplexity: 10.788\n",
            "\n",
            "10 iterations of epochs 659/1000\n",
            "Average recon_error: 16.574\n",
            "Average perplexity: 10.957\n",
            "\n",
            "20 iterations of epochs 659/1000\n",
            "Average recon_error: 15.251\n",
            "Average perplexity: 10.961\n",
            "\n",
            "30 iterations of epochs 659/1000\n",
            "Average recon_error: 16.135\n",
            "Average perplexity: 10.768\n",
            "\n"
          ]
        },
        {
          "output_type": "stream",
          "name": "stderr",
          "text": [
            " 66%|██████▌   | 660/1000 [01:28<00:46,  7.28it/s]"
          ]
        },
        {
          "output_type": "stream",
          "name": "stdout",
          "text": [
            "10 iterations of epochs 660/1000\n",
            "Average recon_error: 17.129\n",
            "Average perplexity: 11.409\n",
            "\n",
            "20 iterations of epochs 660/1000\n",
            "Average recon_error: 16.204\n",
            "Average perplexity: 11.153\n",
            "\n",
            "30 iterations of epochs 660/1000\n",
            "Average recon_error: 18.066\n",
            "Average perplexity: 11.411\n",
            "\n",
            "10 iterations of epochs 661/1000\n",
            "Average recon_error: 16.454\n",
            "Average perplexity: 10.820\n",
            "\n",
            "20 iterations of epochs 661/1000\n",
            "Average recon_error: 17.586\n",
            "Average perplexity: 10.995\n",
            "\n",
            "30 iterations of epochs 661/1000\n",
            "Average recon_error: 16.482\n",
            "Average perplexity: 10.916\n",
            "\n"
          ]
        },
        {
          "output_type": "stream",
          "name": "stderr",
          "text": [
            " 66%|██████▌   | 662/1000 [01:29<00:45,  7.41it/s]"
          ]
        },
        {
          "output_type": "stream",
          "name": "stdout",
          "text": [
            "10 iterations of epochs 662/1000\n",
            "Average recon_error: 16.551\n",
            "Average perplexity: 11.168\n",
            "\n",
            "20 iterations of epochs 662/1000\n",
            "Average recon_error: 16.896\n",
            "Average perplexity: 11.261\n",
            "\n",
            "30 iterations of epochs 662/1000\n",
            "Average recon_error: 17.098\n",
            "Average perplexity: 10.555\n",
            "\n",
            "10 iterations of epochs 663/1000\n",
            "Average recon_error: 16.815\n",
            "Average perplexity: 12.046\n",
            "\n",
            "20 iterations of epochs 663/1000\n",
            "Average recon_error: 18.220\n",
            "Average perplexity: 12.216\n",
            "\n",
            "30 iterations of epochs 663/1000\n",
            "Average recon_error: 18.357\n",
            "Average perplexity: 10.540\n",
            "\n"
          ]
        },
        {
          "output_type": "stream",
          "name": "stderr",
          "text": [
            " 66%|██████▋   | 664/1000 [01:29<00:44,  7.61it/s]"
          ]
        },
        {
          "output_type": "stream",
          "name": "stdout",
          "text": [
            "10 iterations of epochs 664/1000\n",
            "Average recon_error: 17.832\n",
            "Average perplexity: 9.951\n",
            "\n",
            "20 iterations of epochs 664/1000\n",
            "Average recon_error: 18.334\n",
            "Average perplexity: 10.761\n",
            "\n",
            "30 iterations of epochs 664/1000\n",
            "Average recon_error: 17.490\n",
            "Average perplexity: 11.125\n",
            "\n",
            "10 iterations of epochs 665/1000\n",
            "Average recon_error: 17.923\n",
            "Average perplexity: 11.077\n",
            "\n",
            "20 iterations of epochs 665/1000\n",
            "Average recon_error: 16.942\n",
            "Average perplexity: 11.929\n",
            "\n",
            "30 iterations of epochs 665/1000\n",
            "Average recon_error: 17.832\n",
            "Average perplexity: 10.865\n",
            "\n"
          ]
        },
        {
          "output_type": "stream",
          "name": "stderr",
          "text": [
            " 67%|██████▋   | 666/1000 [01:29<00:43,  7.61it/s]"
          ]
        },
        {
          "output_type": "stream",
          "name": "stdout",
          "text": [
            "10 iterations of epochs 666/1000\n",
            "Average recon_error: 16.717\n",
            "Average perplexity: 11.705\n",
            "\n",
            "20 iterations of epochs 666/1000\n",
            "Average recon_error: 16.400\n",
            "Average perplexity: 11.193\n",
            "\n",
            "30 iterations of epochs 666/1000\n",
            "Average recon_error: 16.858\n",
            "Average perplexity: 11.075\n",
            "\n",
            "10 iterations of epochs 667/1000\n",
            "Average recon_error: 16.620\n",
            "Average perplexity: 10.805\n",
            "\n",
            "20 iterations of epochs 667/1000\n",
            "Average recon_error: 17.564\n",
            "Average perplexity: 11.347\n",
            "\n"
          ]
        },
        {
          "output_type": "stream",
          "name": "stderr",
          "text": [
            " 67%|██████▋   | 668/1000 [01:29<00:44,  7.47it/s]"
          ]
        },
        {
          "output_type": "stream",
          "name": "stdout",
          "text": [
            "30 iterations of epochs 667/1000\n",
            "Average recon_error: 17.727\n",
            "Average perplexity: 10.544\n",
            "\n",
            "10 iterations of epochs 668/1000\n",
            "Average recon_error: 16.795\n",
            "Average perplexity: 12.188\n",
            "\n",
            "20 iterations of epochs 668/1000\n",
            "Average recon_error: 17.000\n",
            "Average perplexity: 10.633\n",
            "\n",
            "30 iterations of epochs 668/1000\n",
            "Average recon_error: 16.965\n",
            "Average perplexity: 10.328\n",
            "\n"
          ]
        },
        {
          "output_type": "stream",
          "name": "stderr",
          "text": [
            "\r 67%|██████▋   | 669/1000 [01:29<00:44,  7.40it/s]"
          ]
        },
        {
          "output_type": "stream",
          "name": "stdout",
          "text": [
            "10 iterations of epochs 669/1000\n",
            "Average recon_error: 15.592\n",
            "Average perplexity: 11.348\n",
            "\n",
            "20 iterations of epochs 669/1000\n",
            "Average recon_error: 18.439\n",
            "Average perplexity: 10.901\n",
            "\n",
            "30 iterations of epochs 669/1000\n",
            "Average recon_error: 15.952\n",
            "Average perplexity: 11.717\n",
            "\n",
            "10 iterations of epochs 670/1000\n",
            "Average recon_error: 17.108\n",
            "Average perplexity: 10.732\n",
            "\n",
            "20 iterations of epochs 670/1000\n",
            "Average recon_error: 19.043\n",
            "Average perplexity: 11.617\n",
            "\n",
            "30 iterations of epochs 670/1000\n",
            "Average recon_error: 17.976\n",
            "Average perplexity: 10.478\n",
            "\n"
          ]
        },
        {
          "output_type": "stream",
          "name": "stderr",
          "text": [
            " 67%|██████▋   | 671/1000 [01:30<00:43,  7.52it/s]"
          ]
        },
        {
          "output_type": "stream",
          "name": "stdout",
          "text": [
            "10 iterations of epochs 671/1000\n",
            "Average recon_error: 17.923\n",
            "Average perplexity: 11.508\n",
            "\n",
            "20 iterations of epochs 671/1000\n",
            "Average recon_error: 17.013\n",
            "Average perplexity: 10.442\n",
            "\n",
            "30 iterations of epochs 671/1000\n",
            "Average recon_error: 16.060\n",
            "Average perplexity: 11.441\n",
            "\n",
            "10 iterations of epochs 672/1000\n",
            "Average recon_error: 16.414\n",
            "Average perplexity: 11.602\n",
            "\n"
          ]
        },
        {
          "output_type": "stream",
          "name": "stderr",
          "text": [
            " 67%|██████▋   | 673/1000 [01:30<00:42,  7.66it/s]"
          ]
        },
        {
          "output_type": "stream",
          "name": "stdout",
          "text": [
            "20 iterations of epochs 672/1000\n",
            "Average recon_error: 18.235\n",
            "Average perplexity: 11.383\n",
            "\n",
            "30 iterations of epochs 672/1000\n",
            "Average recon_error: 15.942\n",
            "Average perplexity: 11.407\n",
            "\n",
            "10 iterations of epochs 673/1000\n",
            "Average recon_error: 17.930\n",
            "Average perplexity: 10.760\n",
            "\n",
            "20 iterations of epochs 673/1000\n",
            "Average recon_error: 15.816\n",
            "Average perplexity: 11.100\n",
            "\n",
            "30 iterations of epochs 673/1000\n",
            "Average recon_error: 16.297\n",
            "Average perplexity: 10.121\n",
            "\n"
          ]
        },
        {
          "output_type": "stream",
          "name": "stderr",
          "text": [
            "\r 67%|██████▋   | 674/1000 [01:30<00:42,  7.59it/s]"
          ]
        },
        {
          "output_type": "stream",
          "name": "stdout",
          "text": [
            "10 iterations of epochs 674/1000\n",
            "Average recon_error: 14.937\n",
            "Average perplexity: 10.740\n",
            "\n",
            "20 iterations of epochs 674/1000\n",
            "Average recon_error: 16.688\n",
            "Average perplexity: 10.673\n",
            "\n",
            "30 iterations of epochs 674/1000\n",
            "Average recon_error: 17.748\n",
            "Average perplexity: 11.077\n",
            "\n",
            "10 iterations of epochs 675/1000\n",
            "Average recon_error: 16.237\n",
            "Average perplexity: 11.098\n",
            "\n",
            "20 iterations of epochs 675/1000\n",
            "Average recon_error: 16.666\n",
            "Average perplexity: 10.102\n",
            "\n"
          ]
        },
        {
          "output_type": "stream",
          "name": "stderr",
          "text": [
            " 68%|██████▊   | 676/1000 [01:30<00:44,  7.32it/s]"
          ]
        },
        {
          "output_type": "stream",
          "name": "stdout",
          "text": [
            "30 iterations of epochs 675/1000\n",
            "Average recon_error: 16.173\n",
            "Average perplexity: 11.471\n",
            "\n",
            "10 iterations of epochs 676/1000\n",
            "Average recon_error: 16.395\n",
            "Average perplexity: 11.078\n",
            "\n",
            "20 iterations of epochs 676/1000\n",
            "Average recon_error: 16.120\n",
            "Average perplexity: 11.169\n",
            "\n",
            "30 iterations of epochs 676/1000\n",
            "Average recon_error: 16.659\n",
            "Average perplexity: 11.458\n",
            "\n"
          ]
        },
        {
          "output_type": "stream",
          "name": "stderr",
          "text": [
            "\r 68%|██████▊   | 677/1000 [01:31<00:44,  7.31it/s]"
          ]
        },
        {
          "output_type": "stream",
          "name": "stdout",
          "text": [
            "10 iterations of epochs 677/1000\n",
            "Average recon_error: 16.236\n",
            "Average perplexity: 11.578\n",
            "\n",
            "20 iterations of epochs 677/1000\n",
            "Average recon_error: 16.670\n",
            "Average perplexity: 10.331\n",
            "\n",
            "30 iterations of epochs 677/1000\n",
            "Average recon_error: 17.677\n",
            "Average perplexity: 10.332\n",
            "\n",
            "10 iterations of epochs 678/1000\n",
            "Average recon_error: 17.077\n",
            "Average perplexity: 11.372\n",
            "\n",
            "20 iterations of epochs 678/1000\n",
            "Average recon_error: 17.995\n",
            "Average perplexity: 11.283\n",
            "\n",
            "30 iterations of epochs 678/1000\n",
            "Average recon_error: 17.272\n",
            "Average perplexity: 10.459\n",
            "\n"
          ]
        },
        {
          "output_type": "stream",
          "name": "stderr",
          "text": [
            " 68%|██████▊   | 679/1000 [01:31<00:44,  7.28it/s]"
          ]
        },
        {
          "output_type": "stream",
          "name": "stdout",
          "text": [
            "10 iterations of epochs 679/1000\n",
            "Average recon_error: 16.559\n",
            "Average perplexity: 11.763\n",
            "\n",
            "20 iterations of epochs 679/1000\n",
            "Average recon_error: 16.452\n",
            "Average perplexity: 9.918\n",
            "\n",
            "30 iterations of epochs 679/1000\n",
            "Average recon_error: 17.608\n",
            "Average perplexity: 11.120\n",
            "\n",
            "10 iterations of epochs 680/1000\n",
            "Average recon_error: 17.565\n",
            "Average perplexity: 11.781\n",
            "\n",
            "20 iterations of epochs 680/1000\n",
            "Average recon_error: 15.381\n",
            "Average perplexity: 11.222\n",
            "\n"
          ]
        },
        {
          "output_type": "stream",
          "name": "stderr",
          "text": [
            " 68%|██████▊   | 681/1000 [01:31<00:43,  7.26it/s]"
          ]
        },
        {
          "output_type": "stream",
          "name": "stdout",
          "text": [
            "30 iterations of epochs 680/1000\n",
            "Average recon_error: 19.419\n",
            "Average perplexity: 10.738\n",
            "\n",
            "10 iterations of epochs 681/1000\n",
            "Average recon_error: 17.004\n",
            "Average perplexity: 10.878\n",
            "\n",
            "20 iterations of epochs 681/1000\n",
            "Average recon_error: 18.580\n",
            "Average perplexity: 10.774\n",
            "\n",
            "30 iterations of epochs 681/1000\n",
            "Average recon_error: 18.525\n",
            "Average perplexity: 10.995\n",
            "\n"
          ]
        },
        {
          "output_type": "stream",
          "name": "stderr",
          "text": [
            "\r 68%|██████▊   | 682/1000 [01:31<00:45,  6.98it/s]"
          ]
        },
        {
          "output_type": "stream",
          "name": "stdout",
          "text": [
            "10 iterations of epochs 682/1000\n",
            "Average recon_error: 17.823\n",
            "Average perplexity: 11.182\n",
            "\n",
            "20 iterations of epochs 682/1000\n",
            "Average recon_error: 17.341\n",
            "Average perplexity: 11.987\n",
            "\n",
            "30 iterations of epochs 682/1000\n",
            "Average recon_error: 16.691\n",
            "Average perplexity: 11.491\n",
            "\n",
            "10 iterations of epochs 683/1000\n",
            "Average recon_error: 16.828\n",
            "Average perplexity: 10.447\n",
            "\n",
            "20 iterations of epochs 683/1000\n",
            "Average recon_error: 16.193\n",
            "Average perplexity: 11.796\n",
            "\n"
          ]
        },
        {
          "output_type": "stream",
          "name": "stderr",
          "text": [
            " 68%|██████▊   | 684/1000 [01:32<00:44,  7.16it/s]"
          ]
        },
        {
          "output_type": "stream",
          "name": "stdout",
          "text": [
            "30 iterations of epochs 683/1000\n",
            "Average recon_error: 17.054\n",
            "Average perplexity: 11.676\n",
            "\n",
            "10 iterations of epochs 684/1000\n",
            "Average recon_error: 15.979\n",
            "Average perplexity: 11.555\n",
            "\n",
            "20 iterations of epochs 684/1000\n",
            "Average recon_error: 16.921\n",
            "Average perplexity: 11.188\n",
            "\n",
            "30 iterations of epochs 684/1000\n",
            "Average recon_error: 16.891\n",
            "Average perplexity: 11.801\n",
            "\n",
            "10 iterations of epochs 685/1000\n",
            "Average recon_error: 14.945\n",
            "Average perplexity: 12.207\n",
            "\n"
          ]
        },
        {
          "output_type": "stream",
          "name": "stderr",
          "text": [
            "\r 68%|██████▊   | 685/1000 [01:32<00:44,  7.10it/s]"
          ]
        },
        {
          "output_type": "stream",
          "name": "stdout",
          "text": [
            "20 iterations of epochs 685/1000\n",
            "Average recon_error: 16.544\n",
            "Average perplexity: 11.400\n",
            "\n",
            "30 iterations of epochs 685/1000\n",
            "Average recon_error: 17.320\n",
            "Average perplexity: 10.991\n",
            "\n",
            "10 iterations of epochs 686/1000\n",
            "Average recon_error: 17.438\n",
            "Average perplexity: 11.881\n",
            "\n",
            "20 iterations of epochs 686/1000\n",
            "Average recon_error: 16.660\n",
            "Average perplexity: 10.051\n",
            "\n",
            "30 iterations of epochs 686/1000\n",
            "Average recon_error: 16.942\n",
            "Average perplexity: 11.563\n",
            "\n"
          ]
        },
        {
          "output_type": "stream",
          "name": "stderr",
          "text": [
            " 69%|██████▊   | 687/1000 [01:32<00:42,  7.32it/s]"
          ]
        },
        {
          "output_type": "stream",
          "name": "stdout",
          "text": [
            "10 iterations of epochs 687/1000\n",
            "Average recon_error: 15.111\n",
            "Average perplexity: 11.355\n",
            "\n",
            "20 iterations of epochs 687/1000\n",
            "Average recon_error: 16.822\n",
            "Average perplexity: 11.185\n",
            "\n",
            "30 iterations of epochs 687/1000\n",
            "Average recon_error: 16.738\n",
            "Average perplexity: 12.065\n",
            "\n",
            "10 iterations of epochs 688/1000\n",
            "Average recon_error: 14.719\n",
            "Average perplexity: 11.132\n",
            "\n",
            "20 iterations of epochs 688/1000\n",
            "Average recon_error: 16.513\n",
            "Average perplexity: 10.538\n",
            "\n",
            "30 iterations of epochs 688/1000\n",
            "Average recon_error: 17.066\n",
            "Average perplexity: 11.471\n",
            "\n"
          ]
        },
        {
          "output_type": "stream",
          "name": "stderr",
          "text": [
            " 69%|██████▉   | 689/1000 [01:32<00:42,  7.37it/s]"
          ]
        },
        {
          "output_type": "stream",
          "name": "stdout",
          "text": [
            "10 iterations of epochs 689/1000\n",
            "Average recon_error: 18.738\n",
            "Average perplexity: 10.601\n",
            "\n",
            "20 iterations of epochs 689/1000\n",
            "Average recon_error: 15.378\n",
            "Average perplexity: 11.200\n",
            "\n",
            "30 iterations of epochs 689/1000\n",
            "Average recon_error: 17.712\n",
            "Average perplexity: 10.828\n",
            "\n",
            "10 iterations of epochs 690/1000\n",
            "Average recon_error: 15.532\n",
            "Average perplexity: 11.468\n",
            "\n",
            "20 iterations of epochs 690/1000\n",
            "Average recon_error: 18.106\n",
            "Average perplexity: 11.633\n",
            "\n"
          ]
        },
        {
          "output_type": "stream",
          "name": "stderr",
          "text": [
            " 69%|██████▉   | 691/1000 [01:32<00:42,  7.26it/s]"
          ]
        },
        {
          "output_type": "stream",
          "name": "stdout",
          "text": [
            "30 iterations of epochs 690/1000\n",
            "Average recon_error: 16.186\n",
            "Average perplexity: 10.600\n",
            "\n",
            "10 iterations of epochs 691/1000\n",
            "Average recon_error: 16.040\n",
            "Average perplexity: 10.622\n",
            "\n",
            "20 iterations of epochs 691/1000\n",
            "Average recon_error: 17.531\n",
            "Average perplexity: 11.402\n",
            "\n",
            "30 iterations of epochs 691/1000\n",
            "Average recon_error: 18.379\n",
            "Average perplexity: 10.571\n",
            "\n",
            "10 iterations of epochs 692/1000\n",
            "Average recon_error: 16.693\n",
            "Average perplexity: 10.124\n",
            "\n"
          ]
        },
        {
          "output_type": "stream",
          "name": "stderr",
          "text": [
            " 69%|██████▉   | 693/1000 [01:33<00:40,  7.52it/s]"
          ]
        },
        {
          "output_type": "stream",
          "name": "stdout",
          "text": [
            "20 iterations of epochs 692/1000\n",
            "Average recon_error: 17.800\n",
            "Average perplexity: 10.499\n",
            "\n",
            "30 iterations of epochs 692/1000\n",
            "Average recon_error: 16.718\n",
            "Average perplexity: 11.834\n",
            "\n",
            "10 iterations of epochs 693/1000\n",
            "Average recon_error: 16.948\n",
            "Average perplexity: 11.142\n",
            "\n",
            "20 iterations of epochs 693/1000\n",
            "Average recon_error: 17.171\n",
            "Average perplexity: 11.582\n",
            "\n",
            "30 iterations of epochs 693/1000\n",
            "Average recon_error: 16.706\n",
            "Average perplexity: 11.294\n",
            "\n"
          ]
        },
        {
          "output_type": "stream",
          "name": "stderr",
          "text": [
            "\r 69%|██████▉   | 694/1000 [01:33<00:40,  7.47it/s]"
          ]
        },
        {
          "output_type": "stream",
          "name": "stdout",
          "text": [
            "10 iterations of epochs 694/1000\n",
            "Average recon_error: 16.448\n",
            "Average perplexity: 11.347\n",
            "\n",
            "20 iterations of epochs 694/1000\n",
            "Average recon_error: 16.624\n",
            "Average perplexity: 11.007\n",
            "\n",
            "30 iterations of epochs 694/1000\n",
            "Average recon_error: 16.897\n",
            "Average perplexity: 10.670\n",
            "\n",
            "10 iterations of epochs 695/1000\n",
            "Average recon_error: 15.760\n",
            "Average perplexity: 11.712\n",
            "\n",
            "20 iterations of epochs 695/1000\n",
            "Average recon_error: 17.556\n",
            "Average perplexity: 10.610\n",
            "\n",
            "30 iterations of epochs 695/1000\n",
            "Average recon_error: 16.601\n",
            "Average perplexity: 10.885\n",
            "\n"
          ]
        },
        {
          "output_type": "stream",
          "name": "stderr",
          "text": [
            " 70%|██████▉   | 696/1000 [01:33<00:40,  7.53it/s]"
          ]
        },
        {
          "output_type": "stream",
          "name": "stdout",
          "text": [
            "10 iterations of epochs 696/1000\n",
            "Average recon_error: 16.475\n",
            "Average perplexity: 11.466\n",
            "\n",
            "20 iterations of epochs 696/1000\n",
            "Average recon_error: 16.803\n",
            "Average perplexity: 10.673\n",
            "\n",
            "30 iterations of epochs 696/1000\n",
            "Average recon_error: 18.175\n",
            "Average perplexity: 11.596\n",
            "\n",
            "10 iterations of epochs 697/1000\n",
            "Average recon_error: 18.610\n",
            "Average perplexity: 10.294\n",
            "\n",
            "20 iterations of epochs 697/1000\n",
            "Average recon_error: 16.065\n",
            "Average perplexity: 10.535\n",
            "\n",
            "30 iterations of epochs 697/1000\n",
            "Average recon_error: 16.712\n",
            "Average perplexity: 10.559\n",
            "\n"
          ]
        },
        {
          "output_type": "stream",
          "name": "stderr",
          "text": [
            " 70%|██████▉   | 698/1000 [01:33<00:41,  7.27it/s]"
          ]
        },
        {
          "output_type": "stream",
          "name": "stdout",
          "text": [
            "10 iterations of epochs 698/1000\n",
            "Average recon_error: 17.066\n",
            "Average perplexity: 11.261\n",
            "\n",
            "20 iterations of epochs 698/1000\n",
            "Average recon_error: 15.484\n",
            "Average perplexity: 10.814\n",
            "\n",
            "30 iterations of epochs 698/1000\n",
            "Average recon_error: 17.577\n",
            "Average perplexity: 10.379\n",
            "\n",
            "10 iterations of epochs 699/1000\n",
            "Average recon_error: 15.655\n",
            "Average perplexity: 10.654\n",
            "\n",
            "20 iterations of epochs 699/1000\n",
            "Average recon_error: 17.230\n",
            "Average perplexity: 11.379\n",
            "\n",
            "30 iterations of epochs 699/1000\n",
            "Average recon_error: 19.485\n",
            "Average perplexity: 11.040\n",
            "\n"
          ]
        },
        {
          "output_type": "stream",
          "name": "stderr",
          "text": [
            " 70%|███████   | 700/1000 [01:34<00:40,  7.45it/s]"
          ]
        },
        {
          "output_type": "stream",
          "name": "stdout",
          "text": [
            "10 iterations of epochs 700/1000\n",
            "Average recon_error: 17.257\n",
            "Average perplexity: 11.634\n",
            "\n",
            "20 iterations of epochs 700/1000\n",
            "Average recon_error: 16.867\n",
            "Average perplexity: 10.474\n",
            "\n",
            "30 iterations of epochs 700/1000\n",
            "Average recon_error: 16.622\n",
            "Average perplexity: 10.759\n",
            "\n",
            "10 iterations of epochs 701/1000\n",
            "Average recon_error: 16.791\n",
            "Average perplexity: 11.322\n",
            "\n",
            "20 iterations of epochs 701/1000\n",
            "Average recon_error: 18.294\n",
            "Average perplexity: 11.505\n",
            "\n",
            "30 iterations of epochs 701/1000\n",
            "Average recon_error: 16.916\n",
            "Average perplexity: 10.858\n",
            "\n"
          ]
        },
        {
          "output_type": "stream",
          "name": "stderr",
          "text": [
            " 70%|███████   | 702/1000 [01:34<00:38,  7.70it/s]"
          ]
        },
        {
          "output_type": "stream",
          "name": "stdout",
          "text": [
            "10 iterations of epochs 702/1000\n",
            "Average recon_error: 17.926\n",
            "Average perplexity: 10.397\n",
            "\n",
            "20 iterations of epochs 702/1000\n",
            "Average recon_error: 17.384\n",
            "Average perplexity: 11.120\n",
            "\n",
            "30 iterations of epochs 702/1000\n",
            "Average recon_error: 16.003\n",
            "Average perplexity: 10.813\n",
            "\n",
            "10 iterations of epochs 703/1000\n",
            "Average recon_error: 17.505\n",
            "Average perplexity: 10.981\n",
            "\n",
            "20 iterations of epochs 703/1000\n",
            "Average recon_error: 18.244\n",
            "Average perplexity: 10.990\n",
            "\n",
            "30 iterations of epochs 703/1000\n",
            "Average recon_error: 16.980\n",
            "Average perplexity: 11.029\n",
            "\n"
          ]
        },
        {
          "output_type": "stream",
          "name": "stderr",
          "text": [
            " 70%|███████   | 704/1000 [01:34<00:37,  7.81it/s]"
          ]
        },
        {
          "output_type": "stream",
          "name": "stdout",
          "text": [
            "10 iterations of epochs 704/1000\n",
            "Average recon_error: 14.899\n",
            "Average perplexity: 10.614\n",
            "\n",
            "20 iterations of epochs 704/1000\n",
            "Average recon_error: 17.695\n",
            "Average perplexity: 11.138\n",
            "\n",
            "30 iterations of epochs 704/1000\n",
            "Average recon_error: 16.837\n",
            "Average perplexity: 10.638\n",
            "\n",
            "10 iterations of epochs 705/1000\n",
            "Average recon_error: 17.115\n",
            "Average perplexity: 11.479\n",
            "\n",
            "20 iterations of epochs 705/1000\n",
            "Average recon_error: 15.574\n",
            "Average perplexity: 10.670\n",
            "\n",
            "30 iterations of epochs 705/1000\n",
            "Average recon_error: 17.113\n",
            "Average perplexity: 11.184\n",
            "\n"
          ]
        },
        {
          "output_type": "stream",
          "name": "stderr",
          "text": [
            " 71%|███████   | 706/1000 [01:34<00:39,  7.53it/s]"
          ]
        },
        {
          "output_type": "stream",
          "name": "stdout",
          "text": [
            "10 iterations of epochs 706/1000\n",
            "Average recon_error: 16.177\n",
            "Average perplexity: 11.747\n",
            "\n",
            "20 iterations of epochs 706/1000\n",
            "Average recon_error: 17.010\n",
            "Average perplexity: 11.538\n",
            "\n",
            "30 iterations of epochs 706/1000\n",
            "Average recon_error: 16.583\n",
            "Average perplexity: 11.117\n",
            "\n",
            "10 iterations of epochs 707/1000\n",
            "Average recon_error: 16.844\n",
            "Average perplexity: 10.752\n",
            "\n",
            "20 iterations of epochs 707/1000\n",
            "Average recon_error: 16.822\n",
            "Average perplexity: 11.469\n",
            "\n",
            "30 iterations of epochs 707/1000\n",
            "Average recon_error: 17.060\n",
            "Average perplexity: 10.834\n",
            "\n"
          ]
        },
        {
          "output_type": "stream",
          "name": "stderr",
          "text": [
            " 71%|███████   | 708/1000 [01:35<00:38,  7.58it/s]"
          ]
        },
        {
          "output_type": "stream",
          "name": "stdout",
          "text": [
            "10 iterations of epochs 708/1000\n",
            "Average recon_error: 16.271\n",
            "Average perplexity: 11.002\n",
            "\n",
            "20 iterations of epochs 708/1000\n",
            "Average recon_error: 15.791\n",
            "Average perplexity: 10.927\n",
            "\n",
            "30 iterations of epochs 708/1000\n",
            "Average recon_error: 17.418\n",
            "Average perplexity: 10.844\n",
            "\n",
            "10 iterations of epochs 709/1000\n",
            "Average recon_error: 16.843\n",
            "Average perplexity: 12.688\n",
            "\n",
            "20 iterations of epochs 709/1000\n",
            "Average recon_error: 17.942\n",
            "Average perplexity: 10.768\n",
            "\n",
            "30 iterations of epochs 709/1000\n",
            "Average recon_error: 17.867\n",
            "Average perplexity: 10.611\n",
            "\n"
          ]
        },
        {
          "output_type": "stream",
          "name": "stderr",
          "text": [
            " 71%|███████   | 710/1000 [01:35<00:37,  7.76it/s]"
          ]
        },
        {
          "output_type": "stream",
          "name": "stdout",
          "text": [
            "10 iterations of epochs 710/1000\n",
            "Average recon_error: 16.370\n",
            "Average perplexity: 10.540\n",
            "\n",
            "20 iterations of epochs 710/1000\n",
            "Average recon_error: 16.459\n",
            "Average perplexity: 11.119\n",
            "\n",
            "30 iterations of epochs 710/1000\n",
            "Average recon_error: 16.741\n",
            "Average perplexity: 10.861\n",
            "\n",
            "10 iterations of epochs 711/1000\n",
            "Average recon_error: 17.490\n",
            "Average perplexity: 11.472\n",
            "\n",
            "20 iterations of epochs 711/1000\n",
            "Average recon_error: 15.931\n",
            "Average perplexity: 11.110\n",
            "\n",
            "30 iterations of epochs 711/1000\n",
            "Average recon_error: 16.284\n",
            "Average perplexity: 11.112\n",
            "\n"
          ]
        },
        {
          "output_type": "stream",
          "name": "stderr",
          "text": [
            " 71%|███████   | 712/1000 [01:35<00:37,  7.74it/s]"
          ]
        },
        {
          "output_type": "stream",
          "name": "stdout",
          "text": [
            "10 iterations of epochs 712/1000\n",
            "Average recon_error: 16.369\n",
            "Average perplexity: 11.407\n",
            "\n",
            "20 iterations of epochs 712/1000\n",
            "Average recon_error: 15.410\n",
            "Average perplexity: 10.335\n",
            "\n",
            "30 iterations of epochs 712/1000\n",
            "Average recon_error: 16.626\n",
            "Average perplexity: 11.574\n",
            "\n",
            "10 iterations of epochs 713/1000\n",
            "Average recon_error: 17.409\n",
            "Average perplexity: 11.021\n",
            "\n",
            "20 iterations of epochs 713/1000\n",
            "Average recon_error: 16.234\n",
            "Average perplexity: 11.216\n",
            "\n",
            "30 iterations of epochs 713/1000\n",
            "Average recon_error: 18.401"
          ]
        },
        {
          "output_type": "stream",
          "name": "stderr",
          "text": [
            " 71%|███████▏  | 714/1000 [01:36<00:37,  7.64it/s]"
          ]
        },
        {
          "output_type": "stream",
          "name": "stdout",
          "text": [
            "\n",
            "Average perplexity: 11.762\n",
            "\n",
            "10 iterations of epochs 714/1000\n",
            "Average recon_error: 16.980\n",
            "Average perplexity: 11.778\n",
            "\n",
            "20 iterations of epochs 714/1000\n",
            "Average recon_error: 19.189\n",
            "Average perplexity: 11.052\n",
            "\n",
            "30 iterations of epochs 714/1000\n",
            "Average recon_error: 18.998\n",
            "Average perplexity: 10.659\n",
            "\n",
            "10 iterations of epochs 715/1000\n",
            "Average recon_error: 16.056\n",
            "Average perplexity: 11.650\n",
            "\n"
          ]
        },
        {
          "output_type": "stream",
          "name": "stderr",
          "text": [
            " 72%|███████▏  | 716/1000 [01:36<00:37,  7.67it/s]"
          ]
        },
        {
          "output_type": "stream",
          "name": "stdout",
          "text": [
            "20 iterations of epochs 715/1000\n",
            "Average recon_error: 16.796\n",
            "Average perplexity: 10.837\n",
            "\n",
            "30 iterations of epochs 715/1000\n",
            "Average recon_error: 17.367\n",
            "Average perplexity: 11.848\n",
            "\n",
            "10 iterations of epochs 716/1000\n",
            "Average recon_error: 18.136\n",
            "Average perplexity: 10.570\n",
            "\n",
            "20 iterations of epochs 716/1000\n",
            "Average recon_error: 16.281\n",
            "Average perplexity: 10.694\n",
            "\n",
            "30 iterations of epochs 716/1000\n",
            "Average recon_error: 17.428\n",
            "Average perplexity: 11.391\n",
            "\n"
          ]
        },
        {
          "output_type": "stream",
          "name": "stderr",
          "text": [
            "\r 72%|███████▏  | 717/1000 [01:36<00:36,  7.72it/s]"
          ]
        },
        {
          "output_type": "stream",
          "name": "stdout",
          "text": [
            "10 iterations of epochs 717/1000\n",
            "Average recon_error: 18.568\n",
            "Average perplexity: 10.862\n",
            "\n",
            "20 iterations of epochs 717/1000\n",
            "Average recon_error: 15.739\n",
            "Average perplexity: 12.043\n",
            "\n",
            "30 iterations of epochs 717/1000\n",
            "Average recon_error: 16.342\n",
            "Average perplexity: 11.432\n",
            "\n",
            "10 iterations of epochs 718/1000\n",
            "Average recon_error: 16.128\n",
            "Average perplexity: 10.933\n",
            "\n",
            "20 iterations of epochs 718/1000\n",
            "Average recon_error: 18.273\n",
            "Average perplexity: 11.112\n",
            "\n",
            "30 iterations of epochs 718/1000\n",
            "Average recon_error: 16.871\n",
            "Average perplexity: 11.161\n",
            "\n"
          ]
        },
        {
          "output_type": "stream",
          "name": "stderr",
          "text": [
            " 72%|███████▏  | 719/1000 [01:36<00:35,  7.84it/s]"
          ]
        },
        {
          "output_type": "stream",
          "name": "stdout",
          "text": [
            "10 iterations of epochs 719/1000\n",
            "Average recon_error: 15.504\n",
            "Average perplexity: 10.829\n",
            "\n",
            "20 iterations of epochs 719/1000\n",
            "Average recon_error: 15.884\n",
            "Average perplexity: 11.485\n",
            "\n",
            "30 iterations of epochs 719/1000\n",
            "Average recon_error: 16.012\n",
            "Average perplexity: 11.926\n",
            "\n",
            "10 iterations of epochs 720/1000\n",
            "Average recon_error: 15.481\n",
            "Average perplexity: 11.572\n",
            "\n",
            "20 iterations of epochs 720/1000\n",
            "Average recon_error: 17.082\n",
            "Average perplexity: 10.718\n",
            "\n",
            "30 iterations of epochs 720/1000\n",
            "Average recon_error: 18.464\n",
            "Average perplexity: 12.175\n",
            "\n"
          ]
        },
        {
          "output_type": "stream",
          "name": "stderr",
          "text": [
            " 72%|███████▏  | 721/1000 [01:36<00:36,  7.67it/s]"
          ]
        },
        {
          "output_type": "stream",
          "name": "stdout",
          "text": [
            "10 iterations of epochs 721/1000\n",
            "Average recon_error: 17.063\n",
            "Average perplexity: 11.277\n",
            "\n",
            "20 iterations of epochs 721/1000\n",
            "Average recon_error: 17.165\n",
            "Average perplexity: 11.321\n",
            "\n",
            "30 iterations of epochs 721/1000\n",
            "Average recon_error: 17.357\n",
            "Average perplexity: 11.653\n",
            "\n",
            "10 iterations of epochs 722/1000\n",
            "Average recon_error: 17.832\n",
            "Average perplexity: 11.767\n",
            "\n",
            "20 iterations of epochs 722/1000\n",
            "Average recon_error: 17.254\n",
            "Average perplexity: 10.679\n",
            "\n",
            "30 iterations of epochs 722/1000\n",
            "Average recon_error: 17.440\n",
            "Average perplexity: 12.081\n",
            "\n"
          ]
        },
        {
          "output_type": "stream",
          "name": "stderr",
          "text": [
            " 72%|███████▏  | 723/1000 [01:37<00:35,  7.80it/s]"
          ]
        },
        {
          "output_type": "stream",
          "name": "stdout",
          "text": [
            "10 iterations of epochs 723/1000\n",
            "Average recon_error: 17.281\n",
            "Average perplexity: 11.036\n",
            "\n",
            "20 iterations of epochs 723/1000\n",
            "Average recon_error: 16.476\n",
            "Average perplexity: 11.149\n",
            "\n",
            "30 iterations of epochs 723/1000\n",
            "Average recon_error: 16.772\n",
            "Average perplexity: 10.612\n",
            "\n",
            "10 iterations of epochs 724/1000\n",
            "Average recon_error: 15.994\n",
            "Average perplexity: 12.018\n",
            "\n",
            "20 iterations of epochs 724/1000\n",
            "Average recon_error: 16.846\n",
            "Average perplexity: 11.514\n",
            "\n"
          ]
        },
        {
          "output_type": "stream",
          "name": "stderr",
          "text": [
            "\r 72%|███████▏  | 724/1000 [01:37<00:41,  6.68it/s]"
          ]
        },
        {
          "output_type": "stream",
          "name": "stdout",
          "text": [
            "30 iterations of epochs 724/1000\n",
            "Average recon_error: 17.251\n",
            "Average perplexity: 10.472\n",
            "\n",
            "10 iterations of epochs 725/1000\n",
            "Average recon_error: 17.093\n",
            "Average perplexity: 10.991\n",
            "\n",
            "20 iterations of epochs 725/1000\n",
            "Average recon_error: 17.182\n",
            "Average perplexity: 11.146\n",
            "\n",
            "30 iterations of epochs 725/1000"
          ]
        },
        {
          "output_type": "stream",
          "name": "stderr",
          "text": [
            "\r 72%|███████▎  | 725/1000 [01:37<00:45,  6.08it/s]"
          ]
        },
        {
          "output_type": "stream",
          "name": "stdout",
          "text": [
            "\n",
            "Average recon_error: 15.709\n",
            "Average perplexity: 11.103\n",
            "\n",
            "10 iterations of epochs 726/1000\n",
            "Average recon_error: 16.563\n",
            "Average perplexity: 10.397\n",
            "\n",
            "20 iterations of epochs 726/1000\n",
            "Average recon_error: 17.978\n",
            "Average perplexity: 10.911\n",
            "\n",
            "30 iterations of epochs 726/1000\n",
            "Average recon_error: 16.210\n",
            "Average perplexity: 10.913\n",
            "\n"
          ]
        },
        {
          "output_type": "stream",
          "name": "stderr",
          "text": [
            " 73%|███████▎  | 727/1000 [01:37<00:47,  5.71it/s]"
          ]
        },
        {
          "output_type": "stream",
          "name": "stdout",
          "text": [
            "10 iterations of epochs 727/1000\n",
            "Average recon_error: 17.418\n",
            "Average perplexity: 11.992\n",
            "\n",
            "20 iterations of epochs 727/1000\n",
            "Average recon_error: 15.671\n",
            "Average perplexity: 12.068\n",
            "\n",
            "30 iterations of epochs 727/1000\n",
            "Average recon_error: 16.556\n",
            "Average perplexity: 11.449\n",
            "\n",
            "10 iterations of epochs 728/1000\n",
            "Average recon_error: 15.736\n",
            "Average perplexity: 10.539\n",
            "\n"
          ]
        },
        {
          "output_type": "stream",
          "name": "stderr",
          "text": [
            "\r 73%|███████▎  | 728/1000 [01:38<00:48,  5.59it/s]"
          ]
        },
        {
          "output_type": "stream",
          "name": "stdout",
          "text": [
            "20 iterations of epochs 728/1000\n",
            "Average recon_error: 17.911\n",
            "Average perplexity: 11.453\n",
            "\n",
            "30 iterations of epochs 728/1000\n",
            "Average recon_error: 16.348\n",
            "Average perplexity: 12.299\n",
            "\n",
            "10 iterations of epochs 729/1000\n",
            "Average recon_error: 17.666\n",
            "Average perplexity: 11.203\n",
            "\n",
            "20 iterations of epochs 729/1000\n",
            "Average recon_error: 17.293\n",
            "Average perplexity: 11.179\n",
            "\n"
          ]
        },
        {
          "output_type": "stream",
          "name": "stderr",
          "text": [
            "\r 73%|███████▎  | 729/1000 [01:38<00:48,  5.60it/s]"
          ]
        },
        {
          "output_type": "stream",
          "name": "stdout",
          "text": [
            "30 iterations of epochs 729/1000\n",
            "Average recon_error: 17.039\n",
            "Average perplexity: 11.617\n",
            "\n",
            "10 iterations of epochs 730/1000\n",
            "Average recon_error: 15.498\n",
            "Average perplexity: 11.605\n",
            "\n",
            "20 iterations of epochs 730/1000\n",
            "Average recon_error: 16.367\n",
            "Average perplexity: 10.896\n",
            "\n",
            "30 iterations of epochs 730/1000\n",
            "Average recon_error: 17.138\n",
            "Average perplexity: 10.588\n",
            "\n"
          ]
        },
        {
          "output_type": "stream",
          "name": "stderr",
          "text": [
            " 73%|███████▎  | 731/1000 [01:38<00:48,  5.55it/s]"
          ]
        },
        {
          "output_type": "stream",
          "name": "stdout",
          "text": [
            "10 iterations of epochs 731/1000\n",
            "Average recon_error: 17.660\n",
            "Average perplexity: 10.509\n",
            "\n",
            "20 iterations of epochs 731/1000\n",
            "Average recon_error: 16.952\n",
            "Average perplexity: 10.300\n",
            "\n",
            "30 iterations of epochs 731/1000\n",
            "Average recon_error: 16.893\n",
            "Average perplexity: 10.936\n",
            "\n",
            "10 iterations of epochs 732/1000\n",
            "Average recon_error: 17.042\n",
            "Average perplexity: 11.291\n",
            "\n"
          ]
        },
        {
          "output_type": "stream",
          "name": "stderr",
          "text": [
            "\r 73%|███████▎  | 732/1000 [01:38<00:50,  5.34it/s]"
          ]
        },
        {
          "output_type": "stream",
          "name": "stdout",
          "text": [
            "20 iterations of epochs 732/1000\n",
            "Average recon_error: 16.669\n",
            "Average perplexity: 11.346\n",
            "\n",
            "30 iterations of epochs 732/1000\n",
            "Average recon_error: 15.590\n",
            "Average perplexity: 10.215\n",
            "\n",
            "10 iterations of epochs 733/1000\n",
            "Average recon_error: 16.955\n",
            "Average perplexity: 11.438\n",
            "\n"
          ]
        },
        {
          "output_type": "stream",
          "name": "stderr",
          "text": [
            "\r 73%|███████▎  | 733/1000 [01:39<00:51,  5.16it/s]"
          ]
        },
        {
          "output_type": "stream",
          "name": "stdout",
          "text": [
            "20 iterations of epochs 733/1000\n",
            "Average recon_error: 17.782\n",
            "Average perplexity: 11.674\n",
            "\n",
            "30 iterations of epochs 733/1000\n",
            "Average recon_error: 16.585\n",
            "Average perplexity: 10.948\n",
            "\n",
            "10 iterations of epochs 734/1000\n",
            "Average recon_error: 16.004\n",
            "Average perplexity: 10.862\n",
            "\n"
          ]
        },
        {
          "output_type": "stream",
          "name": "stderr",
          "text": [
            "\r 73%|███████▎  | 734/1000 [01:39<00:52,  5.09it/s]"
          ]
        },
        {
          "output_type": "stream",
          "name": "stdout",
          "text": [
            "20 iterations of epochs 734/1000\n",
            "Average recon_error: 16.787\n",
            "Average perplexity: 10.675\n",
            "\n",
            "30 iterations of epochs 734/1000\n",
            "Average recon_error: 17.603\n",
            "Average perplexity: 11.729\n",
            "\n",
            "10 iterations of epochs 735/1000\n",
            "Average recon_error: 17.454\n",
            "Average perplexity: 11.347\n",
            "\n",
            "20 iterations of epochs 735/1000\n",
            "Average recon_error: 17.208\n",
            "Average perplexity: 11.622\n",
            "\n"
          ]
        },
        {
          "output_type": "stream",
          "name": "stderr",
          "text": [
            "\r 74%|███████▎  | 735/1000 [01:39<00:51,  5.15it/s]"
          ]
        },
        {
          "output_type": "stream",
          "name": "stdout",
          "text": [
            "30 iterations of epochs 735/1000\n",
            "Average recon_error: 16.254\n",
            "Average perplexity: 10.764\n",
            "\n",
            "10 iterations of epochs 736/1000\n",
            "Average recon_error: 15.933\n",
            "Average perplexity: 12.145\n",
            "\n",
            "20 iterations of epochs 736/1000\n",
            "Average recon_error: 17.781\n",
            "Average perplexity: 10.748\n",
            "\n",
            "30 iterations of epochs 736/1000\n",
            "Average recon_error: 17.036\n",
            "Average perplexity: 11.686\n",
            "\n"
          ]
        },
        {
          "output_type": "stream",
          "name": "stderr",
          "text": [
            " 74%|███████▎  | 737/1000 [01:39<00:51,  5.13it/s]"
          ]
        },
        {
          "output_type": "stream",
          "name": "stdout",
          "text": [
            "10 iterations of epochs 737/1000\n",
            "Average recon_error: 15.400\n",
            "Average perplexity: 11.058\n",
            "\n",
            "20 iterations of epochs 737/1000\n",
            "Average recon_error: 16.589\n",
            "Average perplexity: 10.235\n",
            "\n",
            "30 iterations of epochs 737/1000\n",
            "Average recon_error: 18.554\n",
            "Average perplexity: 11.158\n",
            "\n",
            "10 iterations of epochs 738/1000\n",
            "Average recon_error: 15.715\n",
            "Average perplexity: 10.599\n",
            "\n"
          ]
        },
        {
          "output_type": "stream",
          "name": "stderr",
          "text": [
            " 74%|███████▍  | 739/1000 [01:40<00:45,  5.77it/s]"
          ]
        },
        {
          "output_type": "stream",
          "name": "stdout",
          "text": [
            "20 iterations of epochs 738/1000\n",
            "Average recon_error: 16.391\n",
            "Average perplexity: 10.380\n",
            "\n",
            "30 iterations of epochs 738/1000\n",
            "Average recon_error: 16.341\n",
            "Average perplexity: 11.562\n",
            "\n",
            "10 iterations of epochs 739/1000\n",
            "Average recon_error: 16.568\n",
            "Average perplexity: 11.164\n",
            "\n",
            "20 iterations of epochs 739/1000\n",
            "Average recon_error: 15.907\n",
            "Average perplexity: 11.280\n",
            "\n",
            "30 iterations of epochs 739/1000\n",
            "Average recon_error: 16.360\n",
            "Average perplexity: 10.875\n",
            "\n"
          ]
        },
        {
          "output_type": "stream",
          "name": "stderr",
          "text": [
            "\r 74%|███████▍  | 740/1000 [01:40<00:41,  6.23it/s]"
          ]
        },
        {
          "output_type": "stream",
          "name": "stdout",
          "text": [
            "10 iterations of epochs 740/1000\n",
            "Average recon_error: 16.702\n",
            "Average perplexity: 11.525\n",
            "\n",
            "20 iterations of epochs 740/1000\n",
            "Average recon_error: 16.922\n",
            "Average perplexity: 11.589\n",
            "\n",
            "30 iterations of epochs 740/1000\n",
            "Average recon_error: 16.440\n",
            "Average perplexity: 10.668\n",
            "\n",
            "10 iterations of epochs 741/1000\n",
            "Average recon_error: 16.670\n",
            "Average perplexity: 10.914\n",
            "\n",
            "20 iterations of epochs 741/1000\n",
            "Average recon_error: 16.948\n",
            "Average perplexity: 12.050\n",
            "\n",
            "30 iterations of epochs 741/1000\n",
            "Average recon_error: 15.711\n",
            "Average perplexity: 10.595\n",
            "\n"
          ]
        },
        {
          "output_type": "stream",
          "name": "stderr",
          "text": [
            " 74%|███████▍  | 742/1000 [01:40<00:37,  6.83it/s]"
          ]
        },
        {
          "output_type": "stream",
          "name": "stdout",
          "text": [
            "10 iterations of epochs 742/1000\n",
            "Average recon_error: 17.461\n",
            "Average perplexity: 10.239\n",
            "\n",
            "20 iterations of epochs 742/1000\n",
            "Average recon_error: 17.027\n",
            "Average perplexity: 10.236\n",
            "\n",
            "30 iterations of epochs 742/1000\n",
            "Average recon_error: 16.552\n",
            "Average perplexity: 10.717\n",
            "\n",
            "10 iterations of epochs 743/1000\n",
            "Average recon_error: 18.266\n",
            "Average perplexity: 11.542\n",
            "\n",
            "20 iterations of epochs 743/1000\n",
            "Average recon_error: 18.255\n",
            "Average perplexity: 11.153\n",
            "\n",
            "30 iterations of epochs 743/1000\n",
            "Average recon_error: 15.931\n",
            "Average perplexity: 11.198\n",
            "\n"
          ]
        },
        {
          "output_type": "stream",
          "name": "stderr",
          "text": [
            " 74%|███████▍  | 744/1000 [01:40<00:35,  7.25it/s]"
          ]
        },
        {
          "output_type": "stream",
          "name": "stdout",
          "text": [
            "10 iterations of epochs 744/1000\n",
            "Average recon_error: 16.149\n",
            "Average perplexity: 10.655\n",
            "\n",
            "20 iterations of epochs 744/1000\n",
            "Average recon_error: 16.235\n",
            "Average perplexity: 11.358\n",
            "\n",
            "30 iterations of epochs 744/1000\n",
            "Average recon_error: 16.369\n",
            "Average perplexity: 10.882\n",
            "\n",
            "10 iterations of epochs 745/1000\n",
            "Average recon_error: 16.817\n",
            "Average perplexity: 10.397\n",
            "\n",
            "20 iterations of epochs 745/1000\n",
            "Average recon_error: 18.755\n",
            "Average perplexity: 11.187\n",
            "\n",
            "30 iterations of epochs 745/1000\n",
            "Average recon_error: 16.603\n",
            "Average perplexity: 11.715\n",
            "\n"
          ]
        },
        {
          "output_type": "stream",
          "name": "stderr",
          "text": [
            " 75%|███████▍  | 746/1000 [01:41<00:34,  7.36it/s]"
          ]
        },
        {
          "output_type": "stream",
          "name": "stdout",
          "text": [
            "10 iterations of epochs 746/1000\n",
            "Average recon_error: 16.883\n",
            "Average perplexity: 11.249\n",
            "\n",
            "20 iterations of epochs 746/1000\n",
            "Average recon_error: 17.856\n",
            "Average perplexity: 11.952\n",
            "\n",
            "30 iterations of epochs 746/1000\n",
            "Average recon_error: 16.882\n",
            "Average perplexity: 10.447\n",
            "\n",
            "10 iterations of epochs 747/1000\n",
            "Average recon_error: 16.591\n",
            "Average perplexity: 10.411\n",
            "\n",
            "20 iterations of epochs 747/1000\n",
            "Average recon_error: 16.410\n",
            "Average perplexity: 10.881\n",
            "\n",
            "30 iterations of epochs 747/1000"
          ]
        },
        {
          "output_type": "stream",
          "name": "stderr",
          "text": [
            " 75%|███████▍  | 748/1000 [01:41<00:33,  7.48it/s]"
          ]
        },
        {
          "output_type": "stream",
          "name": "stdout",
          "text": [
            "\n",
            "Average recon_error: 17.559\n",
            "Average perplexity: 11.105\n",
            "\n",
            "10 iterations of epochs 748/1000\n",
            "Average recon_error: 18.070\n",
            "Average perplexity: 10.791\n",
            "\n",
            "20 iterations of epochs 748/1000\n",
            "Average recon_error: 17.193\n",
            "Average perplexity: 11.345\n",
            "\n",
            "30 iterations of epochs 748/1000\n",
            "Average recon_error: 15.970\n",
            "Average perplexity: 11.035\n",
            "\n",
            "10 iterations of epochs 749/1000\n",
            "Average recon_error: 16.257\n",
            "Average perplexity: 10.667\n",
            "\n"
          ]
        },
        {
          "output_type": "stream",
          "name": "stderr",
          "text": [
            " 75%|███████▌  | 750/1000 [01:41<00:32,  7.67it/s]"
          ]
        },
        {
          "output_type": "stream",
          "name": "stdout",
          "text": [
            "20 iterations of epochs 749/1000\n",
            "Average recon_error: 18.019\n",
            "Average perplexity: 10.596\n",
            "\n",
            "30 iterations of epochs 749/1000\n",
            "Average recon_error: 16.877\n",
            "Average perplexity: 11.533\n",
            "\n",
            "10 iterations of epochs 750/1000\n",
            "Average recon_error: 15.808\n",
            "Average perplexity: 11.843\n",
            "\n",
            "20 iterations of epochs 750/1000\n",
            "Average recon_error: 17.227\n",
            "Average perplexity: 11.860\n",
            "\n",
            "30 iterations of epochs 750/1000\n",
            "Average recon_error: 17.162\n",
            "Average perplexity: 10.999\n",
            "\n"
          ]
        },
        {
          "output_type": "stream",
          "name": "stderr",
          "text": [
            "\r 75%|███████▌  | 751/1000 [01:41<00:32,  7.62it/s]"
          ]
        },
        {
          "output_type": "stream",
          "name": "stdout",
          "text": [
            "10 iterations of epochs 751/1000\n",
            "Average recon_error: 16.595\n",
            "Average perplexity: 11.472\n",
            "\n",
            "20 iterations of epochs 751/1000\n",
            "Average recon_error: 16.641\n",
            "Average perplexity: 11.362\n",
            "\n",
            "30 iterations of epochs 751/1000\n",
            "Average recon_error: 16.470\n",
            "Average perplexity: 10.776\n",
            "\n",
            "10 iterations of epochs 752/1000\n",
            "Average recon_error: 16.950\n",
            "Average perplexity: 11.409\n",
            "\n",
            "20 iterations of epochs 752/1000\n",
            "Average recon_error: 18.483\n",
            "Average perplexity: 11.011\n",
            "\n",
            "30 iterations of epochs 752/1000\n",
            "Average recon_error: 17.449\n",
            "Average perplexity: 11.484\n",
            "\n"
          ]
        },
        {
          "output_type": "stream",
          "name": "stderr",
          "text": [
            " 75%|███████▌  | 753/1000 [01:42<00:32,  7.54it/s]"
          ]
        },
        {
          "output_type": "stream",
          "name": "stdout",
          "text": [
            "10 iterations of epochs 753/1000\n",
            "Average recon_error: 16.762\n",
            "Average perplexity: 11.307\n",
            "\n",
            "20 iterations of epochs 753/1000\n",
            "Average recon_error: 17.175\n",
            "Average perplexity: 10.702\n",
            "\n",
            "30 iterations of epochs 753/1000\n",
            "Average recon_error: 16.891\n",
            "Average perplexity: 11.060\n",
            "\n",
            "10 iterations of epochs 754/1000\n",
            "Average recon_error: 16.270\n",
            "Average perplexity: 11.288\n",
            "\n",
            "20 iterations of epochs 754/1000\n",
            "Average recon_error: 15.312\n",
            "Average perplexity: 10.674\n",
            "\n",
            "30 iterations of epochs 754/1000\n",
            "Average recon_error: 18.714\n",
            "Average perplexity: 11.747\n",
            "\n"
          ]
        },
        {
          "output_type": "stream",
          "name": "stderr",
          "text": [
            " 76%|███████▌  | 755/1000 [01:42<00:31,  7.66it/s]"
          ]
        },
        {
          "output_type": "stream",
          "name": "stdout",
          "text": [
            "10 iterations of epochs 755/1000\n",
            "Average recon_error: 17.090\n",
            "Average perplexity: 11.273\n",
            "\n",
            "20 iterations of epochs 755/1000\n",
            "Average recon_error: 16.799\n",
            "Average perplexity: 11.807\n",
            "\n",
            "30 iterations of epochs 755/1000\n",
            "Average recon_error: 17.164\n",
            "Average perplexity: 11.490\n",
            "\n",
            "10 iterations of epochs 756/1000\n",
            "Average recon_error: 16.006\n",
            "Average perplexity: 11.495\n",
            "\n",
            "20 iterations of epochs 756/1000\n",
            "Average recon_error: 18.045\n",
            "Average perplexity: 11.700\n",
            "\n",
            "30 iterations of epochs 756/1000\n",
            "Average recon_error: 15.606\n",
            "Average perplexity: 10.985\n",
            "\n"
          ]
        },
        {
          "output_type": "stream",
          "name": "stderr",
          "text": [
            " 76%|███████▌  | 757/1000 [01:42<00:31,  7.66it/s]"
          ]
        },
        {
          "output_type": "stream",
          "name": "stdout",
          "text": [
            "10 iterations of epochs 757/1000\n",
            "Average recon_error: 15.725\n",
            "Average perplexity: 11.029\n",
            "\n",
            "20 iterations of epochs 757/1000\n",
            "Average recon_error: 16.298\n",
            "Average perplexity: 10.301\n",
            "\n",
            "30 iterations of epochs 757/1000\n",
            "Average recon_error: 16.300\n",
            "Average perplexity: 11.164\n",
            "\n",
            "10 iterations of epochs 758/1000\n",
            "Average recon_error: 17.404\n",
            "Average perplexity: 11.263\n",
            "\n",
            "20 iterations of epochs 758/1000\n",
            "Average recon_error: 16.116\n",
            "Average perplexity: 11.309\n",
            "\n",
            "30 iterations of epochs 758/1000\n",
            "Average recon_error: 16.042\n",
            "Average perplexity: 10.612\n",
            "\n"
          ]
        },
        {
          "output_type": "stream",
          "name": "stderr",
          "text": [
            " 76%|███████▌  | 759/1000 [01:42<00:31,  7.58it/s]"
          ]
        },
        {
          "output_type": "stream",
          "name": "stdout",
          "text": [
            "10 iterations of epochs 759/1000\n",
            "Average recon_error: 18.564\n",
            "Average perplexity: 10.499\n",
            "\n",
            "20 iterations of epochs 759/1000\n",
            "Average recon_error: 16.685\n",
            "Average perplexity: 10.540\n",
            "\n",
            "30 iterations of epochs 759/1000\n",
            "Average recon_error: 16.922\n",
            "Average perplexity: 11.084\n",
            "\n",
            "10 iterations of epochs 760/1000\n",
            "Average recon_error: 15.756\n",
            "Average perplexity: 11.533\n",
            "\n",
            "20 iterations of epochs 760/1000\n",
            "Average recon_error: 16.421\n",
            "Average perplexity: 11.415\n",
            "\n"
          ]
        },
        {
          "output_type": "stream",
          "name": "stderr",
          "text": [
            " 76%|███████▌  | 761/1000 [01:43<00:32,  7.42it/s]"
          ]
        },
        {
          "output_type": "stream",
          "name": "stdout",
          "text": [
            "30 iterations of epochs 760/1000\n",
            "Average recon_error: 16.061\n",
            "Average perplexity: 10.929\n",
            "\n",
            "10 iterations of epochs 761/1000\n",
            "Average recon_error: 17.061\n",
            "Average perplexity: 11.449\n",
            "\n",
            "20 iterations of epochs 761/1000\n",
            "Average recon_error: 18.126\n",
            "Average perplexity: 10.479\n",
            "\n",
            "30 iterations of epochs 761/1000\n",
            "Average recon_error: 17.442\n",
            "Average perplexity: 10.984\n",
            "\n"
          ]
        },
        {
          "output_type": "stream",
          "name": "stderr",
          "text": [
            "\r 76%|███████▌  | 762/1000 [01:43<00:33,  7.21it/s]"
          ]
        },
        {
          "output_type": "stream",
          "name": "stdout",
          "text": [
            "10 iterations of epochs 762/1000\n",
            "Average recon_error: 17.383\n",
            "Average perplexity: 11.532\n",
            "\n",
            "20 iterations of epochs 762/1000\n",
            "Average recon_error: 17.321\n",
            "Average perplexity: 11.105\n",
            "\n",
            "30 iterations of epochs 762/1000\n",
            "Average recon_error: 16.832\n",
            "Average perplexity: 11.146\n",
            "\n",
            "10 iterations of epochs 763/1000\n",
            "Average recon_error: 17.045\n",
            "Average perplexity: 11.254\n",
            "\n",
            "20 iterations of epochs 763/1000\n",
            "Average recon_error: 15.819\n",
            "Average perplexity: 11.849\n",
            "\n",
            "30 iterations of epochs 763/1000\n",
            "Average recon_error: 16.199\n",
            "Average perplexity: 11.069\n",
            "\n"
          ]
        },
        {
          "output_type": "stream",
          "name": "stderr",
          "text": [
            " 76%|███████▋  | 764/1000 [01:43<00:31,  7.57it/s]"
          ]
        },
        {
          "output_type": "stream",
          "name": "stdout",
          "text": [
            "10 iterations of epochs 764/1000\n",
            "Average recon_error: 16.436\n",
            "Average perplexity: 9.704\n",
            "\n",
            "20 iterations of epochs 764/1000\n",
            "Average recon_error: 16.590\n",
            "Average perplexity: 12.073\n",
            "\n",
            "30 iterations of epochs 764/1000\n",
            "Average recon_error: 15.947\n",
            "Average perplexity: 10.740\n",
            "\n",
            "10 iterations of epochs 765/1000\n",
            "Average recon_error: 17.513\n",
            "Average perplexity: 10.857\n",
            "\n",
            "20 iterations of epochs 765/1000\n",
            "Average recon_error: 16.223\n",
            "Average perplexity: 11.280\n",
            "\n",
            "30 iterations of epochs 765/1000\n",
            "Average recon_error: 17.212\n",
            "Average perplexity: 11.277\n",
            "\n"
          ]
        },
        {
          "output_type": "stream",
          "name": "stderr",
          "text": [
            " 77%|███████▋  | 766/1000 [01:43<00:30,  7.62it/s]"
          ]
        },
        {
          "output_type": "stream",
          "name": "stdout",
          "text": [
            "10 iterations of epochs 766/1000\n",
            "Average recon_error: 17.491\n",
            "Average perplexity: 11.460\n",
            "\n",
            "20 iterations of epochs 766/1000\n",
            "Average recon_error: 16.221\n",
            "Average perplexity: 10.369\n",
            "\n",
            "30 iterations of epochs 766/1000\n",
            "Average recon_error: 17.961\n",
            "Average perplexity: 10.505\n",
            "\n",
            "10 iterations of epochs 767/1000\n",
            "Average recon_error: 17.811\n",
            "Average perplexity: 10.154\n",
            "\n",
            "20 iterations of epochs 767/1000\n",
            "Average recon_error: 15.407\n",
            "Average perplexity: 11.549\n",
            "\n",
            "30 iterations of epochs 767/1000\n",
            "Average recon_error: 17.003\n",
            "Average perplexity: 10.859\n",
            "\n"
          ]
        },
        {
          "output_type": "stream",
          "name": "stderr",
          "text": [
            " 77%|███████▋  | 768/1000 [01:44<00:30,  7.72it/s]"
          ]
        },
        {
          "output_type": "stream",
          "name": "stdout",
          "text": [
            "10 iterations of epochs 768/1000\n",
            "Average recon_error: 17.053\n",
            "Average perplexity: 11.242\n",
            "\n",
            "20 iterations of epochs 768/1000\n",
            "Average recon_error: 16.657\n",
            "Average perplexity: 11.626\n",
            "\n",
            "30 iterations of epochs 768/1000\n",
            "Average recon_error: 16.837\n",
            "Average perplexity: 10.887\n",
            "\n",
            "10 iterations of epochs 769/1000\n",
            "Average recon_error: 16.166\n",
            "Average perplexity: 11.042\n",
            "\n",
            "20 iterations of epochs 769/1000\n",
            "Average recon_error: 16.789\n",
            "Average perplexity: 11.037\n",
            "\n",
            "30 iterations of epochs 769/1000\n",
            "Average recon_error: 17.383\n",
            "Average perplexity: 10.851\n",
            "\n"
          ]
        },
        {
          "output_type": "stream",
          "name": "stderr",
          "text": [
            " 77%|███████▋  | 770/1000 [01:44<00:31,  7.37it/s]"
          ]
        },
        {
          "output_type": "stream",
          "name": "stdout",
          "text": [
            "10 iterations of epochs 770/1000\n",
            "Average recon_error: 17.496\n",
            "Average perplexity: 10.359\n",
            "\n",
            "20 iterations of epochs 770/1000\n",
            "Average recon_error: 17.384\n",
            "Average perplexity: 10.802\n",
            "\n",
            "30 iterations of epochs 770/1000\n",
            "Average recon_error: 16.043\n",
            "Average perplexity: 11.707\n",
            "\n",
            "10 iterations of epochs 771/1000\n",
            "Average recon_error: 18.626\n",
            "Average perplexity: 10.525\n",
            "\n"
          ]
        },
        {
          "output_type": "stream",
          "name": "stderr",
          "text": [
            "\r 77%|███████▋  | 771/1000 [01:44<00:38,  5.92it/s]"
          ]
        },
        {
          "output_type": "stream",
          "name": "stdout",
          "text": [
            "20 iterations of epochs 771/1000\n",
            "Average recon_error: 17.577\n",
            "Average perplexity: 10.892\n",
            "\n",
            "30 iterations of epochs 771/1000\n",
            "Average recon_error: 17.882\n",
            "Average perplexity: 11.950\n",
            "\n",
            "10 iterations of epochs 772/1000\n",
            "Average recon_error: 16.392\n",
            "Average perplexity: 10.660\n",
            "\n",
            "20 iterations of epochs 772/1000\n",
            "Average recon_error: 17.035\n",
            "Average perplexity: 11.763\n",
            "\n",
            "30 iterations of epochs 772/1000\n",
            "Average recon_error: 16.251\n",
            "Average perplexity: 12.047\n",
            "\n"
          ]
        },
        {
          "output_type": "stream",
          "name": "stderr",
          "text": [
            " 77%|███████▋  | 773/1000 [01:44<00:34,  6.65it/s]"
          ]
        },
        {
          "output_type": "stream",
          "name": "stdout",
          "text": [
            "10 iterations of epochs 773/1000\n",
            "Average recon_error: 15.945\n",
            "Average perplexity: 11.166\n",
            "\n",
            "20 iterations of epochs 773/1000\n",
            "Average recon_error: 19.036\n",
            "Average perplexity: 11.990\n",
            "\n",
            "30 iterations of epochs 773/1000\n",
            "Average recon_error: 18.342\n",
            "Average perplexity: 10.083\n",
            "\n",
            "10 iterations of epochs 774/1000\n",
            "Average recon_error: 16.402\n",
            "Average perplexity: 10.856\n",
            "\n",
            "20 iterations of epochs 774/1000\n",
            "Average recon_error: 15.753\n",
            "Average perplexity: 10.380\n",
            "\n",
            "30 iterations of epochs 774/1000\n",
            "Average recon_error: 16.503\n",
            "Average perplexity: 11.435\n",
            "\n"
          ]
        },
        {
          "output_type": "stream",
          "name": "stderr",
          "text": [
            " 78%|███████▊  | 775/1000 [01:45<00:31,  7.07it/s]"
          ]
        },
        {
          "output_type": "stream",
          "name": "stdout",
          "text": [
            "10 iterations of epochs 775/1000\n",
            "Average recon_error: 16.719\n",
            "Average perplexity: 12.118\n",
            "\n",
            "20 iterations of epochs 775/1000\n",
            "Average recon_error: 18.001\n",
            "Average perplexity: 11.223\n",
            "\n",
            "30 iterations of epochs 775/1000\n",
            "Average recon_error: 16.865\n",
            "Average perplexity: 11.596\n",
            "\n",
            "10 iterations of epochs 776/1000\n",
            "Average recon_error: 18.203\n",
            "Average perplexity: 10.423\n",
            "\n",
            "20 iterations of epochs 776/1000\n",
            "Average recon_error: 16.943\n",
            "Average perplexity: 11.159\n",
            "\n",
            "30 iterations of epochs 776/1000\n",
            "Average recon_error: 17.647\n",
            "Average perplexity: 10.687\n",
            "\n"
          ]
        },
        {
          "output_type": "stream",
          "name": "stderr",
          "text": [
            " 78%|███████▊  | 777/1000 [01:45<00:30,  7.26it/s]"
          ]
        },
        {
          "output_type": "stream",
          "name": "stdout",
          "text": [
            "10 iterations of epochs 777/1000\n",
            "Average recon_error: 16.469\n",
            "Average perplexity: 11.189\n",
            "\n",
            "20 iterations of epochs 777/1000\n",
            "Average recon_error: 15.978\n",
            "Average perplexity: 10.838\n",
            "\n",
            "30 iterations of epochs 777/1000\n",
            "Average recon_error: 18.322\n",
            "Average perplexity: 10.594\n",
            "\n",
            "10 iterations of epochs 778/1000\n",
            "Average recon_error: 16.039\n",
            "Average perplexity: 10.937\n",
            "\n",
            "20 iterations of epochs 778/1000\n",
            "Average recon_error: 15.893\n",
            "Average perplexity: 11.078\n",
            "\n",
            "30 iterations of epochs 778/1000\n",
            "Average recon_error: 18.053\n",
            "Average perplexity: 10.875\n",
            "\n"
          ]
        },
        {
          "output_type": "stream",
          "name": "stderr",
          "text": [
            " 78%|███████▊  | 779/1000 [01:45<00:29,  7.45it/s]"
          ]
        },
        {
          "output_type": "stream",
          "name": "stdout",
          "text": [
            "10 iterations of epochs 779/1000\n",
            "Average recon_error: 16.776\n",
            "Average perplexity: 10.774\n",
            "\n",
            "20 iterations of epochs 779/1000\n",
            "Average recon_error: 17.417\n",
            "Average perplexity: 11.203\n",
            "\n",
            "30 iterations of epochs 779/1000\n",
            "Average recon_error: 15.202\n",
            "Average perplexity: 11.603\n",
            "\n",
            "10 iterations of epochs 780/1000\n",
            "Average recon_error: 17.487\n",
            "Average perplexity: 11.125\n",
            "\n",
            "20 iterations of epochs 780/1000\n",
            "Average recon_error: 15.908\n",
            "Average perplexity: 11.624\n",
            "\n",
            "30 iterations of epochs 780/1000\n",
            "Average recon_error: 18.718\n",
            "Average perplexity: 11.832\n",
            "\n"
          ]
        },
        {
          "output_type": "stream",
          "name": "stderr",
          "text": [
            " 78%|███████▊  | 781/1000 [01:45<00:29,  7.49it/s]"
          ]
        },
        {
          "output_type": "stream",
          "name": "stdout",
          "text": [
            "10 iterations of epochs 781/1000\n",
            "Average recon_error: 17.537\n",
            "Average perplexity: 11.259\n",
            "\n",
            "20 iterations of epochs 781/1000\n",
            "Average recon_error: 18.707\n",
            "Average perplexity: 12.298\n",
            "\n",
            "30 iterations of epochs 781/1000\n",
            "Average recon_error: 16.092\n",
            "Average perplexity: 10.771\n",
            "\n",
            "10 iterations of epochs 782/1000\n",
            "Average recon_error: 17.900\n",
            "Average perplexity: 11.552\n",
            "\n",
            "20 iterations of epochs 782/1000\n",
            "Average recon_error: 16.815\n",
            "Average perplexity: 11.427\n",
            "\n",
            "30 iterations of epochs 782/1000\n",
            "Average recon_error: 16.279\n",
            "Average perplexity: 11.599\n",
            "\n"
          ]
        },
        {
          "output_type": "stream",
          "name": "stderr",
          "text": [
            " 78%|███████▊  | 783/1000 [01:46<00:27,  7.78it/s]"
          ]
        },
        {
          "output_type": "stream",
          "name": "stdout",
          "text": [
            "10 iterations of epochs 783/1000\n",
            "Average recon_error: 16.535\n",
            "Average perplexity: 10.866\n",
            "\n",
            "20 iterations of epochs 783/1000\n",
            "Average recon_error: 17.911\n",
            "Average perplexity: 11.209\n",
            "\n",
            "30 iterations of epochs 783/1000\n",
            "Average recon_error: 17.251\n",
            "Average perplexity: 10.816\n",
            "\n",
            "10 iterations of epochs 784/1000\n",
            "Average recon_error: 17.250\n",
            "Average perplexity: 10.929\n",
            "\n",
            "20 iterations of epochs 784/1000\n",
            "Average recon_error: 17.860\n",
            "Average perplexity: 10.180\n",
            "\n",
            "30 iterations of epochs 784/1000\n",
            "Average recon_error: 16.829\n",
            "Average perplexity: 10.811\n",
            "\n"
          ]
        },
        {
          "output_type": "stream",
          "name": "stderr",
          "text": [
            " 78%|███████▊  | 785/1000 [01:46<00:28,  7.60it/s]"
          ]
        },
        {
          "output_type": "stream",
          "name": "stdout",
          "text": [
            "10 iterations of epochs 785/1000\n",
            "Average recon_error: 17.426\n",
            "Average perplexity: 10.549\n",
            "\n",
            "20 iterations of epochs 785/1000\n",
            "Average recon_error: 17.722\n",
            "Average perplexity: 10.985\n",
            "\n",
            "30 iterations of epochs 785/1000\n",
            "Average recon_error: 14.909\n",
            "Average perplexity: 10.971\n",
            "\n",
            "10 iterations of epochs 786/1000\n",
            "Average recon_error: 18.499\n",
            "Average perplexity: 10.508\n",
            "\n",
            "20 iterations of epochs 786/1000\n",
            "Average recon_error: 16.997\n",
            "Average perplexity: 11.282\n",
            "\n",
            "30 iterations of epochs 786/1000\n",
            "Average recon_error: 16.211\n",
            "Average perplexity: 11.487\n",
            "\n"
          ]
        },
        {
          "output_type": "stream",
          "name": "stderr",
          "text": [
            " 79%|███████▊  | 787/1000 [01:46<00:27,  7.63it/s]"
          ]
        },
        {
          "output_type": "stream",
          "name": "stdout",
          "text": [
            "10 iterations of epochs 787/1000\n",
            "Average recon_error: 16.803\n",
            "Average perplexity: 10.551\n",
            "\n",
            "20 iterations of epochs 787/1000\n",
            "Average recon_error: 16.697\n",
            "Average perplexity: 11.819\n",
            "\n",
            "30 iterations of epochs 787/1000\n",
            "Average recon_error: 16.431\n",
            "Average perplexity: 10.169\n",
            "\n",
            "10 iterations of epochs 788/1000\n",
            "Average recon_error: 17.957\n",
            "Average perplexity: 11.164\n",
            "\n",
            "20 iterations of epochs 788/1000\n",
            "Average recon_error: 15.341\n",
            "Average perplexity: 11.354\n",
            "\n",
            "30 iterations of epochs 788/1000\n",
            "Average recon_error: 16.980\n",
            "Average perplexity: 10.812\n",
            "\n"
          ]
        },
        {
          "output_type": "stream",
          "name": "stderr",
          "text": [
            " 79%|███████▉  | 789/1000 [01:46<00:27,  7.67it/s]"
          ]
        },
        {
          "output_type": "stream",
          "name": "stdout",
          "text": [
            "10 iterations of epochs 789/1000\n",
            "Average recon_error: 18.238\n",
            "Average perplexity: 10.333\n",
            "\n",
            "20 iterations of epochs 789/1000\n",
            "Average recon_error: 16.659\n",
            "Average perplexity: 10.945\n",
            "\n",
            "30 iterations of epochs 789/1000\n",
            "Average recon_error: 17.327\n",
            "Average perplexity: 11.274\n",
            "\n",
            "10 iterations of epochs 790/1000\n",
            "Average recon_error: 16.358\n",
            "Average perplexity: 11.588\n",
            "\n",
            "20 iterations of epochs 790/1000\n",
            "Average recon_error: 15.947\n",
            "Average perplexity: 11.626\n",
            "\n",
            "30 iterations of epochs 790/1000\n",
            "Average recon_error: 16.092\n",
            "Average perplexity: 11.539\n",
            "\n"
          ]
        },
        {
          "output_type": "stream",
          "name": "stderr",
          "text": [
            " 79%|███████▉  | 791/1000 [01:47<00:27,  7.67it/s]"
          ]
        },
        {
          "output_type": "stream",
          "name": "stdout",
          "text": [
            "10 iterations of epochs 791/1000\n",
            "Average recon_error: 16.590\n",
            "Average perplexity: 10.558\n",
            "\n",
            "20 iterations of epochs 791/1000\n",
            "Average recon_error: 16.305\n",
            "Average perplexity: 10.608\n",
            "\n",
            "30 iterations of epochs 791/1000\n",
            "Average recon_error: 18.217\n",
            "Average perplexity: 11.849\n",
            "\n",
            "10 iterations of epochs 792/1000\n",
            "Average recon_error: 15.866\n",
            "Average perplexity: 11.199\n",
            "\n",
            "20 iterations of epochs 792/1000\n",
            "Average recon_error: 16.717\n",
            "Average perplexity: 11.368\n",
            "\n",
            "30 iterations of epochs 792/1000\n",
            "Average recon_error: 18.397\n",
            "Average perplexity: 10.299\n",
            "\n"
          ]
        },
        {
          "output_type": "stream",
          "name": "stderr",
          "text": [
            " 79%|███████▉  | 793/1000 [01:47<00:27,  7.60it/s]"
          ]
        },
        {
          "output_type": "stream",
          "name": "stdout",
          "text": [
            "10 iterations of epochs 793/1000\n",
            "Average recon_error: 16.947\n",
            "Average perplexity: 11.001\n",
            "\n",
            "20 iterations of epochs 793/1000\n",
            "Average recon_error: 18.842\n",
            "Average perplexity: 10.406\n",
            "\n",
            "30 iterations of epochs 793/1000\n",
            "Average recon_error: 17.201\n",
            "Average perplexity: 11.427\n",
            "\n",
            "10 iterations of epochs 794/1000\n",
            "Average recon_error: 15.821\n",
            "Average perplexity: 11.042\n",
            "\n",
            "20 iterations of epochs 794/1000\n",
            "Average recon_error: 17.295\n",
            "Average perplexity: 10.834\n",
            "\n",
            "30 iterations of epochs 794/1000\n",
            "Average recon_error: 17.925\n",
            "Average perplexity: 11.395\n",
            "\n"
          ]
        },
        {
          "output_type": "stream",
          "name": "stderr",
          "text": [
            " 80%|███████▉  | 795/1000 [01:47<00:27,  7.49it/s]"
          ]
        },
        {
          "output_type": "stream",
          "name": "stdout",
          "text": [
            "10 iterations of epochs 795/1000\n",
            "Average recon_error: 16.638\n",
            "Average perplexity: 10.798\n",
            "\n",
            "20 iterations of epochs 795/1000\n",
            "Average recon_error: 16.439\n",
            "Average perplexity: 11.575\n",
            "\n",
            "30 iterations of epochs 795/1000\n",
            "Average recon_error: 17.729\n",
            "Average perplexity: 12.047\n",
            "\n",
            "10 iterations of epochs 796/1000\n",
            "Average recon_error: 15.786\n",
            "Average perplexity: 11.445\n",
            "\n",
            "20 iterations of epochs 796/1000\n",
            "Average recon_error: 17.206\n",
            "Average perplexity: 11.222\n",
            "\n",
            "30 iterations of epochs 796/1000\n",
            "Average recon_error: 17.241\n",
            "Average perplexity: 10.139\n",
            "\n"
          ]
        },
        {
          "output_type": "stream",
          "name": "stderr",
          "text": [
            " 80%|███████▉  | 797/1000 [01:48<00:26,  7.57it/s]"
          ]
        },
        {
          "output_type": "stream",
          "name": "stdout",
          "text": [
            "10 iterations of epochs 797/1000\n",
            "Average recon_error: 18.004\n",
            "Average perplexity: 10.371\n",
            "\n",
            "20 iterations of epochs 797/1000\n",
            "Average recon_error: 16.622\n",
            "Average perplexity: 11.807\n",
            "\n",
            "30 iterations of epochs 797/1000\n",
            "Average recon_error: 16.323\n",
            "Average perplexity: 10.845\n",
            "\n",
            "10 iterations of epochs 798/1000\n",
            "Average recon_error: 15.693\n",
            "Average perplexity: 11.259\n",
            "\n",
            "20 iterations of epochs 798/1000\n",
            "Average recon_error: 16.528\n",
            "Average perplexity: 11.598\n",
            "\n",
            "30 iterations of epochs 798/1000\n",
            "Average recon_error: 16.019\n",
            "Average perplexity: 10.660\n",
            "\n"
          ]
        },
        {
          "output_type": "stream",
          "name": "stderr",
          "text": [
            " 80%|███████▉  | 799/1000 [01:48<00:26,  7.68it/s]"
          ]
        },
        {
          "output_type": "stream",
          "name": "stdout",
          "text": [
            "10 iterations of epochs 799/1000\n",
            "Average recon_error: 16.941\n",
            "Average perplexity: 10.497\n",
            "\n",
            "20 iterations of epochs 799/1000\n",
            "Average recon_error: 15.538\n",
            "Average perplexity: 11.591\n",
            "\n",
            "30 iterations of epochs 799/1000\n",
            "Average recon_error: 18.331\n",
            "Average perplexity: 11.116\n",
            "\n",
            "10 iterations of epochs 800/1000\n",
            "Average recon_error: 15.348\n",
            "Average perplexity: 11.049\n",
            "\n",
            "20 iterations of epochs 800/1000\n",
            "Average recon_error: 17.320\n",
            "Average perplexity: 11.185\n",
            "\n",
            "30 iterations of epochs 800/1000\n",
            "Average recon_error: 16.583\n",
            "Average perplexity: 11.253\n",
            "\n"
          ]
        },
        {
          "output_type": "stream",
          "name": "stderr",
          "text": [
            " 80%|████████  | 801/1000 [01:48<00:26,  7.45it/s]"
          ]
        },
        {
          "output_type": "stream",
          "name": "stdout",
          "text": [
            "10 iterations of epochs 801/1000\n",
            "Average recon_error: 16.528\n",
            "Average perplexity: 11.051\n",
            "\n",
            "20 iterations of epochs 801/1000\n",
            "Average recon_error: 18.495\n",
            "Average perplexity: 11.462\n",
            "\n",
            "30 iterations of epochs 801/1000\n",
            "Average recon_error: 16.717\n",
            "Average perplexity: 10.275\n",
            "\n",
            "10 iterations of epochs 802/1000\n",
            "Average recon_error: 16.157\n",
            "Average perplexity: 11.467\n",
            "\n",
            "20 iterations of epochs 802/1000\n",
            "Average recon_error: 17.581\n",
            "Average perplexity: 10.415\n",
            "\n",
            "30 iterations of epochs 802/1000\n",
            "Average recon_error: 17.231\n",
            "Average perplexity: 10.637\n",
            "\n"
          ]
        },
        {
          "output_type": "stream",
          "name": "stderr",
          "text": [
            " 80%|████████  | 803/1000 [01:48<00:26,  7.43it/s]"
          ]
        },
        {
          "output_type": "stream",
          "name": "stdout",
          "text": [
            "10 iterations of epochs 803/1000\n",
            "Average recon_error: 17.593\n",
            "Average perplexity: 11.305\n",
            "\n",
            "20 iterations of epochs 803/1000\n",
            "Average recon_error: 16.657\n",
            "Average perplexity: 10.760\n",
            "\n",
            "30 iterations of epochs 803/1000\n",
            "Average recon_error: 17.102\n",
            "Average perplexity: 11.349\n",
            "\n",
            "10 iterations of epochs 804/1000\n",
            "Average recon_error: 16.577\n",
            "Average perplexity: 10.745\n",
            "\n",
            "20 iterations of epochs 804/1000\n",
            "Average recon_error: 18.026\n",
            "Average perplexity: 11.440\n",
            "\n",
            "30 iterations of epochs 804/1000\n",
            "Average recon_error: 16.601\n",
            "Average perplexity: 10.847\n",
            "\n"
          ]
        },
        {
          "output_type": "stream",
          "name": "stderr",
          "text": [
            " 80%|████████  | 805/1000 [01:49<00:25,  7.54it/s]"
          ]
        },
        {
          "output_type": "stream",
          "name": "stdout",
          "text": [
            "10 iterations of epochs 805/1000\n",
            "Average recon_error: 15.129\n",
            "Average perplexity: 11.125\n",
            "\n",
            "20 iterations of epochs 805/1000\n",
            "Average recon_error: 17.029\n",
            "Average perplexity: 11.080\n",
            "\n",
            "30 iterations of epochs 805/1000\n",
            "Average recon_error: 16.379\n",
            "Average perplexity: 11.172\n",
            "\n",
            "10 iterations of epochs 806/1000\n",
            "Average recon_error: 17.487\n",
            "Average perplexity: 10.719\n",
            "\n",
            "20 iterations of epochs 806/1000\n",
            "Average recon_error: 17.339\n",
            "Average perplexity: 10.665\n",
            "\n",
            "30 iterations of epochs 806/1000\n",
            "Average recon_error: 16.953\n",
            "Average perplexity: 11.445\n",
            "\n"
          ]
        },
        {
          "output_type": "stream",
          "name": "stderr",
          "text": [
            " 81%|████████  | 807/1000 [01:49<00:24,  7.75it/s]"
          ]
        },
        {
          "output_type": "stream",
          "name": "stdout",
          "text": [
            "10 iterations of epochs 807/1000\n",
            "Average recon_error: 16.829\n",
            "Average perplexity: 10.895\n",
            "\n",
            "20 iterations of epochs 807/1000\n",
            "Average recon_error: 17.719\n",
            "Average perplexity: 10.652\n",
            "\n",
            "30 iterations of epochs 807/1000\n",
            "Average recon_error: 16.150\n",
            "Average perplexity: 11.909\n",
            "\n",
            "10 iterations of epochs 808/1000\n",
            "Average recon_error: 16.128\n",
            "Average perplexity: 10.948\n",
            "\n",
            "20 iterations of epochs 808/1000\n",
            "Average recon_error: 16.889\n",
            "Average perplexity: 11.601\n",
            "\n",
            "30 iterations of epochs 808/1000\n",
            "Average recon_error: 16.840\n",
            "Average perplexity: 10.988\n",
            "\n"
          ]
        },
        {
          "output_type": "stream",
          "name": "stderr",
          "text": [
            " 81%|████████  | 809/1000 [01:49<00:24,  7.78it/s]"
          ]
        },
        {
          "output_type": "stream",
          "name": "stdout",
          "text": [
            "10 iterations of epochs 809/1000\n",
            "Average recon_error: 17.125\n",
            "Average perplexity: 11.856\n",
            "\n",
            "20 iterations of epochs 809/1000\n",
            "Average recon_error: 16.180\n",
            "Average perplexity: 11.543\n",
            "\n",
            "30 iterations of epochs 809/1000\n",
            "Average recon_error: 17.943\n",
            "Average perplexity: 9.460\n",
            "\n",
            "10 iterations of epochs 810/1000\n",
            "Average recon_error: 16.911\n",
            "Average perplexity: 11.470\n",
            "\n",
            "20 iterations of epochs 810/1000\n",
            "Average recon_error: 17.124\n",
            "Average perplexity: 10.269\n",
            "\n",
            "30 iterations of epochs 810/1000\n",
            "Average recon_error: 17.988\n",
            "Average perplexity: 9.784\n",
            "\n"
          ]
        },
        {
          "output_type": "stream",
          "name": "stderr",
          "text": [
            " 81%|████████  | 811/1000 [01:49<00:24,  7.64it/s]"
          ]
        },
        {
          "output_type": "stream",
          "name": "stdout",
          "text": [
            "10 iterations of epochs 811/1000\n",
            "Average recon_error: 17.856\n",
            "Average perplexity: 10.974\n",
            "\n",
            "20 iterations of epochs 811/1000\n",
            "Average recon_error: 17.542\n",
            "Average perplexity: 10.604\n",
            "\n",
            "30 iterations of epochs 811/1000\n",
            "Average recon_error: 17.184\n",
            "Average perplexity: 11.547\n",
            "\n",
            "10 iterations of epochs 812/1000\n",
            "Average recon_error: 17.651\n",
            "Average perplexity: 11.377\n",
            "\n",
            "20 iterations of epochs 812/1000\n",
            "Average recon_error: 15.375\n",
            "Average perplexity: 10.494\n",
            "\n",
            "30 iterations of epochs 812/1000\n",
            "Average recon_error: 17.069\n",
            "Average perplexity: 11.650\n",
            "\n"
          ]
        },
        {
          "output_type": "stream",
          "name": "stderr",
          "text": [
            " 81%|████████▏ | 813/1000 [01:50<00:28,  6.65it/s]"
          ]
        },
        {
          "output_type": "stream",
          "name": "stdout",
          "text": [
            "10 iterations of epochs 813/1000\n",
            "Average recon_error: 16.674\n",
            "Average perplexity: 11.115\n",
            "\n",
            "20 iterations of epochs 813/1000\n",
            "Average recon_error: 17.634\n",
            "Average perplexity: 12.271\n",
            "\n",
            "30 iterations of epochs 813/1000\n",
            "Average recon_error: 16.794\n",
            "Average perplexity: 10.769\n",
            "\n",
            "10 iterations of epochs 814/1000\n",
            "Average recon_error: 17.214\n",
            "Average perplexity: 11.848\n",
            "\n"
          ]
        },
        {
          "output_type": "stream",
          "name": "stderr",
          "text": [
            "\r 81%|████████▏ | 814/1000 [01:50<00:29,  6.24it/s]"
          ]
        },
        {
          "output_type": "stream",
          "name": "stdout",
          "text": [
            "20 iterations of epochs 814/1000\n",
            "Average recon_error: 17.810\n",
            "Average perplexity: 11.014\n",
            "\n",
            "30 iterations of epochs 814/1000\n",
            "Average recon_error: 16.675\n",
            "Average perplexity: 11.400\n",
            "\n",
            "10 iterations of epochs 815/1000\n",
            "Average recon_error: 16.275\n",
            "Average perplexity: 10.616\n",
            "\n",
            "20 iterations of epochs 815/1000\n",
            "Average recon_error: 18.077\n",
            "Average perplexity: 11.192\n",
            "\n"
          ]
        },
        {
          "output_type": "stream",
          "name": "stderr",
          "text": [
            "\r 82%|████████▏ | 815/1000 [01:50<00:31,  5.87it/s]"
          ]
        },
        {
          "output_type": "stream",
          "name": "stdout",
          "text": [
            "30 iterations of epochs 815/1000\n",
            "Average recon_error: 17.087\n",
            "Average perplexity: 11.539\n",
            "\n",
            "10 iterations of epochs 816/1000\n",
            "Average recon_error: 16.139\n",
            "Average perplexity: 10.928\n",
            "\n",
            "20 iterations of epochs 816/1000\n",
            "Average recon_error: 16.267\n",
            "Average perplexity: 11.472\n",
            "\n",
            "30 iterations of epochs 816/1000\n",
            "Average recon_error: 16.777\n",
            "Average perplexity: 10.889\n",
            "\n"
          ]
        },
        {
          "output_type": "stream",
          "name": "stderr",
          "text": [
            " 82%|████████▏ | 817/1000 [01:50<00:31,  5.77it/s]"
          ]
        },
        {
          "output_type": "stream",
          "name": "stdout",
          "text": [
            "10 iterations of epochs 817/1000\n",
            "Average recon_error: 16.298\n",
            "Average perplexity: 10.973\n",
            "\n",
            "20 iterations of epochs 817/1000\n",
            "Average recon_error: 16.002\n",
            "Average perplexity: 11.563\n",
            "\n",
            "30 iterations of epochs 817/1000\n",
            "Average recon_error: 16.553\n",
            "Average perplexity: 10.406\n",
            "\n",
            "10 iterations of epochs 818/1000\n",
            "Average recon_error: 17.826\n",
            "Average perplexity: 10.846\n",
            "\n"
          ]
        },
        {
          "output_type": "stream",
          "name": "stderr",
          "text": [
            "\r 82%|████████▏ | 818/1000 [01:51<00:32,  5.56it/s]"
          ]
        },
        {
          "output_type": "stream",
          "name": "stdout",
          "text": [
            "20 iterations of epochs 818/1000\n",
            "Average recon_error: 16.569\n",
            "Average perplexity: 11.532\n",
            "\n",
            "30 iterations of epochs 818/1000\n",
            "Average recon_error: 17.126\n",
            "Average perplexity: 11.117\n",
            "\n",
            "10 iterations of epochs 819/1000\n",
            "Average recon_error: 15.595\n",
            "Average perplexity: 10.659\n",
            "\n",
            "20 iterations of epochs 819/1000\n",
            "Average recon_error: 16.069\n",
            "Average perplexity: 11.573\n",
            "\n"
          ]
        },
        {
          "output_type": "stream",
          "name": "stderr",
          "text": [
            "\r 82%|████████▏ | 819/1000 [01:51<00:33,  5.34it/s]"
          ]
        },
        {
          "output_type": "stream",
          "name": "stdout",
          "text": [
            "30 iterations of epochs 819/1000\n",
            "Average recon_error: 16.692\n",
            "Average perplexity: 10.394\n",
            "\n",
            "10 iterations of epochs 820/1000\n",
            "Average recon_error: 16.797\n",
            "Average perplexity: 10.568\n",
            "\n",
            "20 iterations of epochs 820/1000\n",
            "Average recon_error: 18.242\n",
            "Average perplexity: 10.663\n",
            "\n",
            "30 iterations of epochs 820/1000\n",
            "Average recon_error: 16.463\n",
            "Average perplexity: 11.135\n",
            "\n"
          ]
        },
        {
          "output_type": "stream",
          "name": "stderr",
          "text": [
            " 82%|████████▏ | 821/1000 [01:51<00:33,  5.31it/s]"
          ]
        },
        {
          "output_type": "stream",
          "name": "stdout",
          "text": [
            "10 iterations of epochs 821/1000\n",
            "Average recon_error: 18.330\n",
            "Average perplexity: 10.480\n",
            "\n",
            "20 iterations of epochs 821/1000\n",
            "Average recon_error: 16.010\n",
            "Average perplexity: 10.524\n",
            "\n",
            "30 iterations of epochs 821/1000\n",
            "Average recon_error: 17.159\n",
            "Average perplexity: 11.751\n",
            "\n"
          ]
        },
        {
          "output_type": "stream",
          "name": "stderr",
          "text": [
            "\r 82%|████████▏ | 822/1000 [01:51<00:34,  5.18it/s]"
          ]
        },
        {
          "output_type": "stream",
          "name": "stdout",
          "text": [
            "10 iterations of epochs 822/1000\n",
            "Average recon_error: 15.898\n",
            "Average perplexity: 10.801\n",
            "\n",
            "20 iterations of epochs 822/1000\n",
            "Average recon_error: 18.382\n",
            "Average perplexity: 10.994\n",
            "\n",
            "30 iterations of epochs 822/1000\n",
            "Average recon_error: 17.532\n",
            "Average perplexity: 9.386\n",
            "\n",
            "10 iterations of epochs 823/1000\n",
            "Average recon_error: 15.804\n",
            "Average perplexity: 11.533\n",
            "\n"
          ]
        },
        {
          "output_type": "stream",
          "name": "stderr",
          "text": [
            "\r 82%|████████▏ | 823/1000 [01:52<00:33,  5.22it/s]"
          ]
        },
        {
          "output_type": "stream",
          "name": "stdout",
          "text": [
            "20 iterations of epochs 823/1000\n",
            "Average recon_error: 16.467\n",
            "Average perplexity: 11.387\n",
            "\n",
            "30 iterations of epochs 823/1000\n",
            "Average recon_error: 17.110\n",
            "Average perplexity: 11.020\n",
            "\n",
            "10 iterations of epochs 824/1000\n",
            "Average recon_error: 15.525\n",
            "Average perplexity: 11.075\n",
            "\n",
            "20 iterations of epochs 824/1000\n",
            "Average recon_error: 17.457\n",
            "Average perplexity: 10.982\n"
          ]
        },
        {
          "output_type": "stream",
          "name": "stderr",
          "text": [
            "\r 82%|████████▏ | 824/1000 [01:52<00:34,  5.14it/s]"
          ]
        },
        {
          "output_type": "stream",
          "name": "stdout",
          "text": [
            "\n",
            "30 iterations of epochs 824/1000\n",
            "Average recon_error: 16.592\n",
            "Average perplexity: 11.514\n",
            "\n",
            "10 iterations of epochs 825/1000\n",
            "Average recon_error: 17.257\n",
            "Average perplexity: 11.130\n",
            "\n",
            "20 iterations of epochs 825/1000\n",
            "Average recon_error: 18.145\n",
            "Average perplexity: 10.851\n",
            "\n"
          ]
        },
        {
          "output_type": "stream",
          "name": "stderr",
          "text": [
            "\r 82%|████████▎ | 825/1000 [01:52<00:33,  5.15it/s]"
          ]
        },
        {
          "output_type": "stream",
          "name": "stdout",
          "text": [
            "30 iterations of epochs 825/1000\n",
            "Average recon_error: 17.741\n",
            "Average perplexity: 10.236\n",
            "\n",
            "10 iterations of epochs 826/1000\n",
            "Average recon_error: 16.507\n",
            "Average perplexity: 11.326\n",
            "\n",
            "20 iterations of epochs 826/1000\n",
            "Average recon_error: 17.604\n",
            "Average perplexity: 10.862\n",
            "\n",
            "30 iterations of epochs 826/1000\n",
            "Average recon_error: 16.548\n",
            "Average perplexity: 11.295\n",
            "\n"
          ]
        },
        {
          "output_type": "stream",
          "name": "stderr",
          "text": [
            " 83%|████████▎ | 827/1000 [01:52<00:30,  5.60it/s]"
          ]
        },
        {
          "output_type": "stream",
          "name": "stdout",
          "text": [
            "10 iterations of epochs 827/1000\n",
            "Average recon_error: 17.019\n",
            "Average perplexity: 11.100\n",
            "\n",
            "20 iterations of epochs 827/1000\n",
            "Average recon_error: 16.548\n",
            "Average perplexity: 11.469\n",
            "\n",
            "30 iterations of epochs 827/1000\n",
            "Average recon_error: 16.246\n",
            "Average perplexity: 11.373\n",
            "\n",
            "10 iterations of epochs 828/1000\n",
            "Average recon_error: 18.066\n",
            "Average perplexity: 11.139\n",
            "\n",
            "20 iterations of epochs 828/1000\n",
            "Average recon_error: 17.371\n",
            "Average perplexity: 10.637\n",
            "\n"
          ]
        },
        {
          "output_type": "stream",
          "name": "stderr",
          "text": [
            " 83%|████████▎ | 829/1000 [01:53<00:26,  6.55it/s]"
          ]
        },
        {
          "output_type": "stream",
          "name": "stdout",
          "text": [
            "30 iterations of epochs 828/1000\n",
            "Average recon_error: 17.283\n",
            "Average perplexity: 11.173\n",
            "\n",
            "10 iterations of epochs 829/1000\n",
            "Average recon_error: 19.157\n",
            "Average perplexity: 12.039\n",
            "\n",
            "20 iterations of epochs 829/1000\n",
            "Average recon_error: 17.289\n",
            "Average perplexity: 12.020\n",
            "\n",
            "30 iterations of epochs 829/1000\n",
            "Average recon_error: 16.870\n",
            "Average perplexity: 11.048\n",
            "\n",
            "10 iterations of epochs 830/1000\n",
            "Average recon_error: 17.334\n",
            "Average perplexity: 11.436\n",
            "\n"
          ]
        },
        {
          "output_type": "stream",
          "name": "stderr",
          "text": [
            " 83%|████████▎ | 831/1000 [01:53<00:23,  7.08it/s]"
          ]
        },
        {
          "output_type": "stream",
          "name": "stdout",
          "text": [
            "20 iterations of epochs 830/1000\n",
            "Average recon_error: 17.312\n",
            "Average perplexity: 10.977\n",
            "\n",
            "30 iterations of epochs 830/1000\n",
            "Average recon_error: 16.233\n",
            "Average perplexity: 10.734\n",
            "\n",
            "10 iterations of epochs 831/1000\n",
            "Average recon_error: 16.135\n",
            "Average perplexity: 11.377\n",
            "\n",
            "20 iterations of epochs 831/1000\n",
            "Average recon_error: 15.000\n",
            "Average perplexity: 10.903\n",
            "\n",
            "30 iterations of epochs 831/1000\n",
            "Average recon_error: 20.323\n",
            "Average perplexity: 11.684\n",
            "\n"
          ]
        },
        {
          "output_type": "stream",
          "name": "stderr",
          "text": [
            "\r 83%|████████▎ | 832/1000 [01:53<00:23,  7.22it/s]"
          ]
        },
        {
          "output_type": "stream",
          "name": "stdout",
          "text": [
            "10 iterations of epochs 832/1000\n",
            "Average recon_error: 16.963\n",
            "Average perplexity: 10.927\n",
            "\n",
            "20 iterations of epochs 832/1000\n",
            "Average recon_error: 18.145\n",
            "Average perplexity: 11.168\n",
            "\n",
            "30 iterations of epochs 832/1000\n",
            "Average recon_error: 15.398\n",
            "Average perplexity: 11.655\n",
            "\n",
            "10 iterations of epochs 833/1000\n",
            "Average recon_error: 18.026\n",
            "Average perplexity: 12.091\n",
            "\n",
            "20 iterations of epochs 833/1000\n",
            "Average recon_error: 15.723\n",
            "Average perplexity: 10.833\n",
            "\n",
            "30 iterations of epochs 833/1000\n",
            "Average recon_error: 16.355\n",
            "Average perplexity: 11.139\n",
            "\n"
          ]
        },
        {
          "output_type": "stream",
          "name": "stderr",
          "text": [
            " 83%|████████▎ | 834/1000 [01:53<00:23,  7.02it/s]"
          ]
        },
        {
          "output_type": "stream",
          "name": "stdout",
          "text": [
            "10 iterations of epochs 834/1000\n",
            "Average recon_error: 17.850\n",
            "Average perplexity: 10.670\n",
            "\n",
            "20 iterations of epochs 834/1000\n",
            "Average recon_error: 16.166\n",
            "Average perplexity: 12.052\n",
            "\n",
            "30 iterations of epochs 834/1000\n",
            "Average recon_error: 15.827\n",
            "Average perplexity: 10.875\n",
            "\n",
            "10 iterations of epochs 835/1000\n",
            "Average recon_error: 16.647\n",
            "Average perplexity: 10.989\n",
            "\n",
            "20 iterations of epochs 835/1000\n",
            "Average recon_error: 16.852\n",
            "Average perplexity: 10.786\n",
            "\n",
            "30 iterations of epochs 835/1000\n",
            "Average recon_error: 16.381\n",
            "Average perplexity: 11.302\n",
            "\n"
          ]
        },
        {
          "output_type": "stream",
          "name": "stderr",
          "text": [
            " 84%|████████▎ | 836/1000 [01:54<00:22,  7.41it/s]"
          ]
        },
        {
          "output_type": "stream",
          "name": "stdout",
          "text": [
            "10 iterations of epochs 836/1000\n",
            "Average recon_error: 16.215\n",
            "Average perplexity: 11.400\n",
            "\n",
            "20 iterations of epochs 836/1000\n",
            "Average recon_error: 16.603\n",
            "Average perplexity: 9.993\n",
            "\n",
            "30 iterations of epochs 836/1000\n",
            "Average recon_error: 16.485\n",
            "Average perplexity: 12.066\n",
            "\n",
            "10 iterations of epochs 837/1000\n",
            "Average recon_error: 16.894\n",
            "Average perplexity: 11.853\n",
            "\n",
            "20 iterations of epochs 837/1000\n",
            "Average recon_error: 17.821\n",
            "Average perplexity: 11.698\n",
            "\n",
            "30 iterations of epochs 837/1000\n",
            "Average recon_error: 16.842\n",
            "Average perplexity: 10.543\n",
            "\n"
          ]
        },
        {
          "output_type": "stream",
          "name": "stderr",
          "text": [
            " 84%|████████▍ | 838/1000 [01:54<00:21,  7.71it/s]"
          ]
        },
        {
          "output_type": "stream",
          "name": "stdout",
          "text": [
            "10 iterations of epochs 838/1000\n",
            "Average recon_error: 15.991\n",
            "Average perplexity: 10.659\n",
            "\n",
            "20 iterations of epochs 838/1000\n",
            "Average recon_error: 17.119\n",
            "Average perplexity: 11.052\n",
            "\n",
            "30 iterations of epochs 838/1000\n",
            "Average recon_error: 18.313\n",
            "Average perplexity: 9.888\n",
            "\n",
            "10 iterations of epochs 839/1000\n",
            "Average recon_error: 17.311\n",
            "Average perplexity: 10.294\n",
            "\n",
            "20 iterations of epochs 839/1000\n",
            "Average recon_error: 17.821\n",
            "Average perplexity: 10.882\n",
            "\n",
            "30 iterations of epochs 839/1000\n",
            "Average recon_error: 15.629\n",
            "Average perplexity: 11.399\n",
            "\n"
          ]
        },
        {
          "output_type": "stream",
          "name": "stderr",
          "text": [
            " 84%|████████▍ | 840/1000 [01:54<00:20,  7.76it/s]"
          ]
        },
        {
          "output_type": "stream",
          "name": "stdout",
          "text": [
            "10 iterations of epochs 840/1000\n",
            "Average recon_error: 17.947\n",
            "Average perplexity: 11.604\n",
            "\n",
            "20 iterations of epochs 840/1000\n",
            "Average recon_error: 17.330\n",
            "Average perplexity: 11.783\n",
            "\n",
            "30 iterations of epochs 840/1000\n",
            "Average recon_error: 16.309\n",
            "Average perplexity: 10.224\n",
            "\n",
            "10 iterations of epochs 841/1000\n",
            "Average recon_error: 16.232\n",
            "Average perplexity: 10.759\n",
            "\n",
            "20 iterations of epochs 841/1000\n",
            "Average recon_error: 15.775\n",
            "Average perplexity: 12.036\n",
            "\n",
            "30 iterations of epochs 841/1000\n",
            "Average recon_error: 18.075\n",
            "Average perplexity: 11.468\n",
            "\n"
          ]
        },
        {
          "output_type": "stream",
          "name": "stderr",
          "text": [
            " 84%|████████▍ | 842/1000 [01:54<00:21,  7.48it/s]"
          ]
        },
        {
          "output_type": "stream",
          "name": "stdout",
          "text": [
            "10 iterations of epochs 842/1000\n",
            "Average recon_error: 19.148\n",
            "Average perplexity: 10.908\n",
            "\n",
            "20 iterations of epochs 842/1000\n",
            "Average recon_error: 17.291\n",
            "Average perplexity: 11.607\n",
            "\n",
            "30 iterations of epochs 842/1000\n",
            "Average recon_error: 17.502\n",
            "Average perplexity: 10.173\n",
            "\n",
            "10 iterations of epochs 843/1000\n",
            "Average recon_error: 17.572\n",
            "Average perplexity: 11.438\n",
            "\n",
            "20 iterations of epochs 843/1000\n",
            "Average recon_error: 16.712\n",
            "Average perplexity: 11.341\n",
            "\n",
            "30 iterations of epochs 843/1000\n",
            "Average recon_error: 15.840\n",
            "Average perplexity: 11.031\n",
            "\n"
          ]
        },
        {
          "output_type": "stream",
          "name": "stderr",
          "text": [
            " 84%|████████▍ | 844/1000 [01:55<00:20,  7.59it/s]"
          ]
        },
        {
          "output_type": "stream",
          "name": "stdout",
          "text": [
            "10 iterations of epochs 844/1000\n",
            "Average recon_error: 17.220\n",
            "Average perplexity: 11.423\n",
            "\n",
            "20 iterations of epochs 844/1000\n",
            "Average recon_error: 17.275\n",
            "Average perplexity: 10.709\n",
            "\n",
            "30 iterations of epochs 844/1000\n",
            "Average recon_error: 16.548\n",
            "Average perplexity: 11.534\n",
            "\n",
            "10 iterations of epochs 845/1000\n",
            "Average recon_error: 17.879\n",
            "Average perplexity: 11.428\n",
            "\n",
            "20 iterations of epochs 845/1000\n",
            "Average recon_error: 16.282\n",
            "Average perplexity: 11.236\n",
            "\n",
            "30 iterations of epochs 845/1000\n",
            "Average recon_error: 16.034\n",
            "Average perplexity: 11.547\n",
            "\n"
          ]
        },
        {
          "output_type": "stream",
          "name": "stderr",
          "text": [
            " 85%|████████▍ | 846/1000 [01:55<00:19,  7.71it/s]"
          ]
        },
        {
          "output_type": "stream",
          "name": "stdout",
          "text": [
            "10 iterations of epochs 846/1000\n",
            "Average recon_error: 18.433\n",
            "Average perplexity: 11.372\n",
            "\n",
            "20 iterations of epochs 846/1000\n",
            "Average recon_error: 18.209\n",
            "Average perplexity: 11.049\n",
            "\n",
            "30 iterations of epochs 846/1000\n",
            "Average recon_error: 16.928\n",
            "Average perplexity: 11.489\n",
            "\n",
            "10 iterations of epochs 847/1000\n",
            "Average recon_error: 18.067\n",
            "Average perplexity: 10.797\n",
            "\n",
            "20 iterations of epochs 847/1000\n",
            "Average recon_error: 17.388\n",
            "Average perplexity: 10.637\n",
            "\n",
            "30 iterations of epochs 847/1000\n",
            "Average recon_error: 16.586\n",
            "Average perplexity: 10.449\n",
            "\n"
          ]
        },
        {
          "output_type": "stream",
          "name": "stderr",
          "text": [
            " 85%|████████▍ | 848/1000 [01:55<00:19,  7.71it/s]"
          ]
        },
        {
          "output_type": "stream",
          "name": "stdout",
          "text": [
            "10 iterations of epochs 848/1000\n",
            "Average recon_error: 18.699\n",
            "Average perplexity: 11.629\n",
            "\n",
            "20 iterations of epochs 848/1000\n",
            "Average recon_error: 15.562\n",
            "Average perplexity: 11.503\n",
            "\n",
            "30 iterations of epochs 848/1000\n",
            "Average recon_error: 15.788\n",
            "Average perplexity: 11.699\n",
            "\n",
            "10 iterations of epochs 849/1000\n",
            "Average recon_error: 16.489\n",
            "Average perplexity: 11.329\n",
            "\n",
            "20 iterations of epochs 849/1000\n",
            "Average recon_error: 16.616\n",
            "Average perplexity: 11.518\n",
            "\n",
            "30 iterations of epochs 849/1000\n",
            "Average recon_error: 17.128\n",
            "Average perplexity: 11.115\n",
            "\n"
          ]
        },
        {
          "output_type": "stream",
          "name": "stderr",
          "text": [
            " 85%|████████▌ | 850/1000 [01:55<00:19,  7.53it/s]"
          ]
        },
        {
          "output_type": "stream",
          "name": "stdout",
          "text": [
            "10 iterations of epochs 850/1000\n",
            "Average recon_error: 18.167\n",
            "Average perplexity: 11.627\n",
            "\n",
            "20 iterations of epochs 850/1000\n",
            "Average recon_error: 17.734\n",
            "Average perplexity: 11.044\n",
            "\n",
            "30 iterations of epochs 850/1000\n",
            "Average recon_error: 16.442\n",
            "Average perplexity: 11.080\n",
            "\n",
            "10 iterations of epochs 851/1000\n",
            "Average recon_error: 16.945\n",
            "Average perplexity: 10.378\n",
            "\n",
            "20 iterations of epochs 851/1000\n",
            "Average recon_error: 16.684\n",
            "Average perplexity: 11.882\n",
            "\n",
            "30 iterations of epochs 851/1000\n",
            "Average recon_error: 17.633\n",
            "Average perplexity: 11.456\n",
            "\n"
          ]
        },
        {
          "output_type": "stream",
          "name": "stderr",
          "text": [
            " 85%|████████▌ | 852/1000 [01:56<00:19,  7.68it/s]"
          ]
        },
        {
          "output_type": "stream",
          "name": "stdout",
          "text": [
            "10 iterations of epochs 852/1000\n",
            "Average recon_error: 15.368\n",
            "Average perplexity: 11.406\n",
            "\n",
            "20 iterations of epochs 852/1000\n",
            "Average recon_error: 16.826\n",
            "Average perplexity: 12.458\n",
            "\n",
            "30 iterations of epochs 852/1000\n",
            "Average recon_error: 16.222\n",
            "Average perplexity: 10.922\n",
            "\n",
            "10 iterations of epochs 853/1000\n",
            "Average recon_error: 16.244\n",
            "Average perplexity: 11.372\n",
            "\n",
            "20 iterations of epochs 853/1000\n",
            "Average recon_error: 16.003\n",
            "Average perplexity: 12.094\n",
            "\n",
            "30 iterations of epochs 853/1000\n",
            "Average recon_error: 17.508\n",
            "Average perplexity: 10.660\n",
            "\n"
          ]
        },
        {
          "output_type": "stream",
          "name": "stderr",
          "text": [
            " 85%|████████▌ | 854/1000 [01:56<00:18,  7.70it/s]"
          ]
        },
        {
          "output_type": "stream",
          "name": "stdout",
          "text": [
            "10 iterations of epochs 854/1000\n",
            "Average recon_error: 16.357\n",
            "Average perplexity: 10.494\n",
            "\n",
            "20 iterations of epochs 854/1000\n",
            "Average recon_error: 17.148\n",
            "Average perplexity: 11.220\n",
            "\n",
            "30 iterations of epochs 854/1000\n",
            "Average recon_error: 18.426\n",
            "Average perplexity: 10.984\n",
            "\n",
            "10 iterations of epochs 855/1000\n",
            "Average recon_error: 15.208\n",
            "Average perplexity: 10.884\n",
            "\n",
            "20 iterations of epochs 855/1000\n",
            "Average recon_error: 15.997\n",
            "Average perplexity: 10.490\n",
            "\n",
            "30 iterations of epochs 855/1000\n",
            "Average recon_error: 16.751\n",
            "Average perplexity: 11.820\n",
            "\n"
          ]
        },
        {
          "output_type": "stream",
          "name": "stderr",
          "text": [
            " 86%|████████▌ | 856/1000 [01:56<00:18,  7.82it/s]"
          ]
        },
        {
          "output_type": "stream",
          "name": "stdout",
          "text": [
            "10 iterations of epochs 856/1000\n",
            "Average recon_error: 16.294\n",
            "Average perplexity: 11.554\n",
            "\n",
            "20 iterations of epochs 856/1000\n",
            "Average recon_error: 15.485\n",
            "Average perplexity: 11.712\n",
            "\n",
            "30 iterations of epochs 856/1000\n",
            "Average recon_error: 16.696\n",
            "Average perplexity: 11.765\n",
            "\n",
            "10 iterations of epochs 857/1000\n",
            "Average recon_error: 17.690\n",
            "Average perplexity: 11.133\n",
            "\n",
            "20 iterations of epochs 857/1000\n",
            "Average recon_error: 15.208\n",
            "Average perplexity: 11.131\n",
            "\n",
            "30 iterations of epochs 857/1000\n",
            "Average recon_error: 17.711\n",
            "Average perplexity: 11.723\n",
            "\n"
          ]
        },
        {
          "output_type": "stream",
          "name": "stderr",
          "text": [
            " 86%|████████▌ | 858/1000 [01:56<00:18,  7.63it/s]"
          ]
        },
        {
          "output_type": "stream",
          "name": "stdout",
          "text": [
            "10 iterations of epochs 858/1000\n",
            "Average recon_error: 15.830\n",
            "Average perplexity: 11.293\n",
            "\n",
            "20 iterations of epochs 858/1000\n",
            "Average recon_error: 17.169\n",
            "Average perplexity: 11.486\n",
            "\n",
            "30 iterations of epochs 858/1000\n",
            "Average recon_error: 18.217\n",
            "Average perplexity: 11.672\n",
            "\n",
            "10 iterations of epochs 859/1000\n",
            "Average recon_error: 15.673\n",
            "Average perplexity: 11.228\n",
            "\n",
            "20 iterations of epochs 859/1000\n",
            "Average recon_error: 16.529\n",
            "Average perplexity: 10.846\n",
            "\n",
            "30 iterations of epochs 859/1000\n",
            "Average recon_error: 17.212\n",
            "Average perplexity: 10.335\n",
            "\n"
          ]
        },
        {
          "output_type": "stream",
          "name": "stderr",
          "text": [
            " 86%|████████▌ | 860/1000 [01:57<00:17,  7.90it/s]"
          ]
        },
        {
          "output_type": "stream",
          "name": "stdout",
          "text": [
            "10 iterations of epochs 860/1000\n",
            "Average recon_error: 16.736\n",
            "Average perplexity: 12.005\n",
            "\n",
            "20 iterations of epochs 860/1000\n",
            "Average recon_error: 17.203\n",
            "Average perplexity: 11.689\n",
            "\n",
            "30 iterations of epochs 860/1000\n",
            "Average recon_error: 16.578\n",
            "Average perplexity: 10.836\n",
            "\n",
            "10 iterations of epochs 861/1000\n",
            "Average recon_error: 15.794\n",
            "Average perplexity: 11.194\n",
            "\n",
            "20 iterations of epochs 861/1000\n",
            "Average recon_error: 16.878\n",
            "Average perplexity: 11.089\n",
            "\n",
            "30 iterations of epochs 861/1000\n",
            "Average recon_error: 16.703\n",
            "Average perplexity: 11.094\n",
            "\n"
          ]
        },
        {
          "output_type": "stream",
          "name": "stderr",
          "text": [
            " 86%|████████▌ | 862/1000 [01:57<00:17,  7.82it/s]"
          ]
        },
        {
          "output_type": "stream",
          "name": "stdout",
          "text": [
            "10 iterations of epochs 862/1000\n",
            "Average recon_error: 16.753\n",
            "Average perplexity: 11.064\n",
            "\n",
            "20 iterations of epochs 862/1000\n",
            "Average recon_error: 16.367\n",
            "Average perplexity: 11.419\n",
            "\n",
            "30 iterations of epochs 862/1000\n",
            "Average recon_error: 18.767\n",
            "Average perplexity: 11.415\n",
            "\n",
            "10 iterations of epochs 863/1000\n",
            "Average recon_error: 16.467\n",
            "Average perplexity: 10.239\n",
            "\n",
            "20 iterations of epochs 863/1000\n",
            "Average recon_error: 17.730\n",
            "Average perplexity: 10.546\n",
            "\n",
            "30 iterations of epochs 863/1000\n",
            "Average recon_error: 14.534\n",
            "Average perplexity: 11.086\n",
            "\n"
          ]
        },
        {
          "output_type": "stream",
          "name": "stderr",
          "text": [
            " 86%|████████▋ | 864/1000 [01:57<00:17,  7.78it/s]"
          ]
        },
        {
          "output_type": "stream",
          "name": "stdout",
          "text": [
            "10 iterations of epochs 864/1000\n",
            "Average recon_error: 15.459\n",
            "Average perplexity: 10.608\n",
            "\n",
            "20 iterations of epochs 864/1000\n",
            "Average recon_error: 17.272\n",
            "Average perplexity: 10.290\n",
            "\n",
            "30 iterations of epochs 864/1000\n",
            "Average recon_error: 15.396\n",
            "Average perplexity: 11.628\n",
            "\n",
            "10 iterations of epochs 865/1000\n",
            "Average recon_error: 17.006\n",
            "Average perplexity: 10.631\n",
            "\n",
            "20 iterations of epochs 865/1000\n",
            "Average recon_error: 17.288\n",
            "Average perplexity: 12.496\n",
            "\n",
            "30 iterations of epochs 865/1000\n",
            "Average recon_error: 16.177\n",
            "Average perplexity: 10.709\n",
            "\n"
          ]
        },
        {
          "output_type": "stream",
          "name": "stderr",
          "text": [
            " 87%|████████▋ | 866/1000 [01:57<00:17,  7.66it/s]"
          ]
        },
        {
          "output_type": "stream",
          "name": "stdout",
          "text": [
            "10 iterations of epochs 866/1000\n",
            "Average recon_error: 17.735\n",
            "Average perplexity: 11.036\n",
            "\n",
            "20 iterations of epochs 866/1000\n",
            "Average recon_error: 15.967\n",
            "Average perplexity: 11.515\n",
            "\n",
            "30 iterations of epochs 866/1000\n",
            "Average recon_error: 16.766\n",
            "Average perplexity: 11.085\n",
            "\n",
            "10 iterations of epochs 867/1000\n",
            "Average recon_error: 16.279\n",
            "Average perplexity: 11.920\n",
            "\n",
            "20 iterations of epochs 867/1000\n",
            "Average recon_error: 15.855\n",
            "Average perplexity: 12.271\n",
            "\n",
            "30 iterations of epochs 867/1000\n",
            "Average recon_error: 18.544\n",
            "Average perplexity: 10.149\n",
            "\n"
          ]
        },
        {
          "output_type": "stream",
          "name": "stderr",
          "text": [
            " 87%|████████▋ | 868/1000 [01:58<00:16,  7.77it/s]"
          ]
        },
        {
          "output_type": "stream",
          "name": "stdout",
          "text": [
            "10 iterations of epochs 868/1000\n",
            "Average recon_error: 15.795\n",
            "Average perplexity: 10.400\n",
            "\n",
            "20 iterations of epochs 868/1000\n",
            "Average recon_error: 16.012\n",
            "Average perplexity: 10.955\n",
            "\n",
            "30 iterations of epochs 868/1000\n",
            "Average recon_error: 17.628\n",
            "Average perplexity: 11.692\n",
            "\n",
            "10 iterations of epochs 869/1000\n",
            "Average recon_error: 18.511\n",
            "Average perplexity: 10.345\n",
            "\n",
            "20 iterations of epochs 869/1000\n",
            "Average recon_error: 15.668\n",
            "Average perplexity: 12.411\n",
            "\n",
            "30 iterations of epochs 869/1000\n",
            "Average recon_error: 16.446\n",
            "Average perplexity: 10.750\n",
            "\n"
          ]
        },
        {
          "output_type": "stream",
          "name": "stderr",
          "text": [
            " 87%|████████▋ | 870/1000 [01:58<00:16,  7.87it/s]"
          ]
        },
        {
          "output_type": "stream",
          "name": "stdout",
          "text": [
            "10 iterations of epochs 870/1000\n",
            "Average recon_error: 16.551\n",
            "Average perplexity: 11.639\n",
            "\n",
            "20 iterations of epochs 870/1000\n",
            "Average recon_error: 15.898\n",
            "Average perplexity: 12.222\n",
            "\n",
            "30 iterations of epochs 870/1000\n",
            "Average recon_error: 15.521\n",
            "Average perplexity: 10.712\n",
            "\n",
            "10 iterations of epochs 871/1000\n",
            "Average recon_error: 17.237\n",
            "Average perplexity: 11.119\n",
            "\n",
            "20 iterations of epochs 871/1000\n",
            "Average recon_error: 17.658\n",
            "Average perplexity: 10.639\n",
            "\n",
            "30 iterations of epochs 871/1000\n",
            "Average recon_error: 17.809\n",
            "Average perplexity: 12.015\n",
            "\n"
          ]
        },
        {
          "output_type": "stream",
          "name": "stderr",
          "text": [
            " 87%|████████▋ | 872/1000 [01:58<00:16,  7.72it/s]"
          ]
        },
        {
          "output_type": "stream",
          "name": "stdout",
          "text": [
            "10 iterations of epochs 872/1000\n",
            "Average recon_error: 17.037\n",
            "Average perplexity: 11.648\n",
            "\n",
            "20 iterations of epochs 872/1000\n",
            "Average recon_error: 17.046\n",
            "Average perplexity: 10.815\n",
            "\n",
            "30 iterations of epochs 872/1000\n",
            "Average recon_error: 17.259\n",
            "Average perplexity: 10.444\n",
            "\n",
            "10 iterations of epochs 873/1000\n",
            "Average recon_error: 17.779\n",
            "Average perplexity: 11.236\n",
            "\n",
            "20 iterations of epochs 873/1000\n",
            "Average recon_error: 16.605\n",
            "Average perplexity: 10.717\n",
            "\n",
            "30 iterations of epochs 873/1000\n",
            "Average recon_error: 16.965\n",
            "Average perplexity: 11.576\n",
            "\n"
          ]
        },
        {
          "output_type": "stream",
          "name": "stderr",
          "text": [
            " 87%|████████▋ | 874/1000 [01:58<00:16,  7.47it/s]"
          ]
        },
        {
          "output_type": "stream",
          "name": "stdout",
          "text": [
            "10 iterations of epochs 874/1000\n",
            "Average recon_error: 16.499\n",
            "Average perplexity: 10.672\n",
            "\n",
            "20 iterations of epochs 874/1000\n",
            "Average recon_error: 17.393\n",
            "Average perplexity: 11.551\n",
            "\n",
            "30 iterations of epochs 874/1000\n",
            "Average recon_error: 16.221\n",
            "Average perplexity: 11.273\n",
            "\n",
            "10 iterations of epochs 875/1000\n",
            "Average recon_error: 16.659\n",
            "Average perplexity: 11.421\n",
            "\n",
            "20 iterations of epochs 875/1000\n",
            "Average recon_error: 16.442\n",
            "Average perplexity: 11.694\n",
            "\n",
            "30 iterations of epochs 875/1000\n",
            "Average recon_error: 15.825\n",
            "Average perplexity: 11.264\n",
            "\n"
          ]
        },
        {
          "output_type": "stream",
          "name": "stderr",
          "text": [
            " 88%|████████▊ | 876/1000 [01:59<00:16,  7.58it/s]"
          ]
        },
        {
          "output_type": "stream",
          "name": "stdout",
          "text": [
            "10 iterations of epochs 876/1000\n",
            "Average recon_error: 17.827\n",
            "Average perplexity: 11.118\n",
            "\n",
            "20 iterations of epochs 876/1000\n",
            "Average recon_error: 17.256\n",
            "Average perplexity: 10.617\n",
            "\n",
            "30 iterations of epochs 876/1000\n",
            "Average recon_error: 17.687\n",
            "Average perplexity: 10.802\n",
            "\n",
            "10 iterations of epochs 877/1000\n",
            "Average recon_error: 17.389\n",
            "Average perplexity: 11.298\n",
            "\n",
            "20 iterations of epochs 877/1000\n",
            "Average recon_error: 17.369\n",
            "Average perplexity: 10.303\n",
            "\n",
            "30 iterations of epochs 877/1000\n",
            "Average recon_error: 17.018\n",
            "Average perplexity: 11.381\n",
            "\n"
          ]
        },
        {
          "output_type": "stream",
          "name": "stderr",
          "text": [
            " 88%|████████▊ | 878/1000 [01:59<00:15,  7.67it/s]"
          ]
        },
        {
          "output_type": "stream",
          "name": "stdout",
          "text": [
            "10 iterations of epochs 878/1000\n",
            "Average recon_error: 17.141\n",
            "Average perplexity: 11.028\n",
            "\n",
            "20 iterations of epochs 878/1000\n",
            "Average recon_error: 17.816\n",
            "Average perplexity: 11.349\n",
            "\n",
            "30 iterations of epochs 878/1000\n",
            "Average recon_error: 16.085\n",
            "Average perplexity: 11.414\n",
            "\n",
            "10 iterations of epochs 879/1000\n",
            "Average recon_error: 16.948\n",
            "Average perplexity: 10.974\n",
            "\n",
            "20 iterations of epochs 879/1000\n",
            "Average recon_error: 16.814\n",
            "Average perplexity: 11.230\n",
            "\n",
            "30 iterations of epochs 879/1000\n",
            "Average recon_error: 17.061\n",
            "Average perplexity: 11.612\n",
            "\n"
          ]
        },
        {
          "output_type": "stream",
          "name": "stderr",
          "text": [
            " 88%|████████▊ | 880/1000 [01:59<00:15,  7.59it/s]"
          ]
        },
        {
          "output_type": "stream",
          "name": "stdout",
          "text": [
            "10 iterations of epochs 880/1000\n",
            "Average recon_error: 16.350\n",
            "Average perplexity: 10.752\n",
            "\n",
            "20 iterations of epochs 880/1000\n",
            "Average recon_error: 16.538\n",
            "Average perplexity: 10.603\n",
            "\n",
            "30 iterations of epochs 880/1000\n",
            "Average recon_error: 16.589\n",
            "Average perplexity: 11.452\n",
            "\n",
            "10 iterations of epochs 881/1000\n",
            "Average recon_error: 16.037\n",
            "Average perplexity: 10.640\n",
            "\n",
            "20 iterations of epochs 881/1000\n",
            "Average recon_error: 17.972\n",
            "Average perplexity: 11.126\n",
            "\n"
          ]
        },
        {
          "output_type": "stream",
          "name": "stderr",
          "text": [
            " 88%|████████▊ | 882/1000 [02:00<00:15,  7.41it/s]"
          ]
        },
        {
          "output_type": "stream",
          "name": "stdout",
          "text": [
            "30 iterations of epochs 881/1000\n",
            "Average recon_error: 17.087\n",
            "Average perplexity: 11.714\n",
            "\n",
            "10 iterations of epochs 882/1000\n",
            "Average recon_error: 17.759\n",
            "Average perplexity: 11.011\n",
            "\n",
            "20 iterations of epochs 882/1000\n",
            "Average recon_error: 15.778\n",
            "Average perplexity: 11.609\n",
            "\n",
            "30 iterations of epochs 882/1000\n",
            "Average recon_error: 16.034\n",
            "Average perplexity: 11.310\n",
            "\n"
          ]
        },
        {
          "output_type": "stream",
          "name": "stderr",
          "text": [
            "\r 88%|████████▊ | 883/1000 [02:00<00:15,  7.48it/s]"
          ]
        },
        {
          "output_type": "stream",
          "name": "stdout",
          "text": [
            "10 iterations of epochs 883/1000\n",
            "Average recon_error: 17.543\n",
            "Average perplexity: 10.676\n",
            "\n",
            "20 iterations of epochs 883/1000\n",
            "Average recon_error: 14.480\n",
            "Average perplexity: 11.225\n",
            "\n",
            "30 iterations of epochs 883/1000\n",
            "Average recon_error: 17.120\n",
            "Average perplexity: 10.671\n",
            "\n",
            "10 iterations of epochs 884/1000\n",
            "Average recon_error: 16.382\n",
            "Average perplexity: 10.510\n",
            "\n",
            "20 iterations of epochs 884/1000\n",
            "Average recon_error: 15.991\n",
            "Average perplexity: 11.767\n",
            "\n",
            "30 iterations of epochs 884/1000\n",
            "Average recon_error: 18.070\n",
            "Average perplexity: 11.464\n",
            "\n"
          ]
        },
        {
          "output_type": "stream",
          "name": "stderr",
          "text": [
            " 88%|████████▊ | 885/1000 [02:00<00:15,  7.56it/s]"
          ]
        },
        {
          "output_type": "stream",
          "name": "stdout",
          "text": [
            "10 iterations of epochs 885/1000\n",
            "Average recon_error: 17.465\n",
            "Average perplexity: 9.751\n",
            "\n",
            "20 iterations of epochs 885/1000\n",
            "Average recon_error: 16.375\n",
            "Average perplexity: 10.105\n",
            "\n",
            "30 iterations of epochs 885/1000\n",
            "Average recon_error: 16.898\n",
            "Average perplexity: 11.188\n",
            "\n",
            "10 iterations of epochs 886/1000\n",
            "Average recon_error: 15.483\n",
            "Average perplexity: 11.784\n",
            "\n",
            "20 iterations of epochs 886/1000\n",
            "Average recon_error: 17.802\n",
            "Average perplexity: 10.429\n",
            "\n",
            "30 iterations of epochs 886/1000\n",
            "Average recon_error: 16.851\n",
            "Average perplexity: 11.424\n",
            "\n"
          ]
        },
        {
          "output_type": "stream",
          "name": "stderr",
          "text": [
            " 89%|████████▊ | 887/1000 [02:00<00:14,  7.63it/s]"
          ]
        },
        {
          "output_type": "stream",
          "name": "stdout",
          "text": [
            "10 iterations of epochs 887/1000\n",
            "Average recon_error: 18.073\n",
            "Average perplexity: 10.616\n",
            "\n",
            "20 iterations of epochs 887/1000\n",
            "Average recon_error: 15.561\n",
            "Average perplexity: 12.050\n",
            "\n",
            "30 iterations of epochs 887/1000\n",
            "Average recon_error: 16.960\n",
            "Average perplexity: 9.877\n",
            "\n",
            "10 iterations of epochs 888/1000\n",
            "Average recon_error: 17.497\n",
            "Average perplexity: 11.084\n",
            "\n",
            "20 iterations of epochs 888/1000\n",
            "Average recon_error: 16.642\n",
            "Average perplexity: 10.843\n",
            "\n",
            "30 iterations of epochs 888/1000\n",
            "Average recon_error: 16.966\n",
            "Average perplexity: 11.502\n",
            "\n"
          ]
        },
        {
          "output_type": "stream",
          "name": "stderr",
          "text": [
            " 89%|████████▉ | 889/1000 [02:00<00:14,  7.63it/s]"
          ]
        },
        {
          "output_type": "stream",
          "name": "stdout",
          "text": [
            "10 iterations of epochs 889/1000\n",
            "Average recon_error: 16.812\n",
            "Average perplexity: 10.604\n",
            "\n",
            "20 iterations of epochs 889/1000\n",
            "Average recon_error: 17.356\n",
            "Average perplexity: 11.297\n",
            "\n",
            "30 iterations of epochs 889/1000\n",
            "Average recon_error: 15.756\n",
            "Average perplexity: 10.800\n",
            "\n",
            "10 iterations of epochs 890/1000\n",
            "Average recon_error: 17.632\n",
            "Average perplexity: 11.679\n",
            "\n",
            "20 iterations of epochs 890/1000\n",
            "Average recon_error: 17.179\n",
            "Average perplexity: 10.618\n",
            "\n",
            "30 iterations of epochs 890/1000\n",
            "Average recon_error: 17.549\n",
            "Average perplexity: 11.198\n",
            "\n"
          ]
        },
        {
          "output_type": "stream",
          "name": "stderr",
          "text": [
            " 89%|████████▉ | 891/1000 [02:01<00:14,  7.65it/s]"
          ]
        },
        {
          "output_type": "stream",
          "name": "stdout",
          "text": [
            "10 iterations of epochs 891/1000\n",
            "Average recon_error: 17.051\n",
            "Average perplexity: 12.798\n",
            "\n",
            "20 iterations of epochs 891/1000\n",
            "Average recon_error: 15.033\n",
            "Average perplexity: 11.343\n",
            "\n",
            "30 iterations of epochs 891/1000\n",
            "Average recon_error: 17.239\n",
            "Average perplexity: 10.535\n",
            "\n",
            "10 iterations of epochs 892/1000\n",
            "Average recon_error: 17.005\n",
            "Average perplexity: 11.493\n",
            "\n",
            "20 iterations of epochs 892/1000\n",
            "Average recon_error: 16.875\n",
            "Average perplexity: 11.356\n",
            "\n",
            "30 iterations of epochs 892/1000\n",
            "Average recon_error: 16.343\n",
            "Average perplexity: 11.381\n",
            "\n"
          ]
        },
        {
          "output_type": "stream",
          "name": "stderr",
          "text": [
            " 89%|████████▉ | 893/1000 [02:01<00:13,  7.76it/s]"
          ]
        },
        {
          "output_type": "stream",
          "name": "stdout",
          "text": [
            "10 iterations of epochs 893/1000\n",
            "Average recon_error: 16.836\n",
            "Average perplexity: 11.894\n",
            "\n",
            "20 iterations of epochs 893/1000\n",
            "Average recon_error: 17.537\n",
            "Average perplexity: 10.260\n",
            "\n",
            "30 iterations of epochs 893/1000\n",
            "Average recon_error: 16.523\n",
            "Average perplexity: 10.854\n",
            "\n",
            "10 iterations of epochs 894/1000\n",
            "Average recon_error: 17.230\n",
            "Average perplexity: 11.317\n",
            "\n",
            "20 iterations of epochs 894/1000\n",
            "Average recon_error: 16.158\n",
            "Average perplexity: 11.602\n",
            "\n",
            "30 iterations of epochs 894/1000\n",
            "Average recon_error: 17.191\n",
            "Average perplexity: 10.255\n",
            "\n"
          ]
        },
        {
          "output_type": "stream",
          "name": "stderr",
          "text": [
            " 90%|████████▉ | 895/1000 [02:01<00:13,  7.73it/s]"
          ]
        },
        {
          "output_type": "stream",
          "name": "stdout",
          "text": [
            "10 iterations of epochs 895/1000\n",
            "Average recon_error: 15.175\n",
            "Average perplexity: 10.574\n",
            "\n",
            "20 iterations of epochs 895/1000\n",
            "Average recon_error: 16.178\n",
            "Average perplexity: 11.691\n",
            "\n",
            "30 iterations of epochs 895/1000\n",
            "Average recon_error: 16.711\n",
            "Average perplexity: 11.046\n",
            "\n",
            "10 iterations of epochs 896/1000\n",
            "Average recon_error: 16.831\n",
            "Average perplexity: 10.959\n",
            "\n",
            "20 iterations of epochs 896/1000\n",
            "Average recon_error: 17.465\n",
            "Average perplexity: 10.817\n",
            "\n",
            "30 iterations of epochs 896/1000\n",
            "Average recon_error: 17.088\n",
            "Average perplexity: 9.954\n",
            "\n"
          ]
        },
        {
          "output_type": "stream",
          "name": "stderr",
          "text": [
            " 90%|████████▉ | 897/1000 [02:01<00:13,  7.56it/s]"
          ]
        },
        {
          "output_type": "stream",
          "name": "stdout",
          "text": [
            "10 iterations of epochs 897/1000\n",
            "Average recon_error: 17.311\n",
            "Average perplexity: 11.630\n",
            "\n",
            "20 iterations of epochs 897/1000\n",
            "Average recon_error: 16.815\n",
            "Average perplexity: 10.737\n",
            "\n",
            "30 iterations of epochs 897/1000\n",
            "Average recon_error: 16.049\n",
            "Average perplexity: 11.224\n",
            "\n",
            "10 iterations of epochs 898/1000\n",
            "Average recon_error: 17.769\n",
            "Average perplexity: 10.170\n",
            "\n",
            "20 iterations of epochs 898/1000\n",
            "Average recon_error: 16.326\n",
            "Average perplexity: 11.164\n",
            "\n",
            "30 iterations of epochs 898/1000\n",
            "Average recon_error: 16.152\n",
            "Average perplexity: 11.425\n",
            "\n"
          ]
        },
        {
          "output_type": "stream",
          "name": "stderr",
          "text": [
            " 90%|████████▉ | 899/1000 [02:02<00:13,  7.77it/s]"
          ]
        },
        {
          "output_type": "stream",
          "name": "stdout",
          "text": [
            "10 iterations of epochs 899/1000\n",
            "Average recon_error: 17.235\n",
            "Average perplexity: 10.176\n",
            "\n",
            "20 iterations of epochs 899/1000\n",
            "Average recon_error: 17.716\n",
            "Average perplexity: 10.246\n",
            "\n",
            "30 iterations of epochs 899/1000\n",
            "Average recon_error: 17.341\n",
            "Average perplexity: 10.998\n",
            "\n",
            "10 iterations of epochs 900/1000\n",
            "Average recon_error: 17.400\n",
            "Average perplexity: 10.350\n",
            "\n",
            "20 iterations of epochs 900/1000\n",
            "Average recon_error: 16.482\n",
            "Average perplexity: 11.679\n",
            "\n",
            "30 iterations of epochs 900/1000\n",
            "Average recon_error: 17.178\n",
            "Average perplexity: 10.803\n",
            "\n"
          ]
        },
        {
          "output_type": "stream",
          "name": "stderr",
          "text": [
            " 90%|█████████ | 901/1000 [02:02<00:12,  7.83it/s]"
          ]
        },
        {
          "output_type": "stream",
          "name": "stdout",
          "text": [
            "10 iterations of epochs 901/1000\n",
            "Average recon_error: 16.109\n",
            "Average perplexity: 11.959\n",
            "\n",
            "20 iterations of epochs 901/1000\n",
            "Average recon_error: 15.717\n",
            "Average perplexity: 12.002\n",
            "\n",
            "30 iterations of epochs 901/1000\n",
            "Average recon_error: 16.689\n",
            "Average perplexity: 9.961\n",
            "\n",
            "10 iterations of epochs 902/1000\n",
            "Average recon_error: 15.713\n",
            "Average perplexity: 11.182\n",
            "\n",
            "20 iterations of epochs 902/1000\n",
            "Average recon_error: 16.567\n",
            "Average perplexity: 10.123\n",
            "\n",
            "30 iterations of epochs 902/1000\n",
            "Average recon_error: 16.562\n",
            "Average perplexity: 10.382\n",
            "\n"
          ]
        },
        {
          "output_type": "stream",
          "name": "stderr",
          "text": [
            " 90%|█████████ | 903/1000 [02:02<00:13,  7.33it/s]"
          ]
        },
        {
          "output_type": "stream",
          "name": "stdout",
          "text": [
            "10 iterations of epochs 903/1000\n",
            "Average recon_error: 16.811\n",
            "Average perplexity: 11.080\n",
            "\n",
            "20 iterations of epochs 903/1000\n",
            "Average recon_error: 17.341\n",
            "Average perplexity: 10.971\n",
            "\n",
            "30 iterations of epochs 903/1000\n",
            "Average recon_error: 16.480\n",
            "Average perplexity: 10.502\n",
            "\n",
            "10 iterations of epochs 904/1000\n",
            "Average recon_error: 17.793\n",
            "Average perplexity: 11.010\n",
            "\n"
          ]
        },
        {
          "output_type": "stream",
          "name": "stderr",
          "text": [
            "\r 90%|█████████ | 904/1000 [02:02<00:15,  6.31it/s]"
          ]
        },
        {
          "output_type": "stream",
          "name": "stdout",
          "text": [
            "20 iterations of epochs 904/1000\n",
            "Average recon_error: 16.388\n",
            "Average perplexity: 10.767\n",
            "\n",
            "30 iterations of epochs 904/1000\n",
            "Average recon_error: 16.521\n",
            "Average perplexity: 11.403\n",
            "\n",
            "10 iterations of epochs 905/1000\n",
            "Average recon_error: 18.075\n",
            "Average perplexity: 11.750\n",
            "\n",
            "20 iterations of epochs 905/1000\n",
            "Average recon_error: 17.093\n",
            "Average perplexity: 11.477\n",
            "\n"
          ]
        },
        {
          "output_type": "stream",
          "name": "stderr",
          "text": [
            "\r 90%|█████████ | 905/1000 [02:03<00:15,  5.99it/s]"
          ]
        },
        {
          "output_type": "stream",
          "name": "stdout",
          "text": [
            "30 iterations of epochs 905/1000\n",
            "Average recon_error: 17.691\n",
            "Average perplexity: 11.769\n",
            "\n",
            "10 iterations of epochs 906/1000\n",
            "Average recon_error: 15.841\n",
            "Average perplexity: 11.122\n",
            "\n",
            "20 iterations of epochs 906/1000\n",
            "Average recon_error: 16.370\n",
            "Average perplexity: 10.922\n",
            "\n",
            "30 iterations of epochs 906/1000\n",
            "Average recon_error: 16.479\n",
            "Average perplexity: 11.360\n",
            "\n"
          ]
        },
        {
          "output_type": "stream",
          "name": "stderr",
          "text": [
            " 91%|█████████ | 907/1000 [02:03<00:15,  5.83it/s]"
          ]
        },
        {
          "output_type": "stream",
          "name": "stdout",
          "text": [
            "10 iterations of epochs 907/1000\n",
            "Average recon_error: 16.146\n",
            "Average perplexity: 10.091\n",
            "\n",
            "20 iterations of epochs 907/1000\n",
            "Average recon_error: 16.962\n",
            "Average perplexity: 11.299\n",
            "\n",
            "30 iterations of epochs 907/1000\n",
            "Average recon_error: 16.982\n",
            "Average perplexity: 12.410\n",
            "\n",
            "10 iterations of epochs 908/1000\n",
            "Average recon_error: 15.988\n",
            "Average perplexity: 10.678\n",
            "\n"
          ]
        },
        {
          "output_type": "stream",
          "name": "stderr",
          "text": [
            "\r 91%|█████████ | 908/1000 [02:03<00:16,  5.56it/s]"
          ]
        },
        {
          "output_type": "stream",
          "name": "stdout",
          "text": [
            "20 iterations of epochs 908/1000\n",
            "Average recon_error: 17.890\n",
            "Average perplexity: 11.067\n",
            "\n",
            "30 iterations of epochs 908/1000\n",
            "Average recon_error: 17.700\n",
            "Average perplexity: 10.918\n",
            "\n",
            "10 iterations of epochs 909/1000\n",
            "Average recon_error: 17.521\n",
            "Average perplexity: 10.980\n",
            "\n",
            "20 iterations of epochs 909/1000\n",
            "Average recon_error: 17.713\n",
            "Average perplexity: 11.872\n",
            "\n"
          ]
        },
        {
          "output_type": "stream",
          "name": "stderr",
          "text": [
            "\r 91%|█████████ | 909/1000 [02:03<00:16,  5.61it/s]"
          ]
        },
        {
          "output_type": "stream",
          "name": "stdout",
          "text": [
            "30 iterations of epochs 909/1000\n",
            "Average recon_error: 14.760\n",
            "Average perplexity: 10.501\n",
            "\n",
            "10 iterations of epochs 910/1000\n",
            "Average recon_error: 16.855\n",
            "Average perplexity: 11.186\n",
            "\n",
            "20 iterations of epochs 910/1000\n",
            "Average recon_error: 16.936\n",
            "Average perplexity: 10.761\n",
            "\n",
            "30 iterations of epochs 910/1000\n",
            "Average recon_error: 17.261\n",
            "Average perplexity: 11.841\n",
            "\n"
          ]
        },
        {
          "output_type": "stream",
          "name": "stderr",
          "text": [
            " 91%|█████████ | 911/1000 [02:04<00:15,  5.70it/s]"
          ]
        },
        {
          "output_type": "stream",
          "name": "stdout",
          "text": [
            "10 iterations of epochs 911/1000\n",
            "Average recon_error: 16.760\n",
            "Average perplexity: 11.156\n",
            "\n",
            "20 iterations of epochs 911/1000\n",
            "Average recon_error: 16.630\n",
            "Average perplexity: 10.111\n",
            "\n",
            "30 iterations of epochs 911/1000\n",
            "Average recon_error: 16.768\n",
            "Average perplexity: 10.825\n",
            "\n",
            "10 iterations of epochs 912/1000\n",
            "Average recon_error: 16.758\n",
            "Average perplexity: 9.827\n",
            "\n"
          ]
        },
        {
          "output_type": "stream",
          "name": "stderr",
          "text": [
            "\r 91%|█████████ | 912/1000 [02:04<00:15,  5.74it/s]"
          ]
        },
        {
          "output_type": "stream",
          "name": "stdout",
          "text": [
            "20 iterations of epochs 912/1000\n",
            "Average recon_error: 19.572\n",
            "Average perplexity: 11.991\n",
            "\n",
            "30 iterations of epochs 912/1000\n",
            "Average recon_error: 17.123\n",
            "Average perplexity: 11.260\n",
            "\n",
            "10 iterations of epochs 913/1000\n",
            "Average recon_error: 16.434\n",
            "Average perplexity: 10.814\n",
            "\n",
            "20 iterations of epochs 913/1000\n",
            "Average recon_error: 16.330\n",
            "Average perplexity: 10.996\n",
            "\n"
          ]
        },
        {
          "output_type": "stream",
          "name": "stderr",
          "text": [
            "\r 91%|█████████▏| 913/1000 [02:04<00:15,  5.50it/s]"
          ]
        },
        {
          "output_type": "stream",
          "name": "stdout",
          "text": [
            "30 iterations of epochs 913/1000\n",
            "Average recon_error: 16.649\n",
            "Average perplexity: 11.803\n",
            "\n",
            "10 iterations of epochs 914/1000\n",
            "Average recon_error: 16.756\n",
            "Average perplexity: 11.225\n",
            "\n",
            "20 iterations of epochs 914/1000\n",
            "Average recon_error: 17.073\n",
            "Average perplexity: 10.466\n",
            "\n",
            "30 iterations of epochs 914/1000\n",
            "Average recon_error: 17.994\n",
            "Average perplexity: 11.114\n",
            "\n"
          ]
        },
        {
          "output_type": "stream",
          "name": "stderr",
          "text": [
            " 92%|█████████▏| 915/1000 [02:05<00:15,  5.41it/s]"
          ]
        },
        {
          "output_type": "stream",
          "name": "stdout",
          "text": [
            "10 iterations of epochs 915/1000\n",
            "Average recon_error: 15.455\n",
            "Average perplexity: 10.899\n",
            "\n",
            "20 iterations of epochs 915/1000\n",
            "Average recon_error: 15.432\n",
            "Average perplexity: 10.898\n",
            "\n",
            "30 iterations of epochs 915/1000\n",
            "Average recon_error: 15.572\n",
            "Average perplexity: 11.769\n",
            "\n",
            "10 iterations of epochs 916/1000\n",
            "Average recon_error: 15.755\n",
            "Average perplexity: 11.079\n",
            "\n"
          ]
        },
        {
          "output_type": "stream",
          "name": "stderr",
          "text": [
            "\r 92%|█████████▏| 916/1000 [02:05<00:15,  5.34it/s]"
          ]
        },
        {
          "output_type": "stream",
          "name": "stdout",
          "text": [
            "20 iterations of epochs 916/1000\n",
            "Average recon_error: 15.307\n",
            "Average perplexity: 11.383\n",
            "\n",
            "30 iterations of epochs 916/1000\n",
            "Average recon_error: 17.776\n",
            "Average perplexity: 11.533\n",
            "\n",
            "10 iterations of epochs 917/1000\n",
            "Average recon_error: 18.313\n",
            "Average perplexity: 11.409\n",
            "\n",
            "20 iterations of epochs 917/1000\n",
            "Average recon_error: 18.248\n",
            "Average perplexity: 10.701\n",
            "\n"
          ]
        },
        {
          "output_type": "stream",
          "name": "stderr",
          "text": [
            "\r 92%|█████████▏| 917/1000 [02:05<00:15,  5.35it/s]"
          ]
        },
        {
          "output_type": "stream",
          "name": "stdout",
          "text": [
            "30 iterations of epochs 917/1000\n",
            "Average recon_error: 17.273\n",
            "Average perplexity: 11.791\n",
            "\n",
            "10 iterations of epochs 918/1000\n",
            "Average recon_error: 15.980\n",
            "Average perplexity: 11.114\n",
            "\n",
            "20 iterations of epochs 918/1000\n",
            "Average recon_error: 17.775\n",
            "Average perplexity: 10.382\n",
            "\n"
          ]
        },
        {
          "output_type": "stream",
          "name": "stderr",
          "text": [
            " 92%|█████████▏| 919/1000 [02:05<00:14,  5.61it/s]"
          ]
        },
        {
          "output_type": "stream",
          "name": "stdout",
          "text": [
            "30 iterations of epochs 918/1000\n",
            "Average recon_error: 16.601\n",
            "Average perplexity: 10.862\n",
            "\n",
            "10 iterations of epochs 919/1000\n",
            "Average recon_error: 16.598\n",
            "Average perplexity: 10.404\n",
            "\n",
            "20 iterations of epochs 919/1000\n",
            "Average recon_error: 15.292\n",
            "Average perplexity: 10.800\n",
            "\n",
            "30 iterations of epochs 919/1000\n",
            "Average recon_error: 17.702\n",
            "Average perplexity: 11.012\n",
            "\n"
          ]
        },
        {
          "output_type": "stream",
          "name": "stderr",
          "text": [
            "\r 92%|█████████▏| 920/1000 [02:05<00:13,  6.05it/s]"
          ]
        },
        {
          "output_type": "stream",
          "name": "stdout",
          "text": [
            "10 iterations of epochs 920/1000\n",
            "Average recon_error: 16.991\n",
            "Average perplexity: 10.505\n",
            "\n",
            "20 iterations of epochs 920/1000\n",
            "Average recon_error: 19.181\n",
            "Average perplexity: 10.865\n",
            "\n",
            "30 iterations of epochs 920/1000\n",
            "Average recon_error: 15.940\n",
            "Average perplexity: 11.328\n",
            "\n",
            "10 iterations of epochs 921/1000\n",
            "Average recon_error: 16.466\n",
            "Average perplexity: 10.906\n",
            "\n",
            "20 iterations of epochs 921/1000\n",
            "Average recon_error: 17.260\n",
            "Average perplexity: 10.539\n",
            "\n",
            "30 iterations of epochs 921/1000\n",
            "Average recon_error: 17.567\n",
            "Average perplexity: 10.650\n",
            "\n"
          ]
        },
        {
          "output_type": "stream",
          "name": "stderr",
          "text": [
            " 92%|█████████▏| 922/1000 [02:06<00:11,  6.90it/s]"
          ]
        },
        {
          "output_type": "stream",
          "name": "stdout",
          "text": [
            "10 iterations of epochs 922/1000\n",
            "Average recon_error: 16.953\n",
            "Average perplexity: 10.871\n",
            "\n",
            "20 iterations of epochs 922/1000\n",
            "Average recon_error: 15.770\n",
            "Average perplexity: 10.890\n",
            "\n",
            "30 iterations of epochs 922/1000\n",
            "Average recon_error: 17.292\n",
            "Average perplexity: 11.546\n",
            "\n",
            "10 iterations of epochs 923/1000\n",
            "Average recon_error: 16.421\n",
            "Average perplexity: 10.936\n",
            "\n",
            "20 iterations of epochs 923/1000\n",
            "Average recon_error: 17.796\n",
            "Average perplexity: 11.096\n",
            "\n",
            "30 iterations of epochs 923/1000\n",
            "Average recon_error: 16.640\n",
            "Average perplexity: 11.018\n",
            "\n"
          ]
        },
        {
          "output_type": "stream",
          "name": "stderr",
          "text": [
            " 92%|█████████▏| 924/1000 [02:06<00:10,  7.27it/s]"
          ]
        },
        {
          "output_type": "stream",
          "name": "stdout",
          "text": [
            "10 iterations of epochs 924/1000\n",
            "Average recon_error: 17.943\n",
            "Average perplexity: 10.635\n",
            "\n",
            "20 iterations of epochs 924/1000\n",
            "Average recon_error: 17.589\n",
            "Average perplexity: 10.887\n",
            "\n",
            "30 iterations of epochs 924/1000\n",
            "Average recon_error: 16.882\n",
            "Average perplexity: 11.130\n",
            "\n",
            "10 iterations of epochs 925/1000\n",
            "Average recon_error: 16.938\n",
            "Average perplexity: 10.582\n",
            "\n",
            "20 iterations of epochs 925/1000\n",
            "Average recon_error: 16.595\n",
            "Average perplexity: 11.274\n",
            "\n",
            "30 iterations of epochs 925/1000\n",
            "Average recon_error: 16.235\n",
            "Average perplexity: 10.657\n",
            "\n"
          ]
        },
        {
          "output_type": "stream",
          "name": "stderr",
          "text": [
            " 93%|█████████▎| 926/1000 [02:06<00:09,  7.48it/s]"
          ]
        },
        {
          "output_type": "stream",
          "name": "stdout",
          "text": [
            "10 iterations of epochs 926/1000\n",
            "Average recon_error: 17.092\n",
            "Average perplexity: 11.906\n",
            "\n",
            "20 iterations of epochs 926/1000\n",
            "Average recon_error: 15.295\n",
            "Average perplexity: 10.784\n",
            "\n",
            "30 iterations of epochs 926/1000\n",
            "Average recon_error: 17.769\n",
            "Average perplexity: 11.190\n",
            "\n",
            "10 iterations of epochs 927/1000\n",
            "Average recon_error: 17.983\n",
            "Average perplexity: 11.271\n",
            "\n",
            "20 iterations of epochs 927/1000\n",
            "Average recon_error: 17.445\n",
            "Average perplexity: 10.982\n",
            "\n",
            "30 iterations of epochs 927/1000\n",
            "Average recon_error: 18.900\n",
            "Average perplexity: 10.756\n",
            "\n"
          ]
        },
        {
          "output_type": "stream",
          "name": "stderr",
          "text": [
            " 93%|█████████▎| 928/1000 [02:06<00:09,  7.39it/s]"
          ]
        },
        {
          "output_type": "stream",
          "name": "stdout",
          "text": [
            "10 iterations of epochs 928/1000\n",
            "Average recon_error: 16.170\n",
            "Average perplexity: 11.053\n",
            "\n",
            "20 iterations of epochs 928/1000\n",
            "Average recon_error: 16.695\n",
            "Average perplexity: 11.399\n",
            "\n",
            "30 iterations of epochs 928/1000\n",
            "Average recon_error: 17.761\n",
            "Average perplexity: 10.773\n",
            "\n",
            "10 iterations of epochs 929/1000\n",
            "Average recon_error: 16.702\n",
            "Average perplexity: 11.216\n",
            "\n",
            "20 iterations of epochs 929/1000\n",
            "Average recon_error: 16.379\n",
            "Average perplexity: 10.535\n",
            "\n",
            "30 iterations of epochs 929/1000\n",
            "Average recon_error: 16.209\n",
            "Average perplexity: 10.477\n",
            "\n"
          ]
        },
        {
          "output_type": "stream",
          "name": "stderr",
          "text": [
            " 93%|█████████▎| 930/1000 [02:07<00:09,  7.54it/s]"
          ]
        },
        {
          "output_type": "stream",
          "name": "stdout",
          "text": [
            "10 iterations of epochs 930/1000\n",
            "Average recon_error: 16.609\n",
            "Average perplexity: 10.883\n",
            "\n",
            "20 iterations of epochs 930/1000\n",
            "Average recon_error: 16.870\n",
            "Average perplexity: 10.925\n",
            "\n",
            "30 iterations of epochs 930/1000\n",
            "Average recon_error: 17.263\n",
            "Average perplexity: 10.802\n",
            "\n",
            "10 iterations of epochs 931/1000\n",
            "Average recon_error: 17.249\n",
            "Average perplexity: 9.532\n",
            "\n",
            "20 iterations of epochs 931/1000\n",
            "Average recon_error: 16.825\n",
            "Average perplexity: 10.819\n",
            "\n",
            "30 iterations of epochs 931/1000\n",
            "Average recon_error: 17.023\n",
            "Average perplexity: 11.225\n",
            "\n"
          ]
        },
        {
          "output_type": "stream",
          "name": "stderr",
          "text": [
            " 93%|█████████▎| 932/1000 [02:07<00:08,  7.73it/s]"
          ]
        },
        {
          "output_type": "stream",
          "name": "stdout",
          "text": [
            "10 iterations of epochs 932/1000\n",
            "Average recon_error: 16.757\n",
            "Average perplexity: 11.016\n",
            "\n",
            "20 iterations of epochs 932/1000\n",
            "Average recon_error: 17.998\n",
            "Average perplexity: 11.628\n",
            "\n",
            "30 iterations of epochs 932/1000\n",
            "Average recon_error: 15.447\n",
            "Average perplexity: 11.155\n",
            "\n",
            "10 iterations of epochs 933/1000\n",
            "Average recon_error: 17.258\n",
            "Average perplexity: 11.224\n",
            "\n",
            "20 iterations of epochs 933/1000\n",
            "Average recon_error: 15.999\n",
            "Average perplexity: 10.863\n",
            "\n",
            "30 iterations of epochs 933/1000\n",
            "Average recon_error: 17.598\n",
            "Average perplexity: 10.962\n",
            "\n"
          ]
        },
        {
          "output_type": "stream",
          "name": "stderr",
          "text": [
            " 93%|█████████▎| 934/1000 [02:07<00:08,  7.70it/s]"
          ]
        },
        {
          "output_type": "stream",
          "name": "stdout",
          "text": [
            "10 iterations of epochs 934/1000\n",
            "Average recon_error: 14.772\n",
            "Average perplexity: 11.641\n",
            "\n",
            "20 iterations of epochs 934/1000\n",
            "Average recon_error: 18.035\n",
            "Average perplexity: 10.853\n",
            "\n",
            "30 iterations of epochs 934/1000\n",
            "Average recon_error: 15.979\n",
            "Average perplexity: 10.642\n",
            "\n",
            "10 iterations of epochs 935/1000\n",
            "Average recon_error: 15.421\n",
            "Average perplexity: 10.689\n",
            "\n",
            "20 iterations of epochs 935/1000\n",
            "Average recon_error: 18.604\n",
            "Average perplexity: 11.095\n",
            "\n",
            "30 iterations of epochs 935/1000\n",
            "Average recon_error: 17.743\n",
            "Average perplexity: 11.130\n",
            "\n"
          ]
        },
        {
          "output_type": "stream",
          "name": "stderr",
          "text": [
            " 94%|█████████▎| 936/1000 [02:07<00:08,  7.79it/s]"
          ]
        },
        {
          "output_type": "stream",
          "name": "stdout",
          "text": [
            "10 iterations of epochs 936/1000\n",
            "Average recon_error: 18.768\n",
            "Average perplexity: 10.750\n",
            "\n",
            "20 iterations of epochs 936/1000\n",
            "Average recon_error: 17.371\n",
            "Average perplexity: 11.269\n",
            "\n",
            "30 iterations of epochs 936/1000\n",
            "Average recon_error: 16.055\n",
            "Average perplexity: 10.777\n",
            "\n",
            "10 iterations of epochs 937/1000\n",
            "Average recon_error: 16.585\n",
            "Average perplexity: 11.257\n",
            "\n",
            "20 iterations of epochs 937/1000\n",
            "Average recon_error: 16.373\n",
            "Average perplexity: 10.626\n",
            "\n",
            "30 iterations of epochs 937/1000\n",
            "Average recon_error: 15.133\n",
            "Average perplexity: 10.870\n",
            "\n"
          ]
        },
        {
          "output_type": "stream",
          "name": "stderr",
          "text": [
            " 94%|█████████▍| 938/1000 [02:08<00:07,  7.85it/s]"
          ]
        },
        {
          "output_type": "stream",
          "name": "stdout",
          "text": [
            "10 iterations of epochs 938/1000\n",
            "Average recon_error: 17.468\n",
            "Average perplexity: 11.685\n",
            "\n",
            "20 iterations of epochs 938/1000\n",
            "Average recon_error: 17.052\n",
            "Average perplexity: 10.930\n",
            "\n",
            "30 iterations of epochs 938/1000\n",
            "Average recon_error: 17.269\n",
            "Average perplexity: 11.256\n",
            "\n",
            "10 iterations of epochs 939/1000\n",
            "Average recon_error: 16.433\n",
            "Average perplexity: 11.188\n",
            "\n",
            "20 iterations of epochs 939/1000\n",
            "Average recon_error: 17.198\n",
            "Average perplexity: 11.694\n",
            "\n",
            "30 iterations of epochs 939/1000\n",
            "Average recon_error: 16.097\n",
            "Average perplexity: 10.196\n",
            "\n"
          ]
        },
        {
          "output_type": "stream",
          "name": "stderr",
          "text": [
            " 94%|█████████▍| 940/1000 [02:08<00:07,  7.75it/s]"
          ]
        },
        {
          "output_type": "stream",
          "name": "stdout",
          "text": [
            "10 iterations of epochs 940/1000\n",
            "Average recon_error: 17.868\n",
            "Average perplexity: 10.399\n",
            "\n",
            "20 iterations of epochs 940/1000\n",
            "Average recon_error: 19.203\n",
            "Average perplexity: 11.809\n",
            "\n",
            "30 iterations of epochs 940/1000\n",
            "Average recon_error: 16.811\n",
            "Average perplexity: 10.986\n",
            "\n",
            "10 iterations of epochs 941/1000\n",
            "Average recon_error: 18.795\n",
            "Average perplexity: 11.428\n",
            "\n",
            "20 iterations of epochs 941/1000\n",
            "Average recon_error: 17.241\n",
            "Average perplexity: 10.786\n",
            "\n",
            "30 iterations of epochs 941/1000\n",
            "Average recon_error: 16.911\n",
            "Average perplexity: 11.073\n",
            "\n"
          ]
        },
        {
          "output_type": "stream",
          "name": "stderr",
          "text": [
            " 94%|█████████▍| 942/1000 [02:08<00:07,  7.76it/s]"
          ]
        },
        {
          "output_type": "stream",
          "name": "stdout",
          "text": [
            "10 iterations of epochs 942/1000\n",
            "Average recon_error: 18.479\n",
            "Average perplexity: 10.944\n",
            "\n",
            "20 iterations of epochs 942/1000\n",
            "Average recon_error: 16.663\n",
            "Average perplexity: 10.735\n",
            "\n",
            "30 iterations of epochs 942/1000\n",
            "Average recon_error: 17.057\n",
            "Average perplexity: 11.154\n",
            "\n",
            "10 iterations of epochs 943/1000\n",
            "Average recon_error: 16.903\n",
            "Average perplexity: 10.340\n",
            "\n",
            "20 iterations of epochs 943/1000\n",
            "Average recon_error: 16.972\n",
            "Average perplexity: 10.350\n",
            "\n",
            "30 iterations of epochs 943/1000\n",
            "Average recon_error: 16.215\n",
            "Average perplexity: 10.488\n",
            "\n"
          ]
        },
        {
          "output_type": "stream",
          "name": "stderr",
          "text": [
            " 94%|█████████▍| 944/1000 [02:08<00:07,  7.61it/s]"
          ]
        },
        {
          "output_type": "stream",
          "name": "stdout",
          "text": [
            "10 iterations of epochs 944/1000\n",
            "Average recon_error: 17.899\n",
            "Average perplexity: 10.324\n",
            "\n",
            "20 iterations of epochs 944/1000\n",
            "Average recon_error: 17.039\n",
            "Average perplexity: 10.676\n",
            "\n",
            "30 iterations of epochs 944/1000\n",
            "Average recon_error: 17.925\n",
            "Average perplexity: 10.999\n",
            "\n",
            "10 iterations of epochs 945/1000\n",
            "Average recon_error: 15.946\n",
            "Average perplexity: 10.677\n",
            "\n",
            "20 iterations of epochs 945/1000\n",
            "Average recon_error: 17.790\n",
            "Average perplexity: 11.669\n",
            "\n",
            "30 iterations of epochs 945/1000\n",
            "Average recon_error: 16.181\n",
            "Average perplexity: 10.211\n",
            "\n"
          ]
        },
        {
          "output_type": "stream",
          "name": "stderr",
          "text": [
            " 95%|█████████▍| 946/1000 [02:09<00:07,  7.36it/s]"
          ]
        },
        {
          "output_type": "stream",
          "name": "stdout",
          "text": [
            "10 iterations of epochs 946/1000\n",
            "Average recon_error: 18.078\n",
            "Average perplexity: 10.552\n",
            "\n",
            "20 iterations of epochs 946/1000\n",
            "Average recon_error: 16.885\n",
            "Average perplexity: 10.772\n",
            "\n",
            "30 iterations of epochs 946/1000\n",
            "Average recon_error: 17.378\n",
            "Average perplexity: 10.183\n",
            "\n",
            "10 iterations of epochs 947/1000\n",
            "Average recon_error: 17.262\n",
            "Average perplexity: 11.241\n",
            "\n",
            "20 iterations of epochs 947/1000\n",
            "Average recon_error: 16.552\n",
            "Average perplexity: 10.862\n",
            "\n"
          ]
        },
        {
          "output_type": "stream",
          "name": "stderr",
          "text": [
            " 95%|█████████▍| 948/1000 [02:09<00:06,  7.58it/s]"
          ]
        },
        {
          "output_type": "stream",
          "name": "stdout",
          "text": [
            "30 iterations of epochs 947/1000\n",
            "Average recon_error: 15.246\n",
            "Average perplexity: 10.552\n",
            "\n",
            "10 iterations of epochs 948/1000\n",
            "Average recon_error: 15.867\n",
            "Average perplexity: 11.026\n",
            "\n",
            "20 iterations of epochs 948/1000\n",
            "Average recon_error: 17.762\n",
            "Average perplexity: 11.214\n",
            "\n",
            "30 iterations of epochs 948/1000\n",
            "Average recon_error: 17.903\n",
            "Average perplexity: 10.638\n",
            "\n",
            "10 iterations of epochs 949/1000\n",
            "Average recon_error: 17.334\n",
            "Average perplexity: 10.960\n",
            "\n"
          ]
        },
        {
          "output_type": "stream",
          "name": "stderr",
          "text": [
            " 95%|█████████▌| 950/1000 [02:09<00:06,  7.68it/s]"
          ]
        },
        {
          "output_type": "stream",
          "name": "stdout",
          "text": [
            "20 iterations of epochs 949/1000\n",
            "Average recon_error: 16.068\n",
            "Average perplexity: 11.155\n",
            "\n",
            "30 iterations of epochs 949/1000\n",
            "Average recon_error: 17.014\n",
            "Average perplexity: 10.649\n",
            "\n",
            "10 iterations of epochs 950/1000\n",
            "Average recon_error: 16.193\n",
            "Average perplexity: 11.469\n",
            "\n",
            "20 iterations of epochs 950/1000\n",
            "Average recon_error: 16.740\n",
            "Average perplexity: 10.764\n",
            "\n",
            "30 iterations of epochs 950/1000\n",
            "Average recon_error: 15.758\n",
            "Average perplexity: 11.180\n",
            "\n"
          ]
        },
        {
          "output_type": "stream",
          "name": "stderr",
          "text": [
            "\r 95%|█████████▌| 951/1000 [02:09<00:06,  7.53it/s]"
          ]
        },
        {
          "output_type": "stream",
          "name": "stdout",
          "text": [
            "10 iterations of epochs 951/1000\n",
            "Average recon_error: 17.979\n",
            "Average perplexity: 10.492\n",
            "\n",
            "20 iterations of epochs 951/1000\n",
            "Average recon_error: 16.802\n",
            "Average perplexity: 11.307\n",
            "\n",
            "30 iterations of epochs 951/1000\n",
            "Average recon_error: 17.052\n",
            "Average perplexity: 10.332\n",
            "\n",
            "10 iterations of epochs 952/1000\n",
            "Average recon_error: 16.106\n",
            "Average perplexity: 11.036\n",
            "\n",
            "20 iterations of epochs 952/1000\n",
            "Average recon_error: 17.833\n",
            "Average perplexity: 10.117\n",
            "\n"
          ]
        },
        {
          "output_type": "stream",
          "name": "stderr",
          "text": [
            " 95%|█████████▌| 953/1000 [02:10<00:06,  7.47it/s]"
          ]
        },
        {
          "output_type": "stream",
          "name": "stdout",
          "text": [
            "30 iterations of epochs 952/1000\n",
            "Average recon_error: 17.823\n",
            "Average perplexity: 10.207\n",
            "\n",
            "10 iterations of epochs 953/1000\n",
            "Average recon_error: 16.667\n",
            "Average perplexity: 10.270\n",
            "\n",
            "20 iterations of epochs 953/1000\n",
            "Average recon_error: 17.213\n",
            "Average perplexity: 10.961\n",
            "\n",
            "30 iterations of epochs 953/1000\n",
            "Average recon_error: 16.211\n",
            "Average perplexity: 11.015\n",
            "\n"
          ]
        },
        {
          "output_type": "stream",
          "name": "stderr",
          "text": [
            "\r 95%|█████████▌| 954/1000 [02:10<00:06,  7.37it/s]"
          ]
        },
        {
          "output_type": "stream",
          "name": "stdout",
          "text": [
            "10 iterations of epochs 954/1000\n",
            "Average recon_error: 17.067\n",
            "Average perplexity: 11.283\n",
            "\n",
            "20 iterations of epochs 954/1000\n",
            "Average recon_error: 16.602\n",
            "Average perplexity: 10.729\n",
            "\n",
            "30 iterations of epochs 954/1000\n",
            "Average recon_error: 17.690\n",
            "Average perplexity: 11.141\n",
            "\n",
            "10 iterations of epochs 955/1000\n",
            "Average recon_error: 18.477\n",
            "Average perplexity: 11.403\n",
            "\n",
            "20 iterations of epochs 955/1000\n",
            "Average recon_error: 17.451\n",
            "Average perplexity: 10.479\n",
            "\n",
            "30 iterations of epochs 955/1000\n",
            "Average recon_error: 15.809\n",
            "Average perplexity: 10.746\n",
            "\n"
          ]
        },
        {
          "output_type": "stream",
          "name": "stderr",
          "text": [
            " 96%|█████████▌| 956/1000 [02:10<00:05,  7.71it/s]"
          ]
        },
        {
          "output_type": "stream",
          "name": "stdout",
          "text": [
            "10 iterations of epochs 956/1000\n",
            "Average recon_error: 18.143\n",
            "Average perplexity: 11.356\n",
            "\n",
            "20 iterations of epochs 956/1000\n",
            "Average recon_error: 16.878\n",
            "Average perplexity: 9.819\n",
            "\n",
            "30 iterations of epochs 956/1000\n",
            "Average recon_error: 17.072\n",
            "Average perplexity: 10.766\n",
            "\n",
            "10 iterations of epochs 957/1000\n",
            "Average recon_error: 15.954\n",
            "Average perplexity: 10.946\n",
            "\n",
            "20 iterations of epochs 957/1000\n",
            "Average recon_error: 16.183\n",
            "Average perplexity: 9.983\n",
            "\n",
            "30 iterations of epochs 957/1000\n",
            "Average recon_error: 17.865\n",
            "Average perplexity: 9.875\n",
            "\n"
          ]
        },
        {
          "output_type": "stream",
          "name": "stderr",
          "text": [
            " 96%|█████████▌| 958/1000 [02:10<00:05,  7.65it/s]"
          ]
        },
        {
          "output_type": "stream",
          "name": "stdout",
          "text": [
            "10 iterations of epochs 958/1000\n",
            "Average recon_error: 18.940\n",
            "Average perplexity: 10.171\n",
            "\n",
            "20 iterations of epochs 958/1000\n",
            "Average recon_error: 17.764\n",
            "Average perplexity: 9.684\n",
            "\n",
            "30 iterations of epochs 958/1000\n",
            "Average recon_error: 17.620\n",
            "Average perplexity: 10.131\n",
            "\n",
            "10 iterations of epochs 959/1000\n",
            "Average recon_error: 17.664\n",
            "Average perplexity: 10.767\n",
            "\n",
            "20 iterations of epochs 959/1000\n",
            "Average recon_error: 17.193\n",
            "Average perplexity: 10.050\n",
            "\n",
            "30 iterations of epochs 959/1000\n",
            "Average recon_error: 16.927\n",
            "Average perplexity: 11.131\n",
            "\n"
          ]
        },
        {
          "output_type": "stream",
          "name": "stderr",
          "text": [
            " 96%|█████████▌| 960/1000 [02:11<00:05,  7.78it/s]"
          ]
        },
        {
          "output_type": "stream",
          "name": "stdout",
          "text": [
            "10 iterations of epochs 960/1000\n",
            "Average recon_error: 18.201\n",
            "Average perplexity: 10.071\n",
            "\n",
            "20 iterations of epochs 960/1000\n",
            "Average recon_error: 16.152\n",
            "Average perplexity: 11.108\n",
            "\n",
            "30 iterations of epochs 960/1000\n",
            "Average recon_error: 17.409\n",
            "Average perplexity: 11.409\n",
            "\n",
            "10 iterations of epochs 961/1000\n",
            "Average recon_error: 17.307\n",
            "Average perplexity: 11.100\n",
            "\n",
            "20 iterations of epochs 961/1000\n",
            "Average recon_error: 16.654\n",
            "Average perplexity: 11.823\n",
            "\n",
            "30 iterations of epochs 961/1000\n",
            "Average recon_error: 15.763\n",
            "Average perplexity: 10.707\n",
            "\n"
          ]
        },
        {
          "output_type": "stream",
          "name": "stderr",
          "text": [
            " 96%|█████████▌| 962/1000 [02:11<00:05,  7.51it/s]"
          ]
        },
        {
          "output_type": "stream",
          "name": "stdout",
          "text": [
            "10 iterations of epochs 962/1000\n",
            "Average recon_error: 15.959\n",
            "Average perplexity: 11.306\n",
            "\n",
            "20 iterations of epochs 962/1000\n",
            "Average recon_error: 17.582\n",
            "Average perplexity: 10.447\n",
            "\n",
            "30 iterations of epochs 962/1000\n",
            "Average recon_error: 16.874\n",
            "Average perplexity: 10.858\n",
            "\n",
            "10 iterations of epochs 963/1000\n",
            "Average recon_error: 17.172\n",
            "Average perplexity: 10.730\n",
            "\n",
            "20 iterations of epochs 963/1000\n",
            "Average recon_error: 16.978\n",
            "Average perplexity: 11.199\n",
            "\n",
            "30 iterations of epochs 963/1000\n",
            "Average recon_error: 15.534\n",
            "Average perplexity: 10.225\n",
            "\n"
          ]
        },
        {
          "output_type": "stream",
          "name": "stderr",
          "text": [
            " 96%|█████████▋| 964/1000 [02:11<00:04,  7.69it/s]"
          ]
        },
        {
          "output_type": "stream",
          "name": "stdout",
          "text": [
            "10 iterations of epochs 964/1000\n",
            "Average recon_error: 17.798\n",
            "Average perplexity: 10.917\n",
            "\n",
            "20 iterations of epochs 964/1000\n",
            "Average recon_error: 17.854\n",
            "Average perplexity: 11.254\n",
            "\n",
            "30 iterations of epochs 964/1000\n",
            "Average recon_error: 16.465\n",
            "Average perplexity: 10.498\n",
            "\n",
            "10 iterations of epochs 965/1000\n",
            "Average recon_error: 17.144\n",
            "Average perplexity: 10.768\n",
            "\n",
            "20 iterations of epochs 965/1000\n",
            "Average recon_error: 17.309\n",
            "Average perplexity: 11.081\n",
            "\n",
            "30 iterations of epochs 965/1000\n",
            "Average recon_error: 16.270\n",
            "Average perplexity: 10.030\n",
            "\n"
          ]
        },
        {
          "output_type": "stream",
          "name": "stderr",
          "text": [
            " 97%|█████████▋| 966/1000 [02:11<00:04,  7.69it/s]"
          ]
        },
        {
          "output_type": "stream",
          "name": "stdout",
          "text": [
            "10 iterations of epochs 966/1000\n",
            "Average recon_error: 14.899\n",
            "Average perplexity: 11.092\n",
            "\n",
            "20 iterations of epochs 966/1000\n",
            "Average recon_error: 17.196\n",
            "Average perplexity: 9.945\n",
            "\n",
            "30 iterations of epochs 966/1000\n",
            "Average recon_error: 16.911\n",
            "Average perplexity: 11.587\n",
            "\n",
            "10 iterations of epochs 967/1000\n",
            "Average recon_error: 16.099\n",
            "Average perplexity: 10.429\n",
            "\n",
            "20 iterations of epochs 967/1000\n",
            "Average recon_error: 17.210\n",
            "Average perplexity: 11.181\n",
            "\n",
            "30 iterations of epochs 967/1000\n",
            "Average recon_error: 17.388\n",
            "Average perplexity: 10.495\n",
            "\n"
          ]
        },
        {
          "output_type": "stream",
          "name": "stderr",
          "text": [
            " 97%|█████████▋| 968/1000 [02:12<00:04,  7.88it/s]"
          ]
        },
        {
          "output_type": "stream",
          "name": "stdout",
          "text": [
            "10 iterations of epochs 968/1000\n",
            "Average recon_error: 17.397\n",
            "Average perplexity: 10.250\n",
            "\n",
            "20 iterations of epochs 968/1000\n",
            "Average recon_error: 17.940\n",
            "Average perplexity: 11.481\n",
            "\n",
            "30 iterations of epochs 968/1000\n",
            "Average recon_error: 18.255\n",
            "Average perplexity: 11.332\n",
            "\n",
            "10 iterations of epochs 969/1000\n",
            "Average recon_error: 16.775\n",
            "Average perplexity: 10.591\n",
            "\n",
            "20 iterations of epochs 969/1000\n",
            "Average recon_error: 16.622\n",
            "Average perplexity: 11.423\n",
            "\n",
            "30 iterations of epochs 969/1000\n",
            "Average recon_error: 15.873\n",
            "Average perplexity: 10.646\n",
            "\n"
          ]
        },
        {
          "output_type": "stream",
          "name": "stderr",
          "text": [
            " 97%|█████████▋| 970/1000 [02:12<00:03,  7.68it/s]"
          ]
        },
        {
          "output_type": "stream",
          "name": "stdout",
          "text": [
            "10 iterations of epochs 970/1000\n",
            "Average recon_error: 15.189\n",
            "Average perplexity: 10.288\n",
            "\n",
            "20 iterations of epochs 970/1000\n",
            "Average recon_error: 17.815\n",
            "Average perplexity: 11.032\n",
            "\n",
            "30 iterations of epochs 970/1000\n",
            "Average recon_error: 17.556\n",
            "Average perplexity: 11.549\n",
            "\n",
            "10 iterations of epochs 971/1000\n",
            "Average recon_error: 15.752\n",
            "Average perplexity: 10.657\n",
            "\n",
            "20 iterations of epochs 971/1000\n",
            "Average recon_error: 17.776\n",
            "Average perplexity: 11.280\n",
            "\n",
            "30 iterations of epochs 971/1000\n",
            "Average recon_error: 17.168\n",
            "Average perplexity: 10.598\n",
            "\n"
          ]
        },
        {
          "output_type": "stream",
          "name": "stderr",
          "text": [
            " 97%|█████████▋| 972/1000 [02:12<00:03,  7.69it/s]"
          ]
        },
        {
          "output_type": "stream",
          "name": "stdout",
          "text": [
            "10 iterations of epochs 972/1000\n",
            "Average recon_error: 18.521\n",
            "Average perplexity: 10.814\n",
            "\n",
            "20 iterations of epochs 972/1000\n",
            "Average recon_error: 16.440\n",
            "Average perplexity: 11.376\n",
            "\n",
            "30 iterations of epochs 972/1000\n",
            "Average recon_error: 15.800\n",
            "Average perplexity: 11.684\n",
            "\n",
            "10 iterations of epochs 973/1000\n",
            "Average recon_error: 15.309\n",
            "Average perplexity: 11.399\n",
            "\n",
            "20 iterations of epochs 973/1000\n",
            "Average recon_error: 17.856\n",
            "Average perplexity: 9.658\n",
            "\n",
            "30 iterations of epochs 973/1000\n",
            "Average recon_error: 15.044\n",
            "Average perplexity: 11.955\n",
            "\n"
          ]
        },
        {
          "output_type": "stream",
          "name": "stderr",
          "text": [
            " 97%|█████████▋| 974/1000 [02:12<00:03,  7.66it/s]"
          ]
        },
        {
          "output_type": "stream",
          "name": "stdout",
          "text": [
            "10 iterations of epochs 974/1000\n",
            "Average recon_error: 16.279\n",
            "Average perplexity: 10.487\n",
            "\n",
            "20 iterations of epochs 974/1000\n",
            "Average recon_error: 16.103\n",
            "Average perplexity: 10.216\n",
            "\n",
            "30 iterations of epochs 974/1000\n",
            "Average recon_error: 16.387\n",
            "Average perplexity: 11.357\n",
            "\n",
            "10 iterations of epochs 975/1000\n",
            "Average recon_error: 16.205\n",
            "Average perplexity: 10.812\n",
            "\n",
            "20 iterations of epochs 975/1000\n",
            "Average recon_error: 18.941\n",
            "Average perplexity: 10.702\n",
            "\n",
            "30 iterations of epochs 975/1000\n",
            "Average recon_error: 17.640\n",
            "Average perplexity: 10.805\n",
            "\n"
          ]
        },
        {
          "output_type": "stream",
          "name": "stderr",
          "text": [
            " 98%|█████████▊| 976/1000 [02:13<00:03,  7.62it/s]"
          ]
        },
        {
          "output_type": "stream",
          "name": "stdout",
          "text": [
            "10 iterations of epochs 976/1000\n",
            "Average recon_error: 16.703\n",
            "Average perplexity: 11.919\n",
            "\n",
            "20 iterations of epochs 976/1000\n",
            "Average recon_error: 16.248\n",
            "Average perplexity: 10.719\n",
            "\n",
            "30 iterations of epochs 976/1000\n",
            "Average recon_error: 16.756\n",
            "Average perplexity: 10.680\n",
            "\n",
            "10 iterations of epochs 977/1000\n",
            "Average recon_error: 16.341\n",
            "Average perplexity: 10.818\n",
            "\n",
            "20 iterations of epochs 977/1000\n",
            "Average recon_error: 16.739\n",
            "Average perplexity: 11.332\n",
            "\n",
            "30 iterations of epochs 977/1000\n",
            "Average recon_error: 16.029\n",
            "Average perplexity: 10.824\n",
            "\n"
          ]
        },
        {
          "output_type": "stream",
          "name": "stderr",
          "text": [
            " 98%|█████████▊| 978/1000 [02:13<00:02,  7.60it/s]"
          ]
        },
        {
          "output_type": "stream",
          "name": "stdout",
          "text": [
            "10 iterations of epochs 978/1000\n",
            "Average recon_error: 16.259\n",
            "Average perplexity: 11.779\n",
            "\n",
            "20 iterations of epochs 978/1000\n",
            "Average recon_error: 15.674\n",
            "Average perplexity: 11.106\n",
            "\n",
            "30 iterations of epochs 978/1000\n",
            "Average recon_error: 16.575\n",
            "Average perplexity: 11.069\n",
            "\n",
            "10 iterations of epochs 979/1000\n",
            "Average recon_error: 16.439\n",
            "Average perplexity: 10.707\n",
            "\n",
            "20 iterations of epochs 979/1000\n",
            "Average recon_error: 15.095\n",
            "Average perplexity: 10.593\n",
            "\n",
            "30 iterations of epochs 979/1000\n",
            "Average recon_error: 17.645\n",
            "Average perplexity: 10.969\n",
            "\n"
          ]
        },
        {
          "output_type": "stream",
          "name": "stderr",
          "text": [
            " 98%|█████████▊| 980/1000 [02:13<00:02,  7.66it/s]"
          ]
        },
        {
          "output_type": "stream",
          "name": "stdout",
          "text": [
            "10 iterations of epochs 980/1000\n",
            "Average recon_error: 17.006\n",
            "Average perplexity: 11.452\n",
            "\n",
            "20 iterations of epochs 980/1000\n",
            "Average recon_error: 16.695\n",
            "Average perplexity: 10.634\n",
            "\n",
            "30 iterations of epochs 980/1000\n",
            "Average recon_error: 18.420\n",
            "Average perplexity: 10.993\n",
            "\n",
            "10 iterations of epochs 981/1000\n",
            "Average recon_error: 16.091\n",
            "Average perplexity: 11.090\n",
            "\n",
            "20 iterations of epochs 981/1000\n",
            "Average recon_error: 16.742\n",
            "Average perplexity: 10.726\n",
            "\n",
            "30 iterations of epochs 981/1000\n",
            "Average recon_error: 16.789\n",
            "Average perplexity: 10.885\n",
            "\n"
          ]
        },
        {
          "output_type": "stream",
          "name": "stderr",
          "text": [
            " 98%|█████████▊| 982/1000 [02:13<00:02,  7.76it/s]"
          ]
        },
        {
          "output_type": "stream",
          "name": "stdout",
          "text": [
            "10 iterations of epochs 982/1000\n",
            "Average recon_error: 17.842\n",
            "Average perplexity: 11.816\n",
            "\n",
            "20 iterations of epochs 982/1000\n",
            "Average recon_error: 16.183\n",
            "Average perplexity: 10.686\n",
            "\n",
            "30 iterations of epochs 982/1000\n",
            "Average recon_error: 16.511\n",
            "Average perplexity: 10.716\n",
            "\n",
            "10 iterations of epochs 983/1000\n",
            "Average recon_error: 16.859\n",
            "Average perplexity: 11.392\n",
            "\n",
            "20 iterations of epochs 983/1000\n",
            "Average recon_error: 17.728\n",
            "Average perplexity: 10.974\n",
            "\n",
            "30 iterations of epochs 983/1000\n",
            "Average recon_error: 16.250\n",
            "Average perplexity: 11.254\n",
            "\n"
          ]
        },
        {
          "output_type": "stream",
          "name": "stderr",
          "text": [
            " 98%|█████████▊| 984/1000 [02:14<00:02,  7.83it/s]"
          ]
        },
        {
          "output_type": "stream",
          "name": "stdout",
          "text": [
            "10 iterations of epochs 984/1000\n",
            "Average recon_error: 15.822\n",
            "Average perplexity: 10.801\n",
            "\n",
            "20 iterations of epochs 984/1000\n",
            "Average recon_error: 17.678\n",
            "Average perplexity: 9.981\n",
            "\n",
            "30 iterations of epochs 984/1000\n",
            "Average recon_error: 17.196\n",
            "Average perplexity: 10.511\n",
            "\n",
            "10 iterations of epochs 985/1000\n",
            "Average recon_error: 16.843\n",
            "Average perplexity: 10.414\n",
            "\n",
            "20 iterations of epochs 985/1000\n",
            "Average recon_error: 16.461\n",
            "Average perplexity: 10.900\n",
            "\n",
            "30 iterations of epochs 985/1000\n",
            "Average recon_error: 18.346\n",
            "Average perplexity: 11.217\n",
            "\n"
          ]
        },
        {
          "output_type": "stream",
          "name": "stderr",
          "text": [
            " 99%|█████████▊| 986/1000 [02:14<00:01,  7.46it/s]"
          ]
        },
        {
          "output_type": "stream",
          "name": "stdout",
          "text": [
            "10 iterations of epochs 986/1000\n",
            "Average recon_error: 16.154\n",
            "Average perplexity: 11.012\n",
            "\n",
            "20 iterations of epochs 986/1000\n",
            "Average recon_error: 16.208\n",
            "Average perplexity: 10.743\n",
            "\n",
            "30 iterations of epochs 986/1000\n",
            "Average recon_error: 17.149\n",
            "Average perplexity: 10.987\n",
            "\n",
            "10 iterations of epochs 987/1000\n",
            "Average recon_error: 16.221\n",
            "Average perplexity: 11.211\n",
            "\n",
            "20 iterations of epochs 987/1000\n",
            "Average recon_error: 17.012\n",
            "Average perplexity: 11.334\n",
            "\n",
            "30 iterations of epochs 987/1000\n",
            "Average recon_error: 15.773\n",
            "Average perplexity: 10.385\n",
            "\n"
          ]
        },
        {
          "output_type": "stream",
          "name": "stderr",
          "text": [
            " 99%|█████████▉| 988/1000 [02:14<00:01,  7.55it/s]"
          ]
        },
        {
          "output_type": "stream",
          "name": "stdout",
          "text": [
            "10 iterations of epochs 988/1000\n",
            "Average recon_error: 16.482\n",
            "Average perplexity: 11.370\n",
            "\n",
            "20 iterations of epochs 988/1000\n",
            "Average recon_error: 17.179\n",
            "Average perplexity: 10.678\n",
            "\n",
            "30 iterations of epochs 988/1000\n",
            "Average recon_error: 16.313\n",
            "Average perplexity: 10.728\n",
            "\n",
            "10 iterations of epochs 989/1000\n",
            "Average recon_error: 15.416\n",
            "Average perplexity: 10.866\n",
            "\n",
            "20 iterations of epochs 989/1000\n",
            "Average recon_error: 17.724\n",
            "Average perplexity: 10.744\n",
            "\n"
          ]
        },
        {
          "output_type": "stream",
          "name": "stderr",
          "text": [
            " 99%|█████████▉| 990/1000 [02:15<00:01,  7.60it/s]"
          ]
        },
        {
          "output_type": "stream",
          "name": "stdout",
          "text": [
            "30 iterations of epochs 989/1000\n",
            "Average recon_error: 17.697\n",
            "Average perplexity: 11.552\n",
            "\n",
            "10 iterations of epochs 990/1000\n",
            "Average recon_error: 15.851\n",
            "Average perplexity: 10.401\n",
            "\n",
            "20 iterations of epochs 990/1000\n",
            "Average recon_error: 17.244\n",
            "Average perplexity: 10.734\n",
            "\n",
            "30 iterations of epochs 990/1000\n",
            "Average recon_error: 17.166\n",
            "Average perplexity: 11.172\n",
            "\n",
            "10 iterations of epochs 991/1000\n",
            "Average recon_error: 16.698\n",
            "Average perplexity: 12.166\n",
            "\n"
          ]
        },
        {
          "output_type": "stream",
          "name": "stderr",
          "text": [
            " 99%|█████████▉| 992/1000 [02:15<00:01,  7.62it/s]"
          ]
        },
        {
          "output_type": "stream",
          "name": "stdout",
          "text": [
            "20 iterations of epochs 991/1000\n",
            "Average recon_error: 17.875\n",
            "Average perplexity: 11.023\n",
            "\n",
            "30 iterations of epochs 991/1000\n",
            "Average recon_error: 17.339\n",
            "Average perplexity: 10.285\n",
            "\n",
            "10 iterations of epochs 992/1000\n",
            "Average recon_error: 17.197\n",
            "Average perplexity: 11.582\n",
            "\n",
            "20 iterations of epochs 992/1000\n",
            "Average recon_error: 16.335\n",
            "Average perplexity: 11.055\n",
            "\n",
            "30 iterations of epochs 992/1000\n",
            "Average recon_error: 17.180\n",
            "Average perplexity: 10.106\n",
            "\n"
          ]
        },
        {
          "output_type": "stream",
          "name": "stderr",
          "text": [
            "\r 99%|█████████▉| 993/1000 [02:15<00:00,  7.66it/s]"
          ]
        },
        {
          "output_type": "stream",
          "name": "stdout",
          "text": [
            "10 iterations of epochs 993/1000\n",
            "Average recon_error: 15.795\n",
            "Average perplexity: 10.689\n",
            "\n",
            "20 iterations of epochs 993/1000\n",
            "Average recon_error: 15.698\n",
            "Average perplexity: 11.101\n",
            "\n",
            "30 iterations of epochs 993/1000\n",
            "Average recon_error: 17.967\n",
            "Average perplexity: 11.451\n",
            "\n",
            "10 iterations of epochs 994/1000\n",
            "Average recon_error: 15.909\n",
            "Average perplexity: 11.829\n",
            "\n",
            "20 iterations of epochs 994/1000\n",
            "Average recon_error: 17.370\n",
            "Average perplexity: 11.139\n",
            "\n"
          ]
        },
        {
          "output_type": "stream",
          "name": "stderr",
          "text": [
            "\r 99%|█████████▉| 994/1000 [02:15<00:00,  7.36it/s]"
          ]
        },
        {
          "output_type": "stream",
          "name": "stdout",
          "text": [
            "30 iterations of epochs 994/1000\n",
            "Average recon_error: 17.986\n",
            "Average perplexity: 10.516\n",
            "\n",
            "10 iterations of epochs 995/1000\n",
            "Average recon_error: 16.848\n",
            "Average perplexity: 11.066\n",
            "\n",
            "20 iterations of epochs 995/1000\n",
            "Average recon_error: 16.970\n",
            "Average perplexity: 10.661\n",
            "\n",
            "30 iterations of epochs 995/1000\n",
            "Average recon_error: 16.142\n",
            "Average perplexity: 10.824\n",
            "\n"
          ]
        },
        {
          "output_type": "stream",
          "name": "stderr",
          "text": [
            "100%|█████████▉| 996/1000 [02:15<00:00,  6.34it/s]"
          ]
        },
        {
          "output_type": "stream",
          "name": "stdout",
          "text": [
            "10 iterations of epochs 996/1000\n",
            "Average recon_error: 17.526\n",
            "Average perplexity: 11.712\n",
            "\n",
            "20 iterations of epochs 996/1000\n",
            "Average recon_error: 17.339\n",
            "Average perplexity: 10.055\n",
            "\n",
            "30 iterations of epochs 996/1000\n",
            "Average recon_error: 16.285\n",
            "Average perplexity: 11.504\n",
            "\n",
            "10 iterations of epochs 997/1000\n",
            "Average recon_error: 15.185\n",
            "Average perplexity: 11.913\n",
            "\n"
          ]
        },
        {
          "output_type": "stream",
          "name": "stderr",
          "text": [
            "\r100%|█████████▉| 997/1000 [02:16<00:00,  6.16it/s]"
          ]
        },
        {
          "output_type": "stream",
          "name": "stdout",
          "text": [
            "20 iterations of epochs 997/1000\n",
            "Average recon_error: 19.114\n",
            "Average perplexity: 11.512\n",
            "\n",
            "30 iterations of epochs 997/1000\n",
            "Average recon_error: 18.127\n",
            "Average perplexity: 10.900\n",
            "\n",
            "10 iterations of epochs 998/1000\n",
            "Average recon_error: 16.868\n",
            "Average perplexity: 10.374\n",
            "\n",
            "20 iterations of epochs 998/1000\n",
            "Average recon_error: 16.321\n",
            "Average perplexity: 11.662\n",
            "\n"
          ]
        },
        {
          "output_type": "stream",
          "name": "stderr",
          "text": [
            "100%|█████████▉| 999/1000 [02:16<00:00,  6.01it/s]"
          ]
        },
        {
          "output_type": "stream",
          "name": "stdout",
          "text": [
            "30 iterations of epochs 998/1000\n",
            "Average recon_error: 17.727\n",
            "Average perplexity: 10.312\n",
            "\n",
            "10 iterations of epochs 999/1000\n",
            "Average recon_error: 16.452\n",
            "Average perplexity: 9.754\n",
            "\n",
            "20 iterations of epochs 999/1000\n",
            "Average recon_error: 17.958\n",
            "Average perplexity: 10.903\n",
            "\n",
            "30 iterations of epochs 999/1000\n",
            "Average recon_error: 18.102\n",
            "Average perplexity: 10.279\n",
            "\n"
          ]
        },
        {
          "output_type": "stream",
          "name": "stderr",
          "text": [
            "100%|██████████| 1000/1000 [02:16<00:00,  7.32it/s]"
          ]
        },
        {
          "output_type": "stream",
          "name": "stdout",
          "text": [
            "10 iterations of epochs 1000/1000\n",
            "Average recon_error: 17.867\n",
            "Average perplexity: 10.438\n",
            "\n",
            "20 iterations of epochs 1000/1000\n",
            "Average recon_error: 17.686\n",
            "Average perplexity: 9.864\n",
            "\n",
            "30 iterations of epochs 1000/1000\n",
            "Average recon_error: 15.168\n",
            "Average perplexity: 11.204\n",
            "\n"
          ]
        },
        {
          "output_type": "stream",
          "name": "stderr",
          "text": [
            "\n"
          ]
        }
      ]
    },
    {
      "cell_type": "code",
      "source": [
        "len(train_res_recon_error)"
      ],
      "metadata": {
        "colab": {
          "base_uri": "https://localhost:8080/"
        },
        "id": "2zl1sOCzfOyQ",
        "outputId": "be4a46da-ce63-4dc8-f98d-a4d6e98eefb9"
      },
      "execution_count": 36,
      "outputs": [
        {
          "output_type": "execute_result",
          "data": {
            "text/plain": [
              "38000"
            ]
          },
          "metadata": {},
          "execution_count": 36
        }
      ]
    },
    {
      "cell_type": "code",
      "source": [
        "train_res_recon_error"
      ],
      "metadata": {
        "id": "dDB9NQuhixuH"
      },
      "execution_count": null,
      "outputs": []
    },
    {
      "cell_type": "code",
      "source": [
        "train_res_recon_error_smooth = savgol_filter(train_res_recon_error, 38, 7)\n",
        "train_res_perplexity_smooth = savgol_filter(train_res_perplexity, 38, 7)"
      ],
      "metadata": {
        "id": "LJvAll4ccfMs"
      },
      "execution_count": 37,
      "outputs": []
    },
    {
      "cell_type": "code",
      "source": [
        "f = plt.figure(figsize=(16,8))\n",
        "ax = f.add_subplot(1,2,1)\n",
        "ax.plot(train_res_recon_error_smooth)\n",
        "ax.set_yscale('log')\n",
        "ax.set_title('Smoothed NMSE.')\n",
        "ax.set_xlabel('iteration')\n",
        "\n",
        "ax = f.add_subplot(1,2,2)\n",
        "ax.plot(train_res_perplexity_smooth)\n",
        "ax.set_title('Smoothed Average codebook usage (perplexity).')\n",
        "ax.set_xlabel('iteration')"
      ],
      "metadata": {
        "colab": {
          "base_uri": "https://localhost:8080/",
          "height": 607
        },
        "id": "VSfqoSCfcjRR",
        "outputId": "98cd972f-9105-46c8-e03f-3588e666b7e6"
      },
      "execution_count": 39,
      "outputs": [
        {
          "output_type": "execute_result",
          "data": {
            "text/plain": [
              "Text(0.5, 0, 'iteration')"
            ]
          },
          "metadata": {},
          "execution_count": 39
        },
        {
          "output_type": "display_data",
          "data": {
            "text/plain": [
              "<Figure size 1600x800 with 2 Axes>"
            ],
            "image/png": "[encoded data removed]"
          },
          "metadata": {}
        }
      ]
    }
  ]
}